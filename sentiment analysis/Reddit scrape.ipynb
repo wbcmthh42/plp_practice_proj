{
 "cells": [
  {
   "cell_type": "code",
   "execution_count": null,
   "id": "462fa360",
   "metadata": {},
   "outputs": [],
   "source": [
    "import pandas as pd\n",
    "import praw\n",
    "from praw.models import MoreComments\n",
    "from dotenv import load_dotenv\n",
    "import os\n",
    "import configparser\n",
    "import pyarrow as pa\n",
    "import pyarrow.parquet as pq\n",
    "from datetime import date, timedelta, datetime\n",
    "from prawcore.exceptions import RequestException\n",
    "import time\n",
    "import warnings\n",
    "warnings.filterwarnings(\"ignore\")\n",
    "\n",
    "env_path ='.env'\n",
    "load_dotenv(dotenv_path=env_path)\n",
    "env_client_id= os.getenv(\"CLIENT_ID\")\n",
    "env_client_secret= os.getenv(\"SECRET_KEY\")\n",
    "env_user_agent=os.getenv(\"REDDIT_GRANT_TYPE\")\n",
    "env_username=os.getenv(\"REDDIT_USERNAME\")\n",
    "env_password=os.getenv(\"REDDIT_PASSWORD\")\n",
    "\n",
    "reddit = praw.Reddit(\n",
    "    client_id= env_client_id,\n",
    "    client_secret= env_client_secret,\n",
    "    user_agent=env_user_agent,\n",
    "    username=env_username,\n",
    "    password=env_password\n",
    ")"
   ]
  },
  {
   "cell_type": "code",
   "execution_count": null,
   "id": "1f640843",
   "metadata": {},
   "outputs": [],
   "source": [
    "def retrieve_list_of_submission_id(subreddit_name_list):\n",
    "        reddit = praw.Reddit(\n",
    "            client_id=os.getenv(\"CLIENT_ID\"),\n",
    "            client_secret=os.getenv(\"SECRET_KEY\"),\n",
    "            user_agent=os.getenv(\"REDDIT_GRANT_TYPE\"),\n",
    "            username=os.getenv(\"REDDIT_USERNAME\"),\n",
    "            password=os.getenv(\"REDDIT_PASSWORD\")\n",
    "        )\n",
    "\n",
    "        submissions = []\n",
    "\n",
    "        for subreddit_name in subreddit_name_list:\n",
    "            for submission in reddit.subreddit(subreddit_name).new(limit=500):\n",
    "                submissions.append(submission.id)       \n",
    "        return submissions"
   ]
  },
  {
   "cell_type": "code",
   "execution_count": null,
   "id": "f6955a9e",
   "metadata": {},
   "outputs": [],
   "source": [
    "import pandas as pd\n",
    "from datetime import datetime\n",
    "import praw\n",
    "import time\n",
    "\n",
    "def fetch_comments_from_submission(submission_id, start_date, end_date):\n",
    "    \n",
    "    # Initialize DataFrame to store comments\n",
    "    dfComment = pd.DataFrame(columns=[\n",
    "        'author', 'body', 'created_utc', 'id', \n",
    "        'submission', 'subreddit', 'subreddit_id'\n",
    "    ])\n",
    "    \n",
    "    try:\n",
    "        # Fetch submission from Reddit\n",
    "        submission = reddit.submission(id=submission_id)\n",
    "\n",
    "        # Replace \"More Comments\" in the submission's comments tree\n",
    "        submission.comments.replace_more(limit=None)\n",
    "\n",
    "        # Loop through each comment and append it to the DataFrame\n",
    "        for comment in submission.comments.list():\n",
    "            dfComment = dfComment.append({\n",
    "                'author': comment.author.name if comment.author else '[deleted]',\n",
    "                'body': comment.body,\n",
    "                'created_utc': comment.created_utc,\n",
    "                'id': comment.id,\n",
    "                'submission': submission.id,\n",
    "                'subreddit': submission.subreddit.display_name,\n",
    "                'subreddit_id': submission.subreddit_id\n",
    "            }, ignore_index=True)\n",
    "    \n",
    "    except RequestException as e:\n",
    "        print(f\"Waiting for 120 seconds due to Reddit API error: {e}\")\n",
    "        time.sleep(120)\n",
    "    \n",
    "    except Exception as e:\n",
    "        print(f\"An unknown error occurred: {e}\")\n",
    "    \n",
    "    dfComment['created_utc'] = pd.to_datetime(dfComment['created_utc'], unit='s')\n",
    "    dfComment = dfComment[(dfComment['created_utc'] >= start_date) & (dfComment['created_utc'] <= end_date)]\n",
    "    return dfComment"
   ]
  },
  {
   "cell_type": "code",
   "execution_count": null,
   "id": "a17f53ee",
   "metadata": {},
   "outputs": [],
   "source": [
    "start_date = '2023-9-15'\n",
    "end_date = '2024-9-16'\n",
    "reddit_list = ['datascience', 'MachineLearning','technology','artificial','cybersecurity']\n",
    "file_name = f\"{start_date}_{end_date}.csv\"\n",
    "start_date = pd.to_datetime(start_date)\n",
    "end_date = pd.to_datetime(end_date)"
   ]
  },
  {
   "cell_type": "code",
   "execution_count": null,
   "id": "f07c68ed",
   "metadata": {
    "scrolled": true
   },
   "outputs": [],
   "source": [
    "# Initialize an empty DataFrame to store all comments\n",
    "final_df = pd.DataFrame(columns=[\n",
    "    'author', 'body', 'created_utc', 'id', \n",
    "    'submission', 'subreddit', 'subreddit_id'\n",
    "])\n",
    "start_time = time.time()\n",
    "for submissions in retrieve_list_of_submission_id(reddit_list):\n",
    "    comments_df = fetch_comments_from_submission(submissions, start_date, end_date)\n",
    "    final_df = pd.concat([final_df, comments_df], ignore_index=True)\n",
    "final_df.drop_duplicates().to_csv(file_name, index=False)\n",
    "end_time = time.time()\n",
    "\n",
    "print('Time taken: ', end_time - start_time)\n",
    "print('Length of final DataFrame: ', len(final_df))"
   ]
  }
 ],
 "metadata": {
  "kernelspec": {
   "display_name": "Python 3 (ipykernel)",
   "language": "python",
   "name": "python3"
  },
  "language_info": {
   "codemirror_mode": {
    "name": "ipython",
    "version": 3
   },
   "file_extension": ".py",
   "mimetype": "text/x-python",
   "name": "python",
   "nbconvert_exporter": "python",
   "pygments_lexer": "ipython3",
   "version": "3.9.13"
  }
 },
 "nbformat": 4,
 "nbformat_minor": 5
}
