{
 "cells": [
  {
   "cell_type": "code",
   "execution_count": null,
   "metadata": {
    "colab": {
     "base_uri": "https://localhost:8080/"
    },
    "id": "85yTFSBjj2Ov",
    "outputId": "673b6e43-c770-49cb-fb25-c5f093acc782"
   },
   "outputs": [],
   "source": [
    "!pip install openai==0.28\n",
    "from nltk.tokenize import sent_tokenize\n",
    "import nltk\n",
    "nltk.download('punkt')"
   ]
  },
  {
   "cell_type": "code",
   "execution_count": null,
   "metadata": {
    "id": "wQwGgGCKiouT"
   },
   "outputs": [],
   "source": [
    "import openai\n",
    "import os\n",
    "\n",
    "api_key = 'enter your openai api key'\n",
    "\n",
    "openai.api_key = api_key\n",
    "\n",
    "def classify_sentiment(user_input):\n",
    "    prompt = f\"Classify the sentiment of the following text as positive, negative, or neutral: {user_input}\"\n",
    "\n",
    "    response = openai.ChatCompletion.create(\n",
    "        model=\"gpt-4o-mini\",\n",
    "        messages=[\n",
    "            {\"role\": \"system\", \"content\": \"You analyze and classify sentiments from text. Return only POSITIVE or NEUTRAL or NEGATIVE\"},\n",
    "            {\"role\": \"user\", \"content\": prompt}\n",
    "        ]\n",
    "    )\n",
    "    sentiment = response['choices'][0]['message']['content'].strip()\n",
    "    return sentiment"
   ]
  },
  {
   "cell_type": "code",
   "execution_count": null,
   "metadata": {
    "colab": {
     "base_uri": "https://localhost:8080/"
    },
    "id": "Xbi1JnNRpSlh",
    "outputId": "a3e15b6d-42cc-46ad-ef87-f993ae80bf70"
   },
   "outputs": [],
   "source": [
    "import pandas as pd\n",
    "from tqdm import tqdm\n",
    "from google.colab import drive\n",
    "drive.mount('/content/drive')\n",
    "\n",
    "df = pd.read_csv('/content/drive/My Drive/Colab Notebooks/EBAC Sem4/practice project/labelled_dataset.csv')\n",
    "df = df.head(3000)"
   ]
  },
  {
   "cell_type": "code",
   "execution_count": null,
   "metadata": {
    "colab": {
     "base_uri": "https://localhost:8080/"
    },
    "id": "--G8qtiiZiDs",
    "outputId": "d8f5c3ff-399c-4879-ee1a-435493626eec"
   },
   "outputs": [],
   "source": [
    "rows = []\n",
    "for _, row in df.iterrows():\n",
    "    # Tokenize the sentences in the 'body' column\n",
    "    sentences = sent_tokenize(row['body'])\n",
    "\n",
    "    # Create a new row for each sentence\n",
    "    for sentence in sentences:\n",
    "        rows.append({\n",
    "            'author': row['author'],\n",
    "            'created_utc': row['created_utc'],\n",
    "            'id': row['id'],\n",
    "            'submission': row['submission'],\n",
    "            'subreddit': row['subreddit'],\n",
    "            'subreddit_id': row['subreddit_id'],\n",
    "            'sentence': sentence\n",
    "        })\n",
    "\n",
    "new_df = pd.DataFrame(rows)\n",
    "len(new_df)"
   ]
  },
  {
   "cell_type": "code",
   "execution_count": null,
   "metadata": {
    "colab": {
     "base_uri": "https://localhost:8080/"
    },
    "id": "OLT02xtFZCZ4",
    "outputId": "48511527-9388-4e25-a2d3-358687d049b4"
   },
   "outputs": [],
   "source": [
    "if 'sentence' in new_df.columns:\n",
    "    # Initialize tqdm for progress tracking\n",
    "    tqdm.pandas(desc=\"Classifying sentiments\")\n",
    "\n",
    "    # Iterate through the DataFrame and classify sentiment for each comment\n",
    "    new_df['label'] = new_df['sentence'].progress_apply(classify_sentiment)\n",
    "\n",
    "    print(new_df)\n",
    "else:\n",
    "    print(\"The 'body' column is not found in the dataset.\")"
   ]
  },
  {
   "cell_type": "code",
   "execution_count": null,
   "metadata": {
    "id": "OQtqX_9WxtDa"
   },
   "outputs": [],
   "source": [
    "new_df.to_csv('/content/drive/My Drive/Colab Notebooks/EBAC Sem4/practice project/labelled_dataset_sentence_level_clean.csv', index = False)"
   ]
  }
 ],
 "metadata": {
  "colab": {
   "provenance": []
  },
  "kernelspec": {
   "display_name": "Python 3 (ipykernel)",
   "language": "python",
   "name": "python3"
  },
  "language_info": {
   "codemirror_mode": {
    "name": "ipython",
    "version": 3
   },
   "file_extension": ".py",
   "mimetype": "text/x-python",
   "name": "python",
   "nbconvert_exporter": "python",
   "pygments_lexer": "ipython3",
   "version": "3.9.13"
  }
 },
 "nbformat": 4,
 "nbformat_minor": 1
}
