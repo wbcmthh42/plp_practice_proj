{
 "cells": [
  {
   "cell_type": "code",
   "execution_count": 1,
   "metadata": {},
   "outputs": [
    {
     "name": "stdout",
     "output_type": "stream",
     "text": [
      "Collecting datasets\n",
      "  Downloading datasets-2.21.0-py3-none-any.whl.metadata (21 kB)\n",
      "Collecting filelock (from datasets)\n",
      "  Downloading filelock-3.16.0-py3-none-any.whl.metadata (3.0 kB)\n",
      "Collecting numpy>=1.17 (from datasets)\n",
      "  Downloading numpy-2.1.1-cp312-cp312-macosx_14_0_arm64.whl.metadata (60 kB)\n",
      "Collecting pyarrow>=15.0.0 (from datasets)\n",
      "  Using cached pyarrow-17.0.0-cp312-cp312-macosx_11_0_arm64.whl.metadata (3.3 kB)\n",
      "Collecting dill<0.3.9,>=0.3.0 (from datasets)\n",
      "  Downloading dill-0.3.8-py3-none-any.whl.metadata (10 kB)\n",
      "Collecting pandas (from datasets)\n",
      "  Using cached pandas-2.2.2-cp312-cp312-macosx_11_0_arm64.whl.metadata (19 kB)\n",
      "Collecting requests>=2.32.2 (from datasets)\n",
      "  Using cached requests-2.32.3-py3-none-any.whl.metadata (4.6 kB)\n",
      "Collecting tqdm>=4.66.3 (from datasets)\n",
      "  Using cached tqdm-4.66.5-py3-none-any.whl.metadata (57 kB)\n",
      "Collecting xxhash (from datasets)\n",
      "  Downloading xxhash-3.5.0-cp312-cp312-macosx_11_0_arm64.whl.metadata (12 kB)\n",
      "Collecting multiprocess (from datasets)\n",
      "  Downloading multiprocess-0.70.16-py312-none-any.whl.metadata (7.2 kB)\n",
      "Collecting fsspec<=2024.6.1,>=2023.1.0 (from fsspec[http]<=2024.6.1,>=2023.1.0->datasets)\n",
      "  Using cached fsspec-2024.6.1-py3-none-any.whl.metadata (11 kB)\n",
      "Collecting aiohttp (from datasets)\n",
      "  Downloading aiohttp-3.10.5-cp312-cp312-macosx_11_0_arm64.whl.metadata (7.5 kB)\n",
      "Collecting huggingface-hub>=0.21.2 (from datasets)\n",
      "  Downloading huggingface_hub-0.24.6-py3-none-any.whl.metadata (13 kB)\n",
      "Requirement already satisfied: packaging in /opt/miniconda3/envs/plp_module/lib/python3.12/site-packages (from datasets) (24.1)\n",
      "Collecting pyyaml>=5.1 (from datasets)\n",
      "  Using cached PyYAML-6.0.2-cp312-cp312-macosx_11_0_arm64.whl.metadata (2.1 kB)\n",
      "Collecting aiohappyeyeballs>=2.3.0 (from aiohttp->datasets)\n",
      "  Downloading aiohappyeyeballs-2.4.0-py3-none-any.whl.metadata (5.9 kB)\n",
      "Collecting aiosignal>=1.1.2 (from aiohttp->datasets)\n",
      "  Using cached aiosignal-1.3.1-py3-none-any.whl.metadata (4.0 kB)\n",
      "Collecting attrs>=17.3.0 (from aiohttp->datasets)\n",
      "  Using cached attrs-24.2.0-py3-none-any.whl.metadata (11 kB)\n",
      "Collecting frozenlist>=1.1.1 (from aiohttp->datasets)\n",
      "  Using cached frozenlist-1.4.1-cp312-cp312-macosx_11_0_arm64.whl.metadata (12 kB)\n",
      "Collecting multidict<7.0,>=4.5 (from aiohttp->datasets)\n",
      "  Downloading multidict-6.1.0-cp312-cp312-macosx_11_0_arm64.whl.metadata (5.0 kB)\n",
      "Collecting yarl<2.0,>=1.0 (from aiohttp->datasets)\n",
      "  Downloading yarl-1.11.1-cp312-cp312-macosx_11_0_arm64.whl.metadata (48 kB)\n",
      "Requirement already satisfied: typing-extensions>=3.7.4.3 in /opt/miniconda3/envs/plp_module/lib/python3.12/site-packages (from huggingface-hub>=0.21.2->datasets) (4.12.2)\n",
      "Collecting charset-normalizer<4,>=2 (from requests>=2.32.2->datasets)\n",
      "  Using cached charset_normalizer-3.3.2-cp312-cp312-macosx_11_0_arm64.whl.metadata (33 kB)\n",
      "Collecting idna<4,>=2.5 (from requests>=2.32.2->datasets)\n",
      "  Downloading idna-3.8-py3-none-any.whl.metadata (9.9 kB)\n",
      "Collecting urllib3<3,>=1.21.1 (from requests>=2.32.2->datasets)\n",
      "  Using cached urllib3-2.2.2-py3-none-any.whl.metadata (6.4 kB)\n",
      "Collecting certifi>=2017.4.17 (from requests>=2.32.2->datasets)\n",
      "  Downloading certifi-2024.8.30-py3-none-any.whl.metadata (2.2 kB)\n",
      "Requirement already satisfied: python-dateutil>=2.8.2 in /opt/miniconda3/envs/plp_module/lib/python3.12/site-packages (from pandas->datasets) (2.9.0)\n",
      "Collecting pytz>=2020.1 (from pandas->datasets)\n",
      "  Downloading pytz-2024.2-py2.py3-none-any.whl.metadata (22 kB)\n",
      "Collecting tzdata>=2022.7 (from pandas->datasets)\n",
      "  Using cached tzdata-2024.1-py2.py3-none-any.whl.metadata (1.4 kB)\n",
      "Requirement already satisfied: six>=1.5 in /opt/miniconda3/envs/plp_module/lib/python3.12/site-packages (from python-dateutil>=2.8.2->pandas->datasets) (1.16.0)\n",
      "Downloading datasets-2.21.0-py3-none-any.whl (527 kB)\n",
      "\u001b[2K   \u001b[90m━━━━━━━━━━━━━━━━━━━━━━━━━━━━━━━━━━━━━━━━\u001b[0m \u001b[32m527.3/527.3 kB\u001b[0m \u001b[31m8.6 MB/s\u001b[0m eta \u001b[36m0:00:00\u001b[0m\n",
      "\u001b[?25hDownloading dill-0.3.8-py3-none-any.whl (116 kB)\n",
      "Using cached fsspec-2024.6.1-py3-none-any.whl (177 kB)\n",
      "Downloading aiohttp-3.10.5-cp312-cp312-macosx_11_0_arm64.whl (389 kB)\n",
      "Downloading huggingface_hub-0.24.6-py3-none-any.whl (417 kB)\n",
      "Downloading numpy-2.1.1-cp312-cp312-macosx_14_0_arm64.whl (5.1 MB)\n",
      "\u001b[2K   \u001b[90m━━━━━━━━━━━━━━━━━━━━━━━━━━━━━━━━━━━━━━━━\u001b[0m \u001b[32m5.1/5.1 MB\u001b[0m \u001b[31m11.5 MB/s\u001b[0m eta \u001b[36m0:00:00\u001b[0ma \u001b[36m0:00:01\u001b[0m\n",
      "\u001b[?25hUsing cached pyarrow-17.0.0-cp312-cp312-macosx_11_0_arm64.whl (27.2 MB)\n",
      "Using cached PyYAML-6.0.2-cp312-cp312-macosx_11_0_arm64.whl (173 kB)\n",
      "Using cached requests-2.32.3-py3-none-any.whl (64 kB)\n",
      "Using cached tqdm-4.66.5-py3-none-any.whl (78 kB)\n",
      "Downloading filelock-3.16.0-py3-none-any.whl (16 kB)\n",
      "Downloading multiprocess-0.70.16-py312-none-any.whl (146 kB)\n",
      "Using cached pandas-2.2.2-cp312-cp312-macosx_11_0_arm64.whl (11.3 MB)\n",
      "Downloading xxhash-3.5.0-cp312-cp312-macosx_11_0_arm64.whl (30 kB)\n",
      "Downloading aiohappyeyeballs-2.4.0-py3-none-any.whl (12 kB)\n",
      "Using cached aiosignal-1.3.1-py3-none-any.whl (7.6 kB)\n",
      "Using cached attrs-24.2.0-py3-none-any.whl (63 kB)\n",
      "Downloading certifi-2024.8.30-py3-none-any.whl (167 kB)\n",
      "Using cached charset_normalizer-3.3.2-cp312-cp312-macosx_11_0_arm64.whl (119 kB)\n",
      "Using cached frozenlist-1.4.1-cp312-cp312-macosx_11_0_arm64.whl (51 kB)\n",
      "Downloading idna-3.8-py3-none-any.whl (66 kB)\n",
      "Downloading multidict-6.1.0-cp312-cp312-macosx_11_0_arm64.whl (29 kB)\n",
      "Downloading pytz-2024.2-py2.py3-none-any.whl (508 kB)\n",
      "Using cached tzdata-2024.1-py2.py3-none-any.whl (345 kB)\n",
      "Using cached urllib3-2.2.2-py3-none-any.whl (121 kB)\n",
      "Downloading yarl-1.11.1-cp312-cp312-macosx_11_0_arm64.whl (112 kB)\n",
      "Installing collected packages: pytz, xxhash, urllib3, tzdata, tqdm, pyyaml, numpy, multidict, idna, fsspec, frozenlist, filelock, dill, charset-normalizer, certifi, attrs, aiohappyeyeballs, yarl, requests, pyarrow, pandas, multiprocess, aiosignal, huggingface-hub, aiohttp, datasets\n",
      "Successfully installed aiohappyeyeballs-2.4.0 aiohttp-3.10.5 aiosignal-1.3.1 attrs-24.2.0 certifi-2024.8.30 charset-normalizer-3.3.2 datasets-2.21.0 dill-0.3.8 filelock-3.16.0 frozenlist-1.4.1 fsspec-2024.6.1 huggingface-hub-0.24.6 idna-3.8 multidict-6.1.0 multiprocess-0.70.16 numpy-2.1.1 pandas-2.2.2 pyarrow-17.0.0 pytz-2024.2 pyyaml-6.0.2 requests-2.32.3 tqdm-4.66.5 tzdata-2024.1 urllib3-2.2.2 xxhash-3.5.0 yarl-1.11.1\n",
      "Collecting accelerate\n",
      "  Downloading accelerate-0.34.2-py3-none-any.whl.metadata (19 kB)\n",
      "Requirement already satisfied: numpy<3.0.0,>=1.17 in /opt/miniconda3/envs/plp_module/lib/python3.12/site-packages (from accelerate) (2.1.1)\n",
      "Requirement already satisfied: packaging>=20.0 in /opt/miniconda3/envs/plp_module/lib/python3.12/site-packages (from accelerate) (24.1)\n",
      "Requirement already satisfied: psutil in /opt/miniconda3/envs/plp_module/lib/python3.12/site-packages (from accelerate) (5.9.0)\n",
      "Requirement already satisfied: pyyaml in /opt/miniconda3/envs/plp_module/lib/python3.12/site-packages (from accelerate) (6.0.2)\n",
      "Collecting torch>=1.10.0 (from accelerate)\n",
      "  Downloading torch-2.4.1-cp312-none-macosx_11_0_arm64.whl.metadata (26 kB)\n",
      "Requirement already satisfied: huggingface-hub>=0.21.0 in /opt/miniconda3/envs/plp_module/lib/python3.12/site-packages (from accelerate) (0.24.6)\n",
      "Collecting safetensors>=0.4.3 (from accelerate)\n",
      "  Downloading safetensors-0.4.5-cp312-cp312-macosx_11_0_arm64.whl.metadata (3.8 kB)\n",
      "Requirement already satisfied: filelock in /opt/miniconda3/envs/plp_module/lib/python3.12/site-packages (from huggingface-hub>=0.21.0->accelerate) (3.16.0)\n",
      "Requirement already satisfied: fsspec>=2023.5.0 in /opt/miniconda3/envs/plp_module/lib/python3.12/site-packages (from huggingface-hub>=0.21.0->accelerate) (2024.6.1)\n",
      "Requirement already satisfied: requests in /opt/miniconda3/envs/plp_module/lib/python3.12/site-packages (from huggingface-hub>=0.21.0->accelerate) (2.32.3)\n",
      "Requirement already satisfied: tqdm>=4.42.1 in /opt/miniconda3/envs/plp_module/lib/python3.12/site-packages (from huggingface-hub>=0.21.0->accelerate) (4.66.5)\n",
      "Requirement already satisfied: typing-extensions>=3.7.4.3 in /opt/miniconda3/envs/plp_module/lib/python3.12/site-packages (from huggingface-hub>=0.21.0->accelerate) (4.12.2)\n",
      "Collecting sympy (from torch>=1.10.0->accelerate)\n",
      "  Using cached sympy-1.13.2-py3-none-any.whl.metadata (12 kB)\n",
      "Collecting networkx (from torch>=1.10.0->accelerate)\n",
      "  Downloading networkx-3.3-py3-none-any.whl.metadata (5.1 kB)\n",
      "Collecting jinja2 (from torch>=1.10.0->accelerate)\n",
      "  Using cached jinja2-3.1.4-py3-none-any.whl.metadata (2.6 kB)\n",
      "Requirement already satisfied: setuptools in /opt/miniconda3/envs/plp_module/lib/python3.12/site-packages (from torch>=1.10.0->accelerate) (72.1.0)\n",
      "Collecting MarkupSafe>=2.0 (from jinja2->torch>=1.10.0->accelerate)\n",
      "  Using cached MarkupSafe-2.1.5-cp312-cp312-macosx_10_9_universal2.whl.metadata (3.0 kB)\n",
      "Requirement already satisfied: charset-normalizer<4,>=2 in /opt/miniconda3/envs/plp_module/lib/python3.12/site-packages (from requests->huggingface-hub>=0.21.0->accelerate) (3.3.2)\n",
      "Requirement already satisfied: idna<4,>=2.5 in /opt/miniconda3/envs/plp_module/lib/python3.12/site-packages (from requests->huggingface-hub>=0.21.0->accelerate) (3.8)\n",
      "Requirement already satisfied: urllib3<3,>=1.21.1 in /opt/miniconda3/envs/plp_module/lib/python3.12/site-packages (from requests->huggingface-hub>=0.21.0->accelerate) (2.2.2)\n",
      "Requirement already satisfied: certifi>=2017.4.17 in /opt/miniconda3/envs/plp_module/lib/python3.12/site-packages (from requests->huggingface-hub>=0.21.0->accelerate) (2024.8.30)\n",
      "Collecting mpmath<1.4,>=1.1.0 (from sympy->torch>=1.10.0->accelerate)\n",
      "  Using cached mpmath-1.3.0-py3-none-any.whl.metadata (8.6 kB)\n",
      "Downloading accelerate-0.34.2-py3-none-any.whl (324 kB)\n",
      "Downloading safetensors-0.4.5-cp312-cp312-macosx_11_0_arm64.whl (381 kB)\n",
      "Downloading torch-2.4.1-cp312-none-macosx_11_0_arm64.whl (62.1 MB)\n",
      "\u001b[2K   \u001b[90m━━━━━━━━━━━━━━━━━━━━━━━━━━━━━━━━━━━━━━━━\u001b[0m \u001b[32m62.1/62.1 MB\u001b[0m \u001b[31m11.9 MB/s\u001b[0m eta \u001b[36m0:00:00\u001b[0m00:01\u001b[0m00:01\u001b[0m\n",
      "\u001b[?25hUsing cached jinja2-3.1.4-py3-none-any.whl (133 kB)\n",
      "Downloading networkx-3.3-py3-none-any.whl (1.7 MB)\n",
      "\u001b[2K   \u001b[90m━━━━━━━━━━━━━━━━━━━━━━━━━━━━━━━━━━━━━━━━\u001b[0m \u001b[32m1.7/1.7 MB\u001b[0m \u001b[31m11.0 MB/s\u001b[0m eta \u001b[36m0:00:00\u001b[0m\n",
      "\u001b[?25hUsing cached sympy-1.13.2-py3-none-any.whl (6.2 MB)\n",
      "Using cached MarkupSafe-2.1.5-cp312-cp312-macosx_10_9_universal2.whl (18 kB)\n",
      "Using cached mpmath-1.3.0-py3-none-any.whl (536 kB)\n",
      "Installing collected packages: mpmath, sympy, safetensors, networkx, MarkupSafe, jinja2, torch, accelerate\n",
      "Successfully installed MarkupSafe-2.1.5 accelerate-0.34.2 jinja2-3.1.4 mpmath-1.3.0 networkx-3.3 safetensors-0.4.5 sympy-1.13.2 torch-2.4.1\n",
      "Collecting transformers\n",
      "  Downloading transformers-4.44.2-py3-none-any.whl.metadata (43 kB)\n",
      "Requirement already satisfied: filelock in /opt/miniconda3/envs/plp_module/lib/python3.12/site-packages (from transformers) (3.16.0)\n",
      "Requirement already satisfied: huggingface-hub<1.0,>=0.23.2 in /opt/miniconda3/envs/plp_module/lib/python3.12/site-packages (from transformers) (0.24.6)\n",
      "Requirement already satisfied: numpy>=1.17 in /opt/miniconda3/envs/plp_module/lib/python3.12/site-packages (from transformers) (2.1.1)\n",
      "Requirement already satisfied: packaging>=20.0 in /opt/miniconda3/envs/plp_module/lib/python3.12/site-packages (from transformers) (24.1)\n",
      "Requirement already satisfied: pyyaml>=5.1 in /opt/miniconda3/envs/plp_module/lib/python3.12/site-packages (from transformers) (6.0.2)\n",
      "Collecting regex!=2019.12.17 (from transformers)\n",
      "  Using cached regex-2024.7.24-cp312-cp312-macosx_11_0_arm64.whl.metadata (40 kB)\n",
      "Requirement already satisfied: requests in /opt/miniconda3/envs/plp_module/lib/python3.12/site-packages (from transformers) (2.32.3)\n",
      "Requirement already satisfied: safetensors>=0.4.1 in /opt/miniconda3/envs/plp_module/lib/python3.12/site-packages (from transformers) (0.4.5)\n",
      "Collecting tokenizers<0.20,>=0.19 (from transformers)\n",
      "  Downloading tokenizers-0.19.1-cp312-cp312-macosx_11_0_arm64.whl.metadata (6.7 kB)\n",
      "Requirement already satisfied: tqdm>=4.27 in /opt/miniconda3/envs/plp_module/lib/python3.12/site-packages (from transformers) (4.66.5)\n",
      "Requirement already satisfied: fsspec>=2023.5.0 in /opt/miniconda3/envs/plp_module/lib/python3.12/site-packages (from huggingface-hub<1.0,>=0.23.2->transformers) (2024.6.1)\n",
      "Requirement already satisfied: typing-extensions>=3.7.4.3 in /opt/miniconda3/envs/plp_module/lib/python3.12/site-packages (from huggingface-hub<1.0,>=0.23.2->transformers) (4.12.2)\n",
      "Requirement already satisfied: charset-normalizer<4,>=2 in /opt/miniconda3/envs/plp_module/lib/python3.12/site-packages (from requests->transformers) (3.3.2)\n",
      "Requirement already satisfied: idna<4,>=2.5 in /opt/miniconda3/envs/plp_module/lib/python3.12/site-packages (from requests->transformers) (3.8)\n",
      "Requirement already satisfied: urllib3<3,>=1.21.1 in /opt/miniconda3/envs/plp_module/lib/python3.12/site-packages (from requests->transformers) (2.2.2)\n",
      "Requirement already satisfied: certifi>=2017.4.17 in /opt/miniconda3/envs/plp_module/lib/python3.12/site-packages (from requests->transformers) (2024.8.30)\n",
      "Downloading transformers-4.44.2-py3-none-any.whl (9.5 MB)\n",
      "\u001b[2K   \u001b[90m━━━━━━━━━━━━━━━━━━━━━━━━━━━━━━━━━━━━━━━━\u001b[0m \u001b[32m9.5/9.5 MB\u001b[0m \u001b[31m11.8 MB/s\u001b[0m eta \u001b[36m0:00:00\u001b[0ma \u001b[36m0:00:01\u001b[0m\n",
      "\u001b[?25hUsing cached regex-2024.7.24-cp312-cp312-macosx_11_0_arm64.whl (279 kB)\n",
      "Downloading tokenizers-0.19.1-cp312-cp312-macosx_11_0_arm64.whl (2.4 MB)\n",
      "\u001b[2K   \u001b[90m━━━━━━━━━━━━━━━━━━━━━━━━━━━━━━━━━━━━━━━━\u001b[0m \u001b[32m2.4/2.4 MB\u001b[0m \u001b[31m11.1 MB/s\u001b[0m eta \u001b[36m0:00:00\u001b[0ma \u001b[36m0:00:01\u001b[0m\n",
      "\u001b[?25hInstalling collected packages: regex, tokenizers, transformers\n",
      "Successfully installed regex-2024.7.24 tokenizers-0.19.1 transformers-4.44.2\n",
      "Requirement already satisfied: huggingface_hub in /opt/miniconda3/envs/plp_module/lib/python3.12/site-packages (0.24.6)\n",
      "Requirement already satisfied: filelock in /opt/miniconda3/envs/plp_module/lib/python3.12/site-packages (from huggingface_hub) (3.16.0)\n",
      "Requirement already satisfied: fsspec>=2023.5.0 in /opt/miniconda3/envs/plp_module/lib/python3.12/site-packages (from huggingface_hub) (2024.6.1)\n",
      "Requirement already satisfied: packaging>=20.9 in /opt/miniconda3/envs/plp_module/lib/python3.12/site-packages (from huggingface_hub) (24.1)\n",
      "Requirement already satisfied: pyyaml>=5.1 in /opt/miniconda3/envs/plp_module/lib/python3.12/site-packages (from huggingface_hub) (6.0.2)\n",
      "Requirement already satisfied: requests in /opt/miniconda3/envs/plp_module/lib/python3.12/site-packages (from huggingface_hub) (2.32.3)\n",
      "Requirement already satisfied: tqdm>=4.42.1 in /opt/miniconda3/envs/plp_module/lib/python3.12/site-packages (from huggingface_hub) (4.66.5)\n",
      "Requirement already satisfied: typing-extensions>=3.7.4.3 in /opt/miniconda3/envs/plp_module/lib/python3.12/site-packages (from huggingface_hub) (4.12.2)\n",
      "Requirement already satisfied: charset-normalizer<4,>=2 in /opt/miniconda3/envs/plp_module/lib/python3.12/site-packages (from requests->huggingface_hub) (3.3.2)\n",
      "Requirement already satisfied: idna<4,>=2.5 in /opt/miniconda3/envs/plp_module/lib/python3.12/site-packages (from requests->huggingface_hub) (3.8)\n",
      "Requirement already satisfied: urllib3<3,>=1.21.1 in /opt/miniconda3/envs/plp_module/lib/python3.12/site-packages (from requests->huggingface_hub) (2.2.2)\n",
      "Requirement already satisfied: certifi>=2017.4.17 in /opt/miniconda3/envs/plp_module/lib/python3.12/site-packages (from requests->huggingface_hub) (2024.8.30)\n"
     ]
    }
   ],
   "source": [
    "!pip install -U datasets\n",
    "!pip install -U accelerate\n",
    "!pip install -U transformers\n",
    "!pip install -U huggingface_hub"
   ]
  },
  {
   "cell_type": "code",
   "execution_count": 24,
   "metadata": {},
   "outputs": [
    {
     "data": {
      "text/plain": [
       "DatasetDict({\n",
       "    train: Dataset({\n",
       "        features: ['id', 'source', 'text', 'timestamp', 'reactions', 'engagement', 'url', 'text_length', 'keywords', 'topic', 'summary', '__index_level_0__'],\n",
       "        num_rows: 7196\n",
       "    })\n",
       "    validation: Dataset({\n",
       "        features: ['id', 'source', 'text', 'timestamp', 'reactions', 'engagement', 'url', 'text_length', 'keywords', 'topic', 'summary', '__index_level_0__'],\n",
       "        num_rows: 635\n",
       "    })\n",
       "    test: Dataset({\n",
       "        features: ['id', 'source', 'text', 'timestamp', 'reactions', 'engagement', 'url', 'text_length', 'keywords', 'topic', 'summary', '__index_level_0__'],\n",
       "        num_rows: 635\n",
       "    })\n",
       "})"
      ]
     },
     "execution_count": 24,
     "metadata": {},
     "output_type": "execute_result"
    }
   ],
   "source": [
    "from datasets import load_dataset\n",
    "\n",
    "dataset = load_dataset(\"ilsilfverskiold/tech-keywords-topics-summary\")\n",
    "dataset"
   ]
  },
  {
   "cell_type": "code",
   "execution_count": 30,
   "metadata": {},
   "outputs": [
    {
     "data": {
      "text/plain": [
       "['appsmith - Platform to build admin panels, internal tools, and dashboards. Integrates with 15+ databases and any API. - Organizations build internal applications such as dashboards, database GUIs, admin panels, approval apps, customer support dashboards, and more to help their teams perform day-to-day operations. Appsmith is an open-source tool that enables the rapid development of these internal apps. Read more on our website.InstallationThere are two ways to start using Appsmith:Signup on Appsmith Cloud.Ins',\n",
       " 'Elon Musk went to camp where kids were encouraged to bully others for food/water',\n",
       " 'Symfony Event System, Understanding and Implementing Event-driven Architecture - Explore real-world use cases and best practices for efficient software development',\n",
       " 'Introduction To Swift Programming : Swift Cheat Sheet - A comprehensive Guide on Classes, Protocols, Extensions, Enums, Initializers, and Deinitializers',\n",
       " '10 Things You Didn’t Know About Famous Programmers Like Bill Gates and Mark Zuckerberg - As a programmer and tech enthusiast, I’m fascinated by the stories of how some of the most famous programmers and tech entrepreneurs got…',\n",
       " 'Sam Bankman-Fried Set to Testify at His Fraud Trialnytimes.com',\n",
       " 'Data Cleaning and Pre-processing Techniques in Data Science - In the world of data science, the raw material is often far from refined gold; it’s more like sifting through dirt to find hidden gems…',\n",
       " 'LLMOps Article Compilation: A Concise Overview - The term LLMOps stands for Large Language Model Operations. As LLMs arose for building applications for production, new tools and practices…',\n",
       " 'Understanding Principal Component Analysis  - In this blog post, we will delve into the main concepts of Principal Component Analysis , a powerful method used to analyze…',\n",
       " 'Rust Challenge: File Content Search - Learning Rust Through Small Challenges',\n",
       " 'Essential Code Snippets for Algo Traders: A Beginner’s Guide - Dive into the world of algo trading with essential code snippets. Learn how to fetch stock data, compute indicators like SMA and RSI…',\n",
       " 'Never Miss An Idea Again: New Tech Will Allow Thought Sharing Through Brain Links Sooner Than You… - “Imagine being able to directly share your thoughts, emotions, and mental imagery with others\\u200a—\\u200anot through descriptive words or videos…',\n",
       " 'Containers Vulnerability Scanner: Trivy - This article talks about Trivy, which is a simple and comprehensive vulnerability scanner for containers and other artifacts, suitable for…',\n",
       " 'YouTube cracks down on synthetic media with AI disclosure requirement | Several new policies aim to tackle realistic synthetic media head-on. -',\n",
       " 'howtheytest - A collection of public resources about how software companies test their software - How They TestA curated collection of publicly available resources on how software companies around the world test their software systems and build their quality culture.ForewordOne of the outcomes of the various Taqelah meetups was that many software companies got to share their testing and quality culture with the community. It was absolutely fantastic to see the amazing stuff companies are doing to test their software, and ensure quality of their products and platforms.Apart from this, ',\n",
       " \"One Regulation Could Have Stopped Nationwide Car Theft Wave.Why Don't We Have It\",\n",
       " 'TOSCA\\u200a—\\u200aAn interoperability standard for multi-cloud environment - In my previous article, we discussed interoperability standards currently being explored for a Multi-cloud environment.',\n",
       " 'Llama 2\\xa0: Explained in simple step by step process  -',\n",
       " 'Human Vision Reconstructs Time to Satisfy Causal Constraintsnih.gov',\n",
       " 'Recent Research on Epidemiology and AI part3 - Inferring epidemic dynamics using Gaussian process emulation of agent-based simulations',\n",
       " 'Which Is The Highest-Paying Job In AI? - The Surge in Demand for AI Data Scientists',\n",
       " \"US Congress Report Calls for Privacy Reforms After FBI Surveillance 'Abuses' -\",\n",
       " '10 Essential Python Concepts Every Non-Programmer Should Know - Are you a non-programmer looking to dip your toes into the world of coding? Python is a fantastic place to start! Known for its simplicity…',\n",
       " 'Automating the LinkedIn posts using Generative AI. Part-1 - Say goodbye to the hassle of manual LinkedIn posting! To enhance user experience, we have developed an innovative solution: automating…',\n",
       " 'Crash Your Code with Jazzer.js - Jazzer.js is a coverage guided fuzzer for JavaScript. It tests code at runtime with thousands of test cases a second. It is open source…',\n",
       " 'Falcon: The Pinnacle of Open-Source LLMs - The gap between open-source and proprietary LLMs continues to shrink…',\n",
       " 'Data Analytics: More than a Career for Me - Image from dreamstime',\n",
       " 'Reversing Life\\u200a—\\u200aAI written Poem - When Artificial Intelligence meets Poetry\\xa0!!',\n",
       " \"Elon Musk's 'everything app' plan for X, in his own words\",\n",
       " 'A Possible Crisis in the Cosmos Could Lead to a New Understanding of the Universe -',\n",
       " 'Ask HN: Are double quotes working on Google again?',\n",
       " 'Multivariate Regression Analysis: Unraveling Complex Relationships - In the realm of statistics and data analysis, multivariate regression is a powerful and versatile technique that extends the principles of…',\n",
       " 'Thermal Transistors Handle Heat with No Moving Parts',\n",
       " 'Launching NexusTrade\\u200a—\\u200aAn AI-Powered Algorithmic Trading Platform - Create, test, optimize, and deploy algorithmic trading strategies with ease',\n",
       " 'Building a CRUD App with Angular and Firebase - In the world of web development, creating a full-stuck application often requires handling complex operations like creating, reading…',\n",
       " \"TypeError  - Can somebody explain me why I'm getting: TypeError: Cannot read properties of undefined  when I call updateSessionRPE? Here's the code: export class SessionRPEController { private readonly allowedUpdates =  private updateCheck: boolean { const isAllowed = updates.every(\",\n",
       " \"Quick, affordable way to create credible website for smoketest? - I'm preparing a smoke test to gauge interest in a new enterprise software product for engineering infrastructure. What are the quickest and most cost-effective methods to create a professional website with sign-up forms that appears credible? I would love any advice on making this a successful and efficient demand test.\",\n",
       " 'Why are more founders learning to code than use nocode tools? - If they have to rebuild it from scratch anyways after their mvp gets some traction, isn’t nocode perfect for this? but why does it seems like more founders are gravitating towards learning to code than using nocode tools like bubble? do you think that they deserve more attention? or do they actually have some severe limitations?',\n",
       " 'Humanity at risk from AI ‘race to the bottom’, says tech expert -',\n",
       " 'Replacing S3 with Cloudwatch - I need suggestions on system design that I’m trying to implement. So the product basically records user action like if a user changed tab and if he blurred the field or closed the window. Now, I am taking these event from my front end into my SQS and then I am triggering a lambda which is pushing the json files to S3 and then we are displaying that into our application. Now as we scaled we notice',\n",
       " 'How to Read, Write, and Modify XLSX Files in Python Using the Openpyxl Library - Excel spreadsheets are one of the most widely used file formats in the business world.',\n",
       " 'Create a SuperPrompt for Natural Language to SQL Conversion for OpenAI. - One of the things that has changed more in recent months, since the ChatGPT boom, is the emergence of massive large language models able to…',\n",
       " 'Securely Exposing Vertex AI APIs using Cloud Run and Cloud Endpoints - This blog post describes how to expose a secure API connection to Vertex AI APIs by deploying a Cloud Endpoint on a Cloud Run instance.',\n",
       " \"Placeholder Contributor - My Hacktoberfest 2023 Journey  Intro Hello, I'm excited to share my first Hacktoberfest journey in 2023! I'm currently pursuing a Bachelor of Software Engineering degree at The Open University of Sri Lanka. Despite being new to Hacktoberfest, I'm enthusiastic about contributing to open-source proj... + tags: hack23contributor, hacktoberfest, devops\",\n",
       " 'Bing Chat is now “Microsoft Copilot” in potentially confusing rebranding move -',\n",
       " 'eth-phishing-detect - Utility for detecting phishing domains targeting Web3 users - eth-phishing-detectUtility for detecting phishing domains targeting Web3 users.For checking why a given domain was blocked, try our interactive page here Blocking PolicyWe are constantly evolving the ideal policy that guides this list, but a few clearly defined rules have emerged. We will be quick and decisive to block websites that:Impersonate other known and established sites.Use their interfaces to collect user signing keys  and send them back',\n",
       " 'RFCGPT: the virtual assistant that has read the entire RFC series',\n",
       " 'Transforming customer experience with conversational AI and language neutralization - Introduction',\n",
       " 'Days of The Jackal: how Andrew Wylie turned serious literature into big business',\n",
       " 'How to label churn customers in non-contractual businesses - If you are a data analyst, you probably asked to calculate churn rate for your employer business. Churn rate calculations is tricky since…',\n",
       " 'Twitch has stories now, because all social media has to be the samepolygon.com',\n",
       " 'I want to start a community for my customers, where should I host it? - Hi All, Where should I host a community of my customers? Facebook Group Reddit Slack Discord Self-host on my website  Others? It feels like unless I self-host it on my Wix site, I will exclude people who aren’t on the chosen platform. Have any of you setup successful client communities? Thanks. EDIT: I run a Platform As A Service for organisations in the Cultural sector . So, B2B is my business and my clients want to see what each other are up to with my platform. CEOs and team leads . ',\n",
       " \"How to turn a promising software library into a business model? - Hi all, I have had an interesting idea that potentially could change the way we interact with LLMs. I am currently writing a prototype. While I believe the idea has a similar potential like Langchain or Haystack, what I am missing is an idea how to monetize it. Sure, I can create a library and open source it. But then what? I may gain some kudos, but that's not a business model, it's just a librar\",\n",
       " 'ExpressVPN releases technical white paper for new password manager',\n",
       " '7 Disruptions You Might Not See Coming In ChatGPT - Hey there, fellow thinkers and curious souls! I’ve got something to share with you today that’s been on my mind for a while now. You see…',\n",
       " 'How To Unlock Calculation Power in Tableau and Python\\u200a—\\u200a Lookup Function and Calculation? - In this series of articles, we would like to discuss how to use BI or programing tool to perform some advanced calculations such as lookup…',\n",
       " 'So far, the impact of UX on civilization has been child’s play\\u200a—\\u200awith AI, that’s about to change - I’ve been posing this problem in the UX community, and I would love comments, perspectives, opinions, etc:',\n",
       " 'Pros and Cons - Enterprise BGP WAN Edge - We are a midsized enterprise with multiple remote sites on SD-WAN, a DR site , and multiple buildings on our main campus. The current WAN edge solution was put in place by a previous engineer, and then \"maintained\" by a series of network engineers for better or worse over the next 5 years until I joined mid-2021. I\\'ve been here for a while but to b',\n",
       " 'Embracing Asynchronicity with React Suspense - In the world of web development, delivering a seamless user experience is paramount. As developers, we strive to create applications that…',\n",
       " 'The Transition from Indiehacking to Micro Companies',\n",
       " 'Ask HN: Tips for generating easy to remember but difficult to crack passwords',\n",
       " '9 Halloween Products Ideas with Midjourney that Sells! - With Visual Examples and Prompts to Create Halloween Products that Stand Out!',\n",
       " 'Deep Dive into Custom Resource Definitions and Operator Patterns - Introduction',\n",
       " 'A Deep Dive into AWS Elastic Load Balancing  - AWS Elastic Load Balancing  distributes incoming application traffic across multiple targets, such as EC2 instances, containers, and…',\n",
       " \"Leo – Brave's AI browser assistant is being rolled out to desktop users\",\n",
       " 'signals - Manage state with style in every framework - Signals Signals is a performant state management library with two primary goals: Make it as easy as possible to write business logic for small up to complex apps. No matter how complex your logic is, your app updates should stay fast without you needing to think about it. Signals automatically optimize state updates behind the scenes to trigger the fewest updates necessary. They are lazy by default and automatically skip signals that no one listens to. Integrate into frameworks as i + topics: preact, react, reactivity, signals, state-management',\n",
       " \"Set up DE C-corp with your attorney vs. Clerky, Stripe Atlas, etc. - We're in the middle of setting up our company and based on what we've learned so far, I'd suggest that if you're establishing a DE C-corp, you do it with a dedicated attorney whom you trust rather than with online templates  The templates struggle with nuances . The templates will also give you only a snapshot-in-time service, while you will need to keep things chugging in the long-run to remain in good standing. Alternatively, you can ask your lawyer to review the templates, if that saves her/him time and costs you less, but using the templates instead of lawyers makes for a bad recipe. Incorporation templates feel like outsourcing your core engineering function - they might get you going now, but in the long-run you will struggle. Even if your attorney charges $400+/hr, you'd only save about $1k-$2k, which is not worth it when so much is at stake.\",\n",
       " \"Musk's grandfather's political party – the world should be governed by tech\",\n",
       " 'Cock.li – Tor-friendly, free E-mail and XMPP provider',\n",
       " 'NinjaInjector - Welcome to my new article, today i will show you my new own malware named NinjaInjector, this malware becomes from the idea of create a…',\n",
       " 'bot-whatsapp -  Crear Chatbot WhatsApp en minutos. Únete a este proyecto OpenSource - Chatbot Library Con esta librera, puedes construir flujos automatizados de conversacin de manera agnstica al proveedor de WhatsApp, configurar respuestas automatizadas para preguntas frecuentes, recibir y responder mensajes de manera automatizada,y hacer un seguimiento de las interacciones con los clientes. Adems, puedes configurar fcilmente disparadores que te ayudaran a expandir las funcionalidades sin lmites. Ver ms informacionComenzarnpm create bot-whatsapp@latestEntiend',\n",
       " 'SpiderHarp: Oregon scientists study spiders with a web-inspired musical instrument -',\n",
       " 'Mining Patterns in Stocks with PCA and DTW - Identifying Today’s Stock Pattern in Historical Data Considering Current Market Conditions and Visualizing Future Movements in Python.',\n",
       " 'GrapheneOS now has hardware memory tagging support',\n",
       " 'Teens with \"digital bazookas\" are winning the ransomware war, researcher laments',\n",
       " \"account hacked and hundreds of services added, what should I do? - I just use aws for a workspace. Someone hacked into my account and added hundreds of services that appear on ec2 globalview. I changed my password, but now I'd have to manually delete all these services and configurations that were added overnight. should I just delete my account and sign up again with a new email?\",\n",
       " 'tauri - Build smaller, faster, and more secure desktop applications with a web frontend. - Current Releases Core Component Description Version Lin Win Mac tauri runtime core tauri-build applies macros at build-time tauri-codegen handles assets, parses tauri.conf.json tauri-macros creates macros using tauri-codegen tauri-runtime layer between Tauri and webview libraries tauri-runtime-wry enab + topics: hacktoberfest, high-performance, rust, webview, works-with-clojurescript, works-with-construct, works-with-elm, works-with-flutter, works-with-gatsby, works-with-mint, works-with-phaser, works-with-quasar, works-with-react, works-with-reason, works-with-svelte, works-with-vue, works-with-yew',\n",
       " 'OpenAgents - OpenAgents: An Open Platform for Language Agents in the Wild - OpenAgents: An Open Platform for Language Agents in the Wild Current language agent frameworks aim to facilitate the construction of proof-of-concept language agents while neglecting the non-expert user access to agents and paying little attention to application-level designs.We built OpenAgents, an open platform for using and hosting language agents in the wild of ',\n",
       " 'Next.js 14: Turbopack Isn’t Turbopacking - The new Next.js release comes with some minor improvements while everyone is waiting for Turbopack',\n",
       " 'Scientists find universal lower bound on topological entanglement entropyphys.org',\n",
       " 'Maximizing Raspberry Pi Performance: A Guide to Increasing Swap Size - Improving Raspberry Pi Performance!',\n",
       " 'The Emerging Role of the Data Science Designer - Photo by Firmbee.com on Unsplash',\n",
       " 'You WON’T BELIEVE What ChatGPT Can Do NOW!  DALLE-3 Unleashed: Text to Image MAGIC Explained! - Ever since artificial intelligence  leaped from the realms of science fiction into our daily lives, it’s been doing some mind-boggling…',\n",
       " 'Goodbye Calliope - A while ago, we retired our oldest model, Calliope, which was based on EleutherAI’s GPT-Neo 2.7B. This model was our first step into…',\n",
       " 'Working with Minimax Optimization part4 - Minimax Optimal Rate for Parameter Estimation in Multivariate Deviated Models',\n",
       " 'Top Steam Games: Nearly 70% Work on the Steam Deck in November 2023',\n",
       " 'XSS Unleashed: A Deep Dive into Exploiting XSS Vulnerabilities with BeEF - Welcome to this comprehensive guide where we will unpack the risks associated with XSS  vulnerabilities and…',\n",
       " 'Researchers identify ‘switch’ to activate cancer cell death -',\n",
       " 'Call of Duty: Modern Warfare III Needs 213GB on PC with HQ Textures',\n",
       " 'IT Operations with Ansible - Ansible: Automate Everything, Simplify Anything',\n",
       " 'Direct2D and DirectWrite samples available at GitHub -',\n",
       " 'Decoding AI Blackbox: Mechanistic Interpretability - Using Mechanistic Interpretability to explain Black Box nature of Nueral Networks',\n",
       " 'The Basics of Web Security: XSS, CSRF, SQLi - A Beginner’s Guide to Understanding and Preventing Common Web Security Threats',\n",
       " 'Deconstructing Surveillance Week 6— Student Projects - For this iteration, we take a look at a few student projects, where each analyzes a different surveillance measure',\n",
       " 'The Autonomous Orchestra of AI with Autogen: Beyond Solo Performances - Orchestrating AI with Autogen: Amplifying Human Genius, Not Replacing It',\n",
       " 'Show HN: I am curating the best websites on the internetinternetisbeautiful.com',\n",
       " 'Become a Highly-Paid Programmer: Your Ultimate Guide - Unlock lucrative career opportunities in the software development and software engineering world',\n",
       " 'Working with Metamorphic Relations part3 - Prioritization of Metamorphic Relations to reduce the cost of testing',\n",
       " \"I made an AI tool that lets you clone yourself on social media platforms  - Sociable AI is a tool that I have been working on for the last 8 months and I would greatly appreciate your feedback!! Also, let me know if there are any features you would like to see. Check it out here: [ Here is a demo for lazy peeps: [ It's initially designed for businesses to create an\",\n",
       " 'Machine Learning Explained in 100 Seconds - Demystifying Machine Learning: How AI Learns Like Humans',\n",
       " 'Advanced Stock Price Prediction Using XGBoost and Time Series Analysis - In this article, we delve into the fascinating world of stock price prediction using time series analysis.',\n",
       " '🟢 GitHub Workflows reimagined - A visual node system for GitHub workflows - Hey folks! In this blog post I would like to talk about GitHub workflows and how I believe they could become much better. Over the last few years I have worked with many repos and I noted how much time I spent on creating and modifying YAML files for GitHub workflows, rather than working on the a... + tags: githubactions, github, cicd, automation',\n",
       " \"Spotting Silent Pod Failures in Kubernetes with Grafana - Unnoticed Pod Failures in Kubernetes One of the critical issues in Kubernetes operations is the pod's deployment failures. Kubernetes pods can fail due to various reasons such as CPU constraints, memory constraints, Image pull errors, node failures etc. The main problem is that these problems will h... + tags: kubernetes, devops, cloud, programming\",\n",
       " \"examples - TensorFlow examples - TensorFlow Examples Most important links! Community examples Course materials for the Deep Learning class on Udacity If you are looking to learn TensorFlow, don't miss the core TensorFlow documentation which is largely runnable code. Those notebooks can be opened in Colab from tensorflow.org . What is this repo? This is the TensorFlow example repo. It has several classes of material: Showcase examples and documentation for our fantastic + topics: tensorflow, tensorflow-examples\",\n",
       " 'Best AI to teach yourself - Title, I’m a student and wondering which AI in your experience is the most useful/accurate for teaching yourself concepts you don’t understand. I had bad experiences using ChatGPT in a class  and was wondering if there’s any other good options',\n",
       " 'Accessing data from 8 distinct sources with Python - “Pandas DataFrames” -',\n",
       " 'The A-Z of Coding Your Way Through Stock Market Analytics - A Python Series',\n",
       " 'TypeScript\\u200a—\\u200a Supercharging JavaScript with Type Safety and Advanced Features - JavaScript is a popular and versatile programming language that powers the web. However, it also has some drawbacks, such as the lack of…',\n",
       " 'Show HN: Formbricks – Open-source alternative to Typeform and Spriggithub.com/formbricks',\n",
       " 'Propofol-Mediated Unconsciousness Disrupts Cortical Sensory Signal Progression',\n",
       " '5 Reasons Why You Should Avoid Googling and ChatGPT-ing When Learning to Program - At my Bootcamp, there has always been an emphasis on having the students look up and Google things they don’t know. The point is for the…',\n",
       " 'DevOps for Manufacturing — A Case Study - DevOps is a set of practices that aims to improve the collaboration, communication, and efficiency of software development and delivery…',\n",
       " \"Seeking Advice on Avoiding Re-Reading Web Links During Research - How Do You Keep Track? - I've been conducting extensive online research lately, and one recurring challenge has been accidentally re-reading web links. It's frustrating to start reading an article, only to realize I've already covered it. I'm here to seek your suggestions on how to better manage and track the links I've already visited. I want to be alerted when i re-read articled I've already covered. If you have any recommendations, tools, or strategies, please share them. Whether it's a browser extension, an innovative app, or anything useful.\",\n",
       " 'The Roman typefaces used in Chinese and Japanese text',\n",
       " 'Informer2020 - The GitHub repository for the paper \"Informer\" accepted by AAAI 2021. - Informer: Beyond Efficient Transformer for Long Sequence Time-Series Forecasting This is the origin Pytorch implementation of Informer in the following paper:Informer: Beyond Efficient Transformer for Long Sequence Time-Series Forecasting. Special thanks to Jieqi Peng@cookieminions for building this repo.News: We will release Informer V2 soon.News: The Informer\\'s extension paper is online on AIJ.News: We update all expe',\n",
       " 'Best Four Rules to Master JavaScript - Learn the best four rules to master JavaScript and implement the dark theme on a portfolio project to give practical examples',\n",
       " '“Unraveling the Power of K-Nearest Neighbors: A Comprehensive Guide to the KNN Algorithm” - Unraveling the Power of K-Nearest Neighbors: A Comprehensive Guide to the KNN Algorithm',\n",
       " \"Log in with ' Feature Allows Full Online Account Takeover for Millionsdarkreading.com\",\n",
       " 'SOLID Principle: Roadmap to Software Development - The SOLID principles are a set of five design principles in object-oriented programming and software engineering. These principles are…',\n",
       " 'Things To Consider Before Becoming A Digital Nomad - How to Become A Digital Nomad for Beginners',\n",
       " 'Spring Microservices: Best Practices for Logging and Aggregation - Introduction',\n",
       " 'The Clean Way to Deal With Ordinal Values in SkLearn - Ordinal data is a little annoying, but less so with sklearn.',\n",
       " '$23,500 in Coins to Pay a Settlement? Judge Says Keep the Change and Try Againnytimes.com',\n",
       " 'Title: Unlocking the Essence of Object-Oriented Programming : A Human-Centric Exploration -',\n",
       " 'The Never-Updaters: Why Some People Refuse to Download New Software',\n",
       " \"cypress - Fast, easy and reliable testing for anything that runs in a browser. - Documentation Changelog Roadmap The web has evolved. Finally, testing has too. Fast, easy and reliable testing for anything that runs in a browser. Join us, we're hiring . What is Cypress? Installing Install Cypress for Mac, Linux, or Windows, then get started . npm install cypress --save-dev or yarn add cypress --dev Contributing + topics: cypress, e2e-testing, e2e-tests, end-to-end-testing, javascript-tests, test, test-automation, test-runner, test-suite, testing, testing-tools, tests\",\n",
       " \"Trying to make draggable elements that are created with drag beginning on creation - I've been going around looking for a way to do this. I'd like to not bring in react-dnd or any dependencies because element dragging itself isn't that hard to implement. Basically, I have a list of menu items. For each item, I want an onMouseDown listener that creates an element, and that element is immediately draggable without lifting up the mouse button again. I've gotten so far as I can creat\",\n",
       " 'Legislation billed to protect kids comes with warnings of government censorship. -',\n",
       " 'Firefox will add support for at least 200 new extensions on Android this December -',\n",
       " 'Preparing for the Data Engineering Behavioral Interview - What are behavioral interview questions?',\n",
       " \"generative-ai-docs - Documentation for Google's Generative AI developer site - Google Generative AI Documentation These are the source files for the guide and tutorials on the Generative AI developer site . To contribute to the site documentation, please read CONTRIBUTING.md . To file an issue, please use the GitHub issue tracker . License Apache License 2.0 + topics: ai, chatbot, documentation, embeddings, llm, machine-learning\",\n",
       " 'Universal Access to Email: Feasibility and Societal Implications',\n",
       " 'Image Preprocessing For Neural Networks - Image preprocessing is a crucial step in preparing image data for neural networks. Proper preprocessing can significantly impact the…',\n",
       " 'A Giant Leap for the Leap Second. Is Humankind Ready for the Leap Minute?',\n",
       " 'The next frontier in IP parasites: codec royalties on content -',\n",
       " 'Why I started a Data Youtube channel - When I was new to Data Analysis, I struggled to follow through with most concepts. Most of the “beginner-friendly” tutorials were not…',\n",
       " 'HustleWing.com is a scam so I hacked it.ryanckulp.com',\n",
       " '3 Fascinating Secrets That You Didn’t Know Existed In Python - Ever tried importing ‘this’?',\n",
       " 'DIY Guide: Building a Cloud File Storage Service on Amazon S3',\n",
       " 'Datamodel-code-generator: Pydantic model/dataclass from OpenAPI, JSON, YAML',\n",
       " 'Explore the future of industry 4.0: unveiling organizational change management - This article explores how it transforms business processes, using case studies to demonstrate its impact on innovation, and improvization.',\n",
       " \"Am I using Context API correctly? - Hello everyone! I am pretty new to React, and trying to pass some variables using Context API. Though I am having some issues. I have a component called ItemDisplay, which displays a box, with drop down menus and input fields. It looks like this when rendered: [ . You can add more attributes by pressing the '+' button. My website will ha\",\n",
       " \"Elon Musk to file 'thermonuclear lawsuit' as advertisers desert X\",\n",
       " 'You don’t need to pay Midjourney $10 a month to create impressive visuals with AI - Photo by author on lensgo.ai',\n",
       " 'Prosecutors will likely proceed with SBF’s second trial in March -',\n",
       " 'Demystifying AI Models: Unraveling the Future of Technology - Introduction: In an age where technology meets imagination, the world of AI models is a fascinating landscape that deserves exploration…',\n",
       " \"pomatez - Stay Focused. Take a Break. - Pomatez Stay Focused. Take a Break. Features . Discord . Development . Installation . Privacy . License Features Customizable rules - it allows you to modify the default Pomodoro configuration based on your personal preferences. Built-in task list - it allows you to create a simple list of todos and mark the items done when it's done. F + topics: pomodoro, pomodoro-app, pomodoro-clock, pomodoro-technique, pomodoro-timer, productivity, productivity-app, productivity-booster, productivity-timer, productivity-tool, time-management, time-management-app, time-management-tool, tomato, tomato-clock, tomato-timer\",\n",
       " 'AI outperforms conventional weather forecasting for the first time: Google study',\n",
       " 'Heuristics: Should you leave the startup you work at?joinprospect.com',\n",
       " 'Deconstructing the Miracle: A Closer Look at How AI Chatbots Work Their Magic - Photo by Iryna Moshniatska on Unsplash',\n",
       " 'Garage Week: How Adobe Fosters a Culture of Innovation in Security - By Alexandru Calistru, EMEA Security Coordination Center  Manager',\n",
       " \"Everything Elon Musk Broke in the Year He's Owned Twitterslate.com\",\n",
       " 'Make Money Selling Your AI Art Prompts in These 3 Platforms - With Visual Guide and Tips For You to Make Passive Income!',\n",
       " 'homepage - A highly customizable homepage  with Docker and service API integrations. - A modern, fully static, fast , secure fully proxied , highly customizable application dashboard with integrations for over 100 services and translations into multiple languages. Easily configured via YAML files or through docker label discovery. Features With features like quick search, bookmarks, weather support, a wide range of integrations and widgets, an elegant and modern design, and a focus on performance, Homepage is + topics: docker, homepage, nextjs, node, react, self-hosted, startpage',\n",
       " 'Highly invasive backdoor snuck into open source packages targets developers',\n",
       " 'Gudoku - open-source Sudoku solving program - [ My attempt to make Sudoku solving program. Still WIP, but usable.Supported platforms: Android, Linux, Windows.',\n",
       " 'Is Reinforcement Learning really used in industry? If so, is it comparable to other forms of NN? - I\\'m thinking of specializing in RL while doing a PhD in environmental engineering . The research, together with my interests, led me naturally to RL as a tool to solve problems and achieve interesting research results. But then I started wondering whether it\\'s \"worth it\" to specialize in this since i intend to work in industry, rather than academia. Hence my questi',\n",
       " 'Is Cloud Excess Really Your Issue? - Lately, I’ve been hearing a few complaints from my network about their Cloud Providers. From sluggish support to rigid terms and…',\n",
       " 'Arxiv Dives\\u200a—\\u200aAttention Is All You Need - Every Friday at Oxen.ai we host a paper club called “ Arxiv Dives” to make us smarter Oxen  . We believe diving into the details of…',\n",
       " 'Columbus Letter Describing Journey to the Americas Sells for $3.9Msmithsonianmag.com',\n",
       " 'Empowering Tomorrow: Top 10 Innovative Ideas for Young Minds -',\n",
       " \"Nvidia's New China AI Chips Circumvent US Restrictions – H20, L20, and L2 Spec\",\n",
       " \"Tesla owner who drove with 'arms folded' cleared of dangerous drivingirishtimes.com\",\n",
       " 'The Rise and Fall of BetterBlends: A Glimpse into AI-Powered Smoothies - Better Blend: A short story.',\n",
       " 'State of IPv6 in the enterprise? - Think IPv6 will continue to be a meme or are we at a critical point where switching over might make sense? Feel like it might not be a thing for ages because of tooling/application support, despite what IPv6 evangelists say.',\n",
       " '7 Essential E-commerce Metrics To Boost Your Bottom line - Introduction:',\n",
       " 'Getting the Role Name That Deployed a Resource - ACM.360 Adding the role name that deployed a resource to the CloudFormation stack name instead of the profile for better attribution',\n",
       " '7 Reasons Why You Should Know Python to Become a Data Pro - Apart from becoming almost a standard in the data world, here are 7 more reasons why you should learn Python if being a data pro is your…',\n",
       " 'How To Make PASSIVE INCOME With ChatGPT & Midjourney AI? - Turning AI Magic into Real-Life Treasure: Creating a Kids’ Storybook Business',\n",
       " \"How Wall Street Makes Millions Selling Car Loans Customers Can't Repay\",\n",
       " 'RemoveAdblockThing - Removes The \"Ad blocker are not allowed on Youtube\" - Remove the Adblock Popup from YOUTUBE Introduction This repository contains a userscript designed to remove the annoying \"Ad blocker are not allowed on Youtube\" popup. Follow the instructions below to get started. We also have an undetected way of skipping ads if you get blocked from the video player. Table of Contents: Introduction Installation How to bypass the video player ban from using an ad blocker Usage Contribution License Insta + topics: adblock, remove-not-allowed, tampermonkey, tampermonkey-userscript, youtube',\n",
       " 'Is Indie hacking Dead\\xa0? - Recently, the topic of indie hacking’s relevance has sparked considerable debate on social media platforms, with many questioning its…',\n",
       " \"I'm Peter Roberts, immigration attorney who does work for YC and startups. AMA\",\n",
       " \"One Dose of Lilly's Novel Heart Drug Cut Risk Factors for a Year\",\n",
       " 'How Does Your Kindergarten Classroom Affect Your Earnings? dash.harvard.edu',\n",
       " 'Qualcomm Snapdragon X Elite looks like the Windows answer to Apple Siliconarstechnica.com',\n",
       " 'What are 4 types of AI? - Imagine you’re an astronaut stranded on Mars. You have a hi-tech communication system that relies on AI to operate, a robotic farming…',\n",
       " 'Why I’m Doing Less - I’ve found that if idle hands do the Devil’s work, then the Devil’s work is pretty great.',\n",
       " '6 Easy Rules Programmers Should Follow to Learn to Code Faster - Learn to code faster',\n",
       " 'How CSS @scope can replace BEM - Written by Andrew Evans One of the most common and challenging things that frontend engineers run across is CSS naming conventions. With the popularity of the Block Element Modifier  method, many became used to organizing their styles in a maintainable pattern. The upcoming implementation of ... + tags: css, webdev',\n",
       " 'Asynchronous Response Handling in JavaScript - Returning a response from an asynchronous call depends on the programming language or framework you’re using. Typically, with asynchronous…',\n",
       " 'How I used my first #30DayChartChallenge to learn Observable Plot - Things you should keep in mind before participating in your first #30DayChartChallenge and why you should consider it',\n",
       " 'Working with Self-affine measures part3 - On self-affine measures associated to strongly irreducible and proximal systems',\n",
       " 'Applying Reinforcement Learning to Air Combat - In the digital age, we have seen machine learning models learn to beat humans at chess, go, and even engage in debate. However, the recent…',\n",
       " 'Unraveling the Power of ETL: Your Guide to Efficient Data Transformation - Data transformation is the bridge that turns raw data into insights, making the journey from chaos to clarity possible.\\u200a—\\u200aUnknown',\n",
       " 'JavaScript Modules: Strategies to Improve Code Quality and Efficiency - JavaScript is one of the milestones of web development. It is used to increase interaction on websites and add dynamism to the websites…',\n",
       " 'Did ESPN think nobody would care that they deepfaked a Damian Lillard interview?',\n",
       " 'openWakeWord - An open-source audio wake word  detection framework with a focus on performance and simplicity. - openWakeWordopenWakeWord is an open-source wakeword library that can be used to create voice-enabled applications and interfaces. It includes pre-trained models for common words & phrases that work well in real-world environments.Quick LinksInstallationTraining New ModelsFAQUpdates2023/10/11Significant improvements to the process of training new models, including an example Google Colab',\n",
       " 'Palindrome Number Problem II - Given a non-negative number n, check if the binary representation of n is a palindrome. A palindromic number is a number that remains the…',\n",
       " 'Backstage Bitbucket Cloud Pipelines - Hello there! I\\'m a DevOps Engineer who is looking to build an \"infra-as-a-code\" catalog portal on backstage My goal is to have a bunch of terraform modules, that i can call using backstage templates, in a way that my devs can create/provision infrastructure with the standards set by the DevOps Team But, backstage, by default, supports github actions, but my company uses bitbucket Cloud ```',\n",
       " 'The Technological Trends Shaping Our Future - Technology is advancing at a dizzying pace, and its implications for the future are profound and transformative. From the growing influence…',\n",
       " 'How AI breakthroughs turbocharged my day-to-day as an SEO - And how it can do the same thing for you!',\n",
       " 'OpenAI’s DevDay 2023: How does it reshape the future of AI? - A recap of everything OpenAI announced at DevDay.',\n",
       " 'From Linear Regression to Shapley\\u200a—\\u200aA Journey into Model Interpretability - A Comprehensive Guide to Interpretability in Machine Learning',\n",
       " 'Building RAG-Based Chatbots Using Streamlit + Langchain - In this tutorial, we’ll be building a simple chatbot that helps you interact with the contents of a given file.',\n",
       " \"Dumping docker image into AWS? - Hi. I'm new to AWS. I want to deploy an ML app on AWS. I already made a docker image that has the python packages installed, and the project files -like the flask files, the saved model, the data file . So is it ok for me to just... dump them into an instance? So I don't have to set up any s3 buckets or install python packages in the instance, since the docker image already has that stuff for me, or...?\",\n",
       " 'Longest Consecutive Subsequence Problem - Given an integer array, find the length of the longest subsequence formed by the consecutive integers. The subsequence should contain all…',\n",
       " 'Canva’s Magic Studio is Here to Rule! Everything You Need to Know\\u200a—\\u200aPart 2 -',\n",
       " 'AFFiNE - There can be more than Notion and Miro. AFFiNE is a next-gen knowledge base that brings planning, sorting and creating all together. Privacy first, open-source, customizable and ready to use. - AFFiNE.PRO Write, Draw and Plan All at Once One hyper-fused platform for wildly creative minds. A privacy-focussed, local-first, open-source, and ready-to-use alternative for Notion & Miro. Docs, canvas and tables are hyper-merged with AFFiNE - just like the word affine . Join + topics: app, crdt, editor, electron, knowledge-base, markdown, miro, notes, notion, notion-alternative, rust, rust-lang, rust-language, table, tableview, whiteboard, wiki, workspace',\n",
       " 'Create or Extract Tables in Word with Python - Tables are an indispensable tool for organizing information with clarity and precision. They provide a versatile framework that allows you…',\n",
       " 'Cosmos-Server - The Most Secure and Easy Selfhosted Home Server. Take control of your data and privacy without sacrificing security and stability - Thanks to the sponsors: Cosmos is the most secure and easy way to selfhost a Home Server. It acts as a secure gateway to your application, as well as a server manager. It aims to solve the increasingly worrying problem of vulnerable self-hosted applications and personal servers. Whether you have a server , a NAS , or a Raspberry Pi with applications such as Plex , HomeAssista + topics: authentication, cloud, cosmos, reverse-proxy, security, self-hosted, self-hosting, selfhosted, selfhosting, server, sso',\n",
       " 'How To Reduce Complexity In Front End Development? - Keep front end simple!',\n",
       " 'Crafting a Secure Server-to-Server Handshake with Rust & OpenSSL - Hello there, fellow tech enthusiast! ',\n",
       " 'Pre-Commit Hook to Create Jira Tickets from Git Commit Historygist.github.com',\n",
       " \"Nepal says it will ban TikTok, citing effect on 'social harmony'\",\n",
       " 'Life Lessons from the Secret Fighting System of the Martial Arts. - Martial Arts.',\n",
       " 'Will AI destroy the future? - i feel motivated to give my view on this',\n",
       " 'How Microsoft is Revolutionizing Supply Chain Management with Copilot AI - Supply chain management is undergoing a revolution thanks to advances in artificial intelligence.',\n",
       " 'Databricks Agrees to Acquire Arcion, the Real-Time Data Replication Providerdatabricks.com',\n",
       " 'Tips for becoming a software engineer\\u200a—\\u200amy journey shared - I started coding when I was 12. The first language I picked up was BASIC. Between now and then, several decades have passed. It’s been a…',\n",
       " 'Top 10 Midjourney AI Tips for Beginners - Level Up Your Midjourney Mastery: Insider Tips for Stunning Creations',\n",
       " '9 Steps to Build Beautiful Line Charts with Python - Line charts are one of the most common and effective ways to visualize data trends over time.',\n",
       " 'Threads finally lets you delete your account separately from Instagram -',\n",
       " 'LinkedIn Wants Its AI Bot to Help Find You a Job After You Lose Your Job to AI -',\n",
       " 'The Art of User Interface Design\\u200a—\\u200a Creating Intuitive and Engaging Experiences - User interface  design is the process of creating the visual and interactive elements of a digital product or service, such as buttons…',\n",
       " 'EU Cyber Resilience Act and the Open Source Ecosystem: Make Industry Pay -',\n",
       " ' Take NextJS to the next level: Create a GitHub stars monitor  - In this article, you will learn how to create a GitHub stars monitor to check your stars over months and how many stars you get daily. Use the GitHub API to fetch the current number of stars received every day. Draw a beautiful graph of stars per day on the screen. Create a job to collect the new st... + tags: webdev, javascript, programming, tutorial',\n",
       " \"An entire state's population just had its data stolen by a ransomware group\",\n",
       " 'Some Tips for Writing Efficient TypeScript Code - 1.Replace string types with more precise types.',\n",
       " 'project_hoobank - Modern UI/UX website using React.js & Tailwind CSS - HooBank - Modern UI/UX website using React.js & Tailwind CSS Become a top 1% Next.js 13 developer in only one course Land your dream programming job in 6 monthsShowcase your dev skills with practical experience and land the coding career of your dreams JS Mastery Pro -  A special YOUTUBE discount code is automatically applied! Get the Ultimate Frontend & Backend Development Roadmaps, a Complete JavaScript Cheatsheet, Portfolio Tips, and more - https:/',\n",
       " 'AWS Launches European Sovereign Cloud, Strengthening Data Sovereignty for EU Customers - A game-changing cloud solution for highly regulated industries and the public sector in Europe',\n",
       " 'Debian-based live distro Window Maker Live 0.96 boasts added GNUSteptheregister.com',\n",
       " 'Unlocking the Power of Graphs for AI Reasoning - Graphs are ubiquitous in the modern data-driven business world.',\n",
       " 'How Apache Spark is fault tolerant? - Fault tolerance is an important requirement in distributed systems. Apache Spark provides robust fault tolerance mechanisms to ensure…',\n",
       " 'Getting started with your own Kubernetes Cluster! - In this article, I will be walking you along with the steps on how you can create your own Kubernetes environment  from…',\n",
       " 'Introducing Python for Kids: A Fun Way to Learn - Are you looking for a fun and exciting way to introduce your kids to the world of programming? Look no further! Python, a beginner-friendly…',\n",
       " 'Server-Side Exception Handling Patterns & Practices - Error Handling is an important and often overlooked concept in development. In this blog you’ll learn different patterns and practices for…',\n",
       " 'Root Vertex In Graph Problem - Given a directed graph, return its root vertex. A root vertex of a directed graph is a vertex u with a directed path from u to v for every…',\n",
       " 'Stable Diffusion for Artists: Training with Your Own Image Portfolio - Welcome to the world of Stable Diffusion, where the art of training your own image model meets simplicity. In this beginner’s guide, we…',\n",
       " 'Why I quit my job as Google’s Chief Decision Scientist - What’s it like to go from being Chief Decision Scientist at Google to being, well… just me?',\n",
       " 'Time to change: CERN scientists propose 25-hour day - Scientists at the BETA experiment, in CERN’s Antimatter Factory, have made the most precise measurement of the second yet, which could…',\n",
       " 'Mental Strategies of Elite High Altitude Climbers zoneofexcellence.ca',\n",
       " 'Momentum-based Gradient Descent - Adaptive Optimization in Machine Learning',\n",
       " 'The Best Optimization Algorithm for Your Neural Network - How to choose it and minimize your neural network training time.',\n",
       " 'Stop grinding LeetCode! A different take on landing your first developer job - Whether you are self-taught like me, a bootcamp graduate or an undergrad - If you are looking for your first development job you have probably heard the phrase \"grind LeetCode\" multiple times. A lot of aspiring developers tend to think that somehow, solving hundreds of LeetCode problems will magical... + tags: webdev, programming, beginners, career',\n",
       " 'Anyone knows why the CLI dissapeared from all the repos - I dont remember any announcements and I just realized that its no longer in any repos  . Does anyone know why I need to download it and update it manually like a babarian ?',\n",
       " 'Langfuse: A Beacon of Open Innovation for LLM Developers - Langfuse In the rapidly evolving landscape of large language models , Langfuse has emerged as a beacon of open innovation, empowering developers with powerful observability and analytics tools to optimize their LLM applications. Its open-source nature, coupled with an active and supportive com... + tags: llm, ai, analytics, programming',\n",
       " 'AI Entity Resolution: Bridging Records Across Human Languages',\n",
       " 'AI Makes Real News Anchors Report Fake Stories - Deepfake news segments featuring top journalists and TV networks are gaining traction on the internet. This trend is concerning, especially…',\n",
       " 'The Heat Is on NASA\\'s \"Flawless\" Heat Shield Demo Passes the Test',\n",
       " 'Common Pitfalls in Programming: The Differences between “==” and “equals” in Java - Discover the key distinctions between the == operator and the equals method in Java, and learn how to effectively use them for object…',\n",
       " 'Show HN: Bigint-toolkit some useful func for JavaScript native BigInt',\n",
       " 'In a Japanese city, kids can send robots to school instead of going themselves',\n",
       " 'This New Tool Aims to Keep Terrorism Content Off the Internet -',\n",
       " 'The Importance of Community Involvement in DevOps and AWS - Community: The Key to Unlocking DevOps and AWS Success.',\n",
       " 'The Ultimate Self-Study Guide to Machine Learning: A Comprehensive Roadmap for Aspiring ML… - Introduction',\n",
       " 'Linux 6.7 Introduces \"Make Hardening.config\" to Help Build a Hardened Kernel',\n",
       " 'Python Best Practices: Writing Clean and Maintainable Code - Writing clean and maintainable code is essential for any software project. It makes your code more readable, less error-prone, and easier…',\n",
       " 'Vore: A minimal, no-bullshit web-based RSS/atom feed reader',\n",
       " 'Blockchain Solutions for a Smart Transportation System - Transportation is considered the backbone of cities. It offers crucial services for the movement of people, goods and services. On the…',\n",
       " 'Une histoire d’Infra - En discutant de nos sujets d’infrastructure avec un collègue, j’ai trouvé intéressant de retracer l’historique de nos choix en matière…',\n",
       " 'AWS Lambda: Retrieving S3 Bucket Folders and Reading Data with Python - Introduction',\n",
       " \"Record Labels Shut Down FileWarez, Brazil's Oldest Pirate Forumtorrentfreak.com\",\n",
       " \"Navigating the Web: Unleashing is.firefox and is.not_firefox with 'thiis' - Browsing the web is like embarking on a grand adventure, and every adventurer needs tools to navigate the vast landscape. In the realm of JavaScript, detecting the user's browser can be essential for crafting tailored experiences. Enter the is.firefox and is.not_firefox methods from the 'thiis' pack... + tags: javascript, typescript, beginners, programming\",\n",
       " 'Revolutionizing Industries\\u200a—\\u200aHow Top Generative AI Companies Are Shaping the Future - Generative Artificial Intelligence  is a leading force in today’s tech-driven world. It’s revolutionizing industries and changing how…',\n",
       " 'INSIDE SAFE participants sheltered, stressed. Success!? Not yet. - A report from the CAO details the current statuses of 1,590 people who entered Inside Safe and most of them seem to still be indoors.',\n",
       " 'Amazon LIGHTSAIL - which solution to backup your instances? - We have a bunch of VM under Amazon Lightsail - snapshots are active, but we\\'d need a \"real\" backup solution, with imaging of the entire VM, compression, dedupe, bells and whistles. We checked but it looks like VEEAM can\\'t support Lightsail - only \"real\" AWS instances are allowed to be backed up, at least according to the local distributor we asked to. What are you using to protect your Amazon Li',\n",
       " 'Transcendence movie review and film summary rogerebert.com',\n",
       " 'Tell HN: ChatGPT limits back 40 queries in 3 hours',\n",
       " 'Forecasting Non-Stationary Time Series - Introduction',\n",
       " \"Am I crazy to be surprised we don't have a selector function support in useContext yet? -\",\n",
       " 'Jetpack Compose UI Testing in Android - Like always we will directly jump into the implementation part and learn the things on the go…',\n",
       " '“LLM101x: Large Language Models: Application through Production” Notları - Herkese merhaba,',\n",
       " 'UFO Whistleblower Kept Security Clearance After Psychiatric Detention',\n",
       " '“ Windowing Functions: A Comprehensive Guide to SQL vs. Spark Performance” - “Unlocking Analytical Power\\u200a—\\u200aA Deep Dive into Windowing Functions in SQL and Apache Spark for Optimal Data Processing”.',\n",
       " 'Investigation of Elevated Lead Levels: Applesauce Pouches',\n",
       " 'Why only 1% of the Snowden Archive will ever be published',\n",
       " \"Intel's New GPU Drivers Boost Performance Up to 750% in DX11, 53% in DX12\",\n",
       " '1,500 Slot Machines Walk into a Bar: Adventures in Quantity over Quality',\n",
       " 'An Easy Beginner Guide to Machine Learning  - What is machine Learning, how does it work, and what can you do with it? This is a very practical guide, showing off the immense power and…',\n",
       " 'Genetic Algorithms in C++ - Much of this post is based on Machine Learning: An Algorithmic Perspective by Stephen Marsland. This book offers easy-to-follow and…',\n",
       " 'My Journey to 3x Faster Builds: Trimming Barrel File Imports -',\n",
       " 'AI in operations management: applications, challenges and opportunities - ',\n",
       " 'React Weekly Issue 102 - Welcome to the 102nd issue of React Weekly, weekly roundup of the latest React and React Native links and tutorials.',\n",
       " 'How to Make Money With Python and Excel Using Openpyxl - Unlock the Power of Automating Spreadsheets',\n",
       " 'The share of Americans who are mortgage-free is at an all-time high',\n",
       " \"saas-starter-kit -  Enterprise SaaS Starter Kit - Kickstart your enterprise app development with the Next.js SaaS boilerplate  - Participating in Take a look at our Issues Enterprise SaaS Starter Kit The Open Source Next.js SaaS boilerplate for Enterprise SaaS app development.Please star the repo if you want us to continue developing and improving the SaaS Starter Kit! Additional ResourcesVideo - BoxyHQ's SaaS Starter Kit: Your Ultimate Enterprise-Compliant Boilerplate Blog - Enterprise-ready Saas Starter KitNext.js-based SaaS starter kit saves you months of de\",\n",
       " 'Hackers target Las Vegas plastic surgeons, post patient information, naked photos online - ',\n",
       " 'Ask HN: What are the best resources about learning Ruby programming in 2023',\n",
       " 'Transforming Customer Experiences with ChatGPT-powered Chatbots - The Challenges of Building Chatbots Before ChatGPT',\n",
       " 'A Key Start to MLOps: Exploring Its Essential Components - A Beginner-Friendly Introduction to MLOps',\n",
       " 'BloombergGPT: We Built a 50B Parameter Financial Language Model youtube.com',\n",
       " 'Java and the String Odyssey: Navigating Changes from JDK 1 to JDK 21',\n",
       " 'YARA-L: A Beginner’s Guide with Examples - In the world of cybersecurity, the hunt for threats is a constant and ever-evolving challenge. Malicious actors are constantly devising new…',\n",
       " '“Data Visualization” beaten up topic with a Twist- Ep1|Raising the Bar - Level: Beginner\\u200a—\\u200aIntermediate',\n",
       " 'Should I Learn JavaScript or PHP in 2024? - Choosing your programming destiny in 2024. Explore the dynamic worlds of front-end and back-end development to match your ambitions',\n",
       " 'JAVASCRIPT FOR BEGINNERS - Dive into JavaScript basics! From data types to functions, elevate your web development skills. Start your coding journey now!',\n",
       " 'Passive Salt Water Cooling Boosts CPU Performance by Almost 33% -',\n",
       " 'Sam Altman: There are more breakthroughs required in order to get to AGI',\n",
       " 'History Says 1918 Flu Killed the Young and Healthy. These Bones Say Otherwisewired.com',\n",
       " 'Language models and linguistic theories beyond words',\n",
       " 'Mastering the Medium: how One Year on the Platform transformed my Artificial Intelligence Skills. - Is it possible to learn Generative AI starting from Zero? I did it in one Year thanks to Medium: what is stopping you?',\n",
       " 'YAML Script Fundamentals concepts for Pipeline and API - Introduction to YAML',\n",
       " 'AI’s limitations: Forever a shadow, never the soul - “Computers are incredibly fast, accurate, and stupid. Human beings are incredibly slow, inaccurate, and brilliant. Together they are…',\n",
       " 'Crafting Effective Prompts for Summarization Using Large Language Models - Distilling key points after >2 years of experience and from AI developers’ own tutorials, hands-on and with examples.',\n",
       " 'Six brands of turmeric added to recall for excessive lead',\n",
       " \"LaborX Renaissance: A Masterpiece of Freelance Collaboration - In the grand tapestry of freelance collaboration, Chrono.tech's LaborX emerges as a modern-day renaissance, crafting a masterpiece that…\",\n",
       " \"Next.js SEO problem on netlify - Greeting I created a site in nextjs for a client but I have a problem. It's hosted on netlify and lightscore shows me a good 90+ on everything, but with SEO it says that google can't index my page, supposedly because I blocked it with robots.txt, but I didn't. I found somewhere that netlify does this by default , so I would like to know if there is a way to solve it or if I simply change the hosting provider?\",\n",
       " 'Python Weekly Issue 101 - Welcome to the 101st issue of Python Weekly, a weekly newsletter about the Python programming language.',\n",
       " 'Samsung disables customer phones remotely, holds data hostage youtube.com',\n",
       " \"Best way to build and host a react project on AWS - I am an experienced developer but an absolute front end beginner. I have built a small website that has about 20 pages of static content plus a contact form. What is the best way to host it? Should I make a static build and put it in an S3 bucket? Migrate to gatsby/nextjs? Host the react app on AWS amplify? Cost isn't a major concern as the site might get 100 visitors a month and is tiny. SEO and load times are more important.\",\n",
       " \"Microsoft won't let you close OneDrive in Windows without you explaining it\",\n",
       " 'Solar panels that blend in with white roofs now available',\n",
       " 'Why I Switched to Arc Browser – Goodbye to Chrome and Safari - I’ve been using Safari on my Mac for over 20 years and also on my iPhone. I liked it for its speed, not just because there weren’t many…',\n",
       " 'AWS Security Reinvented: The Age of Automation - Understanding Security Automation',\n",
       " 'How To Build a Tweet-Scraping App - Learn how to scrape Twitter using AWS Lambda, Docker and Brightdata',\n",
       " 'Italy appoints 85-year-old Giuliano Amato as AI tech tsar -',\n",
       " 'Azure Databricks A-Z Complete Guide | Azure Dp 203 Databricks Learning Material - This article will provide readers with a comprehensive understanding of Azure Databricks, its architecture, cluster management, notebook…',\n",
       " 'From Data Collection to Model Deployment: 6 Stages of Data Science Project - You need to stand out from the thousands of your data science peers. Here’s how to use the six stages of the data science projects to do…',\n",
       " '$: npm publish -if-needed - Publish a new version of your libraries on NPM only if changes have been made.',\n",
       " \"MIT's soft fiber implants could offer drug-free pain relieffreethink.com\",\n",
       " 'Weekly AI news\\u200a—\\u200aOctober 23–29 - CNN can match Transformers, IBM presents a new chip, and much more',\n",
       " 'Dynamic Routing with AWS CloudFront Functions - Imagine speeding up how websites and apps work, making them safer, and giving users a smoother experience. AWS CloudFront is like a wizard…',\n",
       " 'Stahl: OS and Programming Language written from scratch',\n",
       " 'What If Beggars Can Be Choosers? Welcome To a Humorous Dive into the World of Imagination - Upside-Down Economics: When Panhandlers Turn Picky and Set the Gold Standard',\n",
       " \"A year later, Musk's X is tilting right. And sinkingwashingtonpost.com\",\n",
       " '10 Life Lessons from Bhagavad Gita for Programmers - In the fast-changing world of technology, where computer code is written and thrown away almost as fast as a shooting star disappears from…',\n",
       " 'Why have emerging markets not spiralled into a debt crisis?',\n",
       " 'How I Stopped Fearing Python Decorators and Learned to Love Them - Python decorators, those seemingly cryptic lines of code, used to be the bane of my programming existence. They haunted my sleepless…',\n",
       " \"Node/Express - Call a controller dynamically with eval - Hi all! So I have an interface that uses socket.io events to send some JSON data to the backend. I want to call a controller based on the data that was received. For this, the data contains 2 strings with the names of a controller and a function that I want to call. I use this in a handler function that checks the data against the database to make sure that the it hasn't been manipulated and so\",\n",
       " \"Elon Musk and Jane Fraser Are Just Some of the CEOs Hoping to Woo China's Xi\",\n",
       " 'Exploring the Future: A PM’s Journey Creating an MVP with ChatGPT - Short description: In this text, I share my journey of building a small booking application for my friends’ business with the help of Chat…',\n",
       " \"Musk says X subscribers will get early access to xAI's chatbot, Grok\",\n",
       " 'How far have we come with Singular Value Decomposition 2023 part5 - Deep Learning combined with singular value decomposition to reconstruct databases in fluid dynamics',\n",
       " 'Apple could spend $5B on servers to catch up in AI race -',\n",
       " '“Unity Input Made Simple: A Guide to Touch Events and Mouse Interactions” - Touch input is a fundamental aspect of many mobile and touchscreen-based games and applications. Whether you’re creating a casual mobile…',\n",
       " 'A robot in South Korea mistook a man for a box of vegetables and killed him',\n",
       " 'Library to convert DOC, DOCX file to PDF - Hi,I m looking for a library that could convert base64 docx file to PDF file in my react app. Any suggestions regarding this is highly welcomed',\n",
       " 'AI Applications Every Executive Should Know - Understanding AI is crucial for businesses today. AI can enhance operations, break knowledge barriers, automate tasks, and ensure privacy.',\n",
       " 'Observation Evolution: SwiftUI 5’s Shift from Combine - From Asynchronous Streams to Intuitive Observation: SwiftUI 5’s Progressive Transition',\n",
       " 'Almost No One Pays a 6% Real-Estate Commission–Except Americans',\n",
       " '8 Ideas\\u200a—\\u200aBulletproofing Assortment Planning with Machine learning  - Continuing from Part 1, in this section I am going to share a few more ideas on how retailers can take benefit from machine learning…',\n",
       " 'How I Built a Passive Income Using C# and AI - The allure of earning money while you sleep is undeniable',\n",
       " 'How This Programmer Is Making $700,000 a Year! - The Secrets of a Programmer’s $700K Success and the Lessons That You Don’t Want to Miss',\n",
       " '10 JavaScript Habits I Ditched After Leveling Up My Coding Skills - As a developer, our journey is a continuous process of learning and improving. When we first start coding in JavaScript, we often develop…',\n",
       " 'TalkGPT: Voice integration with ChatGPT - A Tutorial on how to develop your own audio-enabled version of ChatGPT using Streamlit, Hugging Face, OpenAI and GitHub',\n",
       " 'Black Friday sale on DevOps training course/platform! - Hello, DevOps community, I am aware of how everyone here feels about these \"platforms\" or courses available online. What I am wondering is, **does the black Friday sale make any of them worth it?** If I get enough input, I will put together a resource of all websites on sale. So far I see 1. **A cloud guru** 50% off: $234/year  2. **Kode Cloud\\\\*** 40% off on standard, 45% of',\n",
       " ' Be a prompt engineer: Understanding Midjourney LLM - TL;DR By now, you\\'ve probably seen those incredible AI-generated images on your social feeds and thought to yourself, \"How are people making these amazing images?\" So you jump onto Midjourney, ready to create your own, but somehow, what comes out isn\\'t quite what you pictured. Don\\'t worry — I\\'ve got... + tags: llm, promptengineering, midjourney, productivity',\n",
       " 'Delhi air pollution spikes to 100 times WHO health limit',\n",
       " 'I Fixed Trello - Having a unique ID on each card is so important to efficiently communicate, but Trello does not show it by default. However, there are some Chrome extensions to show them! But… they all recently stopped working. I published a video where I tell a story about how I found myself creating an extension ... + tags: productivity, webdev, chrome, opensource',\n",
       " 'SaaS Services Behind 15-Person Startup – 2nd Year in Reviewbytebase.com',\n",
       " 'Analyzing Survey Data in R: A Crash Course  - A step-by-step lesson',\n",
       " 'npx gen-subs: Multi-language subtitle generation for videos with on-device machine learning models, zero internet dependency -',\n",
       " 'Keeping your README fresh: A Guide to Technical Diagram Versioning and Auto-Rendering with Git… - Have you ever delved into a project’s README and found yourself lost in a labyrinth of outdated diagrams? In the fast-paced world of…',\n",
       " '13 Most Common JavaScript String Methods You Should Know About - In JavaScript, strings are sequences of characters. JavaScript provides a rich set of methods to manipulate and work with strings. In this post, I’ll introduce you to the 13 most commonly used JavaScript string methods and their functionalities. String length If you want to find the number of charac... + tags: webdev, javascript, programming, beginners',\n",
       " 'GitHub520 -  “” GitHub - GitHub520 HelloGitHub GitHub 2024.12 1500+ GitHub \"\" 5 hosts GitHub GitHub \"\" GitHub issues GitHub hosts  2.1.1 # GitHub520 Host Start140.82.113.26 alive.github.',\n",
       " 'How to Get Started with Python Development on Ubuntu - This guide covers the step-by-step installation of Python, pip, virtual environments, and Jupyter Notebooks on Ubuntu, providing the…',\n",
       " 'Texas board rejects many science textbooks over climate change messaging',\n",
       " 'Automating My Life with Python: Ultimate Guide - Let Code Handle Your Daily Grind',\n",
       " 'The Power of Lisp\\u200a—\\u200a Symbolic Computing in Action - Lisp is one of the oldest and most expressive programming languages in the world. It was created by John McCarthy in 1960 as a language…',\n",
       " 'Unlock the Power of Your Data: Google Cloud’s Vertex AI AutoML - Build high quality models with your datasets without writing any code.',\n",
       " 'Is ChatGPT Just a Copycat? - Is ChatGPT Too Busy Trying to Be Us Instead of Finding Its Own Voice?',\n",
       " \"Portfolio project, what to use - Currently on my next project to build up my portfolio and I decided on building a modern good looking landing page for a hobby of mine. I'm having a hard time with what I should use, React or vanilla. I really enjoy React and it's component based building and using a component library which will make the site a bit easier/faster to build and look nice and hoping in the future to get a job with R\",\n",
       " 'Things I’ve learned about building CLI tools in Python -',\n",
       " 'Data Structures in Python: Essential Techniques for Developers - Python is a versatile and popular programming language known for its simplicity and readability. When it comes to data manipulation and…',\n",
       " 'Crypto Billionaire’s Vision: Revolutionizing AI Computing - Crypto billionaire’s bold move promises to reshape the future of computing!',\n",
       " 'Slint 1.3 Released with Revamped Native Styles and JavaScript API -',\n",
       " 'Mining company at centre of deadly Panama protests has no plans to scale back',\n",
       " 'MetaCLIP - Everything about MetaCLIP: curation/training code, metadata, distribution and pre-trained models. - Demystifying CLIP DataThis repository contains the code for the MetaCLIP, described in the paper Demystifying CLIP Data that formalizes CLIP data curation as a simple algorithm. The main contributions are:Curating data from scratch without filtering via prior models (e.g., different from existing open source efforts that uses the original CLIP model as a teacher for filtering student data.Making training data more transparent, we released our training data distribution over metadata;A scala',\n",
       " 'Brev: Start fine-tuning and training models in < 10 minutesbrev.dev',\n",
       " 'How to Declare Variable with Java - Understanding how to declare and use variables is fundamental to writing effective Java code.',\n",
       " 'Echo – smart reverse proxy with mockinggithub.com/devem-tech',\n",
       " 'How to Simulate a Click by Using x, y Coordinates in JavaScript - Sometimes, we want to simulate a click by using x, y coordinates in JavaScript.',\n",
       " 'New research suggests plants might be able to absorb more CO₂',\n",
       " 'Rxjs Operator 13\\xa0: merge Operator - Previous Blog Rxjs Operator 12: forkJoin Operator',\n",
       " '10 Ways Generative AI Is Transforming Programming - As a software developer, I’ve witnessed firsthand the rapid evolution of technology in the programming world. One of the most exciting and…',\n",
       " 'BigQuery and holidays - Learn how to create a table of vacation days in BigQuery using Python',\n",
       " 'How to get 8k followers, 1M impressions, and book $80k in revenue on LinkedIn',\n",
       " 'Beyond Syntax\\u200a—\\u200a Understanding the Philosophy Behind Modern Programming Languages - Programming languages are more than just a set of rules and symbols that tell computers what to do. Programming languages are also…',\n",
       " 'Decoding User Journeys: A visitor fingerprint you should add to any SQL generated reports. - Information Dense Visualizations',\n",
       " 'Convert Binary Tree To BST Problem - Given the root of a binary tree, convert the binary tree into a binary search tree  by keeping its original structure intact.',\n",
       " 'Deployment of the 2048 Game using Docker and AWS Elastic Beanstalk - In this tutorial, we will be looking at how to deploy the widely played number game 2048 by containerization using “Docker” and the “AWS…',\n",
       " 'Data Science #9 - In this issue: state of AI report 2023; embeddings: what they are and why they matter; challenges in evaluating AI systems; interactive…',\n",
       " 'Understanding Boxplots through the Lens of Formula 1: 2023 Italy Grand Prix Analysis - FastF1 Tutorials Series',\n",
       " 'The power of AI: tools for increased productivity in everyday life -',\n",
       " 'The Illusion of the Modern Self - Here’s how AI-generated images can craft a precarious synthetic reality.',\n",
       " 'SEC Charges SolarWinds and CISO with Fraud, Internal Control Failuressec.gov',\n",
       " 'Comparing Set Operations between Java and Eclipse Collections - How to find the union, intersection, and difference of Sets in Java',\n",
       " 'Grokking Product Analytics\\u200a—\\u200aWhat Matters and Why? - Key Product Success: Analytics in Product Management',\n",
       " 'Ansible troubleshooting\\u200a—\\u200aError internal-error - How to Solve the Ansible Error internal-error Dealing with Ansible’s Internal Errors',\n",
       " 'How We Reduced our Google Cloud Bills by 50 Percent -',\n",
       " 'Otis: Tropical storm to category 5 hurricane in 24hnoaa.gov',\n",
       " 'Name-My-Lipstick: Where AI Crafts Stunning Names and Fabulous Ad Images -',\n",
       " 'The 8787%+ ROI Algo Strategy Unveiled for Crypto Futures! - Understanding 8787+% Returns: A Deep Dive into Our Backtested Results',\n",
       " \"sqlcoder - SoTA LLM for converting natural language questions to SQL queries - Defog SQLCoder Updated on Nov 14 to reflect benchmarks for SQLCoder-34B Defog's SQLCoder is a state-of-the-art LLM for converting natural language questions to SQL queries. Interactive Demo HF Repo Colab Twitter TL;DR SQLCoder-34B is a 34B parameter model that outperforms gpt-4 and gpt-4-turbo for natural language to SQL generation tasks on our sql-eval framework, and significantly outperforms all popular open-source models. SQLCoder-34B is f + topics: \",\n",
       " 'A dogged journalist proved that the CIA lied about Oswald and Cuba',\n",
       " 'Looking for a low code solution to implement customer\\'s data entry workflow - hi r/lowcode! we are looking for a low code solution to empower our customer to build and maintain his data entry workflow which currently relies on SAP Fiori. based on parameterization inside a custom SAP application they create dialog based data entry workflows that become very complex depending on the specific use case. the system, overall, is highly customizable and pretty complex already. ideally, that new low code solution would integrate with the existing SAP \"backend\" that currently powers their Fiori based UI, but we are also open to writing our own backend for the purpose of parameterizing the data entry workflow. in addtition, the low code solution must be expandable by own, custom code to integrate with own and 3rd party APIs. i would love to hear your suggestions for low code solutions that you have successfully integrated in similar scenarios and/or hear your questions you may have. , chris',\n",
       " 'Why use SQL Window Functions? - Do we really have to use window functions in SQL? Can we not achieve the same results using GROUP BY and sub-queries?',\n",
       " 'Revolutionizing Knowledge Acquisition: The Synergy of AI-Enhanced Learning and Knowledge Graphs - For millennia, knowledge has been constrained by the limits of human intellect. But with the advent of artificial intelligence, a new era…',\n",
       " 'The Age of AI: How Automation Is Revolutionizing Business - Ever feel like artificial intelligence is taking over the world? Everywhere you turn, AI and automation seem to be transforming how we live…',\n",
       " 'Apple’s job listings suggest it plans to infuse AI in multiple products -',\n",
       " 'Deep Dive into TypeScript Type Assertions: as const, as , and as any - TypeScript has gained significant traction in the developer community due to its strong static typing system, which augments JavaScript by…',\n",
       " 'MagicaVoxel – A free voxel art editor and interactive path tracing rendererephtracy.github.io',\n",
       " 'Language Models and the Cognitive Economy Dilemma - Today, I found myself thinking about this. Recent advances in language models , like ChatGPT, pose an intriguing dilemma…',\n",
       " 'Considering switching to CS - Hi, so basically I’m considering doing Oregon State’s Postbacc program and wanted to see if you guys had any thoughts on it. For some background, I’m a female 22 year old, already have my bachelor of science, and was pursuing medical. Now in my gap year, I’ve decided to switch gears with how much time and money medical school takes . I do have',\n",
       " 'Amount of OpenAI employees demanding board resignation grows to 650',\n",
       " \"Under the Influence – Paying the price of my father's booze\",\n",
       " 'hyper - An HTTP library for Rust - hyper A protective and efficient HTTP library for all. HTTP/1 and HTTP/2 Asynchronous design Leading in performance Tested and correct Extensive production use Client and Server APIs Get started by looking over the guides . \"Low-level\" hyper is a relatively low-level library, meant to be a building block for libraries and applications. If you are looking for a convenient HTTP client, then you may wish to consider reqwest . If you are + topics: http, hyper, rust',\n",
       " 'Amazon to staff: Come into the office or your promotion is at risk',\n",
       " 'General Genius: Harnessing Generative AI for Tips and Tricks - Introduction',\n",
       " \"Beyond Text: Multi-Modal Learning with Large Language Models - Large language models have been game-changers in artificial intelligence, but the world is much more than just text. It's a multi-modal…\",\n",
       " 'Psychedelic Mushrooms Hit the Market in Oregonnytimes.com',\n",
       " 'List of fictional elements, materials, isotopes and subatomic particles',\n",
       " 'Python Dictionaries: From Unpacking to Switch-Case - It will be your favorite!',\n",
       " 'Streamlining React Rendering: A Guide to Using\\xa0.map with Keys - In the world of React development, rendering lists of items is a common task. The process often involves using the `.map` function to…',\n",
       " 'Object-Oriented Programming in Python. - Do you want to learn, or are you still struggling to understand how Python can be used for Object-Oriented Programming? This could be…',\n",
       " 'Working with Minimax Optimization part3 - Minimax Optimal Estimation of Stability Under Distribution Shift',\n",
       " 'Machine Learning Practice Problem 1: Credit Score Classification\\u200a—\\u200aPart 2 - Trust me this is going to be a short one but will be an informative one. Lastly in the part-1, we were talking about a machine learning…',\n",
       " 'Intuiting Latency and Throughput | Casey Muratori -',\n",
       " 'Gnome Recognized as Public Interest Infrastructure',\n",
       " 'Obsessive-compulsive symptoms underpin ideological obsession',\n",
       " 'Mastering Document Middleware in Mongoose: Custom Logic for MongoDB Documents - Middleware is a concept widely used in web development, and it’s not exclusive to frameworks like Express. Mongoose, a popular ODM (Object…',\n",
       " 'On the Challenge of Sound Code for Operating Systems',\n",
       " 'nestjs-boilerplate - NestJS boilerplate. Auth, TypeORM, Postgres, Mailing, I18N, Docker. - NestJS REST API boilerplate Description NestJS REST API boilerplate for typical projectFull documentation hereDemo:  :  of Contents FeaturesQuick runComfortable developmentLinksAutomatic update of dependenciesDatabase utilsTestsTests in DockerTest benchmarkingFeatures Database . Seeding. Config Service . Mailing (nodema',\n",
       " '10 Coding Projects to Boost Your Skills to New Heights - Introduction',\n",
       " 'As Israel and Hamas go to war, the Digital Services Act faces its first testdfrlab.org',\n",
       " 'The first-ever whole-file ciphering product with native asymmetric Keys',\n",
       " 'Patcher9x – Patch for Windows 9x to fix CPU issuesgithub.com/jhrobotics',\n",
       " \"Investors are souring on OpenAI's nonprofit governance model\",\n",
       " 'Mirror Of Binary Tree Problem - Given the root of a binary tree, convert the binary tree into its mirror.',\n",
       " 'Python: Using Redis with Docker - Let’s use redis with python and docker?',\n",
       " \"Economist fact-checks Peter Zeihan's China collapse story\",\n",
       " 'Voice Cloning Technology Worries Biden AI Chief Bruce Reed -',\n",
       " \"Berlin's famed nightclubs, losing customers, face an uncertain future\",\n",
       " 'SQL’ de Subquery Kavramı  - SQL’de bir subquery yani alt sorgu, basitçe başka bir sorgunun içinde bulunan bir sorgu olarak tanımlanabilir. Başka bir deyişle, bir…',\n",
       " 'Chat With Docs: Handling Encryption - One of the early comments I got once I launched Discute was: “how can I be sure my data is protected\\xa0?”',\n",
       " '25 Python one-liners that Senior Developers use - One line codes in Python, which only a Senior Developer use',\n",
       " 'Exploring AI Conversations in Nature: My Experience with ChatGPT Voice - Recently, I embarked on an intriguing journey, blending the realms of artificial intelligence and the serenity of nature. I took a walk in the park, not alone, but accompanied by the voice of ChatGPT. For an hour, we conversed, not through the taps of a keyboard but through the simplicity of spoken words. This experience was not just a technological experiment, but a glimpse into the future of hu',\n",
       " 'How to debug your web development with a mobile screen? - Hello guys!',\n",
       " \"Sam Bankman-Fried and other FTX staff allegedly had 'Wirefraud' chat group\",\n",
       " 'Creating EKS Cluster From AWS Console\\xa0: Part 2 - This Article is part of my main article How to Deploy Microservices in EKS with ArgoCD, Secure AWS Infrastructure via Terraform, Automate…',\n",
       " 'Meta’s Emu VS Midjourney 5.2\\u200a—\\u200aWhich AI Image Generator is Better? - Meta has recently announced its brand new AI image generator, Emi. How well does it compare to Midjourney?',\n",
       " \"What is the benefit of the `index.tsx` naming convention? - Hello, I'm trying to understand the benefit of having many \\\\`index.tsx\\\\` files in your codebase. Specifically, I've seen the following convention in a few codebases that I've worked on: /components/Button/Button.tsx // exports a default component called Button /components/Button/index.ts // imports button, then immediately exports it or sometimes I see: /components/Button/index.tsx // exports a default component called Button The only benefit that I can see is it might make importing Button a little less ugly: `import Button from /components/Button` vs `import Button from /components/Button/Button.tsx` But if you autocomplete your imports that shouldn't matter that much, and this makes it much harder to get the right file instantly with cmd + p . Am I missing a benefit here? I'd love to hear your thoughts!\",\n",
       " 'splice Polyfill in JavaScript\\u200a—\\u200aMastering JavaScript Arrays - Create a custom splice polyfill, tailor array operations, and conquer core concepts. Unleash your JavaScript skills!  #JavaScript…',\n",
       " 'You need a mental model of LLMs to build or use a LLM-based product',\n",
       " \"For all the excitement, most B2B AI apps still broadly suck. How do we fix it? - I've trialled 100s of new apps targeting businesses with AI-powered functionality, and almost all of them have been a letdown. Logo generators, pitch deck designers, AI-writing tools, productivity apps, unified search, knowledge bases, AI sales/customer support bots etc. Don't get me wrong - lots of potential and some cool products out there, but on the whole I find them not up to scratch for busi\",\n",
       " 'Faster compilation with the parallel front-end in nightly',\n",
       " \"Liquidity Concerns in Algorithmic Trading: Navigating Thin Waters - In the expansive ocean of financial markets, liquidity stands as a crucial determinant of a market's health and efficiency. For algorithmic…\",\n",
       " 'Why Some Introverts Choose to Underperform at Work - Would you be surprised to learn that some introverts choose to underperform in their jobs? They’re intentionally holding themselves back.',\n",
       " 'Java 109: JAVA VERSUS OTHER PROGRAMMING LANGUAGES - Java is a general-purpose programming language that is known for its portability, reliability, and versatility. It is one of the most…',\n",
       " 'Fine Grained Authorization in OutSystems with Amazon Verified Permissions - Use Amazon Verified Permissions in your OutSystems Factory for effortless Authorization Logic in your app.',\n",
       " 'Stop Using AI Tools for Writing, They’re Making You Dumb - In short, you are not controlling the words that are flowing; it is the AI that controls the words.',\n",
       " 'Session Storage: The Ephemeral Spellbook of the Web - Greetings, aspiring web enchanters! In our magical journey through the realms of JavaScript, we’ve uncovered many secrets. Today, we’ll be…',\n",
       " 'Extreme teaching in IT education - “Extreme programming is a  methodology that targets speed and simplicity with short development cycles and less documentation.” (Source…',\n",
       " 'The AI Infinity Paradox: The AutoGPT Conundrum - When artificial intelligence grapples with tasks beyond computational boundaries, we encounter the AI Infinity Paradox.',\n",
       " \"Show HN: Paclear – A Fun Twist on the 'Clear' Command with Pac-Man Animationgithub.com/orangekame3\",\n",
       " 'Britain proposes antitrust overhaul after Microsoft-Activision case -',\n",
       " \"James Cameron's The Abyss, True Lies finally get 4K Blu-ray release dates\",\n",
       " 'Home Affairs paying to access controversial tool tracking mobile phone movements',\n",
       " 'Scrum\\u200a—\\u200a A Popular Agile Software Development Methodology - Scrum is a popular agile software development methodology that is widely used by software development teams to deliver high-quality…',\n",
       " 'US lawmakers pressure Department of Commerce over China’s access to open source RISC-V chips -',\n",
       " 'The Art of Shaping Conversations with AI: 9 Essential ChatGPT Prompt Patterns - Unlock the art of AI chats! Dive into 9 key ChatGPT techniques that transform conversations. Master the future of digital creativity.',\n",
       " 'GitHub Universe 2023 with a lot of awesome announcements! -',\n",
       " 'Useful tools for headless Raspberry Pi reconfiguration - A convenient way to work with a Raspberry Pi is to set it up in a headless mode. A complete guide on how to do it can be found here:',\n",
       " 'Warning: New Outlook sends passwords, mails and other data to Microsoft',\n",
       " 'Generative AI with AWS Bedrock - How can you use AWS Bedrock to build with Generative AI and Large Language Models?',\n",
       " 'Efficient Data Preprocessing: Strategies, Tools, and Timing - Striking the Balance: Source vs. Post-Ingestion Data Preprocessing in the Modern Era.',\n",
       " 'GPT4 Vision for Form and Table Understanding - Introduction',\n",
       " \"catppuccin - Soothing pastel theme for the high-spirited! - Catppuccin Theme Palette Ports Showcase Docs Catppuccin is a community-driven pastel theme that aims to be the middle ground between low and high contrast themes. It consists of 4 soothing warm flavors with 26 eye-candy colors each, perfect for coding, designing, and much more! In addition, this repository tracks the development of the actual color palette, the project's documentation, organization-wide assets, resources and code sam\",\n",
       " 'What can we expect from Grok AI ? - Without knowing how it works and without having tried it out myself, I will allow myself a preliminary opinion.',\n",
       " 'Machine Learning Top Lessons For Indie Game Dev - I want to create a video game Apes Ascendance for the story and I soon understood I need to make an alliance with AI because I’m an indie…',\n",
       " 'Cloudification: The Future of Business - Cloudification is the process of moving data, applications, and other IT resources to the cloud. The cloud is a network of remote servers…',\n",
       " 'LocalSend - An open source cross-platform alternative to AirDrop  -',\n",
       " '- \\u200a—\\u200a… - While dealing with clients I found out that, Most of the ML models fail in production.',\n",
       " 'Creating and Deploying Streamlit Applications: Essential Tips - Optimizing Deployment with share.streamlit.io',\n",
       " 'The Future of Humanity: The Role of AI - Artificial Intelligence has become an increasingly important part of our daily lives, and its impact on humanity is only going to grow…',\n",
       " 'Show HN: Freelance Time-tracker, solving 3 stories: Tracking, Making, Checking',\n",
       " 'How to handle API requests in React application - What is API?',\n",
       " 'Analysis of Netflix Data with SQL - Netflix, the world’s leading streaming entertainment service, has revolutionized the way we consume content. With a vast library of TV…',\n",
       " 'Elon Musk Desperately Wants Control over Your Personal Financesfuturism.com',\n",
       " 'Python Trending Weekly #27 - This is a rich content Python weekly, the original language is Chinese, but most of the shared links are in English, so you should also be interested. Link[',\n",
       " 'Stream Splitting in Go: Efficient Data Distribution - Golang, commonly referred to as Go, is a statically-typed language developed by Google that’s famous for its simplicity and efficiency…',\n",
       " 'Build your own Docker image - Building a Docker image is a process made from a Dockerfile.',\n",
       " 'Accelerate your Data Science with RAPIDs by NVIDIA - Data science and machine learning have seen a remarkable shift towards accelerated computing, especially with the advent of GPUs. NVIDIA’s…',\n",
       " 'Types of Missing Values in Data - Missing data in a dataset can occur for various reasons, and the type of missing data can provide insights into how to handle and impute…',\n",
       " 'Node.js Security Best Practices: Safeguarding Your Application and User Data - Security is paramount when it comes to developing applications, especially when dealing with sensitive user data. In this article, we’ll…',\n",
       " 'Fake News and Ridiculing the Dead\\u200a—\\u200aWhat’s Wrong with Microsoft’s AI News - Safeguarding the integrity of journalism in the digital era necessitates a multifaceted approach that combines innovation with oversight.',\n",
       " 'DAX Power BI: Creating a calendar with additional parameters - Supplement your calendar, which consists of only one column, to see additional insights.',\n",
       " \"Insanity': petrostates planning expansion of fossil fuels, UN report\",\n",
       " 'In a surprise move, the military’s spaceplane will launch on Falcon Heavy - ',\n",
       " 'Outlier Detection Methods in Python w/ IQR & Standard Deviation - Data Quality using Statistical Methods in Python',\n",
       " 'proshop-v2 - ProShop ecommerce website built with MERN & Redux Toolkit - ProShop eCommerce Platform eCommerce platform built with the MERN stack & Redux.This project is part of my MERN Stack From Scratch | eCommerce Platform course. It is a full-featured shopping cart with PayPal & credit/debit payments. See it in action at  is version 2.0 of the app, which uses Redux Toolkit. The first version can be found hereFeaturesUsageEnv VariablesInstall Dependencies RunBuild & DeploySeed DatabaseBu',\n",
       " 'Party Time: Your Security Supporters with PartyRock - PartyRock is announced on 16th November, as an Amazon BedRock Playground. You can build your generative AI-based applications without writing any code. It’s cool because people who don’t know writing code can also use generative AI with this. For a limited time, we can use PartyRock in a free trial ... + tags: aws, ai, cloud, security',\n",
       " 'Show HN: A JavaScript library to generate rhyming passphrasesgithub.com/cmdli',\n",
       " 'The network is  down - My network started showing off issues late yesterday afternoon with all Internet traffic, and unbeknownst at the time local as well, was especially slow. Some sites loaded right away, others took some time, and sometimes none would load. I started looking through the firewall and core switch logs but the only obvious thing was a duplicate IP message that was filling the lo',\n",
       " 'Bruce Willis and Aphasia: Why Everyone Should Plan for Incapacitywilliamhalaw.com',\n",
       " 'Understanding the Open Closed Principle in Laravel - How to work with the Open Closed Principle in your Laravel Projects',\n",
       " 'Random Password Generator with Reactjs - Introduction: We’ll walk through how to create a password generator app with React. The app will enable users to create strong passwords with various combinations of characters, including uppercase and lowercase letters, symbols, and numbers. It’ll also have an indicator to help gauge the strength o... + tags: javascript, programming, tutorial, react',\n",
       " \"Mortal Kombat 1's New Microtransactions Are Scarier Than Its Fatalitieskotaku.com\",\n",
       " 'Emotion AI - How Artificial Intelligence Technology Understands and Detects Human Emotions',\n",
       " 'Big question about Autoscaling on AWS - Folks, I have this below scenarios- 1. I have an EC2 with Django app running in production 2. It is having RDS connectivity with Inbound Security Rule enabled for production database. 3. It has load balancer attached 4. I have to do git pull on server for new deployments for Django. My requirement is how should I achieve smooth autoscaling for the EC2 Django when the current EC2 goes mor',\n",
       " 'Java Memory Model & The Java Concurrency API - Introduction',\n",
       " 'Fly around the Earth in the browser. whole earth available by Google Maps API',\n",
       " 'Is Microsoft the New Watchdog of Election Integrity? - Microsoft launches a watermarking tool to combat deepfakes, but is it enough to defend democracy?',\n",
       " 'NLP Semantic Similarity: Identifying Synonyms in a Large Corpus of Words - Identifying synonyms in a large corpus of words involves natural language processing  techniques and various methods to capture…',\n",
       " 'Show HN: LLaVaVision: An AI \"Be My Eyes\"-like web app with a llama.cpp backend',\n",
       " 'Navigating the Cloud: A Practical Guide to Cloud Computing and its Applications - Cloud computing is the delivery of computing services such as servers, storage, databases, networking, software, analytics, and…',\n",
       " 'Understanding the World of Artificial Intelligence: A Comprehensive Guide - Welcome to the fascinating world of Artificial Intelligence . As technology continues to evolve at an unprecedented pace, AI stands at…',\n",
       " 'Google Decides To Pull Up The Ladder On The Open Internet, Pushes For Unconstitutional Regulatory Proposals - ',\n",
       " 'The Symphony of Algorithms: Understanding Machine Learning Architecture - Machine learning architecture, the underlying framework for building and deploying machine learning models, is an intricate web of…',\n",
       " 'Error Handling in Go: Custom Error Types - Concluding this series on error handling with a look at custom error types, how and when to use them…',\n",
       " 'Programming With C++ a High-Frequency EUR/USD Arbitrage System to Capture Rapid Market… - Arbitrage, in the context of financial markets, involves exploiting price discrepancies for the same asset or currency pair on different…',\n",
       " 'Mastering Promises: A Deep Dive into Promise Implementation - 1. Introduction',\n",
       " 'How I Use ChatGPT to Correct My Writing Mistakes - ChatGPT not only helps me correct mistakes but also learn from them, ensuring I don’t repeat them.',\n",
       " 'How AI is Reshaping the Sales Game - Sales, a domain once governed purely by human intuition and relationship-building, is undergoing a massive transformation. And the agent of…',\n",
       " 'Composition over Inheritance and the AI Generated Code - Laziness is no longer an excuse for bad coding practices',\n",
       " 'How To Guide:  Set Filter To Max Date - In this blog post, I’ll explore how to set a filter to the maximum date in Power BI.',\n",
       " 'NIST Team Develops Highest-Resolution Single-Photon Superconducting Cameranist.gov',\n",
       " 'Tiny device is sending updated iPhones into a never-ending DoS loop',\n",
       " 'Transformers can generate NFL plays\\xa0: introducing QB-GPT - Since my first article about StratFormer, I received a relatively great amount of feedbacks and ideas . This pushed…',\n",
       " 'Letting Python play Nintendo DS Games - Hey, I have been playing a few old Nintendo DS games lately on an emulator and i was wondering if there is a package out there that allows for simple input via python, so that it has access to all the usual buttons directly. I have been trying out \"pyautogui\", but i have to search for the emulator window and then click around things which is a bit difficult. Just wondering if someone has any idea of any good packages. Thanks!',\n",
       " 'The right way to monitor your lambdas’ runtime error - Introduction',\n",
       " 'How a tiny Pacific Island became the global capital of cybercrime Despite having a population of just 1,400, until recently, Tokelau’s .tk domain had more users than any other country. Here’s why. - ',\n",
       " 'The Difference Between is and as Operators in\\xa0.NET: Junior To Senior - IS vs AS. A Software Interview Question for a Senior Level Engineer.',\n",
       " 'Python for Network Automation\\u200a—\\u200a Simplifying Configuration and Management - Python is a powerful and versatile programming language that has become a popular choice for network engineers and administrators. Python…',\n",
       " 'Reaching ~ 100% data quality score\\u200a—\\u200aPart I - Steps for setting up data quality monitoring pipelines',\n",
       " 'Time Travel of a ’90s Software Developer to Present Day - From CRT Monitors to AI Revolution: A Technological Odyssey-e',\n",
       " 'NuScale cancels small modular nuclear reactor project in Idaho',\n",
       " \"M1 Mac Thunderbolt 4 ports mostly don't support 10Gb/s speed\",\n",
       " \"Elon Musk's ChatGPT rival to be witty and uncensored\",\n",
       " 'NYU and Human Rights Watch Accidentally Doxxed 8k People',\n",
       " '\"Dancing with the Future: Disney’s Wall-E-like Robot\" - ',\n",
       " 'Lead pollution hung over Trail, B.C., for nearly a centurynationalobserver.com',\n",
       " 'Brewing Up Swift Magic with Real-World Design Patterns - Explaining the Design Pattern in Swift with a Real-world Analogy',\n",
       " 'Best Authentication Practices for Production Using Next.js -',\n",
       " 'Querying every file in every release on the Python Package Index',\n",
       " \"I made a CLI that will use GPT4 to generate unit tests that for an entire project with one command - I always hated tests, so I've gone and just automated the task away. You'll get out complete tests that are known to pass from this tool. If you just want to try it out, here's the command to run for the entire project npx deepunit -- --a To run for just a specific file npx deepunit -- --f path/to/file.ts For complete documentation: Behinds the scenes there's a whole lot going on to get code that runs and compiles. I'm sure you've already used ChatGPT to write a simple function and found that most of the time there are small things to fix up before it's ready to run. A ton of time was spent handling each of those edge cases to ensure that the output is a test that runs and passes.\",\n",
       " 'Navigating Geopolitical Influences: Capitalism, Inflation, and the Modern-Day Struggle -',\n",
       " \"Smart riot gun refuses to fire if aimed at someone's head\",\n",
       " 'A Software Developer is a Senior When THIS Happens - Here Are Three Sure Signs',\n",
       " \"‘Qantas can't guarantee flights’, airline says, after allegedly selling 8,000 flights that were already cancelled — arguing what it did was reasonable and that “airlines can't guarantee specific flight times” - \",\n",
       " 'Packet trace files - Hello, As i am doing my master thesis on anomaly detection in local traffic, i need some packet capture files from switches. However, asking for some home made ones at the university seems to be a quite lengthy process and having some publicly available ones would be helpful to already start applying methods. Those may be from industrial control systems, or other scenarios which would be docume',\n",
       " 'AI in Healthcare Diagnostics: Advancements in Medical Image Analysis - In the realm of healthcare, Artificial Intelligence  is revolutionizing the way we approach diagnostics and medical treatments. One of…',\n",
       " \"E-commerce customer behavior analysis using Tableau - In this article, we will try to understand customer's behavior  and different brands performance. You…\",\n",
       " \"GURU-BOT - A SIMPLE YET COMPLICATED WHATSAPP BOT LOADED WITH FEATURES - GURU-BOT 2.O GURU-BOT- Simple Multi Device whatsapp bot. SETUP Fork the repo Get Session ID  DEPLOY TO HEROKU If You don't have an account in Heroku. Create a account. Watch the following video tutorial, for assistance. Now Deploy DEPLOY TO RAILWAY If You don't have an account On Railway. Create a account. Fork and star this + topics: ai, automation, baileys, baileys-bot, baileys-md, bot, chatgpt, chatgpt-bot, guru, guru-multidevice, openai, openai-whatsapp-bot, qrcode, termux, whatsapp, whatsapp-bot, whatsapp-bot-md, whatsapp-web, whatsappbot\",\n",
       " 'Dividing the Winnings in an Interrupted Game - Imagine flipping coins with a $100 prize on the line. This isn’t just a game of chance; it’s a puzzle that unfolds the realms of…',\n",
       " 'Time-Poor Python Developer’s Guide: Edition V - Python Developer’s weekly review for the week starting from 2023/10/10 to 2023/10/16.',\n",
       " 'How to Become a Data Engineer - A shortcut for beginners in 2024',\n",
       " 'SPR\\u200a—\\u200aSparse Priming Representations - A way to compress text so we can optmize our context length',\n",
       " 'Python Data Types: A Comprehensive Comparison - Python offers a diverse range of data types, each tailored to specific use cases. In this article, we will provide a detailed comparison of…',\n",
       " '10 Angular Best Practices That Will Make You a Better Developer - Best Practices to follow in Angular',\n",
       " 'Ask HN: How to organize research papers for reading',\n",
       " 'Java Virtual Threads\\u200a—\\u200asome early gotchas to look out for! - Immediate issues I ran into when using Java’s new Virtual Threads on a real world problem',\n",
       " 'Harnessing the Power of OPC-UA with Python: A Practical Guide - Have you ever heard of OPC-UA? Whether you’re an industrial automation enthusiast or just curious to learn something new, you’re in the…',\n",
       " 'gh-proxy - github releasearchive - gh-proxy github releasearchivecloneCloudflare WorkersPython  pythoncf worker python issue #8 pythonuser/repo / passby issue #41 copyurl  input git clone  + topics:',\n",
       " 'Paris to hold referendum on higher parking fees for heavy SUVs',\n",
       " 'Developer specialization: Don’t get locked into one framework - Recently, a mentee sent me an email worried about specialization.',\n",
       " 'Data Science Weekly Issue 23 - Welcome to the 23rd issue of Data Science Weekly, a weekly newsletter sharing the latest data science industry news, articles and code.',\n",
       " \"Gear Up for a Tech-tastic End of the Year!  - Hey folks  Welcome, tech enthusiasts, to the start of a brand-new month! As the calendar turns the page to November, it's time to rev up our motivation engines and sprint towards the year's finish line. Yes, it's that time of the year again when we're not just wrapping up projects but also setting... + tags: programming, motivation\",\n",
       " 'psub - CF Worker - psub CF Worker   BACKEND KVR2 SUB_BUCKET shadowsocks shadowsocksR vmess trojan vless hysteria AFF CN2 GIAAFF + topics:',\n",
       " \"Your preferred Vector DB solution for small-mid sized apps - Hey folks, I am about to build my backend using Go + managed AWS services. I will need a vector database, where I'll store data -- around 1TB in general, so nothing too huge. I would like to ask your opinions on which service I should choose for this, and why . I was using PineconeDB, but since everything will be AWS managed, I figured I'd try their stuff. Thanks in advance!\",\n",
       " 'EU Parliament committee rejects mass scanning of private/encrypted comms',\n",
       " '\"Developer\\'s Aren\\'t Allergic to Marketing\" – Multithreaded Income Episode 14',\n",
       " 'NASA Built a Tire Assault Vehicle from an RC Tank to Explode Space Shuttle Tires',\n",
       " 'Our Vision for the Future of Reliable Labeling Agentshumansignal.com',\n",
       " \"Layer 2 TX/RX Dropped  - Apologies if question is obvious, but I've never had to try and diagnose possible interface issues, so bear with me. Client has Ubiquiti XG 16 switch at the MDF - this is a 10Gb switch with 12 SFP's and 4x 1Gb RJ-45 ports. All the SFP's have 1Gb fiber modules. All of the downstream IDF switches are Ubiquiti Switch 24's - 1Gb on all interfaces, connecting to the MDF on the same 1Gb fiber modules.\",\n",
       " 'Learn tracing in Node.js by Contributing to OpenTelemetry - Hey friends! I recently had the opportunity to contribute to the OpenTelemetry Demo. The core maintainers pointed out they had a difficult time testing for regressions and often ended up merging breaking changes. I decided to write a tutorial on how to contribute to the demo safely and reliably while validating code changes with trace-based testing. Everything I learned is in the article below.',\n",
       " 'RealChar - Create, Customize and Talk to your AI Character/Companion in Realtime . Have a natural seamless conversation with AI everywhere  using LLM OpenAI GPT3.5/4, Anthropic Claude2, Chroma Vector DB, Whisper Speech2Text, ElevenLabs Text2Speech - RealChar. - Your Realtime AI Character Create, customize and talk to your AI Character/Companion in realtime DemoTry our site at RealChar.aiNot sure how to pronounce RealChar? Listen to this audipDemo 1 - with AI Elon ab',\n",
       " \"The new Twitter is changing rapidly – study it before it's too late\",\n",
       " 'Gentle Introduction To Typescript Compiler API - TypeScript extends JavaScript by adding types, thereby enhancing code quality and understandability through static type checking which enables developers to catch errors at compile-time rather than runtime. The TypeScript team has built a compiler tsc to process TypeScript type annotations and emit ... + tags: typescript, compiler',\n",
       " \"Questions about no code for a SaaS solution - Hello, i've some questions about no code solutions. I'm a backend developer working on ERP integration. But i'm working on another project in my free time, this is a little CRM for some freelance in a specific domain. I already have a good backend api, and I connect it on a custom WordPress pluggin for my customers. The solution is working well, but it's not easy to for me and my customers to use\",\n",
       " 'The tragically millennial vocabulary of the Sam Bankman-Fried trialtheverge.com',\n",
       " 'Unleash the Power of Supabase’s pgvector Extension - Searching Images Made Simple with Streamlit',\n",
       " 'RDS randomly started upgrading itself - Hi all, Possibly a strange one. Our main production RDS instance randomly start upgrading itself in the middle of the day , this resulted in a 25 min downtime for our application  Our maintenance window is weekend only at 23:00 and auto minor upgrades are enabled but none of',\n",
       " 'The Online Polygraph Systems. - Is Algorithmic Lie Spotting Possible\\xa0?',\n",
       " 'Amazon using AI to remove fake reviews, >200M suspects blocked in 2022',\n",
       " 'Unlocking the Secrets of Artificial Neural Network - Explore the potent possibilities of Artificial Neural Network. Uncover its complex layers, applications, and transformative potential in\\xa0…',\n",
       " 'Interview Question: How to Optimize the First Screen - First-screen optimization refers to displaying visible content to users as quickly as possible during the loading process of web pages to…',\n",
       " 'Type-Safe Infrastructure: Pioneering Simplicity and Stability - Most developers are by now familiar with the concept of type-safety in programming. It brings benefits like increasing predictability, reducing bugs, and helping ensure your application behaves as expected.  But have you ever considered applying type-safety to your infrastructure? This innovation ... + tags: programming, typesafe, go, typescript',\n",
       " 'TikTok Gets Tougher in Performance Reviews, and Employees Are Spookedwsj.com',\n",
       " 'Navigating Monday Morning Anxiety with Deep Learning - Hey… Hey… Hey…! Monday morning, huh? How are we feeling today?',\n",
       " 'Algorithms 101: A Beginner’s Guide to Machine Learning - The concept of Machine Learning has evolved alongside advances in computing power and the availability of vast amounts of data. With the…',\n",
       " \"Neovim plugin for synchronization with remote servers - Transfer.nvim is a Neovim plugin that enables you to synchronize files between your local machine and a remote server using rsync and OpenSSH. It is a lightweight and user-friendly plugin suitable for syncing various types of files, including code, configuration files, and documents. It's integrated... + tags: neovim, ssh, nvim, vim\",\n",
       " \"Eli Lilly's Mounjaro Approved for Weight Loss in the U.S.\",\n",
       " 'A Review of the Raspberry Pi 5 and Why I am not cancelling my Pre-order of the Turing Pi v2 with… - Single Board Computers have become increasingly relevant in both industrial and consumer settings. These compact devices have…',\n",
       " 'Top 10 Ways The Fastest Way I Make Money With Python - Hey there, fellow Python enthusiasts! Today, I’m excited to share with you my top 10 ways to make money quickly using Python. Python is an…',\n",
       " 'Python in Cybersecurity: How to Built a Simple Port Scanner - Building a Python-based simple port scanner from scratch',\n",
       " 'Must Know SQL Questions and Answers - Example SQL Questions and Answers',\n",
       " \"Moon-forming impactor as a source of Earth's basal mantle anomalies\",\n",
       " 'Why Silicon Valley billionaires like Peter Thiel turned against Trump',\n",
       " 'How to search logs in cloud storage using cloudgrep - Introduction',\n",
       " 'Some deaf children in China can hear after gene treatmenttechnologyreview.com',\n",
       " 'Unleashing the Power: The Advantages of Functional Programming in the Digital Age - In the ever-evolving digital age, businesses and developers constantly seek innovative ways to optimize their software development…',\n",
       " 'backgroundremover - Background Remover lets you Remove Background from images and video using AI with a simple command line interface that is free and open source. - BackgroundRemoverBackgroundRemover is a command line tool to remove background from image and video using AI, made by nadermx to power  If you wonder why it was made read this short blog post.Requirementspython >= 3.6python3.6-dev #or what ever version of python you usetorch and torchvision stable version ( 4.4+To clarify, you must install both python and whatever dev version of python you installed. IE; python3.10-dev ',\n",
       " 'Any tips for chrome extension growth hacking? - Doing a little bit of validation and would love for a way to amass a ton of free users  to test behaviors with the extension. For this to work, we need a large amount of users on the network. Does anybody have some growth hacks to drive traffic to a chrome extension that are other than the basics? We’ve obviously done the usual: SEO, basic social presence, G2, Product Hunt and other app repositories. Looking for some creative ideas. Thanks!!',\n",
       " 'New “Wonder Material” Could Boost Battery And Solar Cell Efficiency | OilPrice.com -',\n",
       " 'Stop Adding Strings Using + in Python!! - # There is a better',\n",
       " 'The Must-Read OR Papers of the Past Decade - Many of the papers have had a significant impact on the field of operations research, and have led to new and innovative applications in a…',\n",
       " 'How Grab Prevented App Performance Degradation from Sudden Localized Ride Demand Spikes\\u200a—\\u200aSystem… - During the early days, when there was a massive, sudden spike in ride bookings, Grab’s system often struggled to manage the load.',\n",
       " 'I Spent 8 Hours Each Day Learning SQL: Here’s What Happened - My Experience Before and After My Decisions',\n",
       " 'How To Forecast Gross Profit With GoodData and AWS SageMaker - In the ever-evolving data analytics landscape, staying ahead of the competition requires innovation and adaptability.',\n",
       " 'First atmospheric river storm of the season targets California next week',\n",
       " 'Plants are more productive on weekends thanks to cleaner air',\n",
       " 'ragas - Evaluation framework for your Retrieval Augmented Generation  pipelines - Evaluation framework for your Retrieval Augmented Generation  pipelines Documentation Installation Quickstart Community Open Analytics Hugging Face Dedicated solutions to evaluate, monitor and improve performance of LLM & RAG application in productio + topics: llm, llmops',\n",
       " 'Creating a Streamlit User Interface for AutoGen Agents - Introduction',\n",
       " 'Understanding Structured Data and Unstructured Data - In the world of data, there are two main types: structured and unstructured. Structured data is organized and fits neatly into predefined…',\n",
       " 'ERROR HANDLING - Guys can anyone share there projects github repo link if you have implemented Error Handling in it. I want to implement in the best way. Kindly share btw in Node.js only ps : Still a beginner, trying to figure out',\n",
       " \"NASA's Mars Fleet Will Still Conduct Science While Lying Low\",\n",
       " 'FastAPI Study Diary \\u200a—\\u200aDefining Models for Request Handling, Database Storing, and Response… - In the third installment of my FastAPI study\\xa0, I learned how to handle data from requests.',\n",
       " 'LangChain: Empowering Language-Driven Application - In the ever-evolving landscape of technology, the fusion of natural language understanding and software applications is at the forefront of…',\n",
       " 'Why You Should Back Up Your Data - Our data is at the heart of everything we do. From important work documents to precious memories, losing data can be a devastating…',\n",
       " 'What Happens When AI Gets It Wrong? - For high-stakes decisions, we need to know why',\n",
       " 'Top 10 Career Milestones Every Programmer Should Aim For - As I sit here in my dimly lit home office, bathed in the soft glow of my computer screen, I can’t help but reflect on my journey as a…',\n",
       " 'Apple Joins IBM in Pause on Advertising at Twitter/X',\n",
       " 'How to setup production ready logging system in Nest.js - Logging is a very important part of deploying a production ready application. If you have more than 0 customers, it’s highly likely that…',\n",
       " 'vizro - Vizro is a toolkit for creating modular data visualization applications. - Documentation |Get Started |Live Demo Visual Intelligence. Beautifully engineeredVizro is a toolkit for creating modular data visualization applicationsWhat is Vizro?Rapidly self-serve the assembly of customized dashboards in minutes - without the need for advanced coding or design experience - to create flexible and scalable, Python enabled data visualization applicationsUse a few lines of simple configuration to create complex dashboards, which are automatical',\n",
       " 'A Complete Guide to React Form Validation - This is the complete guide you were looking for if your goal is to learn React Form Validation.',\n",
       " 'What Cyber Security is and Why It Is Important - Cyber security is a topic that has become increasingly relevant and important in the modern world. Cyber security refers to the protection…',\n",
       " 'Return and Method Calling Help - I have the following code: \"package chapter3Practice; public class chapter3Practice { public static void main { int x = 1; int y = 2; int z = 3; z = mystery; System.out.println; x = mystery; System.out.println; y = mystery; System.out.println; } public static int mystery { z--; x = 2 \\\\* y + z; y = x - 1; System.out.println; return x; } }\" I ONLY want help with the first statement, z=mystery;. I don\\'t want anyone to do my homework for me, I just need help understanding the first statement because I have tried \"5 2\" since y = x - 1, and if x is 6 . It lists y first, which is 5, and z next, which is 3 - 1 = 2. So, \"5 2\" right? But it\\'s wrong. &amp;#x200B;',\n",
       " \"sentry-javascript - Official Sentry SDKs for JavaScript - Bad software is everywhere, and we're tired of it. Sentry is on a mission to help developers write better softwarefaster, so we can get back to enjoying technology. If you want to join usCheck out our open positionsOfficial Sentry SDKs for JavaScriptThis is the next line of Sentry JavaScript SDKs, comprised in the @sentry/ namespace. It will provide a moreconvenient interface and improved\",\n",
       " 'Sam Altman, Greg Brockman will be leading a new advanced AI team at Microsoft',\n",
       " 'Google’s artificial intelligence predicts the weather on the planet in just one minute -',\n",
       " 'The Role of AI in Education - Enhancing Learning and Empowering Teachers',\n",
       " 'What Is Key Influencer In Power BI? - In this blog post, I’ll explore what Key Influencers are in Power BI, how they work, and how to use them effectively for data analysis.',\n",
       " 'VPNs and Shadowsocks Named in Leaked Russian Blocking Document',\n",
       " 'Statistics: 100 Interview Questions and SHORT Answers for Data Scientist and Data Analyst Roles - Here’s the list with short answers for each question:',\n",
       " \"New IPv4 charge - What about Elastic Beanstalk which does not support IPv6? - I'm heavily using Elastic Beanstalk with single instances. Will I get charged and not have the option to switch to IPv6 or turn off elastic IP's? &amp;#x200B; Hope I'm misunderstanding someting here.\",\n",
       " 'Intent and consent management: critical paths to realigning user-centric data-driven design - User-centric design hinges on two truths: honoring intent and managing consent.',\n",
       " 'The Rise of Scripting Languages in DevOps - DevOps is a set of practices that aims to improve the collaboration and communication between software development and IT operations teams…',\n",
       " 'I Tried to Run Cities: Skylines 2 on M2 MacBook Air via Game Porting Toolkit',\n",
       " 'Do you aspire to write code like a professional software developer? - Join a community of linke-minded people to learn and grow as a developer',\n",
       " 'Navigating career and motherhood - Finding balance and success',\n",
       " 'Choosing the Right Power BI Connectivity Type: A Best Practices Guide - As a data enthusiast who has navigated the intricate world of Power BI, I understand that selecting the right connectivity type can make or…',\n",
       " 'awesome -  Awesome lists about all kinds of interesting topics - Check out my latest app One Task Stop procrastination and get stuff done by focusing on one task at a time My open source work is supported by the community Special thanks to: Your app, enterprise-ready. Start selling to enterprise customers with just a few lines of code. Add Single Sign-On  in minu + topics: awesome, awesome-list, lists, resources, unicorns',\n",
       " 'The Nexus of Psychology and Artificial Intelligence: An In-depth Exploration - Artificial Intelligence  has revolutionized numerous sectors, from healthcare to transportation. However, its intricate bond with…',\n",
       " 'How to Use Pandas and Plotly to Create a Histogram from a Bar Chart - I Couldn’t Upload My Histogram to Plotly Chart Studio— So This Is How I Fixed It',\n",
       " 'Redux Toolkit Query - Cache Behavior - RTK Query is a powerful tool for streamlining data management in Redux by incorporating intelligent caching strategies. By automatically…',\n",
       " 'Techno-optimism vs. Techno-realism - How do we get to the future we need? Don’t be like Marc Anderseen. In Anderseen’s “Techno-Optimist Manifesto” we encounter faulty logic…',\n",
       " 'Mastering SQL Data Manipulation: SELECT…. FROM……. - In the world of programming and database management, the importance of clean and efficient coding cannot be overstated. It’s not just a…',\n",
       " 'shadowrocket-rules -  shadowrocket    module sgmodule      - %APPEND%%APPEND%4in1mixmixmix+mix+accuweatherappalarmyalohaVPNapp +Background Eraserappappravenaudiomackappb612app',\n",
       " 'Comparing Baidu’s ERNIE 4.0 - ERNIE 4.0 versus ChatGPT: Clash of the Giants',\n",
       " \"Ask HN: Folks with telemetry, how's the iPhone 15 selling?\",\n",
       " \"Too many products are easier to throw away than fix—consumers deserve a 'right to repair' -\",\n",
       " 'Exclusive-Nvidia to make Arm-based PC chips in major new challenge to Intelyahoo.com',\n",
       " 'Intel Demos 8-Core, 528-Thread Piuma Chip with 1 TB/S Silicon Photonics',\n",
       " \"Apple has a memory problem and we're all paying for it\",\n",
       " 'Google to take action on third-party hosted content',\n",
       " 'Discover the Potential of\\u200a—\\u200aCustom GPTs - Introduction',\n",
       " 'Smart drugs reduce quality of effort, and slow decision-making',\n",
       " '#Week4AWSWorkshopsChallenge-S3 Security Exercises -  In this lab use case, we will see how to built an Amazon EC2 instance, Creating an S3 bucket, Configure S3 Block Public Access, Restrict…',\n",
       " 'Building a Book Recommender System with Python: Personalized Reading at Your Fingertips. - Tailoring Your Reading Journey: A Guide to Book Recommender Systems with Python',\n",
       " 'Can I Do That In R? Advanced Excel Functions in R for Data Manipulation - From Excel to R\\u200a—\\u200aAdvanced Excel Functions in R for Effortless Data Manipulation and Superior Scalability',\n",
       " 'The crippling problem of being able to build whatever you wantaschmelyun.com',\n",
       " 'Enhancing Stock-to-Flow Predictions with Logarithmic Regression - Introduction',\n",
       " 'AI Spells Trouble for Creatives: Challenges and Opportunities - The increasing presence of AI in creative fields has sparked quite a conversation lately.',\n",
       " 'Startups challenge culture of the Japanese salaryman',\n",
       " 'Company Led by Former NYSE President Buys Crypto News Site CoinDesk',\n",
       " 'Vogt resigns as CEO of Cruise following safety questions',\n",
       " 'Lockheed Martin Jets into Nuclear Electrical Spacecraft Power',\n",
       " 'How to Understand and Communicate AI Trends for Data Visualization - Leveraging numeric and categorical data analytics using bar, histogram, and visual illustrations.',\n",
       " 'Okta’s breach investigation missed key information for two weeks. -',\n",
       " 'Acing the Data Science Interview: Words of Wisdom From Past Data Science Interns - Lillian Jiang\\u200a—\\u200aData Science intern at JP Morgan',\n",
       " 'Zoomable JWST Image Brings Far-Distant Galaxies to Your Fingertips',\n",
       " \"Trying to debug this code...React-DND to have have multiple sortable lists - This code appears to be breaking...and I was hoping someone could assist me in understanding the fix. This isn't my code, but is the same concept of what I need to do, which is make multiple lists work with each other. I tried adding a return for line 160 if `!item?.id`was undefined, otherwise continue with rendering the card, and while that removes the white screen of death, the lists seem to\",\n",
       " 'Show HN: Beta test Execute Program\\'s interactive \"Python for Programmers\" course',\n",
       " 'Show HN: Bitemporal, Binary JSON Database System and Event Store',\n",
       " 'Orchestrating Cloud Resources with ArgoCD and Terraform - Automating ArgoCD using Terraform',\n",
       " \"What's the next step after you have a MVP? - I work in software, have some good experience now and really want to get into this world with an idea that I have been working for a while. I have made a basic MVP  working after my day job and now I am completely clueless about where to go with it and what to do? Does anyone have some suggestions?\",\n",
       " 'ArtistAssistApp - open source web app to paint better with ease - Hey everyone I want to share with you my open source project for artists. ( is the web app to paint better with ease. It provides tools for realistic color mixing based on real paints, tonal value drawing, simplified sketching, and more. * Import your own photos, select any desired color directly from the image, and learn how to mix i',\n",
       " 'Understanding Priority Order in Mathematical Operations with Python - In the world of programming, mathematical operations are the building blocks of every algorithm and script. Understanding the priority…',\n",
       " 'How I Tripled My Earnings AGAIN on Medium - Just two simple changes in my daily routine created 534% Growth',\n",
       " 'I think GCP is better than AWS nandovillalba.medium.com',\n",
       " 'Pump Up Your Profits: Using Analytics to Scale Business Growth - You’ve launched your startup and gained some initial customers. Now it’s time to scale up success methodically. Sustainable growth rarely…',\n",
       " 'Dealing With Single-File Databases in Python - # Introducing sqlite3 for beginners',\n",
       " 'Javascript is Single Threaded, but Your Browser Does This - You may already know how to write Javascript Workers and how they enable us to perform different tasks at the same time using different…',\n",
       " 'How to Mint Fungible Tokens in JavaScript Using Agoric - Non-fungible tokens  have taken the world by storm.',\n",
       " 'New Evidence We Are Entering an Ice Age Termination Event',\n",
       " \"Top 10  Python libraries for any ML projects  - TL;DR In this article, I’ll give you the ultimate Python libraries for any Machine Learning project: the must-know libraries for each step of the machine learning cycle - EDA, data cleaning, data engineering, modeling, etc… all open source all python Full application 1. Taipy Let's start by talkin... + tags: machinelearning, python, opensource, datascience\",\n",
       " 'vanillawebprojects - Mini projects built with HTML5, CSS & JavaScript. No frameworks or libraries - 20+ Web Projects With Vanilla JavaScriptThis is the main repository for all of the projects in the course.Course LinkCourse Info Website#ProjectLive Demo01Form ValidatorLive Demo02Movie Seat BookingLive Demo03Custom Video PlayerLive Demo04Exchange Rate CalculatorLive Demo05DOM Array Methods ProjectLive Demo06Menu Slider & ModalLive Demo07Hangman Game',\n",
       " 'Terragrunt\\u200a—\\u200athe Terraform Wrapper - Terragrunt is a lightweight wrapper for Terraform, which makes it easier to manage complex, multi-environment and multi-module…',\n",
       " 'Rest Pattern and Parameters - Moving on let’s now talk about the rest pattern and also rest parameters and the rest pattern looks exactly like the spread operator. So it…',\n",
       " 'Microservices - In this article we will be discussing about the Microservices compared to the monolith architecture and the characteristics of Microservices and Microservice ecosystem. Microservices is about the development of a larger application as a suite of modular services. each module supports a specific busi... + tags: microservices, architecture, microserviceecosystem, microservicearchitecture',\n",
       " \"nocode - The best way to write secure and reliable applications. Write nothing; deploy nowhere. - No Code No code is the best way to write secure and reliable applications. Write nothing; deploy nowhere. Getting Started Start by not writing any code. This is just an example application, but imagine it doing anything you want. Adding new features is easy too: The possibilities are endless. Building the Application Now that you have not done anything it's time to build your application: Yep. That's it. You should see the following output + topics: \",\n",
       " 'Co-Founder not engaging on launch day and not being pro-active - Hi! I am a co-founder of an early stage startup in the AI business. We are a team of 5 co-founders, 2 designers, 2 programmers and 1 business focused. Me and one of our co-founders have worked on the business since july 2022. We have worked all by ourselves until january, having the 3 join us later in time. We shared 20% each. Yeah, huge mistake. We re-developed the app and launched it together in the store and some of our co-founders, the ones that joined later, aren’t being pro-active in their areas, almost like workers who doesn’t have a boss. The business today is mainly moving forward by our initial co-founders efforts. What should we do?',\n",
       " 'Power Bi: Why Is My Slicer Not Working? - In this blog post, I’ll explore common reasons why slicers may not be working in Power BI.',\n",
       " 'Editor in Chief of eLife replaced for retweeting The Onion tweet about Palestinetwitter.com/mbeisen',\n",
       " 'notebooks - Examples and tutorials on using SOTA computer vision models and techniques. Learn everything from old-school ResNet, through YOLO and object-detection transformers like DETR, to the latest models like Grounding DINO and SAM. - notebooks inference autodistill collect hello Over the years we have created dozens of Computer Vision tutorials. This repository contains examples and tutorials on using SOTA computer vision models and techniques. Learn everything from old-sch + topics: amazon-sagemaker-lab, automatic-labeling-system, computer-vision, deep-learning, deep-neural-networks, google-colab, image-classification, image-segmentation, machine-learning, object-detection, open-vocabulary-detection, open-vocabulary-segmentation, pytorch, tutorial, yolov5, yolov6, yolov7, yolov8, zero-shot-classification, zero-shot-detection',\n",
       " 'Beyond Text Generation: Five Unexpected Uses for ChatGPT - Unlocking ChatGPT’s Potential: Daily Tasks That Benefit from AI Assistance',\n",
       " 'Poll: Do you have a ChatGPT Plus subscription right now?',\n",
       " 'Using Remote Control To Understand Design Patterns in Swift - Explaining the Design Pattern in Swift with a Real-world Analogy',\n",
       " 'Elon Musk says AI will eventually create a situation where ‘no job is needed’ - As we stand on the brink of technological revolution, artificial intelligence is rapidly advancing, promising to redefine the future…',\n",
       " 'Probe network – how we make sure our data is accurate',\n",
       " 'Demystifying Autoencoders: Simplifying Complex Data with Magic Compression - Introduction - What are autoencoders?',\n",
       " 'Architecting for Resilience: Crafting Opinionated EKS Clusters with Karpenter & Cilium Cluster Mesh — Part 1 - Welcome to the future of digital ecosystems, where robustness meets unparalleled innovation! We’re about to dive into a world where Amazon’s Elastic Kubernetes Service isn’t just a service; it’s an unbreakable, scalable fortress! Wondering how? We’re mixing it up with Karpenter to provide a... + tags:',\n",
       " 'Ask HN: Help me. Should I build a REST API security scanner?',\n",
       " 'StyleTTS 2: Towards Human-Level Text-to-Speech through Style Diffusion and Adversarial Training with Large Speech Language Models -',\n",
       " 'Dealing with Cache Avalanche to Safeguard Your System -',\n",
       " 'Unveiling the Role and Responsibilities of a Data Scientists - Data science is a dynamic and integral field in today’s data-driven world. At the forefront of this domain are data scientists, who play a…',\n",
       " 'I Published My First Python Library for Medical Imaging! - Happy to share my latest work with the medical imaging community',\n",
       " 'Time Travel with AI: Adobe’s Res-Up Tool Restores History - Discover How Adobe’s AI-Upscaling Tool Breathes Life into Old Videos',\n",
       " 'Building a React Native App: Joke of the Day - React Native is a framework that allows you to create native mobile apps using JavaScript and React. In this article, we will learn how to…',\n",
       " 'The AI Profit Battle\\u200a—\\u200aWho’s Leading? - Sign Up\\u200a—\\u200aAdvertise',\n",
       " 'Climate researcher pushed the limits of low-carbon travel',\n",
       " 'Processing Terabyte-Scale NASA Cloud Datasets with Coiled - How to run existing NASA data workflows on the cloud, in parallel, with minimal code changes.',\n",
       " 'Data Engineering Roadmap 2023 - Introduction Data engineering is a crucial field within the broader realm of data science and analytics. It involves the collection, transformation, and storage of data to make it accessible and useful for analysis. As a beginner in data engineering, you may feel daunted and wonder how to get starte... + tags: datascience, dataengineering, data, beginners',\n",
       " 'Major Tech Companies Push for Users to Take Responsibility With Generative AI - Photo by Gertrūda Valasevičiūtė on Unsplash',\n",
       " 'The ABCs of Text Corpora: Understanding Language with Words - In the realm of natural language processing  and linguistic analysis, text corpora stand as invaluable reservoirs of written and…',\n",
       " 'Cruise, GM’s robotaxi service, suspends all driverless operations nationwide - ',\n",
       " \"From 0 to scale launching Conversational AI Platform - Product Manager's Lessons learned\",\n",
       " 'UN says new polio outbreak in Sudan caused by oral vaccine',\n",
       " '500 chatbots read the news and discussed it on social media. Guess how that went. -',\n",
       " 'Sad state of affairs in AI: Jeremy Howard remorseful',\n",
       " \"I keep reading that people with no coding skills are publishing their app ideas with the help of GPT. How tf? - And how can I do this? I haven't written a mobile app in atleast 7 years. But even then you needed more than a stable code base. GUI, I&amp;A, svc,DB, Persistence, AppStore mgmnt, publishing, monitoring... etc Even the shitiest app will need most of these. AI assistance has helped me a lot with coding and other questions recently. I get it. But only because I know when it's giving me a good solution. It's a lot of back and forth until you get something robust. And if you're not familiar with certain concepts it's like the blind leading the blind going through rabbit holes. Can anyone tell me how someone with no dev experience can pull this off ? I want to build a proof of concept app with as little effort as possible and utilize all these fancy new ai gadgets.But I just don't understand how I'd coerce an AI to write me an app and it's environment .\",\n",
       " 'Unleashing the Power of Language Models: Balancing Scale and Specialization - In the ever-evolving realm of natural language processing, the emergence of Large Language Models  has been nothing short of…',\n",
       " 'An AI Guide to Studying Algorithm and Data Structures',\n",
       " 'OpenAI CEO Sam Altman Ousted Amid Concerns Over His Leadership - In a shocking development, OpenAI has announced that CEO Sam Altman has been fired from his position leading the prominent artificial…',\n",
       " 'My open-source Q&amp;A software successfully entered Apache Incubator -',\n",
       " 'Guiding Principles for Feature Selection in Machine Learning - Introduction',\n",
       " 'MaaS surveillance: Privacy considerations in mobility as a servicesciencedirect.com',\n",
       " \"Box Python Next Gen SDK: Getting started with OAuth 2.0 - Box released a generated Python SDK a couple of months ago for beta testing. With these new SDK's you get full API support, fast API…\",\n",
       " 'Apple Plans Hypertension, Sleep Apnea Detection for Next Watch',\n",
       " 'Why Apple Is Content with the Blue Bubble Divide in iMessage',\n",
       " 'How to Change the Default Port Number in React: React Tips - Introduction',\n",
       " 'Key Takeaways from dbt Coalesce 2023 - From October 16th to 19th, dbt’s Coalesce transformed the Hilton San Diego Bayfront into a hub for data enthusiasts. Drawing a global crowd…',\n",
       " 'Cyber hunt – A technical adventure for Unix enthusiasts',\n",
       " 'Ask HN: What do you think about a roadmap builder tool?',\n",
       " 'GRID-playground - Platform for General Robot Intelligence Development - General Robot Intelligence Development GRID is a platform for rapid infusion of safe intelligence into robotic platforms built by Scaled Foundations.GRID aims to be a platform for rapid prototyping of AI capabilities for robotics through foundation models and simulation. At the core of GRID is a Foundation Mosaic, a combination of several foundation models for perception, state estimation, safety, and control. An orchestration and reasoning layer powered by large language models allows f',\n",
       " 'Dengue rates plunged after release of lab-altered mosquitoes',\n",
       " 'boost - Super-project for modularized Boost - Boost C++ LibrariesThe Boost project provides free peer-reviewed portable C++ source libraries.We emphasize libraries that work well with the C++ Standard Library. Boostlibraries are intended to be widely useful, and usable across a broad spectrumof applications. The Boost license encourages both commercial and non-commercial useand does not require attribution for binary use.The project web',\n",
       " \"Help with Wordle project in c++ - Hey all, I'm working on this c++ project for a class and I got stuck on a requirement I didn't see before starting. The program needs to be able to account for words with multiples of a letter. For example, if the answer word is HYPER and the player inputs RESET, the proper response from the game should be RESET where the first R is yellow and the second E is green. My program outputs the first E\",\n",
       " \"Log-Structured Merge Tree Implementation - Hey everyone, I wanted to share a project I've dedicated some time to - my Java implementation of a Log-Structured Merge Tree. The repository includes a skip list implementation and an SSTable built entirely from scratch. The tree performs background flushing to disk and table compaction. I'm open to any questions or discussions, so feel free to reach out!\",\n",
       " 'Investing In The Stock Market - Had you invested in real estate  over the past 30 years or so you would have done very well.',\n",
       " 'Odd Occurring Element Problem IV - Given an integer array where every element appears an even number of times, except one element which appears an odd number of times. If the…',\n",
       " 'Git Revert: How to the complete guide - In this article we are going to learn how to revert a single file in the Git file system Here is what we are going to learn reverting a commit: Step-by-step guide . Handling conflicts that arise during a revert. Reverting a revert. Reverting multiple commits. Reverting commi... + tags: javascript, webdev, git, github',\n",
       " 'Sam Altman: top priority remains to ensure OpenAI continues to thrive',\n",
       " 'Does anyone know whether function parameters are faster than using global variables? -',\n",
       " 'Windows | Qualcomm Announces Snapdragon Elite X Processor for Laptops - Qualcomm, the world’s largest CPU manufacturer for Android devices, enters the desktop-class CPU market for PCs.',\n",
       " 'Launching My Raspberry Pi-powered Dark Web Presence: A Journey into the Deep, One Step At A Time - In the world of tech enthusiasts and hobbyists, Raspberry Pi has earned its reputation as a versatile and affordable computing device. From…',\n",
       " 'Getting Started with Go\\u200a—\\u200aLearn to become a Go Developer -  Welcome to the first blog post in our ‘Learn to become a Go Developer’ series! In this post, we’ll dive into the fundamentals of Go…',\n",
       " 'NextJS\\u200a—\\u200aThe Introduction You Need! - NextJS for Newbies',\n",
       " \"I quit my job as Google's Chief Decision Scientistkozyrkov.medium.com\",\n",
       " 'CountVectorizer to Extract Features from Texts in Python, in Detail - Everything you need to know to use CountVectorizer efficiently in Sklearn',\n",
       " 'Israel to test Iron Beam laser system on Hamas missilescalcalistech.com',\n",
       " 'Forget the outside hacker, the bigger threat is inside by the coffee machine - ',\n",
       " '4 Essentials of Naïve Bayes Algorithm for Machine Learning Beginners - Naïve Bayes for ML Beginners',\n",
       " 'Papers Explained 66: GPT-3 - GPT-3 is an autoregressive language model with 175 billion parameters, 10x more than any previous non-sparse language model. It…',\n",
       " 'Operating an Entire Company on a Minimal Two-Core PostgreSQL Instance, Part 1',\n",
       " 'Passing AWS Credentials Into a Container - ACM.342 Assuming a role that requires MFA and passing short term credentials to a container to use them',\n",
       " 'Day 4\\u200a—\\u200aSorting Algorithms and their Big O Analysis - An Introductory Glimpse into Sorting Algorithms and Big O Notation',\n",
       " \"TTS - :robot: :speech_balloon: Deep learning for Text to Speech (Discussion forum:  - TTS: Text-to-Speech for all. TTS is a library for advanced Text-to-Speech generation. It's built on the latest research, was designed to achieve the best trade-off among ease-of-training, speed and quality. TTS comes with pretrained models , tools for measuring dataset quality and already used in 20+ languages for products and research projects. English Voice Samples and SoundCloud playlist TTS training recipes Text-to-Speech paper collection + topics: dataset-analysis, deep-learning, gantts, glow-tts, melgan, multiband-melgan, python, pytorch, speaker-encoder, speech, tacotron, tacotron2, tensorflow2, text-to-speech, tts, vocoder\",\n",
       " 'CRISP-DM - Hello, this is my first English Medium article. I want to explain the CRISP-DM methodology which is frequently used in data science…',\n",
       " 'Avoid These 75 Common R Coding Mistakes for a Successful Data Science Project - Here’s a list of 50 common coding mistakes in R for data science. Understanding these mistakes can help you improve your R coding skills…',\n",
       " 'Train_Custom_Dataset -  - AI  GPU GPU RTX 3060CUDA v11.2  PytorchImageNet Pytorch ht + topics:',\n",
       " 'Amazon is getting rid of its gaming content channel amid larger games layoffs',\n",
       " \"How can I create a avatar/voice model for someone who is passed away - My partner's dad unfortunately passed away when she was a little girl. However, he has left a stack of old VHS tapes. I am wondering what is the best way I can create a model of him  to come up with a nice message for my partner. She attempted to do this herself with no success. Any guidance on how to achieve this would be\",\n",
       " 'What form of social media is the most effective to promote your company? -',\n",
       " 'zero123plus - Code repository for Zero123++: a Single Image to Consistent Multi-view Diffusion Base Model. - Zero123++: a Single Image to Consistent Multi-view Diffusion Base ModelReport Official Demo Demo by @yvrjsharma Google ColabGet StartedYou will need torch , diffusers , and transformers to start. If you are using torch 1.x, it is recommended to install xformers to compute attentions in the model efficiently. The code also runs on older versions of diffusers, but you may see a decrease in model performance.And you are all set! We provide a custo',\n",
       " 'Tracking the current active process in Windows with Rust',\n",
       " 'AI and the accessibility revolution - AI has proven to be a transformative force across various industries, but one area where its potential is promising is accessibility',\n",
       " 'From AI to sustainability, why our latest data centers use 400G networking',\n",
       " 'Demystifying AI Decisions: The Power of Explainable AI  - Unlocking the Secrets of AI Models and Building Trust with Transparency',\n",
       " 'King Charles III signs off on Online Safety Act with unenforceable spying clausetheregister.com',\n",
       " 'Two Sum Problem - Given an unsorted integer array, find a pair with the given sum in it.',\n",
       " 'Managing Python Dependencies with Git Submodules and Git LFS - Managing dependencies is a crucial aspect of any software development project. In the Python ecosystem, dependency management is typically…',\n",
       " 'How to Containerize Your Java Application - Play with Your Java Application Docker Containers',\n",
       " \"Celebrating What's Right with Aging: Inside the Minds of Super Agers\",\n",
       " 'Apple Repurposes Large Language Models for Reinforcement Learning challenges in Embodied AI - Large Language Models have ushered in an era of unparalleled language understanding capabilities, raising the possibility of…',\n",
       " 'Kazo, a Top Taiwanese Bakery in Singapore, Implements Decision Tree Analysis for Production… - Part 2 of Operational Analytics for KAZO by Dr. Alvin Ang',\n",
       " 'Real-time Options for my WebGL Engine\\u200a—\\u200aNew User Interface Elements - Sparrow WebGL Devlog 12: Sky, lighting, fog, and water options with new UI features',\n",
       " 'Automate AWS Resource Deployment with GitHub to Save on Cloud Costs - In cloud computing, optimizing costs is crucial. A significant portion of cloud bills results from underutilized resources running during…',\n",
       " 'Nokia SR Linux: Open and extensible network OS based on standard Linux kernel',\n",
       " 'Rxjs Operator 10: CombineLatest Operator - Previous Blog RXJS Operator 09: timer Operator',\n",
       " 'Data Magic with Pandas: Your Go-To Weapon for Data Manipulation Mastery\\u200a—\\u200aPart 7 - Week 12 Blog 23\\u200a—\\u200aUnlocking Data Diversity: Data Magic with Pandas Series\\u200a—\\u200aLoading Various Data Types',\n",
       " 'Understanding Bound Functions in JavaScript - Bound functions in JavaScript are a crucial feature for managing the scope of the this keyword. The this context in JavaScript can be…',\n",
       " \"Hackers are exploiting 'CitrixBleed' bug in the latest wave of mass cyberattacks\",\n",
       " 'Meta Thinks Your Privacy Is for Sale. Would You Pay 120 Euros a Yeartutanota.com',\n",
       " 'Subspace: Connecting Humans and AI through Web3 - In Subspace’s recent ecosystem call to the community, we touched on some exciting developments at Subspace Labs. Central to the discussion…',\n",
       " 'StyleTTS2 – open-source Eleven-Labs-quality Text To Speech',\n",
       " 'Reddit Clone App Deployment with DevSecOps | Ingress - Hello friends, we will be deploying a React Reddit-clone. We will be using Jenkins as a CICD tool and deploying our application on a Docker…',\n",
       " 'tech-interview-handbook -  Curated coding interview preparation materials for busy software engineers - Tech Interview Handbook Read on the website Join/follow us on Discord | Twitter | Telegram | Facebook What is this?Not everyone has the time to do a few hundred LeetCode questions. Here are free and curated technical interview preparation materials for busy engineers, brought to you by me, the author of Blind 75. Over 500,000 people have benefitted from this handbook!Besides the usual algorithm questions, other awesome stuff includes:Best practice q',\n",
       " 'Old Unix programs running on modern computersgithub.com/rsc',\n",
       " 'A shortage of teachers for computer science classes in California',\n",
       " 'SQL for Business Intelligence: Turning Data into Insights - Step-by-Step Guide',\n",
       " 'The 10 Best Python Libraries for Machine Learning in 2023 - Machine learning has transformed the way we build software and analyze data.',\n",
       " 'Deep Neural Network vs Sparse Neural Network || Benefits of using Sparse Neural Network|| - A Deep Neural network is one where all the neurons are fully connected to each other, while in case of Sparse Neural network connection is…',\n",
       " 'Transforming Financial Decision-Making - Duplicate Detection in Financial Audits',\n",
       " 'OSINT Lesson №3: AI, ChatGPT & Choosing a Pathway to Follow - Information has enormous power in the modern digital age, and access to it is now essential in many different fields…',\n",
       " 'Scripting Marvels: Python, Bash, and the Cloud - My Expedition into Automation’s Realm, from Python to Cloud Mastery and Beyond',\n",
       " \"Bats don't use their for penetration – so what's it for?\",\n",
       " 'Using Cypress Node.js Test Framework with node-oracledb - After we released the node-oracledb 6.0 driver for Oracle Database with the highly anticipated ‘Thin mode’, Node.js developers started…',\n",
       " 'Three Important Questions to Ask Yourself When Starting a Data Science Project - Focus your thinking to achieve your end goal',\n",
       " 'How To Use AI For Sales To Boost Your Bottom Line - You’ve got the strategy, the product, and the drive. Yet, you find yourself staring at the ceiling at 2 a.m., worried about hitting this…',\n",
       " 'Photomolecular effect leading to water evaporation exceeding the thermal limit',\n",
       " 'A Data & Analytics Self-assessment Chatbot with LangChain and Chainlit - This story is about a data & analytics self-assessment chatbot I have worked on based on LangChain and Chainlit. This bot asks a potential…',\n",
       " 'A Journey Through Life’s Rich Tapestry - Photo by NordWood Themes on Unsplash',\n",
       " 'The James Webb Telescope is a giant leap in the history of stargazing',\n",
       " 'Serverless Computing with Python: Scalability and Efficiency - Serverless computing has rapidly transformed the way we build and deploy applications. With the power of Python at your fingertips, you can…',\n",
       " 'Big question about Autoscaling on AWS - Folks, I have this below scenarios- 1. I have an **EC2** with Django app running in production 2. It is having **RDS** connectivity with **Inbound Security Rule enabled** for production database. 3. It has **load balancer** attached 4. I have to do **git pull** on server for new deployments for Django. My requirement is how should I achieve smooth **autoscaling** for the EC2 Django whe',\n",
       " '100 Mind-blowing Things You Need To Know About Voice Assistants And Their Future - Voice assistants are software programs, usually powered by artificial intelligence  and natural language processing  technologies…',\n",
       " \"Hello I have issue with my code  - My code don't wanna take public method from my public class :/ code 2 doesn't seems to find method form code 1.Here is code: Oh also error showing is: The method dane is undifined for the type Main code 1 package zadanie\\\\_3; import java.util.Scanner; public class Person { public static void dane { System.out.println; for { Scanner take = new Scanner; String firstN = take.nextLine; } } } code 2  package zadanie\\\\_3; public class Main { public static void main { dane; } }\",\n",
       " 'AI’s challenge of understanding the world | Science -',\n",
       " 'Simplificando a Transformação de Dados no Redshift: Uma Abordagem com DBT e Airflow - Vamos transformar e modelar dados armazenados no Redshift com uma abordagem simples e eficaz através do uso do dbt e Airflow. Para que…',\n",
       " 'The challenges of Artificial Intelligence applied to journalism - The Ibero-American Congress “More women, better journalism” reflected on the impact of new tools in the communication industry. “No…',\n",
       " \"For Hollywood, AI is a threat. For these indie filmmakers, it's a lifeline\",\n",
       " 'Activate the Nexus App’s Potential: Your Passport to Free Traffic and Simple Earnings - Are you sick and weary of using the same old strategies to get people to your offerings or website? Seeking a fresh and exciting approach…',\n",
       " 'Recommendation algorithm manipulation via mass blocksgithub.com/twitter',\n",
       " 'Five Tips to Improve your Binary Classification Modeling - Note: I believe it should be free and readily available for everyone to gain value from data, hence I pledge to keep this series free…',\n",
       " 'Tech layoffs: Google, Amazon, Snap and Zillow announce new job cuts',\n",
       " 'Coding tip: Isolate your tools - Yesterday I wrote about being tool-agnostic within your given niche.',\n",
       " 'Cisco 5520 and 8540 WLC Bug - Recently when trying to upgrade from 8.5.x.x to 8.10.x.x code we ran into bug CSCvo33873 ( , Cisco Advanced Services, Cisco TAC and myself have tried many work arounds to get this thing alive again but no luck. We have tried upgrading the CIMC version, replacing the SD card in the chassis with a new one, and copying the drive to the ne',\n",
       " 'Dijkstra’s algorithm weighted by travel time in OSM networks - Finding the fastest and shortest path with the OSMNX 1.6',\n",
       " 'Ask HN: How to start a career in the aerospace industry?',\n",
       " 'Basics of JavaScript Functions - Functions allow you to group a set of statements to perform a specific task, making your code more modular and easier to manage.',\n",
       " 'Your Thoughts as Your Keys: The Promising Future of Neural Passwords - “The idea of using our thoughts and brain activity as a means of authentication and access control has long fascinated researchers and the…',\n",
       " '5 Things that Helped Me Get an Offer in the Midst of the 2023 Recession\\u200a—\\u200aPart 2 - If you haven’t already read my first article about some tips that helped me, please go give it a quick read before reading the second part!',\n",
       " 'How to pass the AWS Machine Learning Speciality Exam & Other AWS Certification Exams - In 2023, I passed the AWS Certified Machine Learning, earning my first Specialty exam certification. Here’s how I did it!',\n",
       " 'Joan of Freaking Arc, a Final Jeopardy Post-Mortem',\n",
       " 'Time-Poor Cybersecurity Professional’s Guide: Edition V. - Cybersecurity Professional’s weekly review for the week starting from 2023/10/18 to 2023/10/24.',\n",
       " 'Papers Explained 65: GPT-2 - GPT-2 demonstrates that language models begin to learn various language processing tasks without any explicit supervision. GPT-2 is trained…',\n",
       " \"Moody's changes outlook on United States' ratings to 'negative'\",\n",
       " 'How to Write a Smart Contract in Solidity\\u200a—\\u200aThe Ultimate Guide  - Are you ready to dive into the exciting world of blockchain and smart contracts? If you’re looking to empower yourself with the knowledge…',\n",
       " 'Common cat-borne parasite is positively associated with frailty in older adults',\n",
       " 'Show HN: Korl.co - Product presentations tailored to each audience in secondskorl.co',\n",
       " 'Voters Overwhelmingly Pass Car Right to Repair Law in Maine',\n",
       " \"The New Headache for Bosses: Employees Aren't Quitting\",\n",
       " 'Google ends deal to build 15,000 Bay Area homes due to \"market conditions\"',\n",
       " 'The Gasoline-Powered Leaf Blower as a Metaphor for Industrial Society',\n",
       " 'Design Patterns in Ruby | ABSTRACT FACTORY - Abstract Factory is a creational design pattern that allows you to create similar objects without specifying their classes. It is the…',\n",
       " 'The Power of Python: Calculating Exponents and Remainders - In the world of Python, we often encounter mathematical challenges that push the boundaries of what this versatile language can do. Today…',\n",
       " 'How Closed-Loop Transcription works part2 - Closed-Loop Transcription via Convolutional Sparse Coding',\n",
       " 'Exploring the Heart of AI: Neural Networks, Machine Learning, and Deep Learning - ',\n",
       " 'Data Quality Assessment in SQL: Unleashing the Power of Data Analysis - In the realm of data analysis, ensuring the quality of your data is paramount. Poor data quality can lead to misguided insights and…',\n",
       " 'Largest Square Submatrix Problem II - Given an `M × N` binary matrix, find the size of the largest square submatrix of 1’s in it.',\n",
       " 'Tesla Emerges Victorious in First Major Self-Driving Lawsuit',\n",
       " '20 Strategies for LeetCode Mastery - Practicing on LeetCode can be an effective way to improve your problem-solving skills, algorithmic knowledge, and coding proficiency. Here…',\n",
       " 'Tell HN: LinkedIn suspended my account for engaging with a spam recruiter',\n",
       " 'Creating a multi-stage data processing pipeline using PyAthena in AWS - Intro',\n",
       " '10 Powerful Free AI Tools and Their Uses - Photo by Michael Dziedzic on Unsplash',\n",
       " '10 Things I Stopped Doing After Learning How To ChatGPT - As an AI enthusiast and a tech-savvy individual, my journey into the world of artificial intelligence and natural language processing has…',\n",
       " 'OpenAI’s Meteoric Rise: In Talks to Sell Shares at an $86 Billion Valuation. - Credit Pinterest.',\n",
       " 'US Military gives Lockheed Martin $33.7M to develop nuclear spacecraft',\n",
       " \"What's new in WCAG 2.2 - Whats a WCAG? What you on about? The WCAG  is the guide for designing and building accessible applications. It has a number of success criteria over a number of categories and in 2023, there really is not much of an excuse to ignore these guidelines not just bec... + tags: a11y, web\",\n",
       " 'Sort With Young Tableau Problem - Given an integer array, in-place sort it using Young tableau. You are given a utility class YoungTableau with the following public member…',\n",
       " 'Onboarding people with no funding - I am part of a project that the past year or so has become somewhat of a startup. Me and my cofounder have launched a basic MVP and got some traction and a few signups but the MVP was crap. Now we want to take it to the next step and actually build a product but there is a small problem. My cofounder does not really have any skills that can be of any use to the startup so he cant really contribut',\n",
       " '21 Best JavaScript And CSS Library In 2023 For Web Development - Explore the best 21 JavaScript and CSS libraries for your web development projects.',\n",
       " 'The Clearest Sign yet That Commercial Real Estate Is in Trouble',\n",
       " '5 Things You Must Know About NPM Before Using It - If you are a node.js developer or aspire to be one npm is just a big part of your daily job, so here I listed the 5 most crucial things to…',\n",
       " 'One Year After Musk Acquired Twitter for $44 Billion: Went All Out to “CloudExit”, the Cost Dropped… - It has been exactly one year since Musk completed the privatization transaction of Twitter  for $44 billion on…',\n",
       " 'Docker Containers and Virtual Machines Explained - In the landscape of modern technology, two important concepts that often emerge are Docker Containers and Virtual Machines . They are…',\n",
       " 'OpenBSD: Disruptive Amd64 Snapshot Comingundeadly.org',\n",
       " 'AI: The Alarmists are Worried about the Wrong Thing - AI: The Alarmists are Worried about the Wrong Thing',\n",
       " 'Text Normalization in NLP - A Deep Dive into Preprocessing Techniques and Their Pivotal Role in Natural Language Processing',\n",
       " 'Is it worth it to leave the federal side? - Currently working on the federal side as a jr network admin. I am 33 and have been in the federal field for almost 14 years now, with almost 6 years being a 2210 network admin. I have Security+ and CCNP, and beginning to work towards CCNP Security. There have been a lot of shifts in our department with people leaving and taking other promotions. Because of that, I am about to take a senior role a',\n",
       " 'Show HN: AllGPTs.co – world largest custom GPT directory',\n",
       " 'proto is a pluggable toolchain for managing your favorite programming languages -',\n",
       " 'For Altman to come back, board must issue statement absolving him of wrongdoing',\n",
       " 'ValueError: Expected 2D array, got 1D array instead  - occurs when we pass a 1-dimensional array to a function that expects a 2-dimensional array.',\n",
       " 'Scala\\u200a—\\u200aPattern Matching - Pattern matching is a powerful feature in Scala that allows you to destructure and match values against patterns, making it a concise and…',\n",
       " 'Pattern Matching AI: The New Frontier of Programming - In the vast world of computer science, the advent of Pattern Matching AI  signals a paradigm shift in the way we conceive of…',\n",
       " 'segment-anything - The repository provides code for running inference with the SegmentAnything Model , links for downloading the trained model checkpoints, and example notebooks that show how to use the model. - Segment Anything Meta AI Research, FAIR Alexander Kirillov , Eric Mintun , Nikhila Ravi , Hanzi Mao , Chloe Rolland, Laura Gustafson, Tete Xiao , Spencer Whitehead , Alex Berg, Wan-Yen Lo, Piotr Dollar , Ross Girshick       The Segment Anything Model  produces high quality object masks from input prompts such as points or boxes, and it can be used to generate masks for all objects in an im + topics: ',\n",
       " 'VICSEED Cell Phone Holder Car: The Ultimate Mounting Solution for Your iPhone 15/14/13/12\" - Amazon Product link ',\n",
       " '2 Ways Python Can Help You To Make $100 Per Day! - Python: Your daily dose of $100, with a side of code! ',\n",
       " \"Google Photos' AI Magic Editor won't change pictures of ID receipts faces bodies\",\n",
       " 'Biological age predicts dementia and stroke regardless of actual age – new study',\n",
       " 'C# vs. C++\\u200a—\\u200a Which Programming Language Should You Use for Game Development in 2024? - Game development is a challenging and rewarding field that requires a lot of creativity, skill, and passion. However, before you can start…',\n",
       " 'Pros, Cons, and traps of EC2 Instance Start and Stop Schedules with AWS Lambda - Managing EC2 instances efficiently through automated start and stop schedules is a best practice for optimizing cloud resources. By using AWS Lambda functions and tags on EC2 instances, you can automate the process and save on costs. In this article, I will try to highlight some of the advantages, d... + tags: ec2, lambda, automation, devops',\n",
       " \"How to go about creating an NLP interface to retrieve information from a huge datastore that's being frequently updated - What's the tech being used to build this sort of a thing where users can ask questions in natural language about data in a data store that's constantly being written to with new information\",\n",
       " \"protobuf.js - Protocol Buffers for JavaScript . - Protocol Buffers are a language-neutral, platform-neutral, extensible way of serializing structured data for use in communications protocols, data storage, and more, originally designed at Google . protobuf.js is a pure JavaScript implementation with TypeScript support for node.js and the browser. It's easy to use, blazingly fast and works out of the box with .proto files! Contents Installation How to include protobuf.js in your project. Usage A brief + topics: javascript, protobuf, protocol-buffers, serialization, typescript\",\n",
       " 'DF59 Completes and DF60 Launches - Stakers can claim DF59 rewards. DF60 runs Oct 19\\u200a—\\u200aOct 26, 2023',\n",
       " \"The free weekly travel newsletter unlocking the world's best-kept travel secretsportertravel.co.uk\",\n",
       " 'Success and Error Handling Simplified with ResultJS - Introduction',\n",
       " 'Ask HN: What is a subscription, software or product that you gladly paid for',\n",
       " 'Community Solar Is Growing to Fill the Gaps in Clean Energy -',\n",
       " \"SD Card Filesystem corrupt, how to fix? - I accidentally ssh'd into my rasberry pi and copied a folder that was too big, now my HDD boots up to busybox when it starts up and can't fun fsck on it because it is in read only mode or something, how do I fix this mahoutsukai /var/www 1948 : sudo cp ( ( cp: -r not specified; omitting directory '[tae\",\n",
       " 'Expectations For Entry Level Developers are SkyRocketing - What the fuck is happening at all the top companies?',\n",
       " 'Understanding SQL Data Types: Numeric Data Types - When it comes to working with databases, it’s essential to have a solid understanding of numeric data types. SQL (Structured Query…',\n",
       " 'Unleashing Your Creativity: Riding the AI Wave to Fulfill Your Dreams -',\n",
       " 'Machine Learning: Dimensionality Reduction - Dimensionality reduction is a technique used in machine learning and statistics to reduce the number of input variables or features in a…',\n",
       " \"Bitcoin miners running up Texans' electricity billshoustonchronicle.com\",\n",
       " 'Is Tech Still the Boys Club? - Asking questions like “why is tech industry still a man’s field?” may seem funny to most of the people',\n",
       " 'Unleashing the Power of Generative AI: Remixing Digital Commerce Expectations - In an era where digital commerce reigns supreme, businesses are continually seeking innovative ways to capture the attention of their…',\n",
       " \"Show HN: How we built an AI copilot for Windmill's code workflows\",\n",
       " 'Chameleon: Enabling Adaptive Reasoning for AI through Dynamic Tool Composition - Artificial intelligence has made remarkable strides in recent years, with large language models like ChatGPT showcasing impressive natural…',\n",
       " 'Lemming Suicide Myth: Disney Film Faked Bogus Behavior',\n",
       " 'GeoPandas Tutorial: Geospatial Data Handling and Visualization - Spatial data, encompassing Earth Observation, GPS, and mapping information, plays a significant role in our daily data landscape. Each data…',\n",
       " 'Advancing Long-Context LLMs: Meta’s Game-Changing Methodology -',\n",
       " 'tsai - Time series Timeseries Deep Learning Machine Learning Pytorch fastai | State-of-the-art Deep Learning library for Time Series and Sequences in Pytorch / fastai - tsai Description State-of-the-art Deep Learning library for Time Series and Sequences. tsai is an open-source deep learning package built on top of Pytorch & fastai focused on state-of-the-art techniques for time series tasks like classification, regression, forecasting, imputation tsai is currently under active development by timeseriesAI. Whats new: During the last few releases, here are some of the most significant additio + topics: classification, cnn, deep-learning, fastai, forecasting, inceptiontime, machine-learning, python, pytorch, regression, rnn, rocket, self-supervised, sequential, state-of-the-art, time-series, time-series-analysis, time-series-classification, timeseries, transformer',\n",
       " \"Seeking SSR Pioneers: Join WebCrumbs' Research and Experimentation Efforts - WebCrumbs is on a quest to revolutionize React development, and we're at a pivotal moment with server-side rendering . We're reaching out to you, SSR experts and enthusiasts, to lend your expertise to two critical initiatives: our research in Issue 104 and our hands-on experiments in Issue 103.... + tags: react, opensource, nextjs, serverless\",\n",
       " 'A new way to bring garbage collected programming languages efficiently to',\n",
       " 'Too much parameters? Use destructuring - Functions with too many parameters are hard to read and maintain. Destructuring is a JavaScript feature that allows you to extract values…',\n",
       " 'Super Productivity – open-source advanced todo appgithub.com/johannesjo',\n",
       " 'Hurricane Otis: The mystery of why storms suddenly intensifybbc.com',\n",
       " 'The Invisible War in Ukraine Being Fought over Radio Waves',\n",
       " 'Building a Retrieval-Augmented Generation  Chatbot with LangChain, Hugging Face, and AW - SIn this video, I’ll guide you through the process of creating a Retrieval-Augmented Generation  chatbot using open-source tools and…',\n",
       " 'Open source means surrendering your monopoly over commercial exploitation',\n",
       " \"Mastering API Integration in WordPress: Keeping Up with the Latest Trends - Introduction In today's digital age, websites have become more than just online brochures; they are dynamic platforms that connect to various services, applications, and data sources. One of the essential skills for a modern WordPress developer is API integration. APIs, or Application Programming In... + tags: webdev, wordpress, api, contactformapi\",\n",
       " 'JavaScript Series: Arrays\\u200a—\\u200aPart 1 - All you need to know about Arrays in JavaScript\\u200a—\\u200aPart 1 talks about what are arrays, how to create an array in JS, memory allocation and…',\n",
       " 'Sharp U.S. Hiring Slowdown Signals Cooling Economy Ahead',\n",
       " 'Exploring the Frontier: Advanced AI and Robotics Revolutionizing Automation - Welcome to a world where artificial intelligence and robotics are at the forefront of innovation, reshaping industries and redefining the…',\n",
       " ' Os testes atrasaram meu projeto /s - /s é uma gíria da internet pra dizer que aquela frase contém sarcasmo  Quem me segue nas redes sociais ou por aqui sabe que eu sou um entusiasta de testes automatizados e teste de software no geral . Esse artigo é um relato da decisão que fizemos no final de 2022, quando eu ... + tags: tdd, testing, unittests, sistemasdistribuidos',\n",
       " 'Primordial Black Holes Would Explain a Lot About the Universe',\n",
       " 'Intel fixes high-severity CPU bug that causes \"strange behavior\"',\n",
       " 'Context-Aware Meta-Learning For Foundation Models - Large Language Models  have the capability to learn at inference via a one-shot or few-shot approach without any fine-tuning. This…',\n",
       " 'OpenAI Investors Trying to Get Sam Altman Back as CEO After Sudden Firing',\n",
       " 'How to Process 3D Medical Imaging Data using Python and SimpleITK - 3 medical imaging formats that we deal with daily as AI consultants in the medical imaging field and how we process them using Python',\n",
       " 'Will AIs fake alignment during training in order to get power?',\n",
       " 'Tailor-made implants thanks to simulations using virtual human modeling',\n",
       " 'Is Google Bard Smarter Than a 9-Year-Old? - Getting Bard to help explain what I do for a living to my 9-Years-Old Daughter',\n",
       " 'FreeBSD Vendor Summit – CHERI and the Path to Universal Memory Safety',\n",
       " 'go-openai - OpenAI ChatGPT, GPT-3, GPT-4, DALL·E, Whisper API wrapper for Go - Go OpenAI This library provides unofficial Go clients for OpenAI API . We support: ChatGPT GPT-3, GPT-4 DALLE 2 Whisper Installation go get github.com/sashabaranov/go-openai Currently, go-openai requires Go version 1.18 or greater. Usage ChatGPT example usage: package main import  func main  { client := openai . NewClient ( \"your token + topics: chatgpt, chatgpt-api, dall-e, go, golang, gpt-3, gpt-4, openai, openai-whisper, streaming-api',\n",
       " 'Python Environment Variables : A Primer - Python developers often deal with data they don’t want anyone else to see, like API keys, API secrets, database names, etc.',\n",
       " 'Jailbreaking LangChain - Exploring the failure modes of the most popular framework for developing applications powered by LLMs.',\n",
       " 'This AI newsletter is all you need #68 - What happened this week in AI by Louie',\n",
       " 'Ploopy Adept is an open source, customizable trackball that sells for about $60',\n",
       " 'EVE-NG NX-OS - Anyone here that uses EVE-NG and runs Nexus 9K images? I’ve been having so many issues with these images. They keep failing to load or will load and then crash or errors start popping up in the console and make my labs useless. A simple peer link connection will work when I set it up and then it won’t work anymore no matter how many times I bounce the ports or re create the link. That’s just one of many issues. It seems like something is going on in the software or maybe my server. I’m close to pulling out my hair with these virtual stuff… Any input would be greatly appreciated! Specs: Images - Direct from Cisco Nexus 9K 7.0.3.I7.4 &amp; 9.3.10 Server - Dell R630 ESXi 7.3 24 CPU Xeon E5-2680 V3 2.5GHz 192 GB RAM 3 TB SSD storage EVE-NG Pro 16 CPUs allocated 70 GB RAM allocated',\n",
       " 'B.C. looks to standardize multiplex designs as latest fix to housing crisis',\n",
       " 'The house where techies paid $45 in rent and changed the Bay Area for good',\n",
       " 'Forget the outside hacker, the bigger threat is inside by the coffee machinetheregister.com',\n",
       " 'Elon Musk’s Vision: Merging Humans with AI - Neuralink, Elon Musk’s brainchild, introduced an innovative concept in 2019\\u200a—\\u200aflexible “threads” implantable into the brain.',\n",
       " 'Show HN: Whogoesfirst.lol, simple fun way to pick who goes first',\n",
       " 'Short example of sys.monitoring profiler with 3.12 - I’m giving a “what’s new in python 3.12” talk to my team soon. I wanted to include a short example of call profiling using the new sys.monitoring namespace. I can’t find any such examples, can someone point me to one?',\n",
       " 'Subset Sum Problem - Given an integer array, return the total number of ways to calculate the specified target from array elements using only the addition and…',\n",
       " 'Navigating the Path to Becoming a Data Scientist: A Comprehensive Guide - In the fast-evolving landscape of technology and business, the role of a data scientist has become increasingly vital. These professionals…',\n",
       " 'My Inspiring Journey: A Week in the Women Techsters Fellowship - Introduction',\n",
       " \"London's Low Emission Zones improve air quality, health, and people's well-being\",\n",
       " 'Part 1: Django REST Framework: An Introduction and Initial Steps - In this article, we’re about to dive into the world of Django REST Framework. Before we delve into the intricacies of this framework, let’s…',\n",
       " 'Step by Step: Tech Stock Selection using the Analytic Hierachy Process \\u200a—\\u200aAchieving… - Part 2 of the Analytic Hierarchy Process  by Dr. Alvin Ang',\n",
       " 'From the eyes of the viewer: Attention-aware video compression for improved low bitrate video - While the majority of the video content consumed at SVT Play is enjoyed through high-bitrate streams, a certain responsibility lies with…',\n",
       " 'How to Escape Tutorial Hell as a Software Developer - As software developers, we are always required to keep learning new things. This is because the field of information technology is…',\n",
       " 'Where did they all go? How Homo sapiens became the last human species left',\n",
       " 'sherlock -  Hunt down social media accounts by username across social networks - Hunt down social media accounts by username across social networks Installation Usage Docker Notes Contributing Installation # clone the repo $ git clone  # change the working directory to sherlock $ cd sherlock # install the requirements $ python3 -m pip install -r requirements.txt Usage $ python3 sherlock --help usage: sherlock  [--ver + topics: cli, hacktoberfest, hacktoberfest2022, information-gathering, linux, macos, osint, python, python3, reconnaissance, redteam, sherlock, tools, windows',\n",
       " 'ng-zorro-antd - Angular UI Component Library based on Ant Design - NG-ZORRO An enterprise-class Angular UI component library based on Ant Design. English Features An enterprise-class UI design system for Angular applications. 60+ high-quality Angular components out of the box. Written in TypeScript with predictable static types. The whole package of development and design resources and tools. Support OnPush mode, high performance. Powerful theme customization in e + topics: angular, angular-components, angular-directives, angular-ui-components, angular14, ant, ant-design, antd, enterprise, frontend, ivy, ng-zorro, ngx, typescript, ui-components',\n",
       " 'Sam Bankman-Fried Sealed His Fate Long Before the FTX Trial',\n",
       " 'Introducing PyTorch for Generative Neural Networks in Python - Hey there, fellow Python enthusiasts! Today, I want to dive into the exciting world of generative neural networks and show you how to use…',\n",
       " 'Writing a Compiler is Surprisingly Easy, part 1 - ',\n",
       " 'Facebook-parent Meta breaks up its Responsible AI team',\n",
       " 'Do you know about Laravel vendor publish? - Laravel vendor publish allow you to select which vendor config, public assets or resources file to publish',\n",
       " 'Security and Privacy Architecture Series -Episode 5 - Cyber Threat Intelligence',\n",
       " 'How to run and interpret simple regression models in R - I want to say it right away: you don’t need to be a statistics, math, or econometrics professional to run or interpret a regression, or…',\n",
       " 'Nvidia Partners With Foxconn to Build and Scale ‘AI Factories’ - The collaboration between Nvidia and Foxconn represents a pivotal moment in the convergence of technology and manufacturing.',\n",
       " 'Sorted Triplet Problem - Given an integer array `nums`, efficiently find a sorted triplet such that `nums < nums < nums` where `i < j < k`.',\n",
       " 'Generating Automated Headers In Looker For More Dynamic Reporting - In less than 10 minutes create a Looker header that dynamically displays attributes\\u200a—\\u200alike the current month\\u200a—\\u200afor your users.',\n",
       " 'Value Investing Using Python & Azure\\u200a—\\u200aIntroduction - Sharing my experience as a quant-based value investor using simple yet powerful tools',\n",
       " 'Congress mandates new car technology to stop drunken driving',\n",
       " 'Ask HN: What startups are working on hard, technically challenging problems?',\n",
       " 'Rate Limit Requests in FastApi\\u200a—\\u200aPython - Hello, readers. In this blog, I’ll show you how to implement rate limiting in your fast api. It is quite simple. We will keep this blog…',\n",
       " 'Article 45 of eIDAS 2.0 will roll back web security by 12 years',\n",
       " 'The Rise of The Heikin-Ashi RSI in Trading Strategies - Unleashing the Power of the Heikin-Ashi RSI for Dynamic Market Movements',\n",
       " 'Lisa Manyon’s 20-Year Journey: Crafting Success in Marketing and Business Consulting. - Lisa Manyon, a visionary in the field of marketing and business consulting, embarked on her journey over two decades ago with a dream to…',\n",
       " 'ChatGPT vs Google Bard for Programming: Which one to choose? - When to choose ChatGPT and when\\u200a—\\u200aGoogle Bard when it comes to coding? Let’s figure out in this article',\n",
       " 'Can social media be better? Four researchers approached this question',\n",
       " 'US Cybersecurity Agency Has a New Plan for Weaponized AI',\n",
       " 'The First Free Zone for AI has been launched! A look at How it works - The Partnership between Humans.ai and RAK DAO is accelerating towards its goal!',\n",
       " 'Small ML Models, the nimble sedans of AI - Authors: Flex Wang, Michel Adar, Mona Attariyan, Pavan Pothukuchi',\n",
       " \"How DeepMind, Google's artificial intelligence, is accelerating the identification of… - \",\n",
       " 'Libimobiledevice: Cross-platform C library to communicate with iOS deviceslibimobiledevice.org',\n",
       " 'Maine government says data breach affects 1.3M residents',\n",
       " 'Alexandr Wang: The Trailblazing Journey to Self-Made Billionaire with Scale AI -',\n",
       " 'Use AI intelligence to present thoughts. Depend on your knowledge. - And I decided to write briefly about this; AI has come to stay and will stay never going anytime soon. use it for good.',\n",
       " 'My ChatGPT-Generated Trading Strategies are DEMOLISHING the Market. - No exaggeration. AI-Generated Portfolios are vastly superior',\n",
       " 'Using The Smart Money Index In Stock Trading Strategies - The Smart Money Index  is a trading strategy that believes in the power of informed investment decisions, particularly those made by…',\n",
       " 'Mastering Medium-Level Algorithm Interviews: 3 Challenging Problems and C# Solutions - Preparing for medium-level algorithm interviews often involves tackling complex problems. In this article, we’ll explore five such…',\n",
       " \"After watching Russia's and Ukraine's electronic warriors battle it out, the US military wants to 'dial up' up its own 'jamming power' - \",\n",
       " 'OpenAI could fast become a money pit for investors -',\n",
       " \"Ukrainian film-makers 'looking for right angle' as military drone operator\",\n",
       " 'Do I need High Availability  when developing an ecommerce site ? - Hello I am developing an ecommerce site and I can choose in my cloud database to turn on high availability or not if yes it costs the double So do I need this now ? I also receive webhooks so I have to ensure that all works correctly',\n",
       " 'Unlocking the Brain’s Mysteries with the Fractional Laplacian - The human brain, often dubbed the most intricate object in the known universe, is a marvel of connectivity and functionality. Comprising…',\n",
       " \"How to find early beta testers for TestFlight? - Hello everyone, I'm developing a mental wellness app, with a specific focus on supporting women during the postpartum period. Currently, we have an initial version of the app available on TestFlight, as we chose a lean approach by using a no-code tool for development. However, I've noticed a barrier when it comes to getting people to download TestFlight apps, especially among those who aren't\",\n",
       " 'New Azure_AI Postgres Extension to Azure Database for PostgreSQL',\n",
       " '5 Tips To Think Like A Programmer - In fact, with a bit of practice, you can become an expert at problem-solving',\n",
       " 'Sorting Algorithms in JavaScript - Added most basic sorting algorithm for now will add more later',\n",
       " 'Bye bye Excel, hello KNIME - Make sense of your data faster and better',\n",
       " '$18.5 Billion In Energy Savings From Better Climate Challenge -',\n",
       " 'Cities Skylines II renders invividual teeth of all human models',\n",
       " 'The Future of Content-Related AI Products: A New Horizon or a Job Threat? - While working on a content marketing case, I kept wondering: What if AI took away all the jobs of content copywriters? Is that truly a…',\n",
       " '5 mistakes developers do when using Nest.js and how to avoid them - Nest.js is a popular framework for building scalable and maintainable server-side applications with Node.js. While Nest.js provides a solid…',\n",
       " 'Cruise recalls all of its self driving cars to fix their programming',\n",
       " 'A Wizardry Solution for GPTs: One File to Rule Them All! - The Quest Begins: Taming the GPTs Configuration Beast',\n",
       " 'The Rise of AI Assistants: A Threat to the Future of Online Forums? - As chatbots grow more capable, are sites like Stack Overflow in danger of becoming obsolete?',\n",
       " 'NVIDIA’s NEW Insane AI Takes the Industry by STORM! - The AI Revolution Unleashed by NVIDIA: A Glimpse into the Future',\n",
       " 'How to Deal with Imbalanced Data - In the world of machine learning and data science, the quality of your data is the bedrock upon which models are built. When faced with…',\n",
       " 'Form Validation in ReactJS - Form validation is a crucial part of any web application. It ensures that the user input is in the correct format before it is processed or…',\n",
       " 'RISC-V Ox64 BL808 SBC: Starting Apache NuttX Real-Time Operating System',\n",
       " 'The Magical Blend of Data Science and Holistic Health? - Unveiling the Secrets for a Balanced Well-being',\n",
       " 'Five Ways to Run Jupyter Labs and Notebooks - Value of Notebooks, and How to Run Them',\n",
       " 'สร้างนามบัตรด้วย Python - Make Your Business Card with Python and Pillow Library',\n",
       " \"Where do you get a super quick dirty business loans for Corp-C? - Where do you get a quick dirty business loan in US for a Delaware Corp-C? Whatever I google, I get only the big banks / capchase etc which are all RMR driven and require substantial credits check. &amp;#x200B; For me it's: \\\\- Corp-C has no runway \\\\- Majority Founder is not in USA \\\\- up to 10k RMR \\\\- Zero ru\",\n",
       " 'New ICCL reports reveal serious security threat to the EU and US',\n",
       " '3 Most Profitable Side Hustles for Developers - In today’s digital age, having a side hustle has become increasingly popular, and for programmers, the opportunities are endless. Whether…',\n",
       " 'How to Add Checkboxes Inside Select Options with JavaScript - Sometimes, we want to add checkboxes inside select options with JavaScript.',\n",
       " 'Is Ancestor Or Descendant Problem - Given the root of a binary tree and two tree nodes, x and y, check if they lie on the same root-to-leaf path in the binary tree. In other…',\n",
       " 'AWS Interview Experience: Insights and Tips - Let me take you on a little journey through the twists and turns of my most memorable job application experience at Amazon MLU (Machine…',\n",
       " '“Best Practices for Centralized Exception Handling in Spring Boot: Handling UserNotFoundException… - When building a web application using Spring Boot, it is inevitable that you will face exceptions at some point when processing requests…',\n",
       " 'Real-Time ML Pipeline Structure - So we have two datasets for which we train our ML models manually at the moment. One dataset is saved to the MySQL database server and it does not get updated and the other dataset gets new data points once in a while and ML modes make predictions based on that. We would like to automate the second dataset-type ML predictions. So the current flow is as follows: 1. Get the data from several tabl',\n",
       " 'Leveraging Poetry for Efficient Virtual Environment Management - Unveiling the Verses: Navigating Virtual Environments with Poetry and Ansible',\n",
       " 'Image and Audio Captcha Validation in Flet | Python - CAPTCHA is the short form of “Completely Automated Public Turing test to tell Computers and Humans Apart” and it is a security measure…',\n",
       " 'FCC launches inquiry to increase minimum broadband speed',\n",
       " 'Jr. Yazılım Geliştiriciler İçin İş Arayış Süreci ve İpuçları - Merhaba değerli okurlar, bugün işleyeceğim konu aslında hepimizin aşina olduğu, bir zamanlar bu yoldan geçtiği ve/veya halen geçmeyi…',\n",
       " 'I Tried NextJS, But What I Needed Was Just React | OKR Management Project\\u200a—\\u200aPart 4 - Hi everyone  This is part 4 series of my OKR Management Project. In this post, I want to share my experience of using NextJS for the…',\n",
       " 'Meta’s AI Celebs Are a Dystopian Nightmare - Meta has created 28 AI influencers, and no, this isn’t an episode of Black Mirror. Now you can follow and chat with AI versions of Snoop…',\n",
       " 'Elevating Sample Quality: OpenAI’s Consistency Models Training Techniques Redefine the Game - Consistency models, a burgeoning category of generative models, have been making waves in the AI research community. Unlike their…',\n",
       " 'OpenShift Basics: A Newcomer’s Handbook - A Starter’s Manual on Red Hat Openshift',\n",
       " 'Standardizing and Transforming Data with SQL - In the world of data analysis and preparation, standardizing and transforming data are vital steps to ensure consistency and accuracy in…',\n",
       " 'AI’s role in Sports, GANs, and more\\xa0! - IOC President Thomas Bach recently said that adopting AI and Esports is necessary for change in the sporting world.',\n",
       " 'Binding Decision on processing personal data for behavioural advertising by Meta',\n",
       " 'Web Components Will Outlive Your JavaScript Frameworkjakelazaroff.com',\n",
       " 'S3 Cross Region Replication - Amazon Simple Storage Service  is an object storage service that offers industry-leading scalability, data availability…',\n",
       " 'Caption This!  - We want to know if you have what it takes to write the best caption for this image. Upvote your favorite one so folks can get bragging rights. Follow the DEVteam for more online camaraderie! The DEV Team Follow The team behind this very platform. ... + tags: discuss, watercooler',\n",
       " 'Haworth Tompkins unveils \"UK\\'s first multi-storey light-industrial scheme\"',\n",
       " 'Analysing webservers logs locally with goaccess - I want to show you how I use a tool called goaccess to do some quick analysis of access logs on webservers. Now that I’m doing more & more…',\n",
       " ...]"
      ]
     },
     "execution_count": 30,
     "metadata": {},
     "output_type": "execute_result"
    }
   ],
   "source": [
    "dataset['train']['text']"
   ]
  },
  {
   "cell_type": "code",
   "execution_count": 5,
   "metadata": {},
   "outputs": [
    {
     "name": "stdout",
     "output_type": "stream",
     "text": [
      "\n",
      "'>> Text: Driverless car users will not be prosecuted for fatal crashes in UK'\n",
      "'>> Keywords: Driverless Cars, Legal Issues, UK'\n",
      "\n",
      "'>> Text: Google is embedding inaudible watermarks right into its AI generated music -'\n",
      "'>> Keywords: Google, AI Music, Watermarks, Audio Technology'\n",
      "\n",
      "'>> Text: What are your thoughts on Nextjs performance? Do you agree with this chart? - ( by 10up where Nextjs appears lower than WordPress on core vitals. Couldn’t post the image here due to community rules. But appreciate any other studies and thought you have on this matter.'\n",
      "'>> Keywords: Next.js, Performance, 10up, WordPress'\n"
     ]
    }
   ],
   "source": [
    "def show_samples(dataset, num_samples=3, seed=42):\n",
    "    sample = dataset[\"train\"].shuffle(seed=seed).select(range(num_samples))\n",
    "    for example in sample:\n",
    "        print(f\"\\n'>> Text: {example['text']}'\")\n",
    "        print(f\"'>> Keywords: {example['keywords']}'\")\n",
    "\n",
    "\n",
    "show_samples(dataset)"
   ]
  },
  {
   "cell_type": "code",
   "execution_count": 4,
   "metadata": {},
   "outputs": [
    {
     "name": "stderr",
     "output_type": "stream",
     "text": [
      "/opt/miniconda3/envs/plp_module/lib/python3.12/site-packages/transformers/tokenization_utils_base.py:1601: FutureWarning: `clean_up_tokenization_spaces` was not set. It will be set to `True` by default. This behavior will be depracted in transformers v4.45, and will be then set to `False` by default. For more details check this issue: https://github.com/huggingface/transformers/issues/31884\n",
      "  warnings.warn(\n"
     ]
    },
    {
     "name": "stdout",
     "output_type": "stream",
     "text": [
      "The longest text is 245 tokens long.\n"
     ]
    }
   ],
   "source": [
    "from transformers import AutoModelForSeq2SeqLM, AutoTokenizer\n",
    "\n",
    "model_name = 'facebook/bart-large' # go smaller if you can\n",
    "tokenizer = AutoTokenizer.from_pretrained(model_name)\n",
    "model = AutoModelForSeq2SeqLM.from_pretrained(model_name)\n",
    "\n",
    "texts = dataset['train']['text']\n",
    "\n",
    "# Tokenize all texts and find the maximum length (max for BART is 1024 tokens)\n",
    "max_token_length = max(len(tokenizer.encode(text, truncation=True)) for text in texts)\n",
    "print(f\"The longest text is {max_token_length} tokens long.\")"
   ]
  },
  {
   "cell_type": "code",
   "execution_count": 5,
   "metadata": {},
   "outputs": [
    {
     "name": "stderr",
     "output_type": "stream",
     "text": [
      "Map: 100%|██████████| 7196/7196 [00:00<00:00, 25095.57 examples/s]\n",
      "Map: 100%|██████████| 635/635 [00:00<00:00, 22322.28 examples/s]\n",
      "Map: 100%|██████████| 635/635 [00:00<00:00, 22430.94 examples/s]\n"
     ]
    },
    {
     "data": {
      "text/plain": [
       "DatasetDict({\n",
       "    train: Dataset({\n",
       "        features: ['id', 'source', 'text', 'timestamp', 'reactions', 'engagement', 'url', 'text_length', 'keywords', 'topic', 'summary', '__index_level_0__', 'input_ids', 'attention_mask', 'labels'],\n",
       "        num_rows: 7196\n",
       "    })\n",
       "    validation: Dataset({\n",
       "        features: ['id', 'source', 'text', 'timestamp', 'reactions', 'engagement', 'url', 'text_length', 'keywords', 'topic', 'summary', '__index_level_0__', 'input_ids', 'attention_mask', 'labels'],\n",
       "        num_rows: 635\n",
       "    })\n",
       "    test: Dataset({\n",
       "        features: ['id', 'source', 'text', 'timestamp', 'reactions', 'engagement', 'url', 'text_length', 'keywords', 'topic', 'summary', '__index_level_0__', 'input_ids', 'attention_mask', 'labels'],\n",
       "        num_rows: 635\n",
       "    })\n",
       "})"
      ]
     },
     "execution_count": 5,
     "metadata": {},
     "output_type": "execute_result"
    }
   ],
   "source": [
    "def get_feature(batch):\n",
    "  encodings = tokenizer(batch['text'], text_target=batch['keywords'],\n",
    "                        max_length=1024, truncation=True)\n",
    "\n",
    "  encodings = {'input_ids': encodings['input_ids'],\n",
    "               'attention_mask': encodings['attention_mask'],\n",
    "               'labels': encodings['labels']}\n",
    "\n",
    "  return encodings\n",
    "\n",
    "dataset_pt = dataset.map(get_feature, batched=True)\n",
    "dataset_pt"
   ]
  },
  {
   "cell_type": "code",
   "execution_count": 6,
   "metadata": {},
   "outputs": [],
   "source": [
    "columns = ['input_ids', 'labels', 'attention_mask']\n",
    "dataset_pt.set_format(type='torch', columns=columns)"
   ]
  },
  {
   "cell_type": "code",
   "execution_count": 7,
   "metadata": {},
   "outputs": [],
   "source": [
    "from transformers import DataCollatorForSeq2Seq\n",
    "\n",
    "data_collator = DataCollatorForSeq2Seq(tokenizer, model=model)"
   ]
  },
  {
   "cell_type": "code",
   "execution_count": 8,
   "metadata": {},
   "outputs": [
    {
     "name": "stderr",
     "output_type": "stream",
     "text": [
      "/opt/miniconda3/envs/plp_module/lib/python3.12/site-packages/transformers/training_args.py:1525: FutureWarning: `evaluation_strategy` is deprecated and will be removed in version 4.46 of 🤗 Transformers. Use `eval_strategy` instead\n",
      "  warnings.warn(\n",
      "  0%|          | 0/336 [00:00<?, ?it/s]/opt/miniconda3/envs/plp_module/lib/python3.12/site-packages/transformers/data/data_collator.py:656: UserWarning: Creating a tensor from a list of numpy.ndarrays is extremely slow. Please consider converting the list to a single numpy.ndarray with numpy.array() before converting to a tensor. (Triggered internally at /Users/runner/work/pytorch/pytorch/pytorch/torch/csrc/utils/tensor_new.cpp:281.)\n",
      "  batch[\"labels\"] = torch.tensor(batch[\"labels\"], dtype=torch.int64)\n",
      "  3%|▎         | 10/336 [01:20<37:17,  6.86s/it] "
     ]
    },
    {
     "name": "stdout",
     "output_type": "stream",
     "text": [
      "{'loss': 3.6513, 'grad_norm': 40.85301971435547, 'learning_rate': 1.0000000000000002e-06, 'epoch': 0.09}\n"
     ]
    },
    {
     "name": "stderr",
     "output_type": "stream",
     "text": [
      "  6%|▌         | 20/336 [02:41<45:16,  8.60s/it]"
     ]
    },
    {
     "name": "stdout",
     "output_type": "stream",
     "text": [
      "{'loss': 3.1626, 'grad_norm': 31.181283950805664, 'learning_rate': 2.0000000000000003e-06, 'epoch': 0.18}\n"
     ]
    },
    {
     "name": "stderr",
     "output_type": "stream",
     "text": [
      "  9%|▉         | 30/336 [03:56<35:56,  7.05s/it]"
     ]
    },
    {
     "name": "stdout",
     "output_type": "stream",
     "text": [
      "{'loss': 2.3209, 'grad_norm': 20.88770866394043, 'learning_rate': 3e-06, 'epoch': 0.27}\n"
     ]
    },
    {
     "name": "stderr",
     "output_type": "stream",
     "text": [
      " 12%|█▏        | 40/336 [05:01<31:08,  6.31s/it]"
     ]
    },
    {
     "name": "stdout",
     "output_type": "stream",
     "text": [
      "{'loss': 1.7205, 'grad_norm': 10.746589660644531, 'learning_rate': 4.000000000000001e-06, 'epoch': 0.36}\n"
     ]
    },
    {
     "name": "stderr",
     "output_type": "stream",
     "text": [
      " 15%|█▍        | 50/336 [06:26<45:20,  9.51s/it]"
     ]
    },
    {
     "name": "stdout",
     "output_type": "stream",
     "text": [
      "{'loss': 1.4049, 'grad_norm': 10.60523509979248, 'learning_rate': 5e-06, 'epoch': 0.44}\n"
     ]
    },
    {
     "name": "stderr",
     "output_type": "stream",
     "text": [
      "                                                \n",
      " 15%|█▍        | 50/336 [07:27<45:20,  9.51s/it] "
     ]
    },
    {
     "name": "stdout",
     "output_type": "stream",
     "text": [
      "{'eval_loss': 1.1728525161743164, 'eval_runtime': 60.2591, 'eval_samples_per_second': 10.538, 'eval_steps_per_second': 2.639, 'epoch': 0.44}\n"
     ]
    },
    {
     "name": "stderr",
     "output_type": "stream",
     "text": [
      " 18%|█▊        | 60/336 [09:01<45:50,  9.97s/it]  "
     ]
    },
    {
     "name": "stdout",
     "output_type": "stream",
     "text": [
      "{'loss': 1.3121, 'grad_norm': 7.623536586761475, 'learning_rate': 6e-06, 'epoch': 0.53}\n"
     ]
    },
    {
     "name": "stderr",
     "output_type": "stream",
     "text": [
      " 21%|██        | 70/336 [10:34<40:46,  9.20s/it]"
     ]
    },
    {
     "name": "stdout",
     "output_type": "stream",
     "text": [
      "{'loss': 1.2611, 'grad_norm': 10.073939323425293, 'learning_rate': 7.000000000000001e-06, 'epoch': 0.62}\n"
     ]
    },
    {
     "name": "stderr",
     "output_type": "stream",
     "text": [
      " 24%|██▍       | 80/336 [12:34<1:11:13, 16.70s/it]"
     ]
    },
    {
     "name": "stdout",
     "output_type": "stream",
     "text": [
      "{'loss': 1.2297, 'grad_norm': 8.070141792297363, 'learning_rate': 8.000000000000001e-06, 'epoch': 0.71}\n"
     ]
    },
    {
     "name": "stderr",
     "output_type": "stream",
     "text": [
      " 27%|██▋       | 90/336 [36:51<17:12:55, 251.93s/it]"
     ]
    },
    {
     "name": "stdout",
     "output_type": "stream",
     "text": [
      "{'loss': 1.1682, 'grad_norm': 13.98412036895752, 'learning_rate': 9e-06, 'epoch': 0.8}\n"
     ]
    },
    {
     "name": "stderr",
     "output_type": "stream",
     "text": [
      " 30%|██▉       | 100/336 [1:26:10<6:15:45, 95.53s/it] "
     ]
    },
    {
     "name": "stdout",
     "output_type": "stream",
     "text": [
      "{'loss': 1.1023, 'grad_norm': 8.362699508666992, 'learning_rate': 1e-05, 'epoch': 0.89}\n"
     ]
    },
    {
     "name": "stderr",
     "output_type": "stream",
     "text": [
      "                                                     \n",
      " 30%|██▉       | 100/336 [1:27:04<6:15:45, 95.53s/it]"
     ]
    },
    {
     "name": "stdout",
     "output_type": "stream",
     "text": [
      "{'eval_loss': 1.0794211626052856, 'eval_runtime': 54.5605, 'eval_samples_per_second': 11.638, 'eval_steps_per_second': 2.914, 'epoch': 0.89}\n"
     ]
    },
    {
     "name": "stderr",
     "output_type": "stream",
     "text": [
      " 33%|███▎      | 110/336 [1:28:45<47:32, 12.62s/it]  "
     ]
    },
    {
     "name": "stdout",
     "output_type": "stream",
     "text": [
      "{'loss': 1.0717, 'grad_norm': 13.899110794067383, 'learning_rate': 1.1000000000000001e-05, 'epoch': 0.98}\n"
     ]
    },
    {
     "name": "stderr",
     "output_type": "stream",
     "text": [
      " 36%|███▌      | 120/336 [1:30:14<31:15,  8.68s/it]"
     ]
    },
    {
     "name": "stdout",
     "output_type": "stream",
     "text": [
      "{'loss': 1.0577, 'grad_norm': 6.83284854888916, 'learning_rate': 1.2e-05, 'epoch': 1.07}\n"
     ]
    },
    {
     "name": "stderr",
     "output_type": "stream",
     "text": [
      " 39%|███▊      | 130/336 [1:31:33<27:28,  8.00s/it]"
     ]
    },
    {
     "name": "stdout",
     "output_type": "stream",
     "text": [
      "{'loss': 1.0065, 'grad_norm': 12.647035598754883, 'learning_rate': 1.3000000000000001e-05, 'epoch': 1.16}\n"
     ]
    },
    {
     "name": "stderr",
     "output_type": "stream",
     "text": [
      " 42%|████▏     | 140/336 [1:32:52<25:47,  7.90s/it]"
     ]
    },
    {
     "name": "stdout",
     "output_type": "stream",
     "text": [
      "{'loss': 1.0244, 'grad_norm': 7.274231910705566, 'learning_rate': 1.4000000000000001e-05, 'epoch': 1.25}\n"
     ]
    },
    {
     "name": "stderr",
     "output_type": "stream",
     "text": [
      " 45%|████▍     | 150/336 [1:34:43<40:22, 13.02s/it]"
     ]
    },
    {
     "name": "stdout",
     "output_type": "stream",
     "text": [
      "{'loss': 0.9659, 'grad_norm': 11.281682014465332, 'learning_rate': 1.5e-05, 'epoch': 1.33}\n"
     ]
    },
    {
     "name": "stderr",
     "output_type": "stream",
     "text": [
      "                                                   \n",
      " 45%|████▍     | 150/336 [1:36:01<40:22, 13.02s/it]"
     ]
    },
    {
     "name": "stdout",
     "output_type": "stream",
     "text": [
      "{'eval_loss': 0.9492010474205017, 'eval_runtime': 78.0204, 'eval_samples_per_second': 8.139, 'eval_steps_per_second': 2.038, 'epoch': 1.33}\n"
     ]
    },
    {
     "name": "stderr",
     "output_type": "stream",
     "text": [
      " 48%|████▊     | 160/336 [1:37:43<32:13, 10.99s/it]  "
     ]
    },
    {
     "name": "stdout",
     "output_type": "stream",
     "text": [
      "{'loss': 0.9744, 'grad_norm': 9.96319580078125, 'learning_rate': 1.6000000000000003e-05, 'epoch': 1.42}\n"
     ]
    },
    {
     "name": "stderr",
     "output_type": "stream",
     "text": [
      " 51%|█████     | 170/336 [1:39:05<23:31,  8.50s/it]"
     ]
    },
    {
     "name": "stdout",
     "output_type": "stream",
     "text": [
      "{'loss': 0.9483, 'grad_norm': 10.527077674865723, 'learning_rate': 1.7000000000000003e-05, 'epoch': 1.51}\n"
     ]
    },
    {
     "name": "stderr",
     "output_type": "stream",
     "text": [
      " 54%|█████▎    | 180/336 [1:40:30<22:40,  8.72s/it]"
     ]
    },
    {
     "name": "stdout",
     "output_type": "stream",
     "text": [
      "{'loss': 0.9721, 'grad_norm': 6.891709804534912, 'learning_rate': 1.8e-05, 'epoch': 1.6}\n"
     ]
    },
    {
     "name": "stderr",
     "output_type": "stream",
     "text": [
      " 57%|█████▋    | 190/336 [1:41:53<20:05,  8.26s/it]"
     ]
    },
    {
     "name": "stdout",
     "output_type": "stream",
     "text": [
      "{'loss': 0.9142, 'grad_norm': 10.293627738952637, 'learning_rate': 1.9e-05, 'epoch': 1.69}\n"
     ]
    },
    {
     "name": "stderr",
     "output_type": "stream",
     "text": [
      " 60%|█████▉    | 200/336 [1:43:16<18:33,  8.19s/it]"
     ]
    },
    {
     "name": "stdout",
     "output_type": "stream",
     "text": [
      "{'loss': 0.9226, 'grad_norm': 12.827656745910645, 'learning_rate': 2e-05, 'epoch': 1.78}\n"
     ]
    },
    {
     "name": "stderr",
     "output_type": "stream",
     "text": [
      "                                                   \n",
      " 60%|█████▉    | 200/336 [1:44:13<18:33,  8.19s/it]"
     ]
    },
    {
     "name": "stdout",
     "output_type": "stream",
     "text": [
      "{'eval_loss': 0.8965096473693848, 'eval_runtime': 57.0921, 'eval_samples_per_second': 11.122, 'eval_steps_per_second': 2.785, 'epoch': 1.78}\n"
     ]
    },
    {
     "name": "stderr",
     "output_type": "stream",
     "text": [
      " 62%|██████▎   | 210/336 [1:45:33<18:04,  8.61s/it]"
     ]
    },
    {
     "name": "stdout",
     "output_type": "stream",
     "text": [
      "{'loss': 0.9299, 'grad_norm': 8.831805229187012, 'learning_rate': 2.1e-05, 'epoch': 1.87}\n"
     ]
    },
    {
     "name": "stderr",
     "output_type": "stream",
     "text": [
      " 65%|██████▌   | 220/336 [1:46:57<16:35,  8.58s/it]"
     ]
    },
    {
     "name": "stdout",
     "output_type": "stream",
     "text": [
      "{'loss': 0.9575, 'grad_norm': 14.106292724609375, 'learning_rate': 2.2000000000000003e-05, 'epoch': 1.96}\n"
     ]
    },
    {
     "name": "stderr",
     "output_type": "stream",
     "text": [
      " 68%|██████▊   | 230/336 [1:48:24<15:15,  8.63s/it]"
     ]
    },
    {
     "name": "stdout",
     "output_type": "stream",
     "text": [
      "{'loss': 0.8384, 'grad_norm': 6.936272144317627, 'learning_rate': 2.3000000000000003e-05, 'epoch': 2.05}\n"
     ]
    },
    {
     "name": "stderr",
     "output_type": "stream",
     "text": [
      " 71%|███████▏  | 240/336 [1:49:48<13:53,  8.68s/it]"
     ]
    },
    {
     "name": "stdout",
     "output_type": "stream",
     "text": [
      "{'loss': 0.8157, 'grad_norm': 10.196778297424316, 'learning_rate': 2.4e-05, 'epoch': 2.13}\n"
     ]
    },
    {
     "name": "stderr",
     "output_type": "stream",
     "text": [
      " 74%|███████▍  | 250/336 [1:51:12<12:10,  8.50s/it]"
     ]
    },
    {
     "name": "stdout",
     "output_type": "stream",
     "text": [
      "{'loss': 0.8488, 'grad_norm': 7.5270676612854, 'learning_rate': 2.5e-05, 'epoch': 2.22}\n"
     ]
    },
    {
     "name": "stderr",
     "output_type": "stream",
     "text": [
      "                                                   \n",
      " 74%|███████▍  | 250/336 [1:52:13<12:10,  8.50s/it]"
     ]
    },
    {
     "name": "stdout",
     "output_type": "stream",
     "text": [
      "{'eval_loss': 0.8998113870620728, 'eval_runtime': 60.4211, 'eval_samples_per_second': 10.51, 'eval_steps_per_second': 2.632, 'epoch': 2.22}\n"
     ]
    },
    {
     "name": "stderr",
     "output_type": "stream",
     "text": [
      " 77%|███████▋  | 260/336 [1:53:39<11:53,  9.39s/it]"
     ]
    },
    {
     "name": "stdout",
     "output_type": "stream",
     "text": [
      "{'loss': 0.8173, 'grad_norm': 8.18798828125, 'learning_rate': 2.6000000000000002e-05, 'epoch': 2.31}\n"
     ]
    },
    {
     "name": "stderr",
     "output_type": "stream",
     "text": [
      " 80%|████████  | 270/336 [1:55:06<09:08,  8.31s/it]"
     ]
    },
    {
     "name": "stdout",
     "output_type": "stream",
     "text": [
      "{'loss': 0.8219, 'grad_norm': 7.067136287689209, 'learning_rate': 2.7000000000000002e-05, 'epoch': 2.4}\n"
     ]
    },
    {
     "name": "stderr",
     "output_type": "stream",
     "text": [
      " 83%|████████▎ | 280/336 [1:56:35<08:25,  9.03s/it]"
     ]
    },
    {
     "name": "stdout",
     "output_type": "stream",
     "text": [
      "{'loss': 0.8307, 'grad_norm': 6.97703218460083, 'learning_rate': 2.8000000000000003e-05, 'epoch': 2.49}\n"
     ]
    },
    {
     "name": "stderr",
     "output_type": "stream",
     "text": [
      " 86%|████████▋ | 290/336 [1:58:04<06:49,  8.90s/it]"
     ]
    },
    {
     "name": "stdout",
     "output_type": "stream",
     "text": [
      "{'loss': 0.8388, 'grad_norm': 9.943134307861328, 'learning_rate': 2.9e-05, 'epoch': 2.58}\n"
     ]
    },
    {
     "name": "stderr",
     "output_type": "stream",
     "text": [
      " 89%|████████▉ | 300/336 [1:59:34<05:28,  9.12s/it]"
     ]
    },
    {
     "name": "stdout",
     "output_type": "stream",
     "text": [
      "{'loss': 0.8581, 'grad_norm': 6.239572525024414, 'learning_rate': 3e-05, 'epoch': 2.67}\n"
     ]
    },
    {
     "name": "stderr",
     "output_type": "stream",
     "text": [
      "                                                   \n",
      " 89%|████████▉ | 300/336 [2:00:37<05:28,  9.12s/it]"
     ]
    },
    {
     "name": "stdout",
     "output_type": "stream",
     "text": [
      "{'eval_loss': 0.8912317156791687, 'eval_runtime': 62.9613, 'eval_samples_per_second': 10.086, 'eval_steps_per_second': 2.525, 'epoch': 2.67}\n"
     ]
    },
    {
     "name": "stderr",
     "output_type": "stream",
     "text": [
      " 92%|█████████▏| 310/336 [2:02:21<05:09, 11.91s/it]"
     ]
    },
    {
     "name": "stdout",
     "output_type": "stream",
     "text": [
      "{'loss': 0.8445, 'grad_norm': 10.027575492858887, 'learning_rate': 3.1e-05, 'epoch': 2.76}\n"
     ]
    },
    {
     "name": "stderr",
     "output_type": "stream",
     "text": [
      " 95%|█████████▌| 320/336 [2:11:29<19:59, 74.94s/it] "
     ]
    },
    {
     "name": "stdout",
     "output_type": "stream",
     "text": [
      "{'loss': 0.817, 'grad_norm': 4.917409420013428, 'learning_rate': 3.2000000000000005e-05, 'epoch': 2.85}\n"
     ]
    },
    {
     "name": "stderr",
     "output_type": "stream",
     "text": [
      " 98%|█████████▊| 330/336 [2:13:27<01:21, 13.51s/it]"
     ]
    },
    {
     "name": "stdout",
     "output_type": "stream",
     "text": [
      "{'loss': 0.8061, 'grad_norm': 10.157153129577637, 'learning_rate': 3.3e-05, 'epoch': 2.93}\n"
     ]
    },
    {
     "name": "stderr",
     "output_type": "stream",
     "text": [
      "100%|██████████| 336/336 [2:14:41<00:00, 12.53s/it]Some non-default generation parameters are set in the model config. These should go into a GenerationConfig file (https://huggingface.co/docs/transformers/generation_strategies#save-a-custom-decoding-strategy-with-your-model) instead. This warning will be raised to an exception in v4.41.\n",
      "Non-default generation parameters: {'early_stopping': True, 'num_beams': 4, 'no_repeat_ngram_size': 3, 'forced_bos_token_id': 0, 'forced_eos_token_id': 2}\n",
      "100%|██████████| 336/336 [2:14:45<00:00, 24.07s/it]"
     ]
    },
    {
     "name": "stdout",
     "output_type": "stream",
     "text": [
      "{'train_runtime': 8085.979, 'train_samples_per_second': 2.67, 'train_steps_per_second': 0.042, 'train_loss': 1.1810229207788194, 'epoch': 2.99}\n"
     ]
    },
    {
     "name": "stderr",
     "output_type": "stream",
     "text": [
      "\n"
     ]
    },
    {
     "data": {
      "text/plain": [
       "TrainOutput(global_step=336, training_loss=1.1810229207788194, metrics={'train_runtime': 8085.979, 'train_samples_per_second': 2.67, 'train_steps_per_second': 0.042, 'total_flos': 3582300094562304.0, 'train_loss': 1.1810229207788194, 'epoch': 2.9883268482490273})"
      ]
     },
     "execution_count": 8,
     "metadata": {},
     "output_type": "execute_result"
    }
   ],
   "source": [
    "from transformers import TrainingArguments, Trainer\n",
    "\n",
    "training_args = TrainingArguments(\n",
    "    output_dir = 'bart_tech_keywords', # rename to what you want it to be called\n",
    "    num_train_epochs=3, # your choice\n",
    "    warmup_steps = 500,\n",
    "    per_device_train_batch_size=4, \n",
    "    per_device_eval_batch_size=4,\n",
    "    weight_decay = 0.01,\n",
    "    logging_steps = 10,\n",
    "    evaluation_strategy = 'steps',\n",
    "    eval_steps=50, \n",
    "    save_steps=1e6,\n",
    "    gradient_accumulation_steps=16 \n",
    ")\n",
    "\n",
    "trainer = Trainer(model=model, args=training_args, tokenizer=tokenizer, data_collator=data_collator,\n",
    "                  train_dataset = dataset_pt['train'], eval_dataset = dataset_pt['validation'])\n",
    "\n",
    "trainer.train()"
   ]
  },
  {
   "cell_type": "code",
   "execution_count": 16,
   "metadata": {},
   "outputs": [
    {
     "name": "stderr",
     "output_type": "stream",
     "text": [
      "Some non-default generation parameters are set in the model config. These should go into a GenerationConfig file (https://huggingface.co/docs/transformers/generation_strategies#save-a-custom-decoding-strategy-with-your-model) instead. This warning will be raised to an exception in v4.41.\n",
      "Non-default generation parameters: {'early_stopping': True, 'num_beams': 4, 'no_repeat_ngram_size': 3, 'forced_bos_token_id': 0, 'forced_eos_token_id': 2}\n"
     ]
    }
   ],
   "source": [
    "trainer.save_model('tech-keywords-extractor_plp')\n"
   ]
  },
  {
   "cell_type": "code",
   "execution_count": 70,
   "metadata": {},
   "outputs": [
    {
     "name": "stderr",
     "output_type": "stream",
     "text": [
      "/opt/miniconda3/envs/plp_module/lib/python3.12/site-packages/transformers/tokenization_utils_base.py:1601: FutureWarning: `clean_up_tokenization_spaces` was not set. It will be set to `True` by default. This behavior will be depracted in transformers v4.45, and will be then set to `False` by default. For more details check this issue: https://github.com/huggingface/transformers/issues/31884\n",
      "  warnings.warn(\n"
     ]
    },
    {
     "name": "stdout",
     "output_type": "stream",
     "text": [
      "(tensor([0.7900, 0.5584]), tensor([0.7900, 0.5889]), tensor([0.7900, 0.5732]))\n"
     ]
    }
   ],
   "source": [
    "from bert_score import score\n",
    "predictions = [\"hello world\", \"general kenobi\"]\n",
    "references = [\"goodnight moon\", \"the sun is shining\"]\n",
    "results = score(predictions, references, model_type=\"distilbert-base-uncased\")\n",
    "print(results)"
   ]
  },
  {
   "cell_type": "code",
   "execution_count": 8,
   "metadata": {},
   "outputs": [
    {
     "name": "stderr",
     "output_type": "stream",
     "text": [
      "Hardware accelerator e.g. GPU is available in the environment, but no `device` argument is passed to the `Pipeline` object. Model will be on CPU.\n",
      "Your max_length is set to 128, but your input_length is only 21. Since this is a summarization task, where outputs shorter than the input are typically wanted, you might consider decreasing max_length manually, e.g. summarizer('...', max_length=10)\n"
     ]
    },
    {
     "name": "stdout",
     "output_type": "stream",
     "text": [
      "the text:  Apple is launching iphone 16 with Apple Intelligence. It also uses OpenAI ChatGPT\n",
      "generated keywords:  [{'summary_text': 'Apple, iphone 16, Apple Intelligence, OpenAI, ChatGPT'}]\n"
     ]
    }
   ],
   "source": [
    "# !huggingface-cli login --token hf_xxxxxxxxxxxx\n",
    "\n",
    "# check output of fine tuned model\n",
    "from transformers import pipeline\n",
    "\n",
    "pipe = pipeline('summarization', model='tech-keywords-extractor_plp')\n",
    "\n",
    "text_test = \"Apple is launching iphone 16 with Apple Intelligence. It also uses OpenAI ChatGPT\"\n",
    "\n",
    "# test_text=dataset['test'][0]['text']\n",
    "# keywords = dataset['test'][0]['keywords']\n",
    "print(\"the text: \", text_test)\n",
    "print(\"generated keywords: \", pipe(text_test))\n",
    "# print(\"orginal keywords : \",keywords)"
   ]
  },
  {
   "cell_type": "code",
   "execution_count": 29,
   "metadata": {},
   "outputs": [
    {
     "name": "stderr",
     "output_type": "stream",
     "text": [
      "Hardware accelerator e.g. GPU is available in the environment, but no `device` argument is passed to the `Pipeline` object. Model will be on CPU.\n",
      "Your max_length is set to 128, but your input_length is only 23. Since this is a summarization task, where outputs shorter than the input are typically wanted, you might consider decreasing max_length manually, e.g. summarizer('...', max_length=11)\n"
     ]
    },
    {
     "name": "stdout",
     "output_type": "stream",
     "text": [
      "the text:  Apple is launching iphone 16 with Apple Intelligence. It also uses OpenAI ChatGPT. \n",
      "generated keywords:  [{'summary_text': 'Apple is launching iphone 16 with Apple Intelligence. It also uses OpenAI ChatGPT. '}]\n"
     ]
    }
   ],
   "source": [
    "# Check back on output of base untrained model\n",
    "\n",
    "pipe = pipeline('summarization', model = 'facebook/bart-large')\n",
    "\n",
    "text_test = \"Apple is launching iphone 16 with Apple Intelligence. It also uses OpenAI ChatGPT. \"\n",
    "\n",
    "# test_text=dataset['test'][0]['text']\n",
    "# keywords = dataset['test'][0]['keywords']\n",
    "print(\"the text: \", text_test)\n",
    "print(\"generated keywords: \", pipe(text_test))\n",
    "# print(\"orginal keywords : \",keywords)"
   ]
  },
  {
   "cell_type": "code",
   "execution_count": 30,
   "metadata": {},
   "outputs": [
    {
     "name": "stderr",
     "output_type": "stream",
     "text": [
      "Hardware accelerator e.g. GPU is available in the environment, but no `device` argument is passed to the `Pipeline` object. Model will be on CPU.\n",
      "Your max_length is set to 142, but your input_length is only 23. Since this is a summarization task, where outputs shorter than the input are typically wanted, you might consider decreasing max_length manually, e.g. summarizer('...', max_length=11)\n"
     ]
    },
    {
     "name": "stdout",
     "output_type": "stream",
     "text": [
      "the text:  Apple is launching iphone 16 with Apple Intelligence. It also uses OpenAI ChatGPT. \n",
      "generated keywords:  [{'summary_text': \"Apple is launching iphone 16 with Apple Intelligence. It also uses OpenAI ChatGPT. Apple is launching Apple Intelligence with Apple Artificial Intelligence on the iPhone 16. Apple  also using OpenAI chatGPT on the phone. Apple's new iPhone 16 will be released on September 18.\"}]\n"
     ]
    }
   ],
   "source": [
    "# Check back on output of base model fine tuned on CNN daily news\n",
    "\n",
    "pipe = pipeline('summarization', model = 'facebook/bart-large-cnn')\n",
    "\n",
    "text_test = \"Apple is launching iphone 16 with Apple Intelligence. It also uses OpenAI ChatGPT. \"\n",
    "\n",
    "# test_text=dataset['test'][0]['text']\n",
    "# keywords = dataset['test'][0]['keywords']\n",
    "print(\"the text: \", text_test)\n",
    "print(\"generated keywords: \", pipe(text_test))\n",
    "# print(\"orginal keywords : \",keywords)"
   ]
  },
  {
   "cell_type": "code",
   "execution_count": null,
   "metadata": {},
   "outputs": [],
   "source": [
    "for i in range(0, 50):\n",
    "    text_test = dataset['test'][i]['text']\n",
    "    keywords = dataset['test'][i]['keywords']\n",
    "    print(\"text: \", text_test)\n",
    "    print(\"generated keywords: \", pipe(text_test)[0]['summary_text'])\n",
    "    print(\"original keywords: \", keywords)"
   ]
  },
  {
   "cell_type": "code",
   "execution_count": 9,
   "metadata": {},
   "outputs": [
    {
     "name": "stderr",
     "output_type": "stream",
     "text": [
      "Your max_length is set to 128, but your input_length is only 12. Since this is a summarization task, where outputs shorter than the input are typically wanted, you might consider decreasing max_length manually, e.g. summarizer('...', max_length=6)\n"
     ]
    },
    {
     "data": {
      "text/plain": [
       "'Distractions, analytical thinking, Fake News'"
      ]
     },
     "execution_count": 9,
     "metadata": {},
     "output_type": "execute_result"
    }
   ],
   "source": [
    "pipe(dataset['test'][1]['text'])[0]['summary_text']"
   ]
  },
  {
   "cell_type": "code",
   "execution_count": 10,
   "metadata": {},
   "outputs": [
    {
     "data": {
      "text/plain": [
       "'Distractions, Analytical Thinking, Fake News'"
      ]
     },
     "execution_count": 10,
     "metadata": {},
     "output_type": "execute_result"
    }
   ],
   "source": [
    "dataset['test'][1]['keywords']"
   ]
  },
  {
   "cell_type": "code",
   "execution_count": null,
   "metadata": {},
   "outputs": [],
   "source": []
  },
  {
   "cell_type": "code",
   "execution_count": 24,
   "metadata": {},
   "outputs": [
    {
     "name": "stderr",
     "output_type": "stream",
     "text": [
      "Some non-default generation parameters are set in the model config. These should go into a GenerationConfig file (https://huggingface.co/docs/transformers/generation_strategies#save-a-custom-decoding-strategy-with-your-model) instead. This warning will be raised to an exception in v4.41.\n",
      "Non-default generation parameters: {'early_stopping': True, 'num_beams': 4, 'no_repeat_ngram_size': 3, 'forced_bos_token_id': 0, 'forced_eos_token_id': 2}\n",
      "training_args.bin:   0%|          | 0.00/5.18k [00:00<?, ?B/s]\n",
      "\u001b[A\n",
      "training_args.bin: 100%|██████████| 5.18k/5.18k [00:00<00:00, 18.3kB/s]\n",
      "\n",
      "\u001b[A\n",
      "\u001b[A\n",
      "\u001b[A\n",
      "\u001b[A\n",
      "\u001b[A\n",
      "\u001b[A\n",
      "\u001b[A\n",
      "\u001b[A\n",
      "\u001b[A\n",
      "\u001b[A\n",
      "\u001b[A\n",
      "\u001b[A\n",
      "\u001b[A\n",
      "\u001b[A\n",
      "\u001b[A\n",
      "\u001b[A\n",
      "\u001b[A\n",
      "\u001b[A\n",
      "\u001b[A\n",
      "\u001b[A\n",
      "\u001b[A\n",
      "\u001b[A\n",
      "\u001b[A\n",
      "\u001b[A\n",
      "\u001b[A\n",
      "\u001b[A\n",
      "\u001b[A\n",
      "\u001b[A\n",
      "\u001b[A\n",
      "\u001b[A\n",
      "\u001b[A\n",
      "\u001b[A\n",
      "\u001b[A\n",
      "\u001b[A\n",
      "\u001b[A\n",
      "\u001b[A\n",
      "\u001b[A\n",
      "\u001b[A\n",
      "\u001b[A\n",
      "\u001b[A\n",
      "\u001b[A\n",
      "\u001b[A\n",
      "\u001b[A\n",
      "\u001b[A\n",
      "\u001b[A\n",
      "\u001b[A\n",
      "\u001b[A\n",
      "\u001b[A\n",
      "\u001b[A\n",
      "\u001b[A\n",
      "\u001b[A\n",
      "\u001b[A\n",
      "\u001b[A\n",
      "\u001b[A\n",
      "\u001b[A\n",
      "\u001b[A\n",
      "\u001b[A\n",
      "\u001b[A\n",
      "\u001b[A\n",
      "\u001b[A\n",
      "\u001b[A\n",
      "\u001b[A\n",
      "\u001b[A\n",
      "\u001b[A\n",
      "\u001b[A\n",
      "\u001b[A\n",
      "\u001b[A\n",
      "\u001b[A\n",
      "\u001b[A\n",
      "\u001b[A\n",
      "\u001b[A\n",
      "\u001b[A\n",
      "\u001b[A\n",
      "\u001b[A\n",
      "\u001b[A\n",
      "\u001b[A\n",
      "\u001b[A\n",
      "\u001b[A\n",
      "\u001b[A\n",
      "\u001b[A\n",
      "\u001b[A\n",
      "\u001b[A\n",
      "\u001b[A\n",
      "\u001b[A\n",
      "\u001b[A\n",
      "\u001b[A\n",
      "\u001b[A\n",
      "\u001b[A\n",
      "\u001b[A\n",
      "\u001b[A\n",
      "\u001b[A\n",
      "\u001b[A\n",
      "\u001b[A\n",
      "\u001b[A\n",
      "\u001b[A\n",
      "\u001b[A\n",
      "\u001b[A\n",
      "\u001b[A\n",
      "\u001b[A\n",
      "\u001b[A\n",
      "\u001b[A\n",
      "\u001b[A\n",
      "\u001b[A\n",
      "\u001b[A\n",
      "\u001b[A\n",
      "\u001b[A\n",
      "\u001b[A\n",
      "\u001b[A\n",
      "\u001b[A\n",
      "\u001b[A\n",
      "\u001b[A\n",
      "\u001b[A\n",
      "\u001b[A\n",
      "\u001b[A\n",
      "\u001b[A\n",
      "\u001b[A\n",
      "\u001b[A\n",
      "\u001b[A\n",
      "\u001b[A\n",
      "\u001b[A\n",
      "\u001b[A\n",
      "\u001b[A\n",
      "\u001b[A\n",
      "\u001b[A\n",
      "\u001b[A\n",
      "\u001b[A\n",
      "\u001b[A\n",
      "\u001b[A\n",
      "\u001b[A\n",
      "\u001b[A\n",
      "\u001b[A\n",
      "\u001b[A\n",
      "\u001b[A\n",
      "\u001b[A\n",
      "\u001b[A\n",
      "\u001b[A\n",
      "\u001b[A\n",
      "\u001b[A\n",
      "\u001b[A\n",
      "\u001b[A\n",
      "\u001b[A\n",
      "\u001b[A\n",
      "\u001b[A\n",
      "\u001b[A\n",
      "\u001b[A\n",
      "\u001b[A\n",
      "\u001b[A\n",
      "\u001b[A\n",
      "\u001b[A\n",
      "\u001b[A\n",
      "\u001b[A\n",
      "\u001b[A\n",
      "\u001b[A\n",
      "\u001b[A\n",
      "\u001b[A\n",
      "\u001b[A\n",
      "\u001b[A\n",
      "\u001b[A\n",
      "\u001b[A\n",
      "\u001b[A\n",
      "\u001b[A\n",
      "\u001b[A\n",
      "\u001b[A\n",
      "\u001b[A\n",
      "\u001b[A\n",
      "\u001b[A\n",
      "\u001b[A\n",
      "\u001b[A\n",
      "\u001b[A\n",
      "\u001b[A\n",
      "\u001b[A\n",
      "\u001b[A\n",
      "\u001b[A\n",
      "\u001b[A\n",
      "\u001b[A\n",
      "\u001b[A\n",
      "\u001b[A\n",
      "\u001b[A\n",
      "\u001b[A\n",
      "\u001b[A\n",
      "\u001b[A\n",
      "\u001b[A\n",
      "\u001b[A\n",
      "\u001b[A\n",
      "\u001b[A\n",
      "\u001b[A\n",
      "\u001b[A\n",
      "\u001b[A\n",
      "\u001b[A\n",
      "\u001b[A\n",
      "\u001b[A\n",
      "\u001b[A\n",
      "\u001b[A\n",
      "\u001b[A\n",
      "\u001b[A\n",
      "\u001b[A\n",
      "\u001b[A\n",
      "\u001b[A\n",
      "\u001b[A\n",
      "\u001b[A\n",
      "\u001b[A\n",
      "\u001b[A\n",
      "\u001b[A\n",
      "\u001b[A\n",
      "\u001b[A\n",
      "\u001b[A\n",
      "\u001b[A\n",
      "\u001b[A\n",
      "\u001b[A\n",
      "\u001b[A\n",
      "\u001b[A\n",
      "\u001b[A\n",
      "\u001b[A\n",
      "\u001b[A\n",
      "\u001b[A\n",
      "\u001b[A\n",
      "\u001b[A\n",
      "\u001b[A\n",
      "\u001b[A\n",
      "\u001b[A\n",
      "\u001b[A\n",
      "\u001b[A\n",
      "\u001b[A\n",
      "\u001b[A\n",
      "\u001b[A\n",
      "\u001b[A\n",
      "\u001b[A\n",
      "\u001b[A\n",
      "\u001b[A\n",
      "\u001b[A\n",
      "\u001b[A\n",
      "\u001b[A\n",
      "\u001b[A\n",
      "\u001b[A\n",
      "\u001b[A\n",
      "\u001b[A\n",
      "\u001b[A\n",
      "\u001b[A\n",
      "\u001b[A\n",
      "\u001b[A\n",
      "\u001b[A\n",
      "\u001b[A\n",
      "\u001b[A\n",
      "\u001b[A\n",
      "\u001b[A\n",
      "\u001b[A\n",
      "\u001b[A\n",
      "\u001b[A\n",
      "\u001b[A\n",
      "\u001b[A\n",
      "\u001b[A\n",
      "\u001b[A\n",
      "\u001b[A\n",
      "\u001b[A\n",
      "\u001b[A\n",
      "\u001b[A\n",
      "\u001b[A\n",
      "\u001b[A\n",
      "\u001b[A\n",
      "\u001b[A\n",
      "\u001b[A\n",
      "\u001b[A\n",
      "\u001b[A\n",
      "\u001b[A\n",
      "\u001b[A\n",
      "\u001b[A\n",
      "\u001b[A\n",
      "\u001b[A\n",
      "\u001b[A\n",
      "\u001b[A\n",
      "\u001b[A\n",
      "\u001b[A\n",
      "\u001b[A\n",
      "\u001b[A\n",
      "\u001b[A\n",
      "\u001b[A\n",
      "\u001b[A\n",
      "\u001b[A\n",
      "\u001b[A\n",
      "\u001b[A\n",
      "\u001b[A\n",
      "\u001b[A\n",
      "\u001b[A\n",
      "\u001b[A\n",
      "\u001b[A\n",
      "\u001b[A\n",
      "\u001b[A\n",
      "\u001b[A\n",
      "\u001b[A\n",
      "\u001b[A\n",
      "\u001b[A\n",
      "\u001b[A\n",
      "\u001b[A\n",
      "\u001b[A\n",
      "\u001b[A\n",
      "\u001b[A\n",
      "\u001b[A\n",
      "\u001b[A\n",
      "\u001b[A\n",
      "\u001b[A\n",
      "\u001b[A\n",
      "\u001b[A\n",
      "\u001b[A\n",
      "\u001b[A\n",
      "\u001b[A\n",
      "\u001b[A\n",
      "\u001b[A\n",
      "\u001b[A\n",
      "\u001b[A\n",
      "\u001b[A\n",
      "\u001b[A\n",
      "\u001b[A\n",
      "\u001b[A\n",
      "\u001b[A\n",
      "\u001b[A\n",
      "\u001b[A\n",
      "\u001b[A\n",
      "\u001b[A\n",
      "\u001b[A\n",
      "\u001b[A\n",
      "\u001b[A\n",
      "\u001b[A\n",
      "\u001b[A\n",
      "\u001b[A\n",
      "\u001b[A\n",
      "\u001b[A\n",
      "\u001b[A\n",
      "\u001b[A\n",
      "\u001b[A\n",
      "\u001b[A\n",
      "\u001b[A\n",
      "\u001b[A\n",
      "\u001b[A\n",
      "\u001b[A\n",
      "\u001b[A\n",
      "\u001b[A\n",
      "\u001b[A\n",
      "\u001b[A\n",
      "\u001b[A\n",
      "\u001b[A\n",
      "\u001b[A\n",
      "\u001b[A\n",
      "\u001b[A\n",
      "\u001b[A\n",
      "\u001b[A\n",
      "\u001b[A\n",
      "\u001b[A\n",
      "\u001b[A\n",
      "\u001b[A\n",
      "\u001b[A\n",
      "\u001b[A\n",
      "\u001b[A\n",
      "\u001b[A\n",
      "\u001b[A\n",
      "\u001b[A\n",
      "\u001b[A\n",
      "\u001b[A\n",
      "\u001b[A\n",
      "\u001b[A\n",
      "\u001b[A\n",
      "\u001b[A\n",
      "\u001b[A\n",
      "\u001b[A\n",
      "\u001b[A\n",
      "\u001b[A\n",
      "\u001b[A\n",
      "\u001b[A\n",
      "\u001b[A\n",
      "\u001b[A\n",
      "\u001b[A\n",
      "\u001b[A\n",
      "\u001b[A\n",
      "\u001b[A\n",
      "\u001b[A\n",
      "\u001b[A\n",
      "\u001b[A\n",
      "\u001b[A\n",
      "\u001b[A\n",
      "\u001b[A\n",
      "\u001b[A\n",
      "\u001b[A\n",
      "\u001b[A\n",
      "\u001b[A\n",
      "\u001b[A\n",
      "\u001b[A\n",
      "\u001b[A\n",
      "\u001b[A\n",
      "\u001b[A\n",
      "\u001b[A\n",
      "\u001b[A\n",
      "\u001b[A\n",
      "\u001b[A\n",
      "\u001b[A\n",
      "\u001b[A\n",
      "\u001b[A\n",
      "\u001b[A\n",
      "\u001b[A\n",
      "\u001b[A\n",
      "\u001b[A\n",
      "\u001b[A\n",
      "\u001b[A\n",
      "\u001b[A\n",
      "\u001b[A\n",
      "\u001b[A\n",
      "\u001b[A\n",
      "\u001b[A\n",
      "\u001b[A\n",
      "\u001b[A\n",
      "\u001b[A\n",
      "\u001b[A\n",
      "\u001b[A\n",
      "\u001b[A\n",
      "\u001b[A\n",
      "\u001b[A\n",
      "\u001b[A\n",
      "\u001b[A\n",
      "\u001b[A\n",
      "\u001b[A\n",
      "\u001b[A\n",
      "\u001b[A\n",
      "\u001b[A\n",
      "\u001b[A\n",
      "\u001b[A\n",
      "\u001b[A\n",
      "\u001b[A\n",
      "\u001b[A\n",
      "\u001b[A\n",
      "\u001b[A\n",
      "\u001b[A\n",
      "\u001b[A\n",
      "\u001b[A\n",
      "\u001b[A\n",
      "\u001b[A\n",
      "\u001b[A\n",
      "\u001b[A\n",
      "\u001b[A\n",
      "\u001b[A\n",
      "\u001b[A\n",
      "\u001b[A\n",
      "\u001b[A\n",
      "\u001b[A\n",
      "\u001b[A\n",
      "\u001b[A\n",
      "\u001b[A\n",
      "\u001b[A\n",
      "\u001b[A\n",
      "\u001b[A\n",
      "\u001b[A\n",
      "model.safetensors: 100%|██████████| 1.63G/1.63G [01:55<00:00, 14.1MB/s]\n",
      "Upload 2 LFS files: 100%|██████████| 2/2 [01:56<00:00, 58.10s/it] \n"
     ]
    },
    {
     "data": {
      "text/plain": [
       "CommitInfo(commit_url='https://huggingface.co/wbcmthh42/bart_tech_keywords/commit/aaa476e530d52c5ef3c58dd4029c1cdf966f6d6c', commit_message='wbcmthh42/tech-keywords-extractor_plp', commit_description='', oid='aaa476e530d52c5ef3c58dd4029c1cdf966f6d6c', pr_url=None, pr_revision=None, pr_num=None)"
      ]
     },
     "execution_count": 24,
     "metadata": {},
     "output_type": "execute_result"
    }
   ],
   "source": [
    "# you would replace your own name here\n",
    "# you do not need to create a repository beforehand\n",
    "trainer.push_to_hub(\"wbcmthh42/tech-keywords-extractor_plp\")"
   ]
  },
  {
   "cell_type": "code",
   "execution_count": 11,
   "metadata": {},
   "outputs": [
    {
     "name": "stderr",
     "output_type": "stream",
     "text": [
      "huggingface/tokenizers: The current process just got forked, after parallelism has already been used. Disabling parallelism to avoid deadlocks...\n",
      "To disable this warning, you can either:\n",
      "\t- Avoid using `tokenizers` before the fork if possible\n",
      "\t- Explicitly set the environment variable TOKENIZERS_PARALLELISM=(true | false)\n"
     ]
    },
    {
     "name": "stdout",
     "output_type": "stream",
     "text": [
      "Collecting bert-score\n",
      "  Downloading bert_score-0.3.13-py3-none-any.whl.metadata (15 kB)\n",
      "Requirement already satisfied: torch>=1.0.0 in /opt/miniconda3/envs/plp_module/lib/python3.12/site-packages (from bert-score) (2.4.1)\n",
      "Requirement already satisfied: pandas>=1.0.1 in /opt/miniconda3/envs/plp_module/lib/python3.12/site-packages (from bert-score) (2.2.2)\n",
      "Requirement already satisfied: transformers>=3.0.0 in /opt/miniconda3/envs/plp_module/lib/python3.12/site-packages (from bert-score) (4.44.2)\n",
      "Requirement already satisfied: numpy in /opt/miniconda3/envs/plp_module/lib/python3.12/site-packages (from bert-score) (2.1.1)\n",
      "Requirement already satisfied: requests in /opt/miniconda3/envs/plp_module/lib/python3.12/site-packages (from bert-score) (2.32.3)\n",
      "Requirement already satisfied: tqdm>=4.31.1 in /opt/miniconda3/envs/plp_module/lib/python3.12/site-packages (from bert-score) (4.66.5)\n",
      "Collecting matplotlib (from bert-score)\n",
      "  Using cached matplotlib-3.9.2-cp312-cp312-macosx_11_0_arm64.whl.metadata (11 kB)\n",
      "Requirement already satisfied: packaging>=20.9 in /opt/miniconda3/envs/plp_module/lib/python3.12/site-packages (from bert-score) (24.1)\n",
      "Requirement already satisfied: python-dateutil>=2.8.2 in /opt/miniconda3/envs/plp_module/lib/python3.12/site-packages (from pandas>=1.0.1->bert-score) (2.9.0)\n",
      "Requirement already satisfied: pytz>=2020.1 in /opt/miniconda3/envs/plp_module/lib/python3.12/site-packages (from pandas>=1.0.1->bert-score) (2024.2)\n",
      "Requirement already satisfied: tzdata>=2022.7 in /opt/miniconda3/envs/plp_module/lib/python3.12/site-packages (from pandas>=1.0.1->bert-score) (2024.1)\n",
      "Requirement already satisfied: filelock in /opt/miniconda3/envs/plp_module/lib/python3.12/site-packages (from torch>=1.0.0->bert-score) (3.16.0)\n",
      "Requirement already satisfied: typing-extensions>=4.8.0 in /opt/miniconda3/envs/plp_module/lib/python3.12/site-packages (from torch>=1.0.0->bert-score) (4.12.2)\n",
      "Requirement already satisfied: sympy in /opt/miniconda3/envs/plp_module/lib/python3.12/site-packages (from torch>=1.0.0->bert-score) (1.13.2)\n",
      "Requirement already satisfied: networkx in /opt/miniconda3/envs/plp_module/lib/python3.12/site-packages (from torch>=1.0.0->bert-score) (3.3)\n",
      "Requirement already satisfied: jinja2 in /opt/miniconda3/envs/plp_module/lib/python3.12/site-packages (from torch>=1.0.0->bert-score) (3.1.4)\n",
      "Requirement already satisfied: fsspec in /opt/miniconda3/envs/plp_module/lib/python3.12/site-packages (from torch>=1.0.0->bert-score) (2024.6.1)\n",
      "Requirement already satisfied: setuptools in /opt/miniconda3/envs/plp_module/lib/python3.12/site-packages (from torch>=1.0.0->bert-score) (72.1.0)\n",
      "Requirement already satisfied: huggingface-hub<1.0,>=0.23.2 in /opt/miniconda3/envs/plp_module/lib/python3.12/site-packages (from transformers>=3.0.0->bert-score) (0.24.6)\n",
      "Requirement already satisfied: pyyaml>=5.1 in /opt/miniconda3/envs/plp_module/lib/python3.12/site-packages (from transformers>=3.0.0->bert-score) (6.0.2)\n",
      "Requirement already satisfied: regex!=2019.12.17 in /opt/miniconda3/envs/plp_module/lib/python3.12/site-packages (from transformers>=3.0.0->bert-score) (2024.7.24)\n",
      "Requirement already satisfied: safetensors>=0.4.1 in /opt/miniconda3/envs/plp_module/lib/python3.12/site-packages (from transformers>=3.0.0->bert-score) (0.4.5)\n",
      "Requirement already satisfied: tokenizers<0.20,>=0.19 in /opt/miniconda3/envs/plp_module/lib/python3.12/site-packages (from transformers>=3.0.0->bert-score) (0.19.1)\n",
      "Collecting contourpy>=1.0.1 (from matplotlib->bert-score)\n",
      "  Downloading contourpy-1.3.0-cp312-cp312-macosx_11_0_arm64.whl.metadata (5.4 kB)\n",
      "Collecting cycler>=0.10 (from matplotlib->bert-score)\n",
      "  Using cached cycler-0.12.1-py3-none-any.whl.metadata (3.8 kB)\n",
      "Collecting fonttools>=4.22.0 (from matplotlib->bert-score)\n",
      "  Using cached fonttools-4.53.1-cp312-cp312-macosx_11_0_arm64.whl.metadata (162 kB)\n",
      "Collecting kiwisolver>=1.3.1 (from matplotlib->bert-score)\n",
      "  Downloading kiwisolver-1.4.7-cp312-cp312-macosx_11_0_arm64.whl.metadata (6.3 kB)\n",
      "Collecting pillow>=8 (from matplotlib->bert-score)\n",
      "  Using cached pillow-10.4.0-cp312-cp312-macosx_11_0_arm64.whl.metadata (9.2 kB)\n",
      "Collecting pyparsing>=2.3.1 (from matplotlib->bert-score)\n",
      "  Downloading pyparsing-3.1.4-py3-none-any.whl.metadata (5.1 kB)\n",
      "Requirement already satisfied: charset-normalizer<4,>=2 in /opt/miniconda3/envs/plp_module/lib/python3.12/site-packages (from requests->bert-score) (3.3.2)\n",
      "Requirement already satisfied: idna<4,>=2.5 in /opt/miniconda3/envs/plp_module/lib/python3.12/site-packages (from requests->bert-score) (3.8)\n",
      "Requirement already satisfied: urllib3<3,>=1.21.1 in /opt/miniconda3/envs/plp_module/lib/python3.12/site-packages (from requests->bert-score) (2.2.2)\n",
      "Requirement already satisfied: certifi>=2017.4.17 in /opt/miniconda3/envs/plp_module/lib/python3.12/site-packages (from requests->bert-score) (2024.8.30)\n",
      "Requirement already satisfied: six>=1.5 in /opt/miniconda3/envs/plp_module/lib/python3.12/site-packages (from python-dateutil>=2.8.2->pandas>=1.0.1->bert-score) (1.16.0)\n",
      "Requirement already satisfied: MarkupSafe>=2.0 in /opt/miniconda3/envs/plp_module/lib/python3.12/site-packages (from jinja2->torch>=1.0.0->bert-score) (2.1.5)\n",
      "Requirement already satisfied: mpmath<1.4,>=1.1.0 in /opt/miniconda3/envs/plp_module/lib/python3.12/site-packages (from sympy->torch>=1.0.0->bert-score) (1.3.0)\n",
      "Downloading bert_score-0.3.13-py3-none-any.whl (61 kB)\n",
      "Using cached matplotlib-3.9.2-cp312-cp312-macosx_11_0_arm64.whl (7.8 MB)\n",
      "Downloading contourpy-1.3.0-cp312-cp312-macosx_11_0_arm64.whl (251 kB)\n",
      "Using cached cycler-0.12.1-py3-none-any.whl (8.3 kB)\n",
      "Using cached fonttools-4.53.1-cp312-cp312-macosx_11_0_arm64.whl (2.2 MB)\n",
      "Downloading kiwisolver-1.4.7-cp312-cp312-macosx_11_0_arm64.whl (63 kB)\n",
      "Using cached pillow-10.4.0-cp312-cp312-macosx_11_0_arm64.whl (3.4 MB)\n",
      "Downloading pyparsing-3.1.4-py3-none-any.whl (104 kB)\n",
      "Installing collected packages: pyparsing, pillow, kiwisolver, fonttools, cycler, contourpy, matplotlib, bert-score\n",
      "Successfully installed bert-score-0.3.13 contourpy-1.3.0 cycler-0.12.1 fonttools-4.53.1 kiwisolver-1.4.7 matplotlib-3.9.2 pillow-10.4.0 pyparsing-3.1.4\n"
     ]
    }
   ],
   "source": [
    "!pip install bert-score"
   ]
  },
  {
   "cell_type": "code",
   "execution_count": 12,
   "metadata": {},
   "outputs": [
    {
     "name": "stderr",
     "output_type": "stream",
     "text": [
      "huggingface/tokenizers: The current process just got forked, after parallelism has already been used. Disabling parallelism to avoid deadlocks...\n",
      "To disable this warning, you can either:\n",
      "\t- Avoid using `tokenizers` before the fork if possible\n",
      "\t- Explicitly set the environment variable TOKENIZERS_PARALLELISM=(true | false)\n"
     ]
    },
    {
     "name": "stdout",
     "output_type": "stream",
     "text": [
      "Matplotlib is building the font cache; this may take a moment.\n",
      "tokenizer_config.json: 100%|█████████████████| 25.0/25.0 [00:00<00:00, 67.6kB/s]\n",
      "config.json: 100%|█████████████████████████████| 482/482 [00:00<00:00, 1.85MB/s]\n",
      "vocab.json: 100%|████████████████████████████| 899k/899k [00:00<00:00, 5.91MB/s]\n",
      "merges.txt: 100%|████████████████████████████| 456k/456k [00:00<00:00, 2.95MB/s]\n",
      "tokenizer.json: 100%|██████████████████████| 1.36M/1.36M [00:00<00:00, 8.56MB/s]\n",
      "/opt/miniconda3/envs/plp_module/lib/python3.12/site-packages/transformers/tokenization_utils_base.py:1601: FutureWarning: `clean_up_tokenization_spaces` was not set. It will be set to `True` by default. This behavior will be depracted in transformers v4.45, and will be then set to `False` by default. For more details check this issue: https://github.com/huggingface/transformers/issues/31884\n",
      "  warnings.warn(\n",
      "model.safetensors: 100%|███████████████████| 1.42G/1.42G [00:52<00:00, 27.1MB/s]\n",
      "Some weights of RobertaModel were not initialized from the model checkpoint at roberta-large and are newly initialized: ['roberta.pooler.dense.bias', 'roberta.pooler.dense.weight']\n",
      "You should probably TRAIN this model on a down-stream task to be able to use it for predictions and inference.\n",
      "Saved figure to file:  out.png\n",
      "Figure(800x700)\n"
     ]
    }
   ],
   "source": [
    "!bert-score-show --lang en -r \"There are two bananas on the table.\" -c \"On the table are two apples.\" -f out.png"
   ]
  },
  {
   "cell_type": "code",
   "execution_count": 20,
   "metadata": {},
   "outputs": [
    {
     "name": "stderr",
     "output_type": "stream",
     "text": [
      "Your max_length is set to 128, but your input_length is only 12. Since this is a summarization task, where outputs shorter than the input are typically wanted, you might consider decreasing max_length manually, e.g. summarizer('...', max_length=6)\n",
      "/opt/miniconda3/envs/plp_module/lib/python3.12/site-packages/transformers/tokenization_utils_base.py:1601: FutureWarning: `clean_up_tokenization_spaces` was not set. It will be set to `True` by default. This behavior will be depracted in transformers v4.45, and will be then set to `False` by default. For more details check this issue: https://github.com/huggingface/transformers/issues/31884\n",
      "  warnings.warn(\n",
      "Some weights of RobertaModel were not initialized from the model checkpoint at roberta-large and are newly initialized: ['roberta.pooler.dense.bias', 'roberta.pooler.dense.weight']\n",
      "You should probably TRAIN this model on a down-stream task to be able to use it for predictions and inference.\n"
     ]
    },
    {
     "name": "stdout",
     "output_type": "stream",
     "text": [
      "calculating scores...\n",
      "computing bert embedding.\n"
     ]
    },
    {
     "name": "stderr",
     "output_type": "stream",
     "text": [
      "100%|██████████| 1/1 [00:00<00:00,  9.27it/s]\n"
     ]
    },
    {
     "name": "stdout",
     "output_type": "stream",
     "text": [
      "computing greedy matching.\n"
     ]
    },
    {
     "name": "stderr",
     "output_type": "stream",
     "text": [
      "  0%|          | 0/1 [00:00<?, ?it/s]Warning: Empty candidate sentence detected; setting raw BERTscores to 0.\n",
      "Warning: Empty reference sentence detected; setting raw BERTScores to 0.\n",
      "100%|██████████| 1/1 [00:00<00:00, 499.68it/s]"
     ]
    },
    {
     "name": "stdout",
     "output_type": "stream",
     "text": [
      "done in 0.11 seconds, 394.60 sentences/sec\n"
     ]
    },
    {
     "name": "stderr",
     "output_type": "stream",
     "text": [
      "\n"
     ]
    }
   ],
   "source": [
    "from bert_score import score\n",
    "\n",
    "P, R, F1 = score(pipe(dataset['test'][0]['text'])[0]['summary_text'], dataset['test'][1]['keywords'], lang=\"en\", verbose=True)"
   ]
  },
  {
   "cell_type": "code",
   "execution_count": 48,
   "metadata": {},
   "outputs": [
    {
     "name": "stderr",
     "output_type": "stream",
     "text": [
      "Your max_length is set to 128, but your input_length is only 12. Since this is a summarization task, where outputs shorter than the input are typically wanted, you might consider decreasing max_length manually, e.g. summarizer('...', max_length=6)\n",
      "Some weights of RobertaModel were not initialized from the model checkpoint at roberta-large and are newly initialized: ['roberta.pooler.dense.bias', 'roberta.pooler.dense.weight']\n",
      "You should probably TRAIN this model on a down-stream task to be able to use it for predictions and inference.\n"
     ]
    },
    {
     "name": "stdout",
     "output_type": "stream",
     "text": [
      "calculating scores...\n",
      "computing bert embedding.\n"
     ]
    },
    {
     "name": "stderr",
     "output_type": "stream",
     "text": [
      "100%|██████████| 1/1 [00:00<00:00,  8.64it/s]\n"
     ]
    },
    {
     "name": "stdout",
     "output_type": "stream",
     "text": [
      "computing greedy matching.\n"
     ]
    },
    {
     "name": "stderr",
     "output_type": "stream",
     "text": [
      "  0%|          | 0/1 [00:00<?, ?it/s]Warning: Empty candidate sentence detected; setting raw BERTscores to 0.\n",
      "Warning: Empty reference sentence detected; setting raw BERTScores to 0.\n",
      "100%|██████████| 1/1 [00:00<00:00, 534.58it/s]"
     ]
    },
    {
     "name": "stdout",
     "output_type": "stream",
     "text": [
      "done in 0.12 seconds, 368.70 sentences/sec\n"
     ]
    },
    {
     "name": "stderr",
     "output_type": "stream",
     "text": [
      "\n"
     ]
    }
   ],
   "source": [
    "P, R, F1 = score(pipe(dataset['test'][1]['text'])[0]['summary_text'], dataset['test'][1]['keywords'], lang=\"en\", verbose=True)"
   ]
  },
  {
   "cell_type": "code",
   "execution_count": 50,
   "metadata": {},
   "outputs": [
    {
     "data": {
      "text/plain": [
       "44"
      ]
     },
     "execution_count": 50,
     "metadata": {},
     "output_type": "execute_result"
    }
   ],
   "source": []
  },
  {
   "cell_type": "code",
   "execution_count": 41,
   "metadata": {},
   "outputs": [
    {
     "data": {
      "text/plain": [
       "'Unleash the Edge: Women’s Faux Leather Zip-Up Motorcycle Jacket\\u200a—\\u200aVintage Grunge Aesthetic Revived - Ride the Rebel Wave: Women’s Faux Leather Zip-Up Motorcycle Jacket\\u200a—\\u200aA Fusion of Timeless Edge and Vintage Grunge Aesthetic for…'"
      ]
     },
     "execution_count": 41,
     "metadata": {},
     "output_type": "execute_result"
    }
   ],
   "source": [
    "dataset['test'][0]['text']"
   ]
  },
  {
   "cell_type": "code",
   "execution_count": 60,
   "metadata": {},
   "outputs": [
    {
     "name": "stderr",
     "output_type": "stream",
     "text": [
      "Your max_length is set to 128, but your input_length is only 12. Since this is a summarization task, where outputs shorter than the input are typically wanted, you might consider decreasing max_length manually, e.g. summarizer('...', max_length=6)\n"
     ]
    },
    {
     "data": {
      "text/plain": [
       "'Distractions, analytical thinking, Fake News'"
      ]
     },
     "execution_count": 60,
     "metadata": {},
     "output_type": "execute_result"
    }
   ],
   "source": [
    "pipe(dataset['test'][1]['text'])[0]['summary_text']"
   ]
  },
  {
   "cell_type": "code",
   "execution_count": 61,
   "metadata": {},
   "outputs": [
    {
     "data": {
      "text/plain": [
       "'Distractions, Analytical Thinking, Fake News'"
      ]
     },
     "execution_count": 61,
     "metadata": {},
     "output_type": "execute_result"
    }
   ],
   "source": [
    "dataset['test'][1]['keywords']"
   ]
  },
  {
   "cell_type": "code",
   "execution_count": 64,
   "metadata": {},
   "outputs": [
    {
     "name": "stderr",
     "output_type": "stream",
     "text": [
      "Your max_length is set to 128, but your input_length is only 36. Since this is a summarization task, where outputs shorter than the input are typically wanted, you might consider decreasing max_length manually, e.g. summarizer('...', max_length=18)\n",
      "Some weights of RobertaModel were not initialized from the model checkpoint at roberta-large and are newly initialized: ['roberta.pooler.dense.bias', 'roberta.pooler.dense.weight']\n",
      "You should probably TRAIN this model on a down-stream task to be able to use it for predictions and inference.\n"
     ]
    },
    {
     "name": "stdout",
     "output_type": "stream",
     "text": [
      "calculating scores...\n",
      "computing bert embedding.\n"
     ]
    },
    {
     "name": "stderr",
     "output_type": "stream",
     "text": [
      "100%|██████████| 1/1 [00:00<00:00,  9.24it/s]\n"
     ]
    },
    {
     "name": "stdout",
     "output_type": "stream",
     "text": [
      "computing greedy matching.\n"
     ]
    },
    {
     "name": "stderr",
     "output_type": "stream",
     "text": [
      "100%|██████████| 1/1 [00:00<00:00, 680.34it/s]"
     ]
    },
    {
     "name": "stdout",
     "output_type": "stream",
     "text": [
      "done in 0.11 seconds, 8.96 sentences/sec\n"
     ]
    },
    {
     "name": "stderr",
     "output_type": "stream",
     "text": [
      "\n"
     ]
    }
   ],
   "source": [
    "summary = pipe(dataset['test'][3]['text'])[0]['summary_text']\n",
    "ground_truth = dataset['test'][3]['keywords']\n",
    "P, R, F1 = score([summary], [ground_truth], lang=\"en\", verbose=True)"
   ]
  },
  {
   "cell_type": "code",
   "execution_count": 65,
   "metadata": {},
   "outputs": [
    {
     "name": "stdout",
     "output_type": "stream",
     "text": [
      "System level F1 score: 0.963\n",
      "System level P score: 0.952\n",
      "System level R score: 0.974\n"
     ]
    }
   ],
   "source": [
    "print(f\"System level F1 score: {F1.mean():.3f}\")\n",
    "print(f\"System level P score: {P.mean():.3f}\")\n",
    "print(f\"System level R score: {R.mean():.3f}\")"
   ]
  },
  {
   "cell_type": "code",
   "execution_count": 79,
   "metadata": {},
   "outputs": [
    {
     "name": "stdout",
     "output_type": "stream",
     "text": [
      "System level average F1 score: 0.942\n",
      "System level average P score: 0.939\n",
      "System level average R score: 0.945\n"
     ]
    }
   ],
   "source": [
    "import pandas as pd\n",
    "\n",
    "results = pd.read_csv('/Users/tayjohnny/Documents/My_MTECH/PLP/bart_tech_keywords_results.csv', header=0)\n",
    "average_P, average_R, average_F1 = results[['P', 'R', 'F1']].mean()\n",
    "\n",
    "print(f\"System level average P score: {average_P:.3f}\")\n",
    "print(f\"System level average R score: {average_R:.3f}\")\n",
    "print(f\"System level average F1 score: {average_F1:.3f}\")"
   ]
  }
 ],
 "metadata": {
  "kernelspec": {
   "display_name": "plp-finetune",
   "language": "python",
   "name": "python3"
  },
  "language_info": {
   "codemirror_mode": {
    "name": "ipython",
    "version": 3
   },
   "file_extension": ".py",
   "mimetype": "text/x-python",
   "name": "python",
   "nbconvert_exporter": "python",
   "pygments_lexer": "ipython3",
   "version": "3.12.4"
  }
 },
 "nbformat": 4,
 "nbformat_minor": 2
}
