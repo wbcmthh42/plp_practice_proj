{
 "cells": [
  {
   "cell_type": "markdown",
   "metadata": {},
   "source": [
    "# Vader"
   ]
  },
  {
   "cell_type": "code",
   "execution_count": 1,
   "metadata": {},
   "outputs": [
    {
     "name": "stdout",
     "output_type": "stream",
     "text": [
      "Requirement already satisfied: vaderSentiment in /opt/anaconda3/envs/intellifill/lib/python3.12/site-packages (3.3.2)\n",
      "Requirement already satisfied: requests in /opt/anaconda3/envs/intellifill/lib/python3.12/site-packages (from vaderSentiment) (2.32.3)\n",
      "Requirement already satisfied: charset-normalizer<4,>=2 in /opt/anaconda3/envs/intellifill/lib/python3.12/site-packages (from requests->vaderSentiment) (3.3.2)\n",
      "Requirement already satisfied: idna<4,>=2.5 in /opt/anaconda3/envs/intellifill/lib/python3.12/site-packages (from requests->vaderSentiment) (3.7)\n",
      "Requirement already satisfied: urllib3<3,>=1.21.1 in /opt/anaconda3/envs/intellifill/lib/python3.12/site-packages (from requests->vaderSentiment) (2.2.2)\n",
      "Requirement already satisfied: certifi>=2017.4.17 in /opt/anaconda3/envs/intellifill/lib/python3.12/site-packages (from requests->vaderSentiment) (2024.6.2)\n",
      "\n",
      "\u001b[1m[\u001b[0m\u001b[34;49mnotice\u001b[0m\u001b[1;39;49m]\u001b[0m\u001b[39;49m A new release of pip is available: \u001b[0m\u001b[31;49m24.1.1\u001b[0m\u001b[39;49m -> \u001b[0m\u001b[32;49m24.2\u001b[0m\n",
      "\u001b[1m[\u001b[0m\u001b[34;49mnotice\u001b[0m\u001b[1;39;49m]\u001b[0m\u001b[39;49m To update, run: \u001b[0m\u001b[32;49mpip install --upgrade pip\u001b[0m\n"
     ]
    }
   ],
   "source": [
    "!pip install vaderSentiment"
   ]
  },
  {
   "cell_type": "code",
   "execution_count": 9,
   "metadata": {},
   "outputs": [],
   "source": [
    "from vaderSentiment.vaderSentiment import SentimentIntensityAnalyzer\n",
    "from nltk.tokenize import word_tokenize,sent_tokenize\n",
    "from tqdm import tqdm"
   ]
  },
  {
   "cell_type": "code",
   "execution_count": 3,
   "metadata": {},
   "outputs": [],
   "source": [
    "vader_obj = SentimentIntensityAnalyzer()"
   ]
  },
  {
   "cell_type": "markdown",
   "metadata": {},
   "source": [
    "## load data"
   ]
  },
  {
   "cell_type": "code",
   "execution_count": 4,
   "metadata": {},
   "outputs": [
    {
     "data": {
      "text/html": [
       "<div>\n",
       "<style scoped>\n",
       "    .dataframe tbody tr th:only-of-type {\n",
       "        vertical-align: middle;\n",
       "    }\n",
       "\n",
       "    .dataframe tbody tr th {\n",
       "        vertical-align: top;\n",
       "    }\n",
       "\n",
       "    .dataframe thead th {\n",
       "        text-align: right;\n",
       "    }\n",
       "</style>\n",
       "<table border=\"1\" class=\"dataframe\">\n",
       "  <thead>\n",
       "    <tr style=\"text-align: right;\">\n",
       "      <th></th>\n",
       "      <th>author</th>\n",
       "      <th>body</th>\n",
       "      <th>created_utc</th>\n",
       "      <th>id</th>\n",
       "      <th>submission</th>\n",
       "      <th>subreddit</th>\n",
       "      <th>subreddit_id</th>\n",
       "    </tr>\n",
       "  </thead>\n",
       "  <tbody>\n",
       "    <tr>\n",
       "      <th>0</th>\n",
       "      <td>jaegarbong</td>\n",
       "      <td>I have a feeling what you are asking for, but ...</td>\n",
       "      <td>2024-09-19 16:55:00</td>\n",
       "      <td>lnx7tpj</td>\n",
       "      <td>1fkpdzj</td>\n",
       "      <td>datascience</td>\n",
       "      <td>t5_2sptq</td>\n",
       "    </tr>\n",
       "    <tr>\n",
       "      <th>1</th>\n",
       "      <td>HammerPrice229</td>\n",
       "      <td>Have to agree (as someone trying to break in)....</td>\n",
       "      <td>2024-09-19 18:10:18</td>\n",
       "      <td>lnxmb0z</td>\n",
       "      <td>1fkpdzj</td>\n",
       "      <td>datascience</td>\n",
       "      <td>t5_2sptq</td>\n",
       "    </tr>\n",
       "    <tr>\n",
       "      <th>2</th>\n",
       "      <td>meloncholy</td>\n",
       "      <td>The PyData conferences usually have some good ...</td>\n",
       "      <td>2024-09-19 18:46:42</td>\n",
       "      <td>lnxt8w0</td>\n",
       "      <td>1fkpdzj</td>\n",
       "      <td>datascience</td>\n",
       "      <td>t5_2sptq</td>\n",
       "    </tr>\n",
       "    <tr>\n",
       "      <th>3</th>\n",
       "      <td>LyleLanleysMonorail</td>\n",
       "      <td>Coursera used to have a Practical Data Science...</td>\n",
       "      <td>2024-09-19 17:16:03</td>\n",
       "      <td>lnxbvt9</td>\n",
       "      <td>1fkpdzj</td>\n",
       "      <td>datascience</td>\n",
       "      <td>t5_2sptq</td>\n",
       "    </tr>\n",
       "    <tr>\n",
       "      <th>4</th>\n",
       "      <td>butyrospermumparkii</td>\n",
       "      <td>On that note, [Spotify's engineering blog ](ht...</td>\n",
       "      <td>2024-09-19 18:13:40</td>\n",
       "      <td>lnxmy1o</td>\n",
       "      <td>1fkpdzj</td>\n",
       "      <td>datascience</td>\n",
       "      <td>t5_2sptq</td>\n",
       "    </tr>\n",
       "  </tbody>\n",
       "</table>\n",
       "</div>"
      ],
      "text/plain": [
       "                author                                               body  \\\n",
       "0           jaegarbong  I have a feeling what you are asking for, but ...   \n",
       "1       HammerPrice229  Have to agree (as someone trying to break in)....   \n",
       "2           meloncholy  The PyData conferences usually have some good ...   \n",
       "3  LyleLanleysMonorail  Coursera used to have a Practical Data Science...   \n",
       "4  butyrospermumparkii  On that note, [Spotify's engineering blog ](ht...   \n",
       "\n",
       "           created_utc       id submission    subreddit subreddit_id  \n",
       "0  2024-09-19 16:55:00  lnx7tpj    1fkpdzj  datascience     t5_2sptq  \n",
       "1  2024-09-19 18:10:18  lnxmb0z    1fkpdzj  datascience     t5_2sptq  \n",
       "2  2024-09-19 18:46:42  lnxt8w0    1fkpdzj  datascience     t5_2sptq  \n",
       "3  2024-09-19 17:16:03  lnxbvt9    1fkpdzj  datascience     t5_2sptq  \n",
       "4  2024-09-19 18:13:40  lnxmy1o    1fkpdzj  datascience     t5_2sptq  "
      ]
     },
     "execution_count": 4,
     "metadata": {},
     "output_type": "execute_result"
    }
   ],
   "source": [
    "import pandas as pd\n",
    "file_path = '/Users/suqiulin/Downloads/160k.csv'\n",
    "df=pd.read_csv(file_path)\n",
    "df.head()"
   ]
  },
  {
   "cell_type": "code",
   "execution_count": 5,
   "metadata": {},
   "outputs": [],
   "source": [
    "df['body'] = df['body'].fillna(\"\")  # Replace NaN with empty strings"
   ]
  },
  {
   "cell_type": "markdown",
   "metadata": {},
   "source": [
    "# Get sentiment on sentencen level"
   ]
  },
  {
   "cell_type": "code",
   "execution_count": 10,
   "metadata": {},
   "outputs": [],
   "source": [
    "def get_sentiment(text):\n",
    "    if isinstance(text, str):\n",
    "        return vader_obj.polarity_scores(text)\n",
    "    else:\n",
    "        return {'neg': 0, 'neu': 0, 'pos': 0, 'compound': 0}  # Return neutral for non-strings"
   ]
  },
  {
   "cell_type": "code",
   "execution_count": 11,
   "metadata": {},
   "outputs": [],
   "source": [
    "def get_sentiment_label(sentiment_scores):\n",
    "    \"\"\"Assign sentiment label based on VADER sentiment scores.\"\"\"\n",
    "    compound_score = sentiment_scores['compound']\n",
    "    if compound_score > 0.05:\n",
    "        return 'pos'\n",
    "    elif compound_score < -0.05:\n",
    "        return 'neg'\n",
    "    else:\n",
    "        return 'neu'"
   ]
  },
  {
   "cell_type": "code",
   "execution_count": 7,
   "metadata": {},
   "outputs": [],
   "source": [
    "def truncate_to_max_length(text, max_length=512):\n",
    "    # Ensure the input is a valid string\n",
    "    if not isinstance(text, str):\n",
    "        return \"\"  # Return an empty string for non-string inputs\n",
    "    \n",
    "    # Tokenize the input text into words\n",
    "    words = word_tokenize(text)\n",
    "    \n",
    "    # Truncate the list of words to the maximum length (512 tokens/words)\n",
    "    truncated_words = words[:max_length]\n",
    "    \n",
    "    # Join the truncated words back into a string\n",
    "    truncated_text = ' '.join(truncated_words)\n",
    "    \n",
    "    return truncated_text"
   ]
  },
  {
   "cell_type": "code",
   "execution_count": 12,
   "metadata": {},
   "outputs": [
    {
     "name": "stderr",
     "output_type": "stream",
     "text": [
      "100%|█████████████████████████████████████████████████████| 161552/161552 [00:32<00:00, 4979.58it/s]\n"
     ]
    }
   ],
   "source": [
    "# List to store the results\n",
    "results = []\n",
    "\n",
    "# Iterate through the dataframe\n",
    "for index, row in tqdm(df.iterrows(), total=len(df), ncols=100):\n",
    "    review = row['body']\n",
    "    subreddit = row['subreddit']\n",
    "    created_utc = row['created_utc']\n",
    "\n",
    "    # Sentence tokenization\n",
    "    for sentence in sent_tokenize(review):\n",
    "        truncated_sentence = truncate_to_max_length(sentence, max_length=512)\n",
    "\n",
    "        # Get sentiment for the sentence using Vader\n",
    "        sentiment_scores = vader_obj.polarity_scores(truncated_sentence)\n",
    "        compound = sentiment_scores['compound']\n",
    "        sentiment_label = get_sentiment_label(sentiment_scores)\n",
    "        # Append results\n",
    "        results.append({\n",
    "            \"subreddit\": subreddit,\n",
    "            \"created_utc\": created_utc,\n",
    "            \"sentence\": truncated_sentence,\n",
    "            \"sentiment_scores\": compound,\n",
    "            \"polarity\": sentiment_label\n",
    "        })"
   ]
  },
  {
   "cell_type": "markdown",
   "metadata": {},
   "source": [
    "# Export and Visualize results"
   ]
  },
  {
   "cell_type": "code",
   "execution_count": 13,
   "metadata": {},
   "outputs": [],
   "source": [
    "df_results = pd.DataFrame(results)\n",
    "df_results.to_csv('/Users/suqiulin/Downloads/sentiment_by_vader_sentlevel.csv', index=False)"
   ]
  },
  {
   "cell_type": "code",
   "execution_count": 16,
   "metadata": {},
   "outputs": [
    {
     "data": {
      "text/html": [
       "<div>\n",
       "<style scoped>\n",
       "    .dataframe tbody tr th:only-of-type {\n",
       "        vertical-align: middle;\n",
       "    }\n",
       "\n",
       "    .dataframe tbody tr th {\n",
       "        vertical-align: top;\n",
       "    }\n",
       "\n",
       "    .dataframe thead th {\n",
       "        text-align: right;\n",
       "    }\n",
       "</style>\n",
       "<table border=\"1\" class=\"dataframe\">\n",
       "  <thead>\n",
       "    <tr style=\"text-align: right;\">\n",
       "      <th></th>\n",
       "      <th>subreddit</th>\n",
       "      <th>created_utc</th>\n",
       "      <th>sentence</th>\n",
       "      <th>sentiment_scores</th>\n",
       "      <th>polarity</th>\n",
       "    </tr>\n",
       "  </thead>\n",
       "  <tbody>\n",
       "    <tr>\n",
       "      <th>0</th>\n",
       "      <td>datascience</td>\n",
       "      <td>2024-09-19 16:55:00</td>\n",
       "      <td>I have a feeling what you are asking for , but...</td>\n",
       "      <td>-0.3666</td>\n",
       "      <td>neg</td>\n",
       "    </tr>\n",
       "    <tr>\n",
       "      <th>1</th>\n",
       "      <td>datascience</td>\n",
       "      <td>2024-09-19 16:55:00</td>\n",
       "      <td>however : Try blogs of major companies .</td>\n",
       "      <td>0.0000</td>\n",
       "      <td>neu</td>\n",
       "    </tr>\n",
       "    <tr>\n",
       "      <th>2</th>\n",
       "      <td>datascience</td>\n",
       "      <td>2024-09-19 16:55:00</td>\n",
       "      <td>I used to read Netflix Engineering blog , wher...</td>\n",
       "      <td>0.0000</td>\n",
       "      <td>neu</td>\n",
       "    </tr>\n",
       "    <tr>\n",
       "      <th>3</th>\n",
       "      <td>datascience</td>\n",
       "      <td>2024-09-19 16:55:00</td>\n",
       "      <td>Being a gamer I also read Ubi Riot and Activis...</td>\n",
       "      <td>-0.8442</td>\n",
       "      <td>neg</td>\n",
       "    </tr>\n",
       "    <tr>\n",
       "      <th>4</th>\n",
       "      <td>datascience</td>\n",
       "      <td>2024-09-19 16:55:00</td>\n",
       "      <td>And how is not finding insight a part of data ...</td>\n",
       "      <td>0.0000</td>\n",
       "      <td>neu</td>\n",
       "    </tr>\n",
       "  </tbody>\n",
       "</table>\n",
       "</div>"
      ],
      "text/plain": [
       "     subreddit          created_utc  \\\n",
       "0  datascience  2024-09-19 16:55:00   \n",
       "1  datascience  2024-09-19 16:55:00   \n",
       "2  datascience  2024-09-19 16:55:00   \n",
       "3  datascience  2024-09-19 16:55:00   \n",
       "4  datascience  2024-09-19 16:55:00   \n",
       "\n",
       "                                            sentence  sentiment_scores  \\\n",
       "0  I have a feeling what you are asking for , but...           -0.3666   \n",
       "1           however : Try blogs of major companies .            0.0000   \n",
       "2  I used to read Netflix Engineering blog , wher...            0.0000   \n",
       "3  Being a gamer I also read Ubi Riot and Activis...           -0.8442   \n",
       "4  And how is not finding insight a part of data ...            0.0000   \n",
       "\n",
       "  polarity  \n",
       "0      neg  \n",
       "1      neu  \n",
       "2      neu  \n",
       "3      neg  \n",
       "4      neu  "
      ]
     },
     "execution_count": 16,
     "metadata": {},
     "output_type": "execute_result"
    }
   ],
   "source": [
    "df_results.head()"
   ]
  },
  {
   "cell_type": "code",
   "execution_count": 17,
   "metadata": {},
   "outputs": [
    {
     "data": {
      "text/plain": [
       "(438484, 5)"
      ]
     },
     "execution_count": 17,
     "metadata": {},
     "output_type": "execute_result"
    }
   ],
   "source": [
    "df_results.shape"
   ]
  },
  {
   "cell_type": "code",
   "execution_count": 14,
   "metadata": {},
   "outputs": [
    {
     "name": "stdout",
     "output_type": "stream",
     "text": [
      "Requirement already satisfied: matplotlib in /opt/anaconda3/envs/intellifill/lib/python3.12/site-packages (3.9.2)\n",
      "Requirement already satisfied: contourpy>=1.0.1 in /opt/anaconda3/envs/intellifill/lib/python3.12/site-packages (from matplotlib) (1.3.0)\n",
      "Requirement already satisfied: cycler>=0.10 in /opt/anaconda3/envs/intellifill/lib/python3.12/site-packages (from matplotlib) (0.12.1)\n",
      "Requirement already satisfied: fonttools>=4.22.0 in /opt/anaconda3/envs/intellifill/lib/python3.12/site-packages (from matplotlib) (4.53.1)\n",
      "Requirement already satisfied: kiwisolver>=1.3.1 in /opt/anaconda3/envs/intellifill/lib/python3.12/site-packages (from matplotlib) (1.4.7)\n",
      "Requirement already satisfied: numpy>=1.23 in /opt/anaconda3/envs/intellifill/lib/python3.12/site-packages (from matplotlib) (1.26.4)\n",
      "Requirement already satisfied: packaging>=20.0 in /opt/anaconda3/envs/intellifill/lib/python3.12/site-packages (from matplotlib) (24.1)\n",
      "Requirement already satisfied: pillow>=8 in /opt/anaconda3/envs/intellifill/lib/python3.12/site-packages (from matplotlib) (10.3.0)\n",
      "Requirement already satisfied: pyparsing>=2.3.1 in /opt/anaconda3/envs/intellifill/lib/python3.12/site-packages (from matplotlib) (3.1.4)\n",
      "Requirement already satisfied: python-dateutil>=2.7 in /opt/anaconda3/envs/intellifill/lib/python3.12/site-packages (from matplotlib) (2.9.0)\n",
      "Requirement already satisfied: six>=1.5 in /opt/anaconda3/envs/intellifill/lib/python3.12/site-packages (from python-dateutil>=2.7->matplotlib) (1.16.0)\n",
      "\n",
      "\u001b[1m[\u001b[0m\u001b[34;49mnotice\u001b[0m\u001b[1;39;49m]\u001b[0m\u001b[39;49m A new release of pip is available: \u001b[0m\u001b[31;49m24.1.1\u001b[0m\u001b[39;49m -> \u001b[0m\u001b[32;49m24.2\u001b[0m\n",
      "\u001b[1m[\u001b[0m\u001b[34;49mnotice\u001b[0m\u001b[1;39;49m]\u001b[0m\u001b[39;49m To update, run: \u001b[0m\u001b[32;49mpip install --upgrade pip\u001b[0m\n"
     ]
    }
   ],
   "source": [
    "!pip install matplotlib\n",
    "import matplotlib.pyplot as plt"
   ]
  },
  {
   "cell_type": "code",
   "execution_count": 15,
   "metadata": {},
   "outputs": [
    {
     "data": {
      "text/plain": [
       "polarity\n",
       "neu    173686\n",
       "pos    161112\n",
       "neg    103686\n",
       "Name: count, dtype: int64"
      ]
     },
     "execution_count": 15,
     "metadata": {},
     "output_type": "execute_result"
    }
   ],
   "source": [
    "df_results['polarity'].value_counts()"
   ]
  },
  {
   "cell_type": "code",
   "execution_count": 19,
   "metadata": {},
   "outputs": [
    {
     "data": {
      "image/png": "[encoded data removed]",
      "text/plain": [
       "<Figure size 640x480 with 1 Axes>"
      ]
     },
     "metadata": {},
     "output_type": "display_data"
    }
   ],
   "source": [
    "df_results['polarity'].value_counts().plot(kind='bar')\n",
    "plt.show()"
   ]
  },
  {
   "cell_type": "markdown",
   "metadata": {},
   "source": [
    "# Evaluation"
   ]
  },
  {
   "cell_type": "code",
   "execution_count": 20,
   "metadata": {},
   "outputs": [
    {
     "data": {
      "text/html": [
       "<div>\n",
       "<style scoped>\n",
       "    .dataframe tbody tr th:only-of-type {\n",
       "        vertical-align: middle;\n",
       "    }\n",
       "\n",
       "    .dataframe tbody tr th {\n",
       "        vertical-align: top;\n",
       "    }\n",
       "\n",
       "    .dataframe thead th {\n",
       "        text-align: right;\n",
       "    }\n",
       "</style>\n",
       "<table border=\"1\" class=\"dataframe\">\n",
       "  <thead>\n",
       "    <tr style=\"text-align: right;\">\n",
       "      <th></th>\n",
       "      <th>author</th>\n",
       "      <th>body</th>\n",
       "      <th>created_utc</th>\n",
       "      <th>id</th>\n",
       "      <th>submission</th>\n",
       "      <th>subreddit</th>\n",
       "      <th>subreddit_id</th>\n",
       "      <th>label</th>\n",
       "    </tr>\n",
       "  </thead>\n",
       "  <tbody>\n",
       "    <tr>\n",
       "      <th>0</th>\n",
       "      <td>nodesign89</td>\n",
       "      <td>So nothing new?</td>\n",
       "      <td>9/8/2024 18:09</td>\n",
       "      <td>lm5go3e</td>\n",
       "      <td>1fc2c3m</td>\n",
       "      <td>technology</td>\n",
       "      <td>t5_2qh16</td>\n",
       "      <td>NEUTRAL</td>\n",
       "    </tr>\n",
       "    <tr>\n",
       "      <th>1</th>\n",
       "      <td>rangeo</td>\n",
       "      <td>Wayback I used to enjoy the random click to so...</td>\n",
       "      <td>9/19/2024 16:23</td>\n",
       "      <td>lnx1rfk</td>\n",
       "      <td>1fkg9y6</td>\n",
       "      <td>technology</td>\n",
       "      <td>t5_2qh16</td>\n",
       "      <td>NEUTRAL</td>\n",
       "    </tr>\n",
       "    <tr>\n",
       "      <th>2</th>\n",
       "      <td>OMG__Ponies</td>\n",
       "      <td>Has it? IDK. If so, they may be out of jobs as...</td>\n",
       "      <td>9/18/2024 0:54</td>\n",
       "      <td>lnnw1fj</td>\n",
       "      <td>1fjc1an</td>\n",
       "      <td>technology</td>\n",
       "      <td>t5_2qh16</td>\n",
       "      <td>NEGATIVE</td>\n",
       "    </tr>\n",
       "    <tr>\n",
       "      <th>3</th>\n",
       "      <td>QueenOfQuok</td>\n",
       "      <td>I want to write a book *specifically so it can...</td>\n",
       "      <td>9/6/2024 11:17</td>\n",
       "      <td>lls097x</td>\n",
       "      <td>1f9vq81</td>\n",
       "      <td>technology</td>\n",
       "      <td>t5_2qh16</td>\n",
       "      <td>POSITIVE</td>\n",
       "    </tr>\n",
       "    <tr>\n",
       "      <th>4</th>\n",
       "      <td>valacious</td>\n",
       "      <td>I hear you, and totally agree, I don’t own a t...</td>\n",
       "      <td>9/6/2024 3:48</td>\n",
       "      <td>llqrf4x</td>\n",
       "      <td>1f9n7pc</td>\n",
       "      <td>cybersecurity</td>\n",
       "      <td>t5_2u559</td>\n",
       "      <td>NEUTRAL</td>\n",
       "    </tr>\n",
       "  </tbody>\n",
       "</table>\n",
       "</div>"
      ],
      "text/plain": [
       "        author                                               body  \\\n",
       "0   nodesign89                                    So nothing new?   \n",
       "1       rangeo  Wayback I used to enjoy the random click to so...   \n",
       "2  OMG__Ponies  Has it? IDK. If so, they may be out of jobs as...   \n",
       "3  QueenOfQuok  I want to write a book *specifically so it can...   \n",
       "4    valacious  I hear you, and totally agree, I don’t own a t...   \n",
       "\n",
       "       created_utc       id submission      subreddit subreddit_id     label  \n",
       "0   9/8/2024 18:09  lm5go3e    1fc2c3m     technology     t5_2qh16   NEUTRAL  \n",
       "1  9/19/2024 16:23  lnx1rfk    1fkg9y6     technology     t5_2qh16   NEUTRAL  \n",
       "2   9/18/2024 0:54  lnnw1fj    1fjc1an     technology     t5_2qh16  NEGATIVE  \n",
       "3   9/6/2024 11:17  lls097x    1f9vq81     technology     t5_2qh16  POSITIVE  \n",
       "4    9/6/2024 3:48  llqrf4x    1f9n7pc  cybersecurity     t5_2u559   NEUTRAL  "
      ]
     },
     "execution_count": 20,
     "metadata": {},
     "output_type": "execute_result"
    }
   ],
   "source": [
    "import pandas as pd\n",
    "file_path = '/Users/suqiulin/Downloads/labelled_dataset_gpt4o.csv'\n",
    "df1=pd.read_csv(file_path)\n",
    "df1.head()"
   ]
  },
  {
   "cell_type": "code",
   "execution_count": 21,
   "metadata": {},
   "outputs": [
    {
     "data": {
      "text/plain": [
       "(10000, 8)"
      ]
     },
     "execution_count": 21,
     "metadata": {},
     "output_type": "execute_result"
    }
   ],
   "source": [
    "df1.shape"
   ]
  },
  {
   "cell_type": "code",
   "execution_count": 22,
   "metadata": {},
   "outputs": [],
   "source": [
    "def get_sentiment_label1(polarity):\n",
    "    \"\"\"Assign sentiment label based on polarity score.\"\"\"\n",
    "    if polarity == \"POSITIVE\":\n",
    "        return 'pos'\n",
    "    elif polarity == \"NEGATIVE\":\n",
    "        return 'neg'\n",
    "    else:\n",
    "        return 'neu'"
   ]
  },
  {
   "cell_type": "code",
   "execution_count": 24,
   "metadata": {},
   "outputs": [
    {
     "name": "stderr",
     "output_type": "stream",
     "text": [
      "100%|███████████████████████████████████████████████████████| 10000/10000 [00:02<00:00, 4826.16it/s]\n"
     ]
    }
   ],
   "source": [
    "eval = []\n",
    "for index, row in tqdm(df1.iterrows(), total=len(df1), ncols=100):\n",
    "    review = row['body']\n",
    "    label = get_sentiment_label1(row['label'])\n",
    "    subreddit = row['subreddit']\n",
    "    created_utc = row['created_utc']\n",
    "\n",
    "    # Sentence tokenization\n",
    "    for sentence in sent_tokenize(review):\n",
    "        truncated_sentence = truncate_to_max_length(sentence, max_length=512)\n",
    "\n",
    "        # Get sentiment for the sentence using Vader\n",
    "        sentiment_scores = vader_obj.polarity_scores(truncated_sentence)\n",
    "        compound = sentiment_scores['compound']\n",
    "        sentiment_label = get_sentiment_label(sentiment_scores)\n",
    "        # Append results\n",
    "        eval.append({\n",
    "            \"subreddit\": subreddit,\n",
    "            \"created_utc\": created_utc,\n",
    "            \"sentence\": truncated_sentence,\n",
    "            \"sentiment_scores\": sentiment_scores,\n",
    "            \"predicted_polarity\": sentiment_label,\n",
    "            'labeled_polarity':label\n",
    "        })"
   ]
  },
  {
   "cell_type": "code",
   "execution_count": 26,
   "metadata": {},
   "outputs": [
    {
     "data": {
      "text/html": [
       "<div>\n",
       "<style scoped>\n",
       "    .dataframe tbody tr th:only-of-type {\n",
       "        vertical-align: middle;\n",
       "    }\n",
       "\n",
       "    .dataframe tbody tr th {\n",
       "        vertical-align: top;\n",
       "    }\n",
       "\n",
       "    .dataframe thead th {\n",
       "        text-align: right;\n",
       "    }\n",
       "</style>\n",
       "<table border=\"1\" class=\"dataframe\">\n",
       "  <thead>\n",
       "    <tr style=\"text-align: right;\">\n",
       "      <th></th>\n",
       "      <th>subreddit</th>\n",
       "      <th>created_utc</th>\n",
       "      <th>sentence</th>\n",
       "      <th>sentiment_scores</th>\n",
       "      <th>predicted_polarity</th>\n",
       "      <th>labeled_polarity</th>\n",
       "    </tr>\n",
       "  </thead>\n",
       "  <tbody>\n",
       "    <tr>\n",
       "      <th>0</th>\n",
       "      <td>technology</td>\n",
       "      <td>9/8/2024 18:09</td>\n",
       "      <td>So nothing new ?</td>\n",
       "      <td>{'neg': 0.0, 'neu': 1.0, 'pos': 0.0, 'compound...</td>\n",
       "      <td>neu</td>\n",
       "      <td>neu</td>\n",
       "    </tr>\n",
       "    <tr>\n",
       "      <th>1</th>\n",
       "      <td>technology</td>\n",
       "      <td>9/19/2024 16:23</td>\n",
       "      <td>Wayback I used to enjoy the random click to so...</td>\n",
       "      <td>{'neg': 0.0, 'neu': 0.704, 'pos': 0.296, 'comp...</td>\n",
       "      <td>pos</td>\n",
       "      <td>neu</td>\n",
       "    </tr>\n",
       "    <tr>\n",
       "      <th>2</th>\n",
       "      <td>technology</td>\n",
       "      <td>9/19/2024 16:23</td>\n",
       "      <td>I have about 4 specific channels ( Rick beato ...</td>\n",
       "      <td>{'neg': 0.0, 'neu': 1.0, 'pos': 0.0, 'compound...</td>\n",
       "      <td>neu</td>\n",
       "      <td>neu</td>\n",
       "    </tr>\n",
       "    <tr>\n",
       "      <th>3</th>\n",
       "      <td>technology</td>\n",
       "      <td>9/19/2024 16:23</td>\n",
       "      <td>I look at and spend 0 time looking at or for n...</td>\n",
       "      <td>{'neg': 0.0, 'neu': 1.0, 'pos': 0.0, 'compound...</td>\n",
       "      <td>neu</td>\n",
       "      <td>neu</td>\n",
       "    </tr>\n",
       "    <tr>\n",
       "      <th>4</th>\n",
       "      <td>technology</td>\n",
       "      <td>9/18/2024 0:54</td>\n",
       "      <td>Has it ?</td>\n",
       "      <td>{'neg': 0.0, 'neu': 1.0, 'pos': 0.0, 'compound...</td>\n",
       "      <td>neu</td>\n",
       "      <td>neg</td>\n",
       "    </tr>\n",
       "  </tbody>\n",
       "</table>\n",
       "</div>"
      ],
      "text/plain": [
       "    subreddit      created_utc  \\\n",
       "0  technology   9/8/2024 18:09   \n",
       "1  technology  9/19/2024 16:23   \n",
       "2  technology  9/19/2024 16:23   \n",
       "3  technology  9/19/2024 16:23   \n",
       "4  technology   9/18/2024 0:54   \n",
       "\n",
       "                                            sentence  \\\n",
       "0                                   So nothing new ?   \n",
       "1  Wayback I used to enjoy the random click to so...   \n",
       "2  I have about 4 specific channels ( Rick beato ...   \n",
       "3  I look at and spend 0 time looking at or for n...   \n",
       "4                                           Has it ?   \n",
       "\n",
       "                                    sentiment_scores predicted_polarity  \\\n",
       "0  {'neg': 0.0, 'neu': 1.0, 'pos': 0.0, 'compound...                neu   \n",
       "1  {'neg': 0.0, 'neu': 0.704, 'pos': 0.296, 'comp...                pos   \n",
       "2  {'neg': 0.0, 'neu': 1.0, 'pos': 0.0, 'compound...                neu   \n",
       "3  {'neg': 0.0, 'neu': 1.0, 'pos': 0.0, 'compound...                neu   \n",
       "4  {'neg': 0.0, 'neu': 1.0, 'pos': 0.0, 'compound...                neu   \n",
       "\n",
       "  labeled_polarity  \n",
       "0              neu  \n",
       "1              neu  \n",
       "2              neu  \n",
       "3              neu  \n",
       "4              neg  "
      ]
     },
     "execution_count": 26,
     "metadata": {},
     "output_type": "execute_result"
    }
   ],
   "source": [
    "# to compare sentence level sentiment on the gpt labelled dataset\n",
    "df_eval = pd.DataFrame(eval)\n",
    "df_eval.head()"
   ]
  },
  {
   "cell_type": "code",
   "execution_count": 25,
   "metadata": {},
   "outputs": [
    {
     "name": "stdout",
     "output_type": "stream",
     "text": [
      "Requirement already satisfied: seaborn in /opt/anaconda3/envs/intellifill/lib/python3.12/site-packages (0.13.2)\n",
      "Requirement already satisfied: numpy!=1.24.0,>=1.20 in /opt/anaconda3/envs/intellifill/lib/python3.12/site-packages (from seaborn) (1.26.4)\n",
      "Requirement already satisfied: pandas>=1.2 in /opt/anaconda3/envs/intellifill/lib/python3.12/site-packages (from seaborn) (2.2.2)\n",
      "Requirement already satisfied: matplotlib!=3.6.1,>=3.4 in /opt/anaconda3/envs/intellifill/lib/python3.12/site-packages (from seaborn) (3.9.2)\n",
      "Requirement already satisfied: contourpy>=1.0.1 in /opt/anaconda3/envs/intellifill/lib/python3.12/site-packages (from matplotlib!=3.6.1,>=3.4->seaborn) (1.3.0)\n",
      "Requirement already satisfied: cycler>=0.10 in /opt/anaconda3/envs/intellifill/lib/python3.12/site-packages (from matplotlib!=3.6.1,>=3.4->seaborn) (0.12.1)\n",
      "Requirement already satisfied: fonttools>=4.22.0 in /opt/anaconda3/envs/intellifill/lib/python3.12/site-packages (from matplotlib!=3.6.1,>=3.4->seaborn) (4.53.1)\n",
      "Requirement already satisfied: kiwisolver>=1.3.1 in /opt/anaconda3/envs/intellifill/lib/python3.12/site-packages (from matplotlib!=3.6.1,>=3.4->seaborn) (1.4.7)\n",
      "Requirement already satisfied: packaging>=20.0 in /opt/anaconda3/envs/intellifill/lib/python3.12/site-packages (from matplotlib!=3.6.1,>=3.4->seaborn) (24.1)\n",
      "Requirement already satisfied: pillow>=8 in /opt/anaconda3/envs/intellifill/lib/python3.12/site-packages (from matplotlib!=3.6.1,>=3.4->seaborn) (10.3.0)\n",
      "Requirement already satisfied: pyparsing>=2.3.1 in /opt/anaconda3/envs/intellifill/lib/python3.12/site-packages (from matplotlib!=3.6.1,>=3.4->seaborn) (3.1.4)\n",
      "Requirement already satisfied: python-dateutil>=2.7 in /opt/anaconda3/envs/intellifill/lib/python3.12/site-packages (from matplotlib!=3.6.1,>=3.4->seaborn) (2.9.0)\n",
      "Requirement already satisfied: pytz>=2020.1 in /opt/anaconda3/envs/intellifill/lib/python3.12/site-packages (from pandas>=1.2->seaborn) (2024.1)\n",
      "Requirement already satisfied: tzdata>=2022.7 in /opt/anaconda3/envs/intellifill/lib/python3.12/site-packages (from pandas>=1.2->seaborn) (2024.1)\n",
      "Requirement already satisfied: six>=1.5 in /opt/anaconda3/envs/intellifill/lib/python3.12/site-packages (from python-dateutil>=2.7->matplotlib!=3.6.1,>=3.4->seaborn) (1.16.0)\n",
      "\n",
      "\u001b[1m[\u001b[0m\u001b[34;49mnotice\u001b[0m\u001b[1;39;49m]\u001b[0m\u001b[39;49m A new release of pip is available: \u001b[0m\u001b[31;49m24.1.1\u001b[0m\u001b[39;49m -> \u001b[0m\u001b[32;49m24.2\u001b[0m\n",
      "\u001b[1m[\u001b[0m\u001b[34;49mnotice\u001b[0m\u001b[1;39;49m]\u001b[0m\u001b[39;49m To update, run: \u001b[0m\u001b[32;49mpip install --upgrade pip\u001b[0m\n"
     ]
    }
   ],
   "source": [
    "!pip install seaborn\n",
    "from sklearn.metrics import confusion_matrix, accuracy_score, recall_score, f1_score\n",
    "import seaborn as sns\n",
    "import matplotlib.pyplot as plt"
   ]
  },
  {
   "cell_type": "code",
   "execution_count": 27,
   "metadata": {},
   "outputs": [
    {
     "name": "stdout",
     "output_type": "stream",
     "text": [
      "Confusion Matrix:\n",
      "[[2117  440 1209]\n",
      " [2964 3587 3453]\n",
      " [5104 2464 6071]]\n",
      "Recall (per class): [0.56213489 0.35855658 0.44512061]\n",
      "Type 1 Error (per class): [0.43786511 0.64144342 0.55487939]\n",
      "Type 2 Error (per class): [0.43786511 0.64144342 0.55487939]\n",
      "Accuracy for 'pos': 0.5621348911311737\n",
      "Accuracy for 'neg': 0.3585565773690524\n",
      "Accuracy for 'neu': 0.44512061001539704\n",
      "F1 Score for 'pos': 0.303490789190739\n",
      "F1 Score for 'neg': 0.43491967262806913\n",
      "F1 Score for 'neu': 0.4981946495978992\n"
     ]
    }
   ],
   "source": [
    "y_true = df_eval['labeled_polarity']\n",
    "y_pred = df_eval['predicted_polarity']\n",
    "cm = confusion_matrix(y_true, y_pred, labels=['pos', 'neg', 'neu'])\n",
    "\n",
    "# Compute accuracy\n",
    "true_positives = cm.diagonal()\n",
    "total_actual = cm.sum(axis=1)\n",
    "\n",
    "# Calculate per-class accuracy\n",
    "accuracy_per_class = true_positives / total_actual\n",
    "accuracy_pos, accuracy_neg, accuracy_neu = accuracy_per_class\n",
    "\n",
    "\n",
    "# Compute recall (per class average)\n",
    "recall = recall_score(y_true, y_pred, average=None, labels=['pos', 'neg', 'neu'])\n",
    "\n",
    "# Compute F1 Score\n",
    "f1_scores = f1_score(y_true, y_pred, labels=['pos', 'neg', 'neu'], average=None)\n",
    "f1_pos, f1_neg, f1_neu = f1_scores\n",
    "\n",
    "# Type 1 Error (False Positive Rate) - per class\n",
    "type_1_error = 1 - recall  # Since FPR = 1 - recall (when averaged across classes)\n",
    "\n",
    "# Compute Type 2 Error (False Negative Rate)\n",
    "# Type 2 error (FNR) is simply: 1 - recall per class\n",
    "type_2_error = 1 - recall\n",
    "\n",
    "# Output the results\n",
    "print(f\"Confusion Matrix:\\n{cm}\")\n",
    "print(f\"Recall (per class): {recall}\")\n",
    "print(f\"Type 1 Error (per class): {type_1_error}\")\n",
    "print(f\"Type 2 Error (per class): {type_2_error}\")\n",
    "\n",
    "# Print accuracy for each class\n",
    "print(f\"Accuracy for 'pos': {accuracy_pos}\")\n",
    "print(f\"Accuracy for 'neg': {accuracy_neg}\")\n",
    "print(f\"Accuracy for 'neu': {accuracy_neu}\")\n",
    "\n",
    "# Print F1 scores for each class\n",
    "print(f\"F1 Score for 'pos': {f1_pos}\")\n",
    "print(f\"F1 Score for 'neg': {f1_neg}\")\n",
    "print(f\"F1 Score for 'neu': {f1_neu}\")"
   ]
  },
  {
   "cell_type": "code",
   "execution_count": 28,
   "metadata": {},
   "outputs": [
    {
     "data": {
      "image/png": "[encoded data removed]",
      "text/plain": [
       "<Figure size 640x480 with 2 Axes>"
      ]
     },
     "metadata": {},
     "output_type": "display_data"
    }
   ],
   "source": [
    "sns.heatmap(cm, annot=True, fmt=\"d\", cmap=\"Blues\", xticklabels=['pos', 'neg', 'neu'], yticklabels=['pos', 'neg', 'neu'])\n",
    "plt.ylabel('True label')\n",
    "plt.xlabel('Predicted label')\n",
    "plt.title('Confusion Matrix')\n",
    "plt.show()"
   ]
  }
 ],
 "metadata": {
  "kernelspec": {
   "display_name": "intellifill",
   "language": "python",
   "name": "python3"
  },
  "language_info": {
   "codemirror_mode": {
    "name": "ipython",
    "version": 3
   },
   "file_extension": ".py",
   "mimetype": "text/x-python",
   "name": "python",
   "nbconvert_exporter": "python",
   "pygments_lexer": "ipython3",
   "version": "3.12.4"
  }
 },
 "nbformat": 4,
 "nbformat_minor": 2
}
