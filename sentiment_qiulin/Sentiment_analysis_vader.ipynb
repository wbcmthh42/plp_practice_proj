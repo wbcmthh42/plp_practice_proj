{
 "cells": [
  {
   "cell_type": "markdown",
   "metadata": {},
   "source": [
    "# Vader"
   ]
  },
  {
   "cell_type": "code",
   "execution_count": 2,
   "metadata": {},
   "outputs": [
    {
     "name": "stdout",
     "output_type": "stream",
     "text": [
      "Collecting vaderSentiment\n",
      "  Downloading vaderSentiment-3.3.2-py2.py3-none-any.whl.metadata (572 bytes)\n",
      "Requirement already satisfied: requests in /opt/anaconda3/envs/intellifill/lib/python3.12/site-packages (from vaderSentiment) (2.32.3)\n",
      "Requirement already satisfied: charset-normalizer<4,>=2 in /opt/anaconda3/envs/intellifill/lib/python3.12/site-packages (from requests->vaderSentiment) (3.3.2)\n",
      "Requirement already satisfied: idna<4,>=2.5 in /opt/anaconda3/envs/intellifill/lib/python3.12/site-packages (from requests->vaderSentiment) (3.7)\n",
      "Requirement already satisfied: urllib3<3,>=1.21.1 in /opt/anaconda3/envs/intellifill/lib/python3.12/site-packages (from requests->vaderSentiment) (2.2.2)\n",
      "Requirement already satisfied: certifi>=2017.4.17 in /opt/anaconda3/envs/intellifill/lib/python3.12/site-packages (from requests->vaderSentiment) (2024.6.2)\n",
      "Downloading vaderSentiment-3.3.2-py2.py3-none-any.whl (125 kB)\n",
      "\u001b[2K   \u001b[90m━━━━━━━━━━━━━━━━━━━━━━━━━━━━━━━━━━━━━━━━\u001b[0m \u001b[32m126.0/126.0 kB\u001b[0m \u001b[31m6.1 MB/s\u001b[0m eta \u001b[36m0:00:00\u001b[0m\n",
      "\u001b[?25hInstalling collected packages: vaderSentiment\n",
      "Successfully installed vaderSentiment-3.3.2\n",
      "\n",
      "\u001b[1m[\u001b[0m\u001b[34;49mnotice\u001b[0m\u001b[1;39;49m]\u001b[0m\u001b[39;49m A new release of pip is available: \u001b[0m\u001b[31;49m24.1.1\u001b[0m\u001b[39;49m -> \u001b[0m\u001b[32;49m24.2\u001b[0m\n",
      "\u001b[1m[\u001b[0m\u001b[34;49mnotice\u001b[0m\u001b[1;39;49m]\u001b[0m\u001b[39;49m To update, run: \u001b[0m\u001b[32;49mpip install --upgrade pip\u001b[0m\n"
     ]
    }
   ],
   "source": [
    "!pip install vaderSentiment"
   ]
  },
  {
   "cell_type": "code",
   "execution_count": 2,
   "metadata": {},
   "outputs": [],
   "source": [
    "from vaderSentiment.vaderSentiment import SentimentIntensityAnalyzer"
   ]
  },
  {
   "cell_type": "code",
   "execution_count": 3,
   "metadata": {},
   "outputs": [],
   "source": [
    "vader_obj = SentimentIntensityAnalyzer()"
   ]
  },
  {
   "cell_type": "markdown",
   "metadata": {},
   "source": [
    "## load data"
   ]
  },
  {
   "cell_type": "code",
   "execution_count": 4,
   "metadata": {},
   "outputs": [
    {
     "data": {
      "text/html": [
       "<div>\n",
       "<style scoped>\n",
       "    .dataframe tbody tr th:only-of-type {\n",
       "        vertical-align: middle;\n",
       "    }\n",
       "\n",
       "    .dataframe tbody tr th {\n",
       "        vertical-align: top;\n",
       "    }\n",
       "\n",
       "    .dataframe thead th {\n",
       "        text-align: right;\n",
       "    }\n",
       "</style>\n",
       "<table border=\"1\" class=\"dataframe\">\n",
       "  <thead>\n",
       "    <tr style=\"text-align: right;\">\n",
       "      <th></th>\n",
       "      <th>author</th>\n",
       "      <th>body</th>\n",
       "      <th>created_utc</th>\n",
       "      <th>id</th>\n",
       "      <th>submission</th>\n",
       "      <th>subreddit</th>\n",
       "      <th>subreddit_id</th>\n",
       "    </tr>\n",
       "  </thead>\n",
       "  <tbody>\n",
       "    <tr>\n",
       "      <th>0</th>\n",
       "      <td>ForeskinStealer420</td>\n",
       "      <td>A combination of (1) and (2) would make you th...</td>\n",
       "      <td>2024-09-14 22:40:45</td>\n",
       "      <td>ln5r3zv</td>\n",
       "      <td>1fgx26q</td>\n",
       "      <td>datascience</td>\n",
       "      <td>t5_2sptq</td>\n",
       "    </tr>\n",
       "    <tr>\n",
       "      <th>1</th>\n",
       "      <td>lakeland_nz</td>\n",
       "      <td>4. Shift to something less technically.  Becom...</td>\n",
       "      <td>2024-09-14 22:54:52</td>\n",
       "      <td>ln5tqg8</td>\n",
       "      <td>1fgx26q</td>\n",
       "      <td>datascience</td>\n",
       "      <td>t5_2sptq</td>\n",
       "    </tr>\n",
       "    <tr>\n",
       "      <th>2</th>\n",
       "      <td>Moscow_Gordon</td>\n",
       "      <td>Maybe look into solution architect positions f...</td>\n",
       "      <td>2024-09-15 00:16:38</td>\n",
       "      <td>ln67tl2</td>\n",
       "      <td>1fgx26q</td>\n",
       "      <td>datascience</td>\n",
       "      <td>t5_2sptq</td>\n",
       "    </tr>\n",
       "    <tr>\n",
       "      <th>3</th>\n",
       "      <td>Numerous-Tip-5097</td>\n",
       "      <td>Hey, I am on the same boat with less experienc...</td>\n",
       "      <td>2024-09-15 01:37:26</td>\n",
       "      <td>ln6jubq</td>\n",
       "      <td>1fgx26q</td>\n",
       "      <td>datascience</td>\n",
       "      <td>t5_2sptq</td>\n",
       "    </tr>\n",
       "    <tr>\n",
       "      <th>4</th>\n",
       "      <td>hornswoggle_choco05</td>\n",
       "      <td>I'd probably shake things up and try a new pat...</td>\n",
       "      <td>2024-09-15 01:58:02</td>\n",
       "      <td>ln6mtyc</td>\n",
       "      <td>1fgx26q</td>\n",
       "      <td>datascience</td>\n",
       "      <td>t5_2sptq</td>\n",
       "    </tr>\n",
       "  </tbody>\n",
       "</table>\n",
       "</div>"
      ],
      "text/plain": [
       "                author                                               body  \\\n",
       "0   ForeskinStealer420  A combination of (1) and (2) would make you th...   \n",
       "1          lakeland_nz  4. Shift to something less technically.  Becom...   \n",
       "2        Moscow_Gordon  Maybe look into solution architect positions f...   \n",
       "3    Numerous-Tip-5097  Hey, I am on the same boat with less experienc...   \n",
       "4  hornswoggle_choco05  I'd probably shake things up and try a new pat...   \n",
       "\n",
       "           created_utc       id submission    subreddit subreddit_id  \n",
       "0  2024-09-14 22:40:45  ln5r3zv    1fgx26q  datascience     t5_2sptq  \n",
       "1  2024-09-14 22:54:52  ln5tqg8    1fgx26q  datascience     t5_2sptq  \n",
       "2  2024-09-15 00:16:38  ln67tl2    1fgx26q  datascience     t5_2sptq  \n",
       "3  2024-09-15 01:37:26  ln6jubq    1fgx26q  datascience     t5_2sptq  \n",
       "4  2024-09-15 01:58:02  ln6mtyc    1fgx26q  datascience     t5_2sptq  "
      ]
     },
     "execution_count": 4,
     "metadata": {},
     "output_type": "execute_result"
    }
   ],
   "source": [
    "import pandas as pd\n",
    "file_path = '/Users/suqiulin/Desktop/plp_practice_proj/sentiment analysis/100k.csv'\n",
    "df=pd.read_csv(file_path)\n",
    "df.head()"
   ]
  },
  {
   "cell_type": "markdown",
   "metadata": {},
   "source": [
    "## get sentiment"
   ]
  },
  {
   "cell_type": "code",
   "execution_count": 5,
   "metadata": {},
   "outputs": [],
   "source": [
    "def get_sentiment(text):\n",
    "    return vader_obj.polarity_scores(text)"
   ]
  },
  {
   "cell_type": "code",
   "execution_count": 6,
   "metadata": {},
   "outputs": [
    {
     "data": {
      "text/html": [
       "<div>\n",
       "<style scoped>\n",
       "    .dataframe tbody tr th:only-of-type {\n",
       "        vertical-align: middle;\n",
       "    }\n",
       "\n",
       "    .dataframe tbody tr th {\n",
       "        vertical-align: top;\n",
       "    }\n",
       "\n",
       "    .dataframe thead th {\n",
       "        text-align: right;\n",
       "    }\n",
       "</style>\n",
       "<table border=\"1\" class=\"dataframe\">\n",
       "  <thead>\n",
       "    <tr style=\"text-align: right;\">\n",
       "      <th></th>\n",
       "      <th>author</th>\n",
       "      <th>body</th>\n",
       "      <th>created_utc</th>\n",
       "      <th>id</th>\n",
       "      <th>submission</th>\n",
       "      <th>subreddit</th>\n",
       "      <th>subreddit_id</th>\n",
       "      <th>neg</th>\n",
       "      <th>neu</th>\n",
       "      <th>pos</th>\n",
       "      <th>compound</th>\n",
       "      <th>polarity</th>\n",
       "    </tr>\n",
       "  </thead>\n",
       "  <tbody>\n",
       "    <tr>\n",
       "      <th>0</th>\n",
       "      <td>ForeskinStealer420</td>\n",
       "      <td>A combination of (1) and (2) would make you th...</td>\n",
       "      <td>2024-09-14 22:40:45</td>\n",
       "      <td>ln5r3zv</td>\n",
       "      <td>1fgx26q</td>\n",
       "      <td>datascience</td>\n",
       "      <td>t5_2sptq</td>\n",
       "      <td>0.000</td>\n",
       "      <td>0.859</td>\n",
       "      <td>0.141</td>\n",
       "      <td>0.8360</td>\n",
       "      <td>pos</td>\n",
       "    </tr>\n",
       "    <tr>\n",
       "      <th>1</th>\n",
       "      <td>lakeland_nz</td>\n",
       "      <td>4. Shift to something less technically.  Becom...</td>\n",
       "      <td>2024-09-14 22:54:52</td>\n",
       "      <td>ln5tqg8</td>\n",
       "      <td>1fgx26q</td>\n",
       "      <td>datascience</td>\n",
       "      <td>t5_2sptq</td>\n",
       "      <td>0.000</td>\n",
       "      <td>0.954</td>\n",
       "      <td>0.046</td>\n",
       "      <td>0.4019</td>\n",
       "      <td>pos</td>\n",
       "    </tr>\n",
       "    <tr>\n",
       "      <th>2</th>\n",
       "      <td>Moscow_Gordon</td>\n",
       "      <td>Maybe look into solution architect positions f...</td>\n",
       "      <td>2024-09-15 00:16:38</td>\n",
       "      <td>ln67tl2</td>\n",
       "      <td>1fgx26q</td>\n",
       "      <td>datascience</td>\n",
       "      <td>t5_2sptq</td>\n",
       "      <td>0.000</td>\n",
       "      <td>0.811</td>\n",
       "      <td>0.189</td>\n",
       "      <td>0.8225</td>\n",
       "      <td>pos</td>\n",
       "    </tr>\n",
       "    <tr>\n",
       "      <th>3</th>\n",
       "      <td>Numerous-Tip-5097</td>\n",
       "      <td>Hey, I am on the same boat with less experienc...</td>\n",
       "      <td>2024-09-15 01:37:26</td>\n",
       "      <td>ln6jubq</td>\n",
       "      <td>1fgx26q</td>\n",
       "      <td>datascience</td>\n",
       "      <td>t5_2sptq</td>\n",
       "      <td>0.041</td>\n",
       "      <td>0.840</td>\n",
       "      <td>0.119</td>\n",
       "      <td>0.8738</td>\n",
       "      <td>pos</td>\n",
       "    </tr>\n",
       "    <tr>\n",
       "      <th>4</th>\n",
       "      <td>hornswoggle_choco05</td>\n",
       "      <td>I'd probably shake things up and try a new pat...</td>\n",
       "      <td>2024-09-15 01:58:02</td>\n",
       "      <td>ln6mtyc</td>\n",
       "      <td>1fgx26q</td>\n",
       "      <td>datascience</td>\n",
       "      <td>t5_2sptq</td>\n",
       "      <td>0.057</td>\n",
       "      <td>0.671</td>\n",
       "      <td>0.272</td>\n",
       "      <td>0.7500</td>\n",
       "      <td>pos</td>\n",
       "    </tr>\n",
       "  </tbody>\n",
       "</table>\n",
       "</div>"
      ],
      "text/plain": [
       "                author                                               body  \\\n",
       "0   ForeskinStealer420  A combination of (1) and (2) would make you th...   \n",
       "1          lakeland_nz  4. Shift to something less technically.  Becom...   \n",
       "2        Moscow_Gordon  Maybe look into solution architect positions f...   \n",
       "3    Numerous-Tip-5097  Hey, I am on the same boat with less experienc...   \n",
       "4  hornswoggle_choco05  I'd probably shake things up and try a new pat...   \n",
       "\n",
       "           created_utc       id submission    subreddit subreddit_id    neg  \\\n",
       "0  2024-09-14 22:40:45  ln5r3zv    1fgx26q  datascience     t5_2sptq  0.000   \n",
       "1  2024-09-14 22:54:52  ln5tqg8    1fgx26q  datascience     t5_2sptq  0.000   \n",
       "2  2024-09-15 00:16:38  ln67tl2    1fgx26q  datascience     t5_2sptq  0.000   \n",
       "3  2024-09-15 01:37:26  ln6jubq    1fgx26q  datascience     t5_2sptq  0.041   \n",
       "4  2024-09-15 01:58:02  ln6mtyc    1fgx26q  datascience     t5_2sptq  0.057   \n",
       "\n",
       "     neu    pos  compound polarity  \n",
       "0  0.859  0.141    0.8360      pos  \n",
       "1  0.954  0.046    0.4019      pos  \n",
       "2  0.811  0.189    0.8225      pos  \n",
       "3  0.840  0.119    0.8738      pos  \n",
       "4  0.671  0.272    0.7500      pos  "
      ]
     },
     "execution_count": 6,
     "metadata": {},
     "output_type": "execute_result"
    }
   ],
   "source": [
    "df[['neg', 'neu', 'pos', 'compound']] = df['body'].apply(get_sentiment).apply(pd.Series)\n",
    "df['polarity'] = df['compound'].apply(lambda x: 'pos' if x > 0 else ('neg' if x < 0 else 'neu'))\n",
    "\n",
    "df.head(5)\n"
   ]
  },
  {
   "cell_type": "code",
   "execution_count": 24,
   "metadata": {},
   "outputs": [
    {
     "name": "stdout",
     "output_type": "stream",
     "text": [
      "Sentiment analysis results saved\n"
     ]
    }
   ],
   "source": [
    "df.to_csv('/Users/suqiulin/Desktop/plp_practice_proj/sentiment analysis/sentiment_by_vader.csv', index=False)\n",
    "print(\"Sentiment analysis results saved\")"
   ]
  },
  {
   "cell_type": "code",
   "execution_count": 27,
   "metadata": {},
   "outputs": [
    {
     "name": "stdout",
     "output_type": "stream",
     "text": [
      "Collecting matplotlib\n",
      "  Downloading matplotlib-3.9.2-cp312-cp312-macosx_11_0_arm64.whl.metadata (11 kB)\n",
      "Collecting contourpy>=1.0.1 (from matplotlib)\n",
      "  Downloading contourpy-1.3.0-cp312-cp312-macosx_11_0_arm64.whl.metadata (5.4 kB)\n",
      "Collecting cycler>=0.10 (from matplotlib)\n",
      "  Using cached cycler-0.12.1-py3-none-any.whl.metadata (3.8 kB)\n",
      "Collecting fonttools>=4.22.0 (from matplotlib)\n",
      "  Downloading fonttools-4.53.1-cp312-cp312-macosx_11_0_arm64.whl.metadata (162 kB)\n",
      "\u001b[2K     \u001b[90m━━━━━━━━━━━━━━━━━━━━━━━━━━━━━━━━━━━━━━━\u001b[0m \u001b[32m162.6/162.6 kB\u001b[0m \u001b[31m8.0 MB/s\u001b[0m eta \u001b[36m0:00:00\u001b[0m\n",
      "\u001b[?25hCollecting kiwisolver>=1.3.1 (from matplotlib)\n",
      "  Downloading kiwisolver-1.4.7-cp312-cp312-macosx_11_0_arm64.whl.metadata (6.3 kB)\n",
      "Requirement already satisfied: numpy>=1.23 in /opt/anaconda3/envs/intellifill/lib/python3.12/site-packages (from matplotlib) (1.26.4)\n",
      "Requirement already satisfied: packaging>=20.0 in /opt/anaconda3/envs/intellifill/lib/python3.12/site-packages (from matplotlib) (24.1)\n",
      "Requirement already satisfied: pillow>=8 in /opt/anaconda3/envs/intellifill/lib/python3.12/site-packages (from matplotlib) (10.3.0)\n",
      "Collecting pyparsing>=2.3.1 (from matplotlib)\n",
      "  Downloading pyparsing-3.1.4-py3-none-any.whl.metadata (5.1 kB)\n",
      "Requirement already satisfied: python-dateutil>=2.7 in /opt/anaconda3/envs/intellifill/lib/python3.12/site-packages (from matplotlib) (2.9.0)\n",
      "Requirement already satisfied: six>=1.5 in /opt/anaconda3/envs/intellifill/lib/python3.12/site-packages (from python-dateutil>=2.7->matplotlib) (1.16.0)\n",
      "Downloading matplotlib-3.9.2-cp312-cp312-macosx_11_0_arm64.whl (7.8 MB)\n",
      "\u001b[2K   \u001b[90m━━━━━━━━━━━━━━━━━━━━━━━━━━━━━━━━━━━━━━━━\u001b[0m \u001b[32m7.8/7.8 MB\u001b[0m \u001b[31m39.6 MB/s\u001b[0m eta \u001b[36m0:00:00\u001b[0m00:01\u001b[0m00:01\u001b[0m\n",
      "\u001b[?25hDownloading contourpy-1.3.0-cp312-cp312-macosx_11_0_arm64.whl (251 kB)\n",
      "\u001b[2K   \u001b[90m━━━━━━━━━━━━━━━━━━━━━━━━━━━━━━━━━━━━━━━━\u001b[0m \u001b[32m251.5/251.5 kB\u001b[0m \u001b[31m16.6 MB/s\u001b[0m eta \u001b[36m0:00:00\u001b[0m\n",
      "\u001b[?25hUsing cached cycler-0.12.1-py3-none-any.whl (8.3 kB)\n",
      "Downloading fonttools-4.53.1-cp312-cp312-macosx_11_0_arm64.whl (2.2 MB)\n",
      "\u001b[2K   \u001b[90m━━━━━━━━━━━━━━━━━━━━━━━━━━━━━━━━━━━━━━━━\u001b[0m \u001b[32m2.2/2.2 MB\u001b[0m \u001b[31m27.5 MB/s\u001b[0m eta \u001b[36m0:00:00\u001b[0m00:01\u001b[0m00:01\u001b[0m\n",
      "\u001b[?25hDownloading kiwisolver-1.4.7-cp312-cp312-macosx_11_0_arm64.whl (63 kB)\n",
      "\u001b[2K   \u001b[90m━━━━━━━━━━━━━━━━━━━━━━━━━━━━━━━━━━━━━━━━\u001b[0m \u001b[32m63.9/63.9 kB\u001b[0m \u001b[31m4.3 MB/s\u001b[0m eta \u001b[36m0:00:00\u001b[0m\n",
      "\u001b[?25hDownloading pyparsing-3.1.4-py3-none-any.whl (104 kB)\n",
      "\u001b[2K   \u001b[90m━━━━━━━━━━━━━━━━━━━━━━━━━━━━━━━━━━━━━━━━\u001b[0m \u001b[32m104.1/104.1 kB\u001b[0m \u001b[31m7.9 MB/s\u001b[0m eta \u001b[36m0:00:00\u001b[0m\n",
      "\u001b[?25hInstalling collected packages: pyparsing, kiwisolver, fonttools, cycler, contourpy, matplotlib\n",
      "Successfully installed contourpy-1.3.0 cycler-0.12.1 fonttools-4.53.1 kiwisolver-1.4.7 matplotlib-3.9.2 pyparsing-3.1.4\n",
      "\n",
      "\u001b[1m[\u001b[0m\u001b[34;49mnotice\u001b[0m\u001b[1;39;49m]\u001b[0m\u001b[39;49m A new release of pip is available: \u001b[0m\u001b[31;49m24.1.1\u001b[0m\u001b[39;49m -> \u001b[0m\u001b[32;49m24.2\u001b[0m\n",
      "\u001b[1m[\u001b[0m\u001b[34;49mnotice\u001b[0m\u001b[1;39;49m]\u001b[0m\u001b[39;49m To update, run: \u001b[0m\u001b[32;49mpip install --upgrade pip\u001b[0m\n"
     ]
    }
   ],
   "source": [
    "!pip install matplotlib\n",
    "import matplotlib.pyplot as plt"
   ]
  },
  {
   "cell_type": "code",
   "execution_count": 7,
   "metadata": {},
   "outputs": [
    {
     "data": {
      "text/plain": [
       "polarity\n",
       "pos    53084\n",
       "neg    30340\n",
       "neu    24297\n",
       "Name: count, dtype: int64"
      ]
     },
     "execution_count": 7,
     "metadata": {},
     "output_type": "execute_result"
    }
   ],
   "source": [
    "df['polarity'].value_counts()"
   ]
  },
  {
   "cell_type": "code",
   "execution_count": 28,
   "metadata": {},
   "outputs": [
    {
     "data": {
      "image/png": "[encoded data removed]",
      "text/plain": [
       "<Figure size 640x480 with 1 Axes>"
      ]
     },
     "metadata": {},
     "output_type": "display_data"
    }
   ],
   "source": [
    "df['polarity'].value_counts().plot(kind='bar')\n",
    "plt.show()\n"
   ]
  }
 ],
 "metadata": {
  "kernelspec": {
   "display_name": "intellifill",
   "language": "python",
   "name": "python3"
  },
  "language_info": {
   "codemirror_mode": {
    "name": "ipython",
    "version": 3
   },
   "file_extension": ".py",
   "mimetype": "text/x-python",
   "name": "python",
   "nbconvert_exporter": "python",
   "pygments_lexer": "ipython3",
   "version": "3.12.4"
  }
 },
 "nbformat": 4,
 "nbformat_minor": 2
}
