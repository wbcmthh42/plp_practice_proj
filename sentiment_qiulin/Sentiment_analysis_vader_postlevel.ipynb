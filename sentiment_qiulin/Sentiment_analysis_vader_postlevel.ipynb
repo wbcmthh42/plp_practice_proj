{
 "cells": [
  {
   "cell_type": "markdown",
   "metadata": {},
   "source": [
    "# Vader"
   ]
  },
  {
   "cell_type": "code",
   "execution_count": 2,
   "metadata": {},
   "outputs": [
    {
     "name": "stdout",
     "output_type": "stream",
     "text": [
      "Requirement already satisfied: vaderSentiment in /opt/anaconda3/envs/intellifill/lib/python3.12/site-packages (3.3.2)\n",
      "Requirement already satisfied: requests in /opt/anaconda3/envs/intellifill/lib/python3.12/site-packages (from vaderSentiment) (2.32.3)\n",
      "Requirement already satisfied: charset-normalizer<4,>=2 in /opt/anaconda3/envs/intellifill/lib/python3.12/site-packages (from requests->vaderSentiment) (3.3.2)\n",
      "Requirement already satisfied: idna<4,>=2.5 in /opt/anaconda3/envs/intellifill/lib/python3.12/site-packages (from requests->vaderSentiment) (3.7)\n",
      "Requirement already satisfied: urllib3<3,>=1.21.1 in /opt/anaconda3/envs/intellifill/lib/python3.12/site-packages (from requests->vaderSentiment) (2.2.2)\n",
      "Requirement already satisfied: certifi>=2017.4.17 in /opt/anaconda3/envs/intellifill/lib/python3.12/site-packages (from requests->vaderSentiment) (2024.6.2)\n",
      "\n",
      "\u001b[1m[\u001b[0m\u001b[34;49mnotice\u001b[0m\u001b[1;39;49m]\u001b[0m\u001b[39;49m A new release of pip is available: \u001b[0m\u001b[31;49m24.1.1\u001b[0m\u001b[39;49m -> \u001b[0m\u001b[32;49m24.2\u001b[0m\n",
      "\u001b[1m[\u001b[0m\u001b[34;49mnotice\u001b[0m\u001b[1;39;49m]\u001b[0m\u001b[39;49m To update, run: \u001b[0m\u001b[32;49mpip install --upgrade pip\u001b[0m\n"
     ]
    }
   ],
   "source": [
    "!pip install vaderSentiment"
   ]
  },
  {
   "cell_type": "code",
   "execution_count": 3,
   "metadata": {},
   "outputs": [],
   "source": [
    "from vaderSentiment.vaderSentiment import SentimentIntensityAnalyzer"
   ]
  },
  {
   "cell_type": "code",
   "execution_count": 4,
   "metadata": {},
   "outputs": [],
   "source": [
    "vader_obj = SentimentIntensityAnalyzer()"
   ]
  },
  {
   "cell_type": "markdown",
   "metadata": {},
   "source": [
    "## load data"
   ]
  },
  {
   "cell_type": "code",
   "execution_count": 6,
   "metadata": {},
   "outputs": [
    {
     "data": {
      "text/html": [
       "<div>\n",
       "<style scoped>\n",
       "    .dataframe tbody tr th:only-of-type {\n",
       "        vertical-align: middle;\n",
       "    }\n",
       "\n",
       "    .dataframe tbody tr th {\n",
       "        vertical-align: top;\n",
       "    }\n",
       "\n",
       "    .dataframe thead th {\n",
       "        text-align: right;\n",
       "    }\n",
       "</style>\n",
       "<table border=\"1\" class=\"dataframe\">\n",
       "  <thead>\n",
       "    <tr style=\"text-align: right;\">\n",
       "      <th></th>\n",
       "      <th>author</th>\n",
       "      <th>body</th>\n",
       "      <th>created_utc</th>\n",
       "      <th>id</th>\n",
       "      <th>submission</th>\n",
       "      <th>subreddit</th>\n",
       "      <th>subreddit_id</th>\n",
       "    </tr>\n",
       "  </thead>\n",
       "  <tbody>\n",
       "    <tr>\n",
       "      <th>0</th>\n",
       "      <td>ForeskinStealer420</td>\n",
       "      <td>A combination of (1) and (2) would make you th...</td>\n",
       "      <td>2024-09-14 22:40:45</td>\n",
       "      <td>ln5r3zv</td>\n",
       "      <td>1fgx26q</td>\n",
       "      <td>datascience</td>\n",
       "      <td>t5_2sptq</td>\n",
       "    </tr>\n",
       "    <tr>\n",
       "      <th>1</th>\n",
       "      <td>lakeland_nz</td>\n",
       "      <td>4. Shift to something less technically.  Becom...</td>\n",
       "      <td>2024-09-14 22:54:52</td>\n",
       "      <td>ln5tqg8</td>\n",
       "      <td>1fgx26q</td>\n",
       "      <td>datascience</td>\n",
       "      <td>t5_2sptq</td>\n",
       "    </tr>\n",
       "    <tr>\n",
       "      <th>2</th>\n",
       "      <td>Moscow_Gordon</td>\n",
       "      <td>Maybe look into solution architect positions f...</td>\n",
       "      <td>2024-09-15 00:16:38</td>\n",
       "      <td>ln67tl2</td>\n",
       "      <td>1fgx26q</td>\n",
       "      <td>datascience</td>\n",
       "      <td>t5_2sptq</td>\n",
       "    </tr>\n",
       "    <tr>\n",
       "      <th>3</th>\n",
       "      <td>Numerous-Tip-5097</td>\n",
       "      <td>Hey, I am on the same boat with less experienc...</td>\n",
       "      <td>2024-09-15 01:37:26</td>\n",
       "      <td>ln6jubq</td>\n",
       "      <td>1fgx26q</td>\n",
       "      <td>datascience</td>\n",
       "      <td>t5_2sptq</td>\n",
       "    </tr>\n",
       "    <tr>\n",
       "      <th>4</th>\n",
       "      <td>hornswoggle_choco05</td>\n",
       "      <td>I'd probably shake things up and try a new pat...</td>\n",
       "      <td>2024-09-15 01:58:02</td>\n",
       "      <td>ln6mtyc</td>\n",
       "      <td>1fgx26q</td>\n",
       "      <td>datascience</td>\n",
       "      <td>t5_2sptq</td>\n",
       "    </tr>\n",
       "  </tbody>\n",
       "</table>\n",
       "</div>"
      ],
      "text/plain": [
       "                author                                               body  \\\n",
       "0   ForeskinStealer420  A combination of (1) and (2) would make you th...   \n",
       "1          lakeland_nz  4. Shift to something less technically.  Becom...   \n",
       "2        Moscow_Gordon  Maybe look into solution architect positions f...   \n",
       "3    Numerous-Tip-5097  Hey, I am on the same boat with less experienc...   \n",
       "4  hornswoggle_choco05  I'd probably shake things up and try a new pat...   \n",
       "\n",
       "           created_utc       id submission    subreddit subreddit_id  \n",
       "0  2024-09-14 22:40:45  ln5r3zv    1fgx26q  datascience     t5_2sptq  \n",
       "1  2024-09-14 22:54:52  ln5tqg8    1fgx26q  datascience     t5_2sptq  \n",
       "2  2024-09-15 00:16:38  ln67tl2    1fgx26q  datascience     t5_2sptq  \n",
       "3  2024-09-15 01:37:26  ln6jubq    1fgx26q  datascience     t5_2sptq  \n",
       "4  2024-09-15 01:58:02  ln6mtyc    1fgx26q  datascience     t5_2sptq  "
      ]
     },
     "execution_count": 6,
     "metadata": {},
     "output_type": "execute_result"
    }
   ],
   "source": [
    "import pandas as pd\n",
    "file_path = '/Users/suqiulin/Downloads/100k.csv'\n",
    "df=pd.read_csv(file_path)\n",
    "df.head()"
   ]
  },
  {
   "cell_type": "markdown",
   "metadata": {},
   "source": [
    "# Get sentiment on post level"
   ]
  },
  {
   "cell_type": "code",
   "execution_count": 7,
   "metadata": {},
   "outputs": [],
   "source": [
    "def get_sentiment(text):\n",
    "    if isinstance(text, str):\n",
    "        return vader_obj.polarity_scores(text)\n",
    "    else:\n",
    "        return {'neg': 0, 'neu': 0, 'pos': 0, 'compound': 0}  # Return neutral for non-strings"
   ]
  },
  {
   "cell_type": "code",
   "execution_count": 8,
   "metadata": {},
   "outputs": [
    {
     "data": {
      "text/html": [
       "<div>\n",
       "<style scoped>\n",
       "    .dataframe tbody tr th:only-of-type {\n",
       "        vertical-align: middle;\n",
       "    }\n",
       "\n",
       "    .dataframe tbody tr th {\n",
       "        vertical-align: top;\n",
       "    }\n",
       "\n",
       "    .dataframe thead th {\n",
       "        text-align: right;\n",
       "    }\n",
       "</style>\n",
       "<table border=\"1\" class=\"dataframe\">\n",
       "  <thead>\n",
       "    <tr style=\"text-align: right;\">\n",
       "      <th></th>\n",
       "      <th>author</th>\n",
       "      <th>body</th>\n",
       "      <th>created_utc</th>\n",
       "      <th>id</th>\n",
       "      <th>submission</th>\n",
       "      <th>subreddit</th>\n",
       "      <th>subreddit_id</th>\n",
       "      <th>neg</th>\n",
       "      <th>neu</th>\n",
       "      <th>pos</th>\n",
       "      <th>compound</th>\n",
       "      <th>polarity</th>\n",
       "    </tr>\n",
       "  </thead>\n",
       "  <tbody>\n",
       "    <tr>\n",
       "      <th>0</th>\n",
       "      <td>ForeskinStealer420</td>\n",
       "      <td>A combination of (1) and (2) would make you th...</td>\n",
       "      <td>2024-09-14 22:40:45</td>\n",
       "      <td>ln5r3zv</td>\n",
       "      <td>1fgx26q</td>\n",
       "      <td>datascience</td>\n",
       "      <td>t5_2sptq</td>\n",
       "      <td>0.000</td>\n",
       "      <td>0.859</td>\n",
       "      <td>0.141</td>\n",
       "      <td>0.8360</td>\n",
       "      <td>pos</td>\n",
       "    </tr>\n",
       "    <tr>\n",
       "      <th>1</th>\n",
       "      <td>lakeland_nz</td>\n",
       "      <td>4. Shift to something less technically.  Becom...</td>\n",
       "      <td>2024-09-14 22:54:52</td>\n",
       "      <td>ln5tqg8</td>\n",
       "      <td>1fgx26q</td>\n",
       "      <td>datascience</td>\n",
       "      <td>t5_2sptq</td>\n",
       "      <td>0.000</td>\n",
       "      <td>0.954</td>\n",
       "      <td>0.046</td>\n",
       "      <td>0.4019</td>\n",
       "      <td>pos</td>\n",
       "    </tr>\n",
       "    <tr>\n",
       "      <th>2</th>\n",
       "      <td>Moscow_Gordon</td>\n",
       "      <td>Maybe look into solution architect positions f...</td>\n",
       "      <td>2024-09-15 00:16:38</td>\n",
       "      <td>ln67tl2</td>\n",
       "      <td>1fgx26q</td>\n",
       "      <td>datascience</td>\n",
       "      <td>t5_2sptq</td>\n",
       "      <td>0.000</td>\n",
       "      <td>0.811</td>\n",
       "      <td>0.189</td>\n",
       "      <td>0.8225</td>\n",
       "      <td>pos</td>\n",
       "    </tr>\n",
       "    <tr>\n",
       "      <th>3</th>\n",
       "      <td>Numerous-Tip-5097</td>\n",
       "      <td>Hey, I am on the same boat with less experienc...</td>\n",
       "      <td>2024-09-15 01:37:26</td>\n",
       "      <td>ln6jubq</td>\n",
       "      <td>1fgx26q</td>\n",
       "      <td>datascience</td>\n",
       "      <td>t5_2sptq</td>\n",
       "      <td>0.041</td>\n",
       "      <td>0.840</td>\n",
       "      <td>0.119</td>\n",
       "      <td>0.8738</td>\n",
       "      <td>pos</td>\n",
       "    </tr>\n",
       "    <tr>\n",
       "      <th>4</th>\n",
       "      <td>hornswoggle_choco05</td>\n",
       "      <td>I'd probably shake things up and try a new pat...</td>\n",
       "      <td>2024-09-15 01:58:02</td>\n",
       "      <td>ln6mtyc</td>\n",
       "      <td>1fgx26q</td>\n",
       "      <td>datascience</td>\n",
       "      <td>t5_2sptq</td>\n",
       "      <td>0.057</td>\n",
       "      <td>0.671</td>\n",
       "      <td>0.272</td>\n",
       "      <td>0.7500</td>\n",
       "      <td>pos</td>\n",
       "    </tr>\n",
       "  </tbody>\n",
       "</table>\n",
       "</div>"
      ],
      "text/plain": [
       "                author                                               body  \\\n",
       "0   ForeskinStealer420  A combination of (1) and (2) would make you th...   \n",
       "1          lakeland_nz  4. Shift to something less technically.  Becom...   \n",
       "2        Moscow_Gordon  Maybe look into solution architect positions f...   \n",
       "3    Numerous-Tip-5097  Hey, I am on the same boat with less experienc...   \n",
       "4  hornswoggle_choco05  I'd probably shake things up and try a new pat...   \n",
       "\n",
       "           created_utc       id submission    subreddit subreddit_id    neg  \\\n",
       "0  2024-09-14 22:40:45  ln5r3zv    1fgx26q  datascience     t5_2sptq  0.000   \n",
       "1  2024-09-14 22:54:52  ln5tqg8    1fgx26q  datascience     t5_2sptq  0.000   \n",
       "2  2024-09-15 00:16:38  ln67tl2    1fgx26q  datascience     t5_2sptq  0.000   \n",
       "3  2024-09-15 01:37:26  ln6jubq    1fgx26q  datascience     t5_2sptq  0.041   \n",
       "4  2024-09-15 01:58:02  ln6mtyc    1fgx26q  datascience     t5_2sptq  0.057   \n",
       "\n",
       "     neu    pos  compound polarity  \n",
       "0  0.859  0.141    0.8360      pos  \n",
       "1  0.954  0.046    0.4019      pos  \n",
       "2  0.811  0.189    0.8225      pos  \n",
       "3  0.840  0.119    0.8738      pos  \n",
       "4  0.671  0.272    0.7500      pos  "
      ]
     },
     "execution_count": 8,
     "metadata": {},
     "output_type": "execute_result"
    }
   ],
   "source": [
    "df[['neg', 'neu', 'pos', 'compound']] = df['body'].apply(get_sentiment).apply(pd.Series)\n",
    "df['polarity'] = df['compound'].apply(lambda x: 'pos' if x > 0 else ('neg' if x < 0 else 'neu'))\n",
    "\n",
    "df.head(5)\n"
   ]
  },
  {
   "cell_type": "code",
   "execution_count": null,
   "metadata": {},
   "outputs": [],
   "source": [
    "df = df[['body','id','compound','polarity']]"
   ]
  },
  {
   "cell_type": "markdown",
   "metadata": {},
   "source": [
    "# Export and Visualize results"
   ]
  },
  {
   "cell_type": "code",
   "execution_count": 24,
   "metadata": {},
   "outputs": [
    {
     "name": "stdout",
     "output_type": "stream",
     "text": [
      "Sentiment analysis results saved\n"
     ]
    }
   ],
   "source": [
    "df.to_csv('/Users/suqiulin/Desktop/plp_practice_proj/sentiment analysis/sentiment_by_vader.csv', index=False)\n",
    "print(\"Sentiment analysis results saved\")"
   ]
  },
  {
   "cell_type": "code",
   "execution_count": 9,
   "metadata": {},
   "outputs": [
    {
     "name": "stdout",
     "output_type": "stream",
     "text": [
      "Requirement already satisfied: matplotlib in /opt/anaconda3/envs/intellifill/lib/python3.12/site-packages (3.9.2)\n",
      "Requirement already satisfied: contourpy>=1.0.1 in /opt/anaconda3/envs/intellifill/lib/python3.12/site-packages (from matplotlib) (1.3.0)\n",
      "Requirement already satisfied: cycler>=0.10 in /opt/anaconda3/envs/intellifill/lib/python3.12/site-packages (from matplotlib) (0.12.1)\n",
      "Requirement already satisfied: fonttools>=4.22.0 in /opt/anaconda3/envs/intellifill/lib/python3.12/site-packages (from matplotlib) (4.53.1)\n",
      "Requirement already satisfied: kiwisolver>=1.3.1 in /opt/anaconda3/envs/intellifill/lib/python3.12/site-packages (from matplotlib) (1.4.7)\n",
      "Requirement already satisfied: numpy>=1.23 in /opt/anaconda3/envs/intellifill/lib/python3.12/site-packages (from matplotlib) (1.26.4)\n",
      "Requirement already satisfied: packaging>=20.0 in /opt/anaconda3/envs/intellifill/lib/python3.12/site-packages (from matplotlib) (24.1)\n",
      "Requirement already satisfied: pillow>=8 in /opt/anaconda3/envs/intellifill/lib/python3.12/site-packages (from matplotlib) (10.3.0)\n",
      "Requirement already satisfied: pyparsing>=2.3.1 in /opt/anaconda3/envs/intellifill/lib/python3.12/site-packages (from matplotlib) (3.1.4)\n",
      "Requirement already satisfied: python-dateutil>=2.7 in /opt/anaconda3/envs/intellifill/lib/python3.12/site-packages (from matplotlib) (2.9.0)\n",
      "Requirement already satisfied: six>=1.5 in /opt/anaconda3/envs/intellifill/lib/python3.12/site-packages (from python-dateutil>=2.7->matplotlib) (1.16.0)\n",
      "\n",
      "\u001b[1m[\u001b[0m\u001b[34;49mnotice\u001b[0m\u001b[1;39;49m]\u001b[0m\u001b[39;49m A new release of pip is available: \u001b[0m\u001b[31;49m24.1.1\u001b[0m\u001b[39;49m -> \u001b[0m\u001b[32;49m24.2\u001b[0m\n",
      "\u001b[1m[\u001b[0m\u001b[34;49mnotice\u001b[0m\u001b[1;39;49m]\u001b[0m\u001b[39;49m To update, run: \u001b[0m\u001b[32;49mpip install --upgrade pip\u001b[0m\n"
     ]
    }
   ],
   "source": [
    "!pip install matplotlib\n",
    "import matplotlib.pyplot as plt"
   ]
  },
  {
   "cell_type": "code",
   "execution_count": 10,
   "metadata": {},
   "outputs": [
    {
     "data": {
      "text/plain": [
       "polarity\n",
       "pos    53084\n",
       "neg    30340\n",
       "neu    24297\n",
       "Name: count, dtype: int64"
      ]
     },
     "execution_count": 10,
     "metadata": {},
     "output_type": "execute_result"
    }
   ],
   "source": [
    "df['polarity'].value_counts()"
   ]
  },
  {
   "cell_type": "code",
   "execution_count": 28,
   "metadata": {},
   "outputs": [
    {
     "data": {
      "image/png": "[encoded data removed]",
      "text/plain": [
       "<Figure size 640x480 with 1 Axes>"
      ]
     },
     "metadata": {},
     "output_type": "display_data"
    }
   ],
   "source": [
    "df['polarity'].value_counts().plot(kind='bar')\n",
    "plt.show()\n"
   ]
  },
  {
   "cell_type": "markdown",
   "metadata": {},
   "source": [
    "# Evaluation"
   ]
  },
  {
   "cell_type": "code",
   "execution_count": 11,
   "metadata": {},
   "outputs": [
    {
     "data": {
      "text/html": [
       "<div>\n",
       "<style scoped>\n",
       "    .dataframe tbody tr th:only-of-type {\n",
       "        vertical-align: middle;\n",
       "    }\n",
       "\n",
       "    .dataframe tbody tr th {\n",
       "        vertical-align: top;\n",
       "    }\n",
       "\n",
       "    .dataframe thead th {\n",
       "        text-align: right;\n",
       "    }\n",
       "</style>\n",
       "<table border=\"1\" class=\"dataframe\">\n",
       "  <thead>\n",
       "    <tr style=\"text-align: right;\">\n",
       "      <th></th>\n",
       "      <th>clean_comment</th>\n",
       "      <th>category</th>\n",
       "    </tr>\n",
       "  </thead>\n",
       "  <tbody>\n",
       "    <tr>\n",
       "      <th>0</th>\n",
       "      <td>family mormon have never tried explain them t...</td>\n",
       "      <td>1</td>\n",
       "    </tr>\n",
       "    <tr>\n",
       "      <th>1</th>\n",
       "      <td>buddhism has very much lot compatible with chr...</td>\n",
       "      <td>1</td>\n",
       "    </tr>\n",
       "    <tr>\n",
       "      <th>2</th>\n",
       "      <td>seriously don say thing first all they won get...</td>\n",
       "      <td>-1</td>\n",
       "    </tr>\n",
       "    <tr>\n",
       "      <th>3</th>\n",
       "      <td>what you have learned yours and only yours wha...</td>\n",
       "      <td>0</td>\n",
       "    </tr>\n",
       "    <tr>\n",
       "      <th>4</th>\n",
       "      <td>for your own benefit you may want read living ...</td>\n",
       "      <td>1</td>\n",
       "    </tr>\n",
       "  </tbody>\n",
       "</table>\n",
       "</div>"
      ],
      "text/plain": [
       "                                       clean_comment  category\n",
       "0   family mormon have never tried explain them t...         1\n",
       "1  buddhism has very much lot compatible with chr...         1\n",
       "2  seriously don say thing first all they won get...        -1\n",
       "3  what you have learned yours and only yours wha...         0\n",
       "4  for your own benefit you may want read living ...         1"
      ]
     },
     "execution_count": 11,
     "metadata": {},
     "output_type": "execute_result"
    }
   ],
   "source": [
    "import pandas as pd\n",
    "file_path = '/Users/suqiulin/Downloads/Reddit_Data.csv'\n",
    "df_eval=pd.read_csv(file_path)\n",
    "df_eval.head()"
   ]
  },
  {
   "cell_type": "code",
   "execution_count": 13,
   "metadata": {},
   "outputs": [
    {
     "data": {
      "text/html": [
       "<div>\n",
       "<style scoped>\n",
       "    .dataframe tbody tr th:only-of-type {\n",
       "        vertical-align: middle;\n",
       "    }\n",
       "\n",
       "    .dataframe tbody tr th {\n",
       "        vertical-align: top;\n",
       "    }\n",
       "\n",
       "    .dataframe thead th {\n",
       "        text-align: right;\n",
       "    }\n",
       "</style>\n",
       "<table border=\"1\" class=\"dataframe\">\n",
       "  <thead>\n",
       "    <tr style=\"text-align: right;\">\n",
       "      <th></th>\n",
       "      <th>clean_comment</th>\n",
       "      <th>category</th>\n",
       "      <th>neg</th>\n",
       "      <th>neu</th>\n",
       "      <th>pos</th>\n",
       "      <th>compound</th>\n",
       "      <th>predicted_polarity</th>\n",
       "      <th>labeled_polarity</th>\n",
       "    </tr>\n",
       "  </thead>\n",
       "  <tbody>\n",
       "    <tr>\n",
       "      <th>0</th>\n",
       "      <td>family mormon have never tried explain them t...</td>\n",
       "      <td>1</td>\n",
       "      <td>0.067</td>\n",
       "      <td>0.594</td>\n",
       "      <td>0.339</td>\n",
       "      <td>0.9349</td>\n",
       "      <td>pos</td>\n",
       "      <td>pos</td>\n",
       "    </tr>\n",
       "    <tr>\n",
       "      <th>1</th>\n",
       "      <td>buddhism has very much lot compatible with chr...</td>\n",
       "      <td>1</td>\n",
       "      <td>0.066</td>\n",
       "      <td>0.653</td>\n",
       "      <td>0.280</td>\n",
       "      <td>0.9953</td>\n",
       "      <td>pos</td>\n",
       "      <td>pos</td>\n",
       "    </tr>\n",
       "    <tr>\n",
       "      <th>2</th>\n",
       "      <td>seriously don say thing first all they won get...</td>\n",
       "      <td>-1</td>\n",
       "      <td>0.035</td>\n",
       "      <td>0.825</td>\n",
       "      <td>0.140</td>\n",
       "      <td>0.8750</td>\n",
       "      <td>pos</td>\n",
       "      <td>neg</td>\n",
       "    </tr>\n",
       "    <tr>\n",
       "      <th>3</th>\n",
       "      <td>what you have learned yours and only yours wha...</td>\n",
       "      <td>0</td>\n",
       "      <td>0.000</td>\n",
       "      <td>0.956</td>\n",
       "      <td>0.044</td>\n",
       "      <td>0.0772</td>\n",
       "      <td>pos</td>\n",
       "      <td>neu</td>\n",
       "    </tr>\n",
       "    <tr>\n",
       "      <th>4</th>\n",
       "      <td>for your own benefit you may want read living ...</td>\n",
       "      <td>1</td>\n",
       "      <td>0.102</td>\n",
       "      <td>0.704</td>\n",
       "      <td>0.194</td>\n",
       "      <td>0.8907</td>\n",
       "      <td>pos</td>\n",
       "      <td>pos</td>\n",
       "    </tr>\n",
       "  </tbody>\n",
       "</table>\n",
       "</div>"
      ],
      "text/plain": [
       "                                       clean_comment  category    neg    neu  \\\n",
       "0   family mormon have never tried explain them t...         1  0.067  0.594   \n",
       "1  buddhism has very much lot compatible with chr...         1  0.066  0.653   \n",
       "2  seriously don say thing first all they won get...        -1  0.035  0.825   \n",
       "3  what you have learned yours and only yours wha...         0  0.000  0.956   \n",
       "4  for your own benefit you may want read living ...         1  0.102  0.704   \n",
       "\n",
       "     pos  compound predicted_polarity labeled_polarity  \n",
       "0  0.339    0.9349                pos              pos  \n",
       "1  0.280    0.9953                pos              pos  \n",
       "2  0.140    0.8750                pos              neg  \n",
       "3  0.044    0.0772                pos              neu  \n",
       "4  0.194    0.8907                pos              pos  "
      ]
     },
     "execution_count": 13,
     "metadata": {},
     "output_type": "execute_result"
    }
   ],
   "source": [
    "df_eval[['neg', 'neu', 'pos', 'compound']] = df_eval['clean_comment'].apply(get_sentiment).apply(pd.Series)\n",
    "df_eval['predicted_polarity'] = df_eval['compound'].apply(lambda x: 'pos' if x > 0 else ('neg' if x < 0 else 'neu'))\n",
    "df_eval['labeled_polarity'] = df_eval['category'].apply(lambda x: 'pos' if x > 0 else ('neg' if x < 0 else 'neu'))\n",
    "df_eval.head()"
   ]
  },
  {
   "cell_type": "code",
   "execution_count": 14,
   "metadata": {},
   "outputs": [
    {
     "name": "stdout",
     "output_type": "stream",
     "text": [
      "Requirement already satisfied: seaborn in /opt/anaconda3/envs/intellifill/lib/python3.12/site-packages (0.13.2)\n",
      "Requirement already satisfied: numpy!=1.24.0,>=1.20 in /opt/anaconda3/envs/intellifill/lib/python3.12/site-packages (from seaborn) (1.26.4)\n",
      "Requirement already satisfied: pandas>=1.2 in /opt/anaconda3/envs/intellifill/lib/python3.12/site-packages (from seaborn) (2.2.2)\n",
      "Requirement already satisfied: matplotlib!=3.6.1,>=3.4 in /opt/anaconda3/envs/intellifill/lib/python3.12/site-packages (from seaborn) (3.9.2)\n",
      "Requirement already satisfied: contourpy>=1.0.1 in /opt/anaconda3/envs/intellifill/lib/python3.12/site-packages (from matplotlib!=3.6.1,>=3.4->seaborn) (1.3.0)\n",
      "Requirement already satisfied: cycler>=0.10 in /opt/anaconda3/envs/intellifill/lib/python3.12/site-packages (from matplotlib!=3.6.1,>=3.4->seaborn) (0.12.1)\n",
      "Requirement already satisfied: fonttools>=4.22.0 in /opt/anaconda3/envs/intellifill/lib/python3.12/site-packages (from matplotlib!=3.6.1,>=3.4->seaborn) (4.53.1)\n",
      "Requirement already satisfied: kiwisolver>=1.3.1 in /opt/anaconda3/envs/intellifill/lib/python3.12/site-packages (from matplotlib!=3.6.1,>=3.4->seaborn) (1.4.7)\n",
      "Requirement already satisfied: packaging>=20.0 in /opt/anaconda3/envs/intellifill/lib/python3.12/site-packages (from matplotlib!=3.6.1,>=3.4->seaborn) (24.1)\n",
      "Requirement already satisfied: pillow>=8 in /opt/anaconda3/envs/intellifill/lib/python3.12/site-packages (from matplotlib!=3.6.1,>=3.4->seaborn) (10.3.0)\n",
      "Requirement already satisfied: pyparsing>=2.3.1 in /opt/anaconda3/envs/intellifill/lib/python3.12/site-packages (from matplotlib!=3.6.1,>=3.4->seaborn) (3.1.4)\n",
      "Requirement already satisfied: python-dateutil>=2.7 in /opt/anaconda3/envs/intellifill/lib/python3.12/site-packages (from matplotlib!=3.6.1,>=3.4->seaborn) (2.9.0)\n",
      "Requirement already satisfied: pytz>=2020.1 in /opt/anaconda3/envs/intellifill/lib/python3.12/site-packages (from pandas>=1.2->seaborn) (2024.1)\n",
      "Requirement already satisfied: tzdata>=2022.7 in /opt/anaconda3/envs/intellifill/lib/python3.12/site-packages (from pandas>=1.2->seaborn) (2024.1)\n",
      "Requirement already satisfied: six>=1.5 in /opt/anaconda3/envs/intellifill/lib/python3.12/site-packages (from python-dateutil>=2.7->matplotlib!=3.6.1,>=3.4->seaborn) (1.16.0)\n",
      "\n",
      "\u001b[1m[\u001b[0m\u001b[34;49mnotice\u001b[0m\u001b[1;39;49m]\u001b[0m\u001b[39;49m A new release of pip is available: \u001b[0m\u001b[31;49m24.1.1\u001b[0m\u001b[39;49m -> \u001b[0m\u001b[32;49m24.2\u001b[0m\n",
      "\u001b[1m[\u001b[0m\u001b[34;49mnotice\u001b[0m\u001b[1;39;49m]\u001b[0m\u001b[39;49m To update, run: \u001b[0m\u001b[32;49mpip install --upgrade pip\u001b[0m\n"
     ]
    }
   ],
   "source": [
    "!pip install seaborn\n",
    "from sklearn.metrics import confusion_matrix, accuracy_score, recall_score, f1_score\n",
    "import seaborn as sns\n",
    "import matplotlib.pyplot as plt"
   ]
  },
  {
   "cell_type": "code",
   "execution_count": 15,
   "metadata": {},
   "outputs": [
    {
     "name": "stdout",
     "output_type": "stream",
     "text": [
      "Confusion Matrix:\n",
      "[[10835  3414  1581]\n",
      " [ 2023  5362   892]\n",
      " [ 2850  2388  7904]]\n",
      "Recall (per class): [0.68445989 0.64781926 0.60143053]\n",
      "Type 1 Error (per class): [0.31554011 0.35218074 0.39856947]\n",
      "Type 2 Error (per class): [0.31554011 0.35218074 0.39856947]\n",
      "Accuracy for 'pos': 0.684459886291851\n",
      "Accuracy for 'neg': 0.6478192581853328\n",
      "Accuracy for 'neu': 0.6014305280779181\n",
      "F1 Score for 'pos': 0.6871076162090177\n",
      "F1 Score for 'neg': 0.5516177151381102\n",
      "F1 Score for 'neu': 0.6721374208087079\n"
     ]
    }
   ],
   "source": [
    "y_true = df_eval['labeled_polarity']\n",
    "y_pred = df_eval['predicted_polarity']\n",
    "cm = confusion_matrix(y_true, y_pred, labels=['pos', 'neg', 'neu'])\n",
    "\n",
    "# Compute accuracy\n",
    "true_positives = cm.diagonal()\n",
    "total_actual = cm.sum(axis=1)\n",
    "\n",
    "# Calculate per-class accuracy\n",
    "accuracy_per_class = true_positives / total_actual\n",
    "accuracy_pos, accuracy_neg, accuracy_neu = accuracy_per_class\n",
    "\n",
    "\n",
    "# Compute recall (per class average)\n",
    "recall = recall_score(y_true, y_pred, average=None, labels=['pos', 'neg', 'neu'])\n",
    "\n",
    "# Compute F1 Score\n",
    "f1_scores = f1_score(y_true, y_pred, labels=['pos', 'neg', 'neu'], average=None)\n",
    "f1_pos, f1_neg, f1_neu = f1_scores\n",
    "\n",
    "# Type 1 Error (False Positive Rate) - per class\n",
    "type_1_error = 1 - recall  # Since FPR = 1 - recall (when averaged across classes)\n",
    "\n",
    "# Compute Type 2 Error (False Negative Rate)\n",
    "# Type 2 error (FNR) is simply: 1 - recall per class\n",
    "type_2_error = 1 - recall\n",
    "\n",
    "# Output the results\n",
    "print(f\"Confusion Matrix:\\n{cm}\")\n",
    "print(f\"Recall (per class): {recall}\")\n",
    "print(f\"Type 1 Error (per class): {type_1_error}\")\n",
    "print(f\"Type 2 Error (per class): {type_2_error}\")\n",
    "\n",
    "# Print accuracy for each class\n",
    "print(f\"Accuracy for 'pos': {accuracy_pos}\")\n",
    "print(f\"Accuracy for 'neg': {accuracy_neg}\")\n",
    "print(f\"Accuracy for 'neu': {accuracy_neu}\")\n",
    "\n",
    "# Print F1 scores for each class\n",
    "print(f\"F1 Score for 'pos': {f1_pos}\")\n",
    "print(f\"F1 Score for 'neg': {f1_neg}\")\n",
    "print(f\"F1 Score for 'neu': {f1_neu}\")"
   ]
  },
  {
   "cell_type": "code",
   "execution_count": 10,
   "metadata": {},
   "outputs": [
    {
     "data": {
      "image/png": "[encoded data removed]",
      "text/plain": [
       "<Figure size 640x480 with 2 Axes>"
      ]
     },
     "metadata": {},
     "output_type": "display_data"
    }
   ],
   "source": [
    "sns.heatmap(cm, annot=True, fmt=\"d\", cmap=\"Blues\", xticklabels=['pos', 'neg', 'neu'], yticklabels=['pos', 'neg', 'neu'])\n",
    "plt.ylabel('True label')\n",
    "plt.xlabel('Predicted label')\n",
    "plt.title('Confusion Matrix')\n",
    "plt.show()"
   ]
  }
 ],
 "metadata": {
  "kernelspec": {
   "display_name": "intellifill",
   "language": "python",
   "name": "python3"
  },
  "language_info": {
   "codemirror_mode": {
    "name": "ipython",
    "version": 3
   },
   "file_extension": ".py",
   "mimetype": "text/x-python",
   "name": "python",
   "nbconvert_exporter": "python",
   "pygments_lexer": "ipython3",
   "version": "3.12.4"
  }
 },
 "nbformat": 4,
 "nbformat_minor": 2
}
