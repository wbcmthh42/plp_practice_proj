{
 "cells": [
  {
   "cell_type": "code",
   "execution_count": 10,
   "metadata": {},
   "outputs": [
    {
     "name": "stdout",
     "output_type": "stream",
     "text": [
      "Requirement already satisfied: textblob in /opt/anaconda3/envs/intellifill/lib/python3.12/site-packages (0.18.0.post0)\n",
      "Requirement already satisfied: nltk>=3.8 in /opt/anaconda3/envs/intellifill/lib/python3.12/site-packages (from textblob) (3.8.1)\n",
      "Requirement already satisfied: click in /opt/anaconda3/envs/intellifill/lib/python3.12/site-packages (from nltk>=3.8->textblob) (8.1.7)\n",
      "Requirement already satisfied: joblib in /opt/anaconda3/envs/intellifill/lib/python3.12/site-packages (from nltk>=3.8->textblob) (1.4.2)\n",
      "Requirement already satisfied: regex>=2021.8.3 in /opt/anaconda3/envs/intellifill/lib/python3.12/site-packages (from nltk>=3.8->textblob) (2023.12.25)\n",
      "Requirement already satisfied: tqdm in /opt/anaconda3/envs/intellifill/lib/python3.12/site-packages (from nltk>=3.8->textblob) (4.66.4)\n",
      "\n",
      "\u001b[1m[\u001b[0m\u001b[34;49mnotice\u001b[0m\u001b[1;39;49m]\u001b[0m\u001b[39;49m A new release of pip is available: \u001b[0m\u001b[31;49m24.1.1\u001b[0m\u001b[39;49m -> \u001b[0m\u001b[32;49m24.2\u001b[0m\n",
      "\u001b[1m[\u001b[0m\u001b[34;49mnotice\u001b[0m\u001b[1;39;49m]\u001b[0m\u001b[39;49m To update, run: \u001b[0m\u001b[32;49mpip install --upgrade pip\u001b[0m\n",
      "[nltk_data] Downloading package brown to /Users/suqiulin/nltk_data...\n",
      "[nltk_data]   Package brown is already up-to-date!\n",
      "[nltk_data] Downloading package punkt to /Users/suqiulin/nltk_data...\n",
      "[nltk_data]   Package punkt is already up-to-date!\n",
      "[nltk_data] Downloading package wordnet to\n",
      "[nltk_data]     /Users/suqiulin/nltk_data...\n",
      "[nltk_data]   Package wordnet is already up-to-date!\n",
      "[nltk_data] Downloading package averaged_perceptron_tagger to\n",
      "[nltk_data]     /Users/suqiulin/nltk_data...\n",
      "[nltk_data]   Package averaged_perceptron_tagger is already up-to-\n",
      "[nltk_data]       date!\n",
      "[nltk_data] Downloading package conll2000 to\n",
      "[nltk_data]     /Users/suqiulin/nltk_data...\n",
      "[nltk_data]   Package conll2000 is already up-to-date!\n",
      "[nltk_data] Downloading package movie_reviews to\n",
      "[nltk_data]     /Users/suqiulin/nltk_data...\n",
      "[nltk_data]   Package movie_reviews is already up-to-date!\n",
      "Finished.\n"
     ]
    }
   ],
   "source": [
    "!pip install -U textblob\n",
    "!python -m textblob.download_corpora"
   ]
  },
  {
   "cell_type": "code",
   "execution_count": 11,
   "metadata": {},
   "outputs": [],
   "source": [
    "from textblob import TextBlob"
   ]
  },
  {
   "cell_type": "code",
   "execution_count": 2,
   "metadata": {},
   "outputs": [
    {
     "data": {
      "text/html": [
       "<div>\n",
       "<style scoped>\n",
       "    .dataframe tbody tr th:only-of-type {\n",
       "        vertical-align: middle;\n",
       "    }\n",
       "\n",
       "    .dataframe tbody tr th {\n",
       "        vertical-align: top;\n",
       "    }\n",
       "\n",
       "    .dataframe thead th {\n",
       "        text-align: right;\n",
       "    }\n",
       "</style>\n",
       "<table border=\"1\" class=\"dataframe\">\n",
       "  <thead>\n",
       "    <tr style=\"text-align: right;\">\n",
       "      <th></th>\n",
       "      <th>author</th>\n",
       "      <th>body</th>\n",
       "      <th>created_utc</th>\n",
       "      <th>id</th>\n",
       "      <th>submission</th>\n",
       "      <th>subreddit</th>\n",
       "      <th>subreddit_id</th>\n",
       "    </tr>\n",
       "  </thead>\n",
       "  <tbody>\n",
       "    <tr>\n",
       "      <th>0</th>\n",
       "      <td>ForeskinStealer420</td>\n",
       "      <td>A combination of (1) and (2) would make you th...</td>\n",
       "      <td>2024-09-14 22:40:45</td>\n",
       "      <td>ln5r3zv</td>\n",
       "      <td>1fgx26q</td>\n",
       "      <td>datascience</td>\n",
       "      <td>t5_2sptq</td>\n",
       "    </tr>\n",
       "    <tr>\n",
       "      <th>1</th>\n",
       "      <td>lakeland_nz</td>\n",
       "      <td>4. Shift to something less technically.  Becom...</td>\n",
       "      <td>2024-09-14 22:54:52</td>\n",
       "      <td>ln5tqg8</td>\n",
       "      <td>1fgx26q</td>\n",
       "      <td>datascience</td>\n",
       "      <td>t5_2sptq</td>\n",
       "    </tr>\n",
       "    <tr>\n",
       "      <th>2</th>\n",
       "      <td>Moscow_Gordon</td>\n",
       "      <td>Maybe look into solution architect positions f...</td>\n",
       "      <td>2024-09-15 00:16:38</td>\n",
       "      <td>ln67tl2</td>\n",
       "      <td>1fgx26q</td>\n",
       "      <td>datascience</td>\n",
       "      <td>t5_2sptq</td>\n",
       "    </tr>\n",
       "    <tr>\n",
       "      <th>3</th>\n",
       "      <td>Numerous-Tip-5097</td>\n",
       "      <td>Hey, I am on the same boat with less experienc...</td>\n",
       "      <td>2024-09-15 01:37:26</td>\n",
       "      <td>ln6jubq</td>\n",
       "      <td>1fgx26q</td>\n",
       "      <td>datascience</td>\n",
       "      <td>t5_2sptq</td>\n",
       "    </tr>\n",
       "    <tr>\n",
       "      <th>4</th>\n",
       "      <td>hornswoggle_choco05</td>\n",
       "      <td>I'd probably shake things up and try a new pat...</td>\n",
       "      <td>2024-09-15 01:58:02</td>\n",
       "      <td>ln6mtyc</td>\n",
       "      <td>1fgx26q</td>\n",
       "      <td>datascience</td>\n",
       "      <td>t5_2sptq</td>\n",
       "    </tr>\n",
       "  </tbody>\n",
       "</table>\n",
       "</div>"
      ],
      "text/plain": [
       "                author                                               body  \\\n",
       "0   ForeskinStealer420  A combination of (1) and (2) would make you th...   \n",
       "1          lakeland_nz  4. Shift to something less technically.  Becom...   \n",
       "2        Moscow_Gordon  Maybe look into solution architect positions f...   \n",
       "3    Numerous-Tip-5097  Hey, I am on the same boat with less experienc...   \n",
       "4  hornswoggle_choco05  I'd probably shake things up and try a new pat...   \n",
       "\n",
       "           created_utc       id submission    subreddit subreddit_id  \n",
       "0  2024-09-14 22:40:45  ln5r3zv    1fgx26q  datascience     t5_2sptq  \n",
       "1  2024-09-14 22:54:52  ln5tqg8    1fgx26q  datascience     t5_2sptq  \n",
       "2  2024-09-15 00:16:38  ln67tl2    1fgx26q  datascience     t5_2sptq  \n",
       "3  2024-09-15 01:37:26  ln6jubq    1fgx26q  datascience     t5_2sptq  \n",
       "4  2024-09-15 01:58:02  ln6mtyc    1fgx26q  datascience     t5_2sptq  "
      ]
     },
     "execution_count": 2,
     "metadata": {},
     "output_type": "execute_result"
    }
   ],
   "source": [
    "import pandas as pd\n",
    "file_path = '/Users/suqiulin/Desktop/100k.csv'\n",
    "df=pd.read_csv(file_path)\n",
    "df.head()"
   ]
  },
  {
   "cell_type": "code",
   "execution_count": 13,
   "metadata": {},
   "outputs": [],
   "source": [
    "def get_sentiment(text):\n",
    "    return TextBlob(text).polarity"
   ]
  },
  {
   "cell_type": "code",
   "execution_count": 4,
   "metadata": {},
   "outputs": [
    {
     "data": {
      "text/html": [
       "<div>\n",
       "<style scoped>\n",
       "    .dataframe tbody tr th:only-of-type {\n",
       "        vertical-align: middle;\n",
       "    }\n",
       "\n",
       "    .dataframe tbody tr th {\n",
       "        vertical-align: top;\n",
       "    }\n",
       "\n",
       "    .dataframe thead th {\n",
       "        text-align: right;\n",
       "    }\n",
       "</style>\n",
       "<table border=\"1\" class=\"dataframe\">\n",
       "  <thead>\n",
       "    <tr style=\"text-align: right;\">\n",
       "      <th></th>\n",
       "      <th>author</th>\n",
       "      <th>body</th>\n",
       "      <th>created_utc</th>\n",
       "      <th>id</th>\n",
       "      <th>submission</th>\n",
       "      <th>subreddit</th>\n",
       "      <th>subreddit_id</th>\n",
       "      <th>score</th>\n",
       "      <th>polarity</th>\n",
       "    </tr>\n",
       "  </thead>\n",
       "  <tbody>\n",
       "    <tr>\n",
       "      <th>0</th>\n",
       "      <td>ForeskinStealer420</td>\n",
       "      <td>A combination of (1) and (2) would make you th...</td>\n",
       "      <td>2024-09-14 22:40:45</td>\n",
       "      <td>ln5r3zv</td>\n",
       "      <td>1fgx26q</td>\n",
       "      <td>datascience</td>\n",
       "      <td>t5_2sptq</td>\n",
       "      <td>0.250000</td>\n",
       "      <td>pos</td>\n",
       "    </tr>\n",
       "    <tr>\n",
       "      <th>1</th>\n",
       "      <td>lakeland_nz</td>\n",
       "      <td>4. Shift to something less technically.  Becom...</td>\n",
       "      <td>2024-09-14 22:54:52</td>\n",
       "      <td>ln5tqg8</td>\n",
       "      <td>1fgx26q</td>\n",
       "      <td>datascience</td>\n",
       "      <td>t5_2sptq</td>\n",
       "      <td>0.099150</td>\n",
       "      <td>pos</td>\n",
       "    </tr>\n",
       "    <tr>\n",
       "      <th>2</th>\n",
       "      <td>Moscow_Gordon</td>\n",
       "      <td>Maybe look into solution architect positions f...</td>\n",
       "      <td>2024-09-15 00:16:38</td>\n",
       "      <td>ln67tl2</td>\n",
       "      <td>1fgx26q</td>\n",
       "      <td>datascience</td>\n",
       "      <td>t5_2sptq</td>\n",
       "      <td>0.250000</td>\n",
       "      <td>pos</td>\n",
       "    </tr>\n",
       "    <tr>\n",
       "      <th>3</th>\n",
       "      <td>Numerous-Tip-5097</td>\n",
       "      <td>Hey, I am on the same boat with less experienc...</td>\n",
       "      <td>2024-09-15 01:37:26</td>\n",
       "      <td>ln6jubq</td>\n",
       "      <td>1fgx26q</td>\n",
       "      <td>datascience</td>\n",
       "      <td>t5_2sptq</td>\n",
       "      <td>0.098148</td>\n",
       "      <td>pos</td>\n",
       "    </tr>\n",
       "    <tr>\n",
       "      <th>4</th>\n",
       "      <td>hornswoggle_choco05</td>\n",
       "      <td>I'd probably shake things up and try a new pat...</td>\n",
       "      <td>2024-09-15 01:58:02</td>\n",
       "      <td>ln6mtyc</td>\n",
       "      <td>1fgx26q</td>\n",
       "      <td>datascience</td>\n",
       "      <td>t5_2sptq</td>\n",
       "      <td>0.255682</td>\n",
       "      <td>pos</td>\n",
       "    </tr>\n",
       "  </tbody>\n",
       "</table>\n",
       "</div>"
      ],
      "text/plain": [
       "                author                                               body  \\\n",
       "0   ForeskinStealer420  A combination of (1) and (2) would make you th...   \n",
       "1          lakeland_nz  4. Shift to something less technically.  Becom...   \n",
       "2        Moscow_Gordon  Maybe look into solution architect positions f...   \n",
       "3    Numerous-Tip-5097  Hey, I am on the same boat with less experienc...   \n",
       "4  hornswoggle_choco05  I'd probably shake things up and try a new pat...   \n",
       "\n",
       "           created_utc       id submission    subreddit subreddit_id  \\\n",
       "0  2024-09-14 22:40:45  ln5r3zv    1fgx26q  datascience     t5_2sptq   \n",
       "1  2024-09-14 22:54:52  ln5tqg8    1fgx26q  datascience     t5_2sptq   \n",
       "2  2024-09-15 00:16:38  ln67tl2    1fgx26q  datascience     t5_2sptq   \n",
       "3  2024-09-15 01:37:26  ln6jubq    1fgx26q  datascience     t5_2sptq   \n",
       "4  2024-09-15 01:58:02  ln6mtyc    1fgx26q  datascience     t5_2sptq   \n",
       "\n",
       "      score polarity  \n",
       "0  0.250000      pos  \n",
       "1  0.099150      pos  \n",
       "2  0.250000      pos  \n",
       "3  0.098148      pos  \n",
       "4  0.255682      pos  "
      ]
     },
     "execution_count": 4,
     "metadata": {},
     "output_type": "execute_result"
    }
   ],
   "source": [
    "df[['score']] = df['body'].apply(get_sentiment).apply(pd.Series)\n",
    "df['polarity'] = df['score'].apply(lambda x: 'pos' if x > 0 else ('neg' if x < 0 else 'neu'))\n",
    "\n",
    "df.head(5)"
   ]
  },
  {
   "cell_type": "code",
   "execution_count": 6,
   "metadata": {},
   "outputs": [
    {
     "name": "stdout",
     "output_type": "stream",
     "text": [
      "Sentiment analysis results saved\n"
     ]
    }
   ],
   "source": [
    "df = df[['body','id','score','polarity']]\n",
    "df.to_csv('/Users/suqiulin/Desktop/sentiment_by_textblob.csv', index=False)\n",
    "print(\"Sentiment analysis results saved\")"
   ]
  },
  {
   "cell_type": "code",
   "execution_count": 7,
   "metadata": {},
   "outputs": [
    {
     "data": {
      "text/plain": [
       "polarity\n",
       "pos    55182\n",
       "neu    29137\n",
       "neg    23402\n",
       "Name: count, dtype: int64"
      ]
     },
     "execution_count": 7,
     "metadata": {},
     "output_type": "execute_result"
    }
   ],
   "source": [
    "df['polarity'].value_counts()"
   ]
  },
  {
   "cell_type": "code",
   "execution_count": 8,
   "metadata": {},
   "outputs": [
    {
     "name": "stdout",
     "output_type": "stream",
     "text": [
      "Requirement already satisfied: matplotlib in /opt/anaconda3/envs/intellifill/lib/python3.12/site-packages (3.9.2)\n",
      "Requirement already satisfied: contourpy>=1.0.1 in /opt/anaconda3/envs/intellifill/lib/python3.12/site-packages (from matplotlib) (1.3.0)\n",
      "Requirement already satisfied: cycler>=0.10 in /opt/anaconda3/envs/intellifill/lib/python3.12/site-packages (from matplotlib) (0.12.1)\n",
      "Requirement already satisfied: fonttools>=4.22.0 in /opt/anaconda3/envs/intellifill/lib/python3.12/site-packages (from matplotlib) (4.53.1)\n",
      "Requirement already satisfied: kiwisolver>=1.3.1 in /opt/anaconda3/envs/intellifill/lib/python3.12/site-packages (from matplotlib) (1.4.7)\n",
      "Requirement already satisfied: numpy>=1.23 in /opt/anaconda3/envs/intellifill/lib/python3.12/site-packages (from matplotlib) (1.26.4)\n",
      "Requirement already satisfied: packaging>=20.0 in /opt/anaconda3/envs/intellifill/lib/python3.12/site-packages (from matplotlib) (24.1)\n",
      "Requirement already satisfied: pillow>=8 in /opt/anaconda3/envs/intellifill/lib/python3.12/site-packages (from matplotlib) (10.3.0)\n",
      "Requirement already satisfied: pyparsing>=2.3.1 in /opt/anaconda3/envs/intellifill/lib/python3.12/site-packages (from matplotlib) (3.1.4)\n",
      "Requirement already satisfied: python-dateutil>=2.7 in /opt/anaconda3/envs/intellifill/lib/python3.12/site-packages (from matplotlib) (2.9.0)\n",
      "Requirement already satisfied: six>=1.5 in /opt/anaconda3/envs/intellifill/lib/python3.12/site-packages (from python-dateutil>=2.7->matplotlib) (1.16.0)\n",
      "\n",
      "\u001b[1m[\u001b[0m\u001b[34;49mnotice\u001b[0m\u001b[1;39;49m]\u001b[0m\u001b[39;49m A new release of pip is available: \u001b[0m\u001b[31;49m24.1.1\u001b[0m\u001b[39;49m -> \u001b[0m\u001b[32;49m24.2\u001b[0m\n",
      "\u001b[1m[\u001b[0m\u001b[34;49mnotice\u001b[0m\u001b[1;39;49m]\u001b[0m\u001b[39;49m To update, run: \u001b[0m\u001b[32;49mpip install --upgrade pip\u001b[0m\n"
     ]
    }
   ],
   "source": [
    "!pip install matplotlib\n",
    "import matplotlib.pyplot as plt"
   ]
  },
  {
   "cell_type": "code",
   "execution_count": 9,
   "metadata": {},
   "outputs": [
    {
     "data": {
      "image/png": "[encoded data removed]",
      "text/plain": [
       "<Figure size 640x480 with 1 Axes>"
      ]
     },
     "metadata": {},
     "output_type": "display_data"
    }
   ],
   "source": [
    "df['polarity'].value_counts().plot(kind='bar')\n",
    "plt.show()"
   ]
  },
  {
   "cell_type": "markdown",
   "metadata": {},
   "source": [
    "# Evaluation"
   ]
  },
  {
   "cell_type": "code",
   "execution_count": 12,
   "metadata": {},
   "outputs": [
    {
     "data": {
      "text/html": [
       "<div>\n",
       "<style scoped>\n",
       "    .dataframe tbody tr th:only-of-type {\n",
       "        vertical-align: middle;\n",
       "    }\n",
       "\n",
       "    .dataframe tbody tr th {\n",
       "        vertical-align: top;\n",
       "    }\n",
       "\n",
       "    .dataframe thead th {\n",
       "        text-align: right;\n",
       "    }\n",
       "</style>\n",
       "<table border=\"1\" class=\"dataframe\">\n",
       "  <thead>\n",
       "    <tr style=\"text-align: right;\">\n",
       "      <th></th>\n",
       "      <th>clean_comment</th>\n",
       "      <th>category</th>\n",
       "    </tr>\n",
       "  </thead>\n",
       "  <tbody>\n",
       "    <tr>\n",
       "      <th>0</th>\n",
       "      <td>family mormon have never tried explain them t...</td>\n",
       "      <td>1</td>\n",
       "    </tr>\n",
       "    <tr>\n",
       "      <th>1</th>\n",
       "      <td>buddhism has very much lot compatible with chr...</td>\n",
       "      <td>1</td>\n",
       "    </tr>\n",
       "    <tr>\n",
       "      <th>2</th>\n",
       "      <td>seriously don say thing first all they won get...</td>\n",
       "      <td>-1</td>\n",
       "    </tr>\n",
       "    <tr>\n",
       "      <th>3</th>\n",
       "      <td>what you have learned yours and only yours wha...</td>\n",
       "      <td>0</td>\n",
       "    </tr>\n",
       "    <tr>\n",
       "      <th>4</th>\n",
       "      <td>for your own benefit you may want read living ...</td>\n",
       "      <td>1</td>\n",
       "    </tr>\n",
       "  </tbody>\n",
       "</table>\n",
       "</div>"
      ],
      "text/plain": [
       "                                       clean_comment  category\n",
       "0   family mormon have never tried explain them t...         1\n",
       "1  buddhism has very much lot compatible with chr...         1\n",
       "2  seriously don say thing first all they won get...        -1\n",
       "3  what you have learned yours and only yours wha...         0\n",
       "4  for your own benefit you may want read living ...         1"
      ]
     },
     "execution_count": 12,
     "metadata": {},
     "output_type": "execute_result"
    }
   ],
   "source": [
    "import pandas as pd\n",
    "file_path = '/Users/suqiulin/Downloads/Reddit_Data.csv'\n",
    "df_eval=pd.read_csv(file_path)\n",
    "df_eval.head()"
   ]
  },
  {
   "cell_type": "code",
   "execution_count": 16,
   "metadata": {},
   "outputs": [],
   "source": [
    "def get_sentiment_na(text):\n",
    "    if isinstance(text, str):\n",
    "        return TextBlob(text).sentiment.polarity\n",
    "    else:\n",
    "        return 0  # Return neutral polarity for non-strings"
   ]
  },
  {
   "cell_type": "code",
   "execution_count": 22,
   "metadata": {},
   "outputs": [
    {
     "data": {
      "text/html": [
       "<div>\n",
       "<style scoped>\n",
       "    .dataframe tbody tr th:only-of-type {\n",
       "        vertical-align: middle;\n",
       "    }\n",
       "\n",
       "    .dataframe tbody tr th {\n",
       "        vertical-align: top;\n",
       "    }\n",
       "\n",
       "    .dataframe thead th {\n",
       "        text-align: right;\n",
       "    }\n",
       "</style>\n",
       "<table border=\"1\" class=\"dataframe\">\n",
       "  <thead>\n",
       "    <tr style=\"text-align: right;\">\n",
       "      <th></th>\n",
       "      <th>clean_comment</th>\n",
       "      <th>category</th>\n",
       "      <th>score</th>\n",
       "      <th>predicted_polarity</th>\n",
       "      <th>labeled_polarity</th>\n",
       "    </tr>\n",
       "  </thead>\n",
       "  <tbody>\n",
       "    <tr>\n",
       "      <th>0</th>\n",
       "      <td>family mormon have never tried explain them t...</td>\n",
       "      <td>1</td>\n",
       "      <td>0.216667</td>\n",
       "      <td>pos</td>\n",
       "      <td>pos</td>\n",
       "    </tr>\n",
       "    <tr>\n",
       "      <th>1</th>\n",
       "      <td>buddhism has very much lot compatible with chr...</td>\n",
       "      <td>1</td>\n",
       "      <td>0.142488</td>\n",
       "      <td>pos</td>\n",
       "      <td>pos</td>\n",
       "    </tr>\n",
       "    <tr>\n",
       "      <th>2</th>\n",
       "      <td>seriously don say thing first all they won get...</td>\n",
       "      <td>-1</td>\n",
       "      <td>-0.122222</td>\n",
       "      <td>neg</td>\n",
       "      <td>neg</td>\n",
       "    </tr>\n",
       "    <tr>\n",
       "      <th>3</th>\n",
       "      <td>what you have learned yours and only yours wha...</td>\n",
       "      <td>0</td>\n",
       "      <td>0.000000</td>\n",
       "      <td>neu</td>\n",
       "      <td>neu</td>\n",
       "    </tr>\n",
       "    <tr>\n",
       "      <th>4</th>\n",
       "      <td>for your own benefit you may want read living ...</td>\n",
       "      <td>1</td>\n",
       "      <td>0.081883</td>\n",
       "      <td>pos</td>\n",
       "      <td>pos</td>\n",
       "    </tr>\n",
       "  </tbody>\n",
       "</table>\n",
       "</div>"
      ],
      "text/plain": [
       "                                       clean_comment  category     score  \\\n",
       "0   family mormon have never tried explain them t...         1  0.216667   \n",
       "1  buddhism has very much lot compatible with chr...         1  0.142488   \n",
       "2  seriously don say thing first all they won get...        -1 -0.122222   \n",
       "3  what you have learned yours and only yours wha...         0  0.000000   \n",
       "4  for your own benefit you may want read living ...         1  0.081883   \n",
       "\n",
       "  predicted_polarity labeled_polarity  \n",
       "0                pos              pos  \n",
       "1                pos              pos  \n",
       "2                neg              neg  \n",
       "3                neu              neu  \n",
       "4                pos              pos  "
      ]
     },
     "execution_count": 22,
     "metadata": {},
     "output_type": "execute_result"
    }
   ],
   "source": [
    "df_eval[['score']] = df_eval['clean_comment'].apply(get_sentiment_na).apply(pd.Series)\n",
    "df_eval['predicted_polarity'] = df_eval['score'].apply(lambda x: 'pos' if x > 0 else ('neg' if x < 0 else 'neu'))\n",
    "df_eval['labeled_polarity'] = df_eval['category'].apply(lambda x: 'pos' if x > 0 else ('neg' if x < 0 else 'neu'))\n",
    "df_eval.head()"
   ]
  },
  {
   "cell_type": "code",
   "execution_count": 29,
   "metadata": {},
   "outputs": [
    {
     "name": "stdout",
     "output_type": "stream",
     "text": [
      "Requirement already satisfied: seaborn in /opt/anaconda3/envs/intellifill/lib/python3.12/site-packages (0.13.2)\n",
      "Requirement already satisfied: numpy!=1.24.0,>=1.20 in /opt/anaconda3/envs/intellifill/lib/python3.12/site-packages (from seaborn) (1.26.4)\n",
      "Requirement already satisfied: pandas>=1.2 in /opt/anaconda3/envs/intellifill/lib/python3.12/site-packages (from seaborn) (2.2.2)\n",
      "Requirement already satisfied: matplotlib!=3.6.1,>=3.4 in /opt/anaconda3/envs/intellifill/lib/python3.12/site-packages (from seaborn) (3.9.2)\n",
      "Requirement already satisfied: contourpy>=1.0.1 in /opt/anaconda3/envs/intellifill/lib/python3.12/site-packages (from matplotlib!=3.6.1,>=3.4->seaborn) (1.3.0)\n",
      "Requirement already satisfied: cycler>=0.10 in /opt/anaconda3/envs/intellifill/lib/python3.12/site-packages (from matplotlib!=3.6.1,>=3.4->seaborn) (0.12.1)\n",
      "Requirement already satisfied: fonttools>=4.22.0 in /opt/anaconda3/envs/intellifill/lib/python3.12/site-packages (from matplotlib!=3.6.1,>=3.4->seaborn) (4.53.1)\n",
      "Requirement already satisfied: kiwisolver>=1.3.1 in /opt/anaconda3/envs/intellifill/lib/python3.12/site-packages (from matplotlib!=3.6.1,>=3.4->seaborn) (1.4.7)\n",
      "Requirement already satisfied: packaging>=20.0 in /opt/anaconda3/envs/intellifill/lib/python3.12/site-packages (from matplotlib!=3.6.1,>=3.4->seaborn) (24.1)\n",
      "Requirement already satisfied: pillow>=8 in /opt/anaconda3/envs/intellifill/lib/python3.12/site-packages (from matplotlib!=3.6.1,>=3.4->seaborn) (10.3.0)\n",
      "Requirement already satisfied: pyparsing>=2.3.1 in /opt/anaconda3/envs/intellifill/lib/python3.12/site-packages (from matplotlib!=3.6.1,>=3.4->seaborn) (3.1.4)\n",
      "Requirement already satisfied: python-dateutil>=2.7 in /opt/anaconda3/envs/intellifill/lib/python3.12/site-packages (from matplotlib!=3.6.1,>=3.4->seaborn) (2.9.0)\n",
      "Requirement already satisfied: pytz>=2020.1 in /opt/anaconda3/envs/intellifill/lib/python3.12/site-packages (from pandas>=1.2->seaborn) (2024.1)\n",
      "Requirement already satisfied: tzdata>=2022.7 in /opt/anaconda3/envs/intellifill/lib/python3.12/site-packages (from pandas>=1.2->seaborn) (2024.1)\n",
      "Requirement already satisfied: six>=1.5 in /opt/anaconda3/envs/intellifill/lib/python3.12/site-packages (from python-dateutil>=2.7->matplotlib!=3.6.1,>=3.4->seaborn) (1.16.0)\n",
      "\n",
      "\u001b[1m[\u001b[0m\u001b[34;49mnotice\u001b[0m\u001b[1;39;49m]\u001b[0m\u001b[39;49m A new release of pip is available: \u001b[0m\u001b[31;49m24.1.1\u001b[0m\u001b[39;49m -> \u001b[0m\u001b[32;49m24.2\u001b[0m\n",
      "\u001b[1m[\u001b[0m\u001b[34;49mnotice\u001b[0m\u001b[1;39;49m]\u001b[0m\u001b[39;49m To update, run: \u001b[0m\u001b[32;49mpip install --upgrade pip\u001b[0m\n"
     ]
    }
   ],
   "source": [
    "!pip install seaborn\n",
    "from sklearn.metrics import confusion_matrix, accuracy_score, recall_score, f1_score\n",
    "import seaborn as sns\n",
    "import matplotlib.pyplot as plt"
   ]
  },
  {
   "cell_type": "code",
   "execution_count": 35,
   "metadata": {},
   "outputs": [
    {
     "name": "stdout",
     "output_type": "stream",
     "text": [
      "Confusion Matrix:\n",
      "[[15827     3     0]\n",
      " [    0  8277     0]\n",
      " [    0     0 13142]]\n",
      "Accuracy: 0.9999194609251255\n",
      "Recall (per class): [0.99981049 1.         1.        ]\n",
      "Type 1 Error (per class): [0.00018951 0.         0.        ]\n",
      "Type 2 Error (per class): [0.00018951 0.         0.        ]\n",
      "F1 Score: 0.9999194644054796\n"
     ]
    }
   ],
   "source": [
    "y_true = df_eval['labeled_polarity']\n",
    "y_pred = df_eval['predicted_polarity']\n",
    "cm = confusion_matrix(y_true, y_pred, labels=['pos', 'neg', 'neu'])\n",
    "\n",
    "accuracy = accuracy_score(y_true, y_pred)\n",
    "\n",
    "# Compute recall (per class average)\n",
    "recall = recall_score(y_true, y_pred, average=None, labels=['pos', 'neg', 'neu'])\n",
    "\n",
    "# Compute F1 Score (weighted)\n",
    "f1 = f1_score(y_true, y_pred, average='weighted')\n",
    "\n",
    "# Type 1 Error (False Positive Rate) - per class\n",
    "type_1_error = 1 - recall  # Since FPR = 1 - recall (when averaged across classes)\n",
    "\n",
    "# Compute Type 2 Error (False Negative Rate)\n",
    "# Type 2 error (FNR) is simply: 1 - recall per class\n",
    "type_2_error = 1 - recall\n",
    "\n",
    "# Output the results\n",
    "print(f\"Confusion Matrix:\\n{cm}\")\n",
    "print(f\"Accuracy: {accuracy}\")\n",
    "print(f\"Recall (per class): {recall}\")\n",
    "print(f\"Type 1 Error (per class): {type_1_error}\")\n",
    "print(f\"Type 2 Error (per class): {type_2_error}\")\n",
    "print(f\"F1 Score: {f1}\")"
   ]
  },
  {
   "cell_type": "code",
   "execution_count": 27,
   "metadata": {},
   "outputs": [
    {
     "data": {
      "image/png": "[encoded data removed]",
      "text/plain": [
       "<Figure size 640x480 with 2 Axes>"
      ]
     },
     "metadata": {},
     "output_type": "display_data"
    }
   ],
   "source": [
    "sns.heatmap(cm, annot=True, fmt=\"d\", cmap=\"Blues\", xticklabels=['pos', 'neg', 'neu'], yticklabels=['pos', 'neg', 'neu'])\n",
    "plt.ylabel('True label')\n",
    "plt.xlabel('Predicted label')\n",
    "plt.title('Confusion Matrix')\n",
    "plt.show()"
   ]
  }
 ],
 "metadata": {
  "kernelspec": {
   "display_name": "intellifill",
   "language": "python",
   "name": "python3"
  },
  "language_info": {
   "codemirror_mode": {
    "name": "ipython",
    "version": 3
   },
   "file_extension": ".py",
   "mimetype": "text/x-python",
   "name": "python",
   "nbconvert_exporter": "python",
   "pygments_lexer": "ipython3",
   "version": "3.12.4"
  }
 },
 "nbformat": 4,
 "nbformat_minor": 2
}
