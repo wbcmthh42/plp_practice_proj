{
 "cells": [
  {
   "cell_type": "markdown",
   "metadata": {},
   "source": [
    "# load library"
   ]
  },
  {
   "cell_type": "code",
   "execution_count": 17,
   "metadata": {},
   "outputs": [
    {
     "name": "stdout",
     "output_type": "stream",
     "text": [
      "Requirement already satisfied: textblob in /opt/anaconda3/envs/intellifill/lib/python3.12/site-packages (0.18.0.post0)\n",
      "Requirement already satisfied: nltk>=3.8 in /opt/anaconda3/envs/intellifill/lib/python3.12/site-packages (from textblob) (3.8.1)\n",
      "Requirement already satisfied: click in /opt/anaconda3/envs/intellifill/lib/python3.12/site-packages (from nltk>=3.8->textblob) (8.1.7)\n",
      "Requirement already satisfied: joblib in /opt/anaconda3/envs/intellifill/lib/python3.12/site-packages (from nltk>=3.8->textblob) (1.4.2)\n",
      "Requirement already satisfied: regex>=2021.8.3 in /opt/anaconda3/envs/intellifill/lib/python3.12/site-packages (from nltk>=3.8->textblob) (2023.12.25)\n",
      "Requirement already satisfied: tqdm in /opt/anaconda3/envs/intellifill/lib/python3.12/site-packages (from nltk>=3.8->textblob) (4.66.4)\n",
      "\n",
      "\u001b[1m[\u001b[0m\u001b[34;49mnotice\u001b[0m\u001b[1;39;49m]\u001b[0m\u001b[39;49m A new release of pip is available: \u001b[0m\u001b[31;49m24.1.1\u001b[0m\u001b[39;49m -> \u001b[0m\u001b[32;49m24.2\u001b[0m\n",
      "\u001b[1m[\u001b[0m\u001b[34;49mnotice\u001b[0m\u001b[1;39;49m]\u001b[0m\u001b[39;49m To update, run: \u001b[0m\u001b[32;49mpip install --upgrade pip\u001b[0m\n"
     ]
    }
   ],
   "source": [
    "!pip install -U textblob"
   ]
  },
  {
   "cell_type": "code",
   "execution_count": 18,
   "metadata": {},
   "outputs": [],
   "source": [
    "from textblob import TextBlob\n",
    "from nltk import sent_tokenize\n",
    "from tqdm import tqdm"
   ]
  },
  {
   "cell_type": "markdown",
   "metadata": {},
   "source": [
    "# Load data"
   ]
  },
  {
   "cell_type": "code",
   "execution_count": 37,
   "metadata": {},
   "outputs": [
    {
     "data": {
      "text/html": [
       "<div>\n",
       "<style scoped>\n",
       "    .dataframe tbody tr th:only-of-type {\n",
       "        vertical-align: middle;\n",
       "    }\n",
       "\n",
       "    .dataframe tbody tr th {\n",
       "        vertical-align: top;\n",
       "    }\n",
       "\n",
       "    .dataframe thead th {\n",
       "        text-align: right;\n",
       "    }\n",
       "</style>\n",
       "<table border=\"1\" class=\"dataframe\">\n",
       "  <thead>\n",
       "    <tr style=\"text-align: right;\">\n",
       "      <th></th>\n",
       "      <th>author</th>\n",
       "      <th>body</th>\n",
       "      <th>created_utc</th>\n",
       "      <th>id</th>\n",
       "      <th>submission</th>\n",
       "      <th>subreddit</th>\n",
       "      <th>subreddit_id</th>\n",
       "    </tr>\n",
       "  </thead>\n",
       "  <tbody>\n",
       "    <tr>\n",
       "      <th>0</th>\n",
       "      <td>jaegarbong</td>\n",
       "      <td>I have a feeling what you are asking for, but ...</td>\n",
       "      <td>2024-09-19 16:55:00</td>\n",
       "      <td>lnx7tpj</td>\n",
       "      <td>1fkpdzj</td>\n",
       "      <td>datascience</td>\n",
       "      <td>t5_2sptq</td>\n",
       "    </tr>\n",
       "    <tr>\n",
       "      <th>1</th>\n",
       "      <td>HammerPrice229</td>\n",
       "      <td>Have to agree (as someone trying to break in)....</td>\n",
       "      <td>2024-09-19 18:10:18</td>\n",
       "      <td>lnxmb0z</td>\n",
       "      <td>1fkpdzj</td>\n",
       "      <td>datascience</td>\n",
       "      <td>t5_2sptq</td>\n",
       "    </tr>\n",
       "    <tr>\n",
       "      <th>2</th>\n",
       "      <td>meloncholy</td>\n",
       "      <td>The PyData conferences usually have some good ...</td>\n",
       "      <td>2024-09-19 18:46:42</td>\n",
       "      <td>lnxt8w0</td>\n",
       "      <td>1fkpdzj</td>\n",
       "      <td>datascience</td>\n",
       "      <td>t5_2sptq</td>\n",
       "    </tr>\n",
       "    <tr>\n",
       "      <th>3</th>\n",
       "      <td>LyleLanleysMonorail</td>\n",
       "      <td>Coursera used to have a Practical Data Science...</td>\n",
       "      <td>2024-09-19 17:16:03</td>\n",
       "      <td>lnxbvt9</td>\n",
       "      <td>1fkpdzj</td>\n",
       "      <td>datascience</td>\n",
       "      <td>t5_2sptq</td>\n",
       "    </tr>\n",
       "    <tr>\n",
       "      <th>4</th>\n",
       "      <td>butyrospermumparkii</td>\n",
       "      <td>On that note, [Spotify's engineering blog ](ht...</td>\n",
       "      <td>2024-09-19 18:13:40</td>\n",
       "      <td>lnxmy1o</td>\n",
       "      <td>1fkpdzj</td>\n",
       "      <td>datascience</td>\n",
       "      <td>t5_2sptq</td>\n",
       "    </tr>\n",
       "  </tbody>\n",
       "</table>\n",
       "</div>"
      ],
      "text/plain": [
       "                author                                               body  \\\n",
       "0           jaegarbong  I have a feeling what you are asking for, but ...   \n",
       "1       HammerPrice229  Have to agree (as someone trying to break in)....   \n",
       "2           meloncholy  The PyData conferences usually have some good ...   \n",
       "3  LyleLanleysMonorail  Coursera used to have a Practical Data Science...   \n",
       "4  butyrospermumparkii  On that note, [Spotify's engineering blog ](ht...   \n",
       "\n",
       "           created_utc       id submission    subreddit subreddit_id  \n",
       "0  2024-09-19 16:55:00  lnx7tpj    1fkpdzj  datascience     t5_2sptq  \n",
       "1  2024-09-19 18:10:18  lnxmb0z    1fkpdzj  datascience     t5_2sptq  \n",
       "2  2024-09-19 18:46:42  lnxt8w0    1fkpdzj  datascience     t5_2sptq  \n",
       "3  2024-09-19 17:16:03  lnxbvt9    1fkpdzj  datascience     t5_2sptq  \n",
       "4  2024-09-19 18:13:40  lnxmy1o    1fkpdzj  datascience     t5_2sptq  "
      ]
     },
     "execution_count": 37,
     "metadata": {},
     "output_type": "execute_result"
    }
   ],
   "source": [
    "import pandas as pd\n",
    "file_path = '/Users/suqiulin/Downloads/160k.csv'\n",
    "df=pd.read_csv(file_path)\n",
    "df.head()"
   ]
  },
  {
   "cell_type": "code",
   "execution_count": 38,
   "metadata": {},
   "outputs": [],
   "source": [
    "df['body'] = df['body'].fillna(\"\")  # Replace NaN with empty strings"
   ]
  },
  {
   "cell_type": "markdown",
   "metadata": {},
   "source": [
    "# Get Sentiment on sentence level"
   ]
  },
  {
   "cell_type": "code",
   "execution_count": 39,
   "metadata": {},
   "outputs": [],
   "source": [
    "def get_sentiment(text):\n",
    "    if isinstance(text, str):\n",
    "        return TextBlob(text).polarity\n",
    "    else:\n",
    "        return 0"
   ]
  },
  {
   "cell_type": "code",
   "execution_count": 42,
   "metadata": {},
   "outputs": [],
   "source": [
    "def get_sentiment_label(polarity):\n",
    "    \"\"\"Assign sentiment label based on polarity score.\"\"\"\n",
    "    if polarity > 0:\n",
    "        return 'POSITIVE'\n",
    "    elif polarity < 0:\n",
    "        return 'NEGATIVE'\n",
    "    else:\n",
    "        return 'NEUTRAL'"
   ]
  },
  {
   "cell_type": "code",
   "execution_count": 41,
   "metadata": {},
   "outputs": [],
   "source": [
    "def truncate_to_max_length(text, max_length=512):\n",
    "    # Check if the input is a string\n",
    "    if not isinstance(text, str):\n",
    "        return \"\"  # Return an empty string for non-string inputs\n",
    "\n",
    "    # Use TextBlob to split the text into words (equivalent to \"tokens\" here)\n",
    "    blob = TextBlob(text)\n",
    "    \n",
    "    # Split the text into words (treat words as tokens)\n",
    "    words = blob.words\n",
    "    \n",
    "    # Truncate the words to the max_length (512 \"tokens\")\n",
    "    truncated_words = words[:max_length]\n",
    "    \n",
    "    # Join the truncated words back into a string\n",
    "    truncated_text = ' '.join(truncated_words)\n",
    "    \n",
    "    return truncated_text"
   ]
  },
  {
   "cell_type": "code",
   "execution_count": 43,
   "metadata": {},
   "outputs": [
    {
     "name": "stderr",
     "output_type": "stream",
     "text": [
      "100%|█████████████████████████████████████████████████████| 161552/161552 [01:04<00:00, 2503.58it/s]\n"
     ]
    }
   ],
   "source": [
    "# List to store the results\n",
    "results = []\n",
    "\n",
    "# Iterate through the dataframe\n",
    "for index, row in tqdm(df.iterrows(), total=len(df), ncols=100):\n",
    "    review = row['body']\n",
    "    subreddit = row['subreddit']\n",
    "    created_utc = row['created_utc']\n",
    "\n",
    "    # Sentence tokenization\n",
    "    for sentence in sent_tokenize(review):\n",
    "        truncated_sentence = truncate_to_max_length(sentence, max_length=512)\n",
    "\n",
    "        # Get sentiment for the sentence using TextBlob\n",
    "        blob = TextBlob(truncated_sentence)\n",
    "        sentiment_scores = blob.polarity  # Sentiment polarity score (-1 to 1)\n",
    "        sentiment_label = get_sentiment_label(sentiment_scores)\n",
    "        # Append results\n",
    "        results.append({\n",
    "            \"subreddit\": subreddit,\n",
    "            \"created_utc\": created_utc,\n",
    "            \"sentence\": truncated_sentence,\n",
    "            \"sentiment_scores\": sentiment_scores,\n",
    "            \"polarity\": sentiment_label\n",
    "        })"
   ]
  },
  {
   "cell_type": "markdown",
   "metadata": {},
   "source": [
    "# Export and visualize results"
   ]
  },
  {
   "cell_type": "code",
   "execution_count": 44,
   "metadata": {},
   "outputs": [],
   "source": [
    "df_results = pd.DataFrame(results)\n",
    "df_results.to_csv('/Users/suqiulin/Downloads/sentiment_by_textblob_sentence_level.csv', index=False)"
   ]
  },
  {
   "cell_type": "code",
   "execution_count": 45,
   "metadata": {},
   "outputs": [
    {
     "data": {
      "text/html": [
       "<div>\n",
       "<style scoped>\n",
       "    .dataframe tbody tr th:only-of-type {\n",
       "        vertical-align: middle;\n",
       "    }\n",
       "\n",
       "    .dataframe tbody tr th {\n",
       "        vertical-align: top;\n",
       "    }\n",
       "\n",
       "    .dataframe thead th {\n",
       "        text-align: right;\n",
       "    }\n",
       "</style>\n",
       "<table border=\"1\" class=\"dataframe\">\n",
       "  <thead>\n",
       "    <tr style=\"text-align: right;\">\n",
       "      <th></th>\n",
       "      <th>subreddit</th>\n",
       "      <th>created_utc</th>\n",
       "      <th>sentence</th>\n",
       "      <th>sentiment_scores</th>\n",
       "      <th>polarity</th>\n",
       "    </tr>\n",
       "  </thead>\n",
       "  <tbody>\n",
       "    <tr>\n",
       "      <th>0</th>\n",
       "      <td>datascience</td>\n",
       "      <td>2024-09-19 16:55:00</td>\n",
       "      <td>I have a feeling what you are asking for but s...</td>\n",
       "      <td>-0.0500</td>\n",
       "      <td>NEGATIVE</td>\n",
       "    </tr>\n",
       "    <tr>\n",
       "      <th>1</th>\n",
       "      <td>datascience</td>\n",
       "      <td>2024-09-19 16:55:00</td>\n",
       "      <td>however Try blogs of major companies</td>\n",
       "      <td>0.0625</td>\n",
       "      <td>POSITIVE</td>\n",
       "    </tr>\n",
       "    <tr>\n",
       "      <th>2</th>\n",
       "      <td>datascience</td>\n",
       "      <td>2024-09-19 16:55:00</td>\n",
       "      <td>I used to read Netflix Engineering blog where ...</td>\n",
       "      <td>0.0000</td>\n",
       "      <td>NEUTRAL</td>\n",
       "    </tr>\n",
       "    <tr>\n",
       "      <th>3</th>\n",
       "      <td>datascience</td>\n",
       "      <td>2024-09-19 16:55:00</td>\n",
       "      <td>Being a gamer I also read Ubi Riot and Activis...</td>\n",
       "      <td>0.0000</td>\n",
       "      <td>NEUTRAL</td>\n",
       "    </tr>\n",
       "    <tr>\n",
       "      <th>4</th>\n",
       "      <td>datascience</td>\n",
       "      <td>2024-09-19 16:55:00</td>\n",
       "      <td>And how is not finding insight a part of data ...</td>\n",
       "      <td>0.0000</td>\n",
       "      <td>NEUTRAL</td>\n",
       "    </tr>\n",
       "  </tbody>\n",
       "</table>\n",
       "</div>"
      ],
      "text/plain": [
       "     subreddit          created_utc  \\\n",
       "0  datascience  2024-09-19 16:55:00   \n",
       "1  datascience  2024-09-19 16:55:00   \n",
       "2  datascience  2024-09-19 16:55:00   \n",
       "3  datascience  2024-09-19 16:55:00   \n",
       "4  datascience  2024-09-19 16:55:00   \n",
       "\n",
       "                                            sentence  sentiment_scores  \\\n",
       "0  I have a feeling what you are asking for but s...           -0.0500   \n",
       "1               however Try blogs of major companies            0.0625   \n",
       "2  I used to read Netflix Engineering blog where ...            0.0000   \n",
       "3  Being a gamer I also read Ubi Riot and Activis...            0.0000   \n",
       "4  And how is not finding insight a part of data ...            0.0000   \n",
       "\n",
       "   polarity  \n",
       "0  NEGATIVE  \n",
       "1  POSITIVE  \n",
       "2   NEUTRAL  \n",
       "3   NEUTRAL  \n",
       "4   NEUTRAL  "
      ]
     },
     "execution_count": 45,
     "metadata": {},
     "output_type": "execute_result"
    }
   ],
   "source": [
    "df_results.head()"
   ]
  },
  {
   "cell_type": "code",
   "execution_count": 46,
   "metadata": {},
   "outputs": [
    {
     "data": {
      "text/plain": [
       "(438484, 5)"
      ]
     },
     "execution_count": 46,
     "metadata": {},
     "output_type": "execute_result"
    }
   ],
   "source": [
    "# output count\n",
    "df_results.shape"
   ]
  },
  {
   "cell_type": "code",
   "execution_count": 47,
   "metadata": {},
   "outputs": [
    {
     "data": {
      "text/plain": [
       "polarity\n",
       "NEUTRAL     192521\n",
       "POSITIVE    163737\n",
       "NEGATIVE     82226\n",
       "Name: count, dtype: int64"
      ]
     },
     "execution_count": 47,
     "metadata": {},
     "output_type": "execute_result"
    }
   ],
   "source": [
    "df_results['polarity'].value_counts()"
   ]
  },
  {
   "cell_type": "code",
   "execution_count": 48,
   "metadata": {},
   "outputs": [
    {
     "name": "stdout",
     "output_type": "stream",
     "text": [
      "Requirement already satisfied: matplotlib in /opt/anaconda3/envs/intellifill/lib/python3.12/site-packages (3.9.2)\n",
      "Requirement already satisfied: contourpy>=1.0.1 in /opt/anaconda3/envs/intellifill/lib/python3.12/site-packages (from matplotlib) (1.3.0)\n",
      "Requirement already satisfied: cycler>=0.10 in /opt/anaconda3/envs/intellifill/lib/python3.12/site-packages (from matplotlib) (0.12.1)\n",
      "Requirement already satisfied: fonttools>=4.22.0 in /opt/anaconda3/envs/intellifill/lib/python3.12/site-packages (from matplotlib) (4.53.1)\n",
      "Requirement already satisfied: kiwisolver>=1.3.1 in /opt/anaconda3/envs/intellifill/lib/python3.12/site-packages (from matplotlib) (1.4.7)\n",
      "Requirement already satisfied: numpy>=1.23 in /opt/anaconda3/envs/intellifill/lib/python3.12/site-packages (from matplotlib) (1.26.4)\n",
      "Requirement already satisfied: packaging>=20.0 in /opt/anaconda3/envs/intellifill/lib/python3.12/site-packages (from matplotlib) (24.1)\n",
      "Requirement already satisfied: pillow>=8 in /opt/anaconda3/envs/intellifill/lib/python3.12/site-packages (from matplotlib) (10.3.0)\n",
      "Requirement already satisfied: pyparsing>=2.3.1 in /opt/anaconda3/envs/intellifill/lib/python3.12/site-packages (from matplotlib) (3.1.4)\n",
      "Requirement already satisfied: python-dateutil>=2.7 in /opt/anaconda3/envs/intellifill/lib/python3.12/site-packages (from matplotlib) (2.9.0)\n",
      "Requirement already satisfied: six>=1.5 in /opt/anaconda3/envs/intellifill/lib/python3.12/site-packages (from python-dateutil>=2.7->matplotlib) (1.16.0)\n",
      "\n",
      "\u001b[1m[\u001b[0m\u001b[34;49mnotice\u001b[0m\u001b[1;39;49m]\u001b[0m\u001b[39;49m A new release of pip is available: \u001b[0m\u001b[31;49m24.1.1\u001b[0m\u001b[39;49m -> \u001b[0m\u001b[32;49m24.2\u001b[0m\n",
      "\u001b[1m[\u001b[0m\u001b[34;49mnotice\u001b[0m\u001b[1;39;49m]\u001b[0m\u001b[39;49m To update, run: \u001b[0m\u001b[32;49mpip install --upgrade pip\u001b[0m\n"
     ]
    },
    {
     "data": {
      "image/png": "[encoded data removed]",
      "text/plain": [
       "<Figure size 640x480 with 1 Axes>"
      ]
     },
     "metadata": {},
     "output_type": "display_data"
    }
   ],
   "source": [
    "!pip install matplotlib\n",
    "import matplotlib.pyplot as plt\n",
    "df_results['polarity'].value_counts().plot(kind='bar')\n",
    "plt.show()"
   ]
  },
  {
   "cell_type": "markdown",
   "metadata": {},
   "source": [
    "# Evaluation"
   ]
  },
  {
   "cell_type": "code",
   "execution_count": 49,
   "metadata": {},
   "outputs": [
    {
     "data": {
      "text/html": [
       "<div>\n",
       "<style scoped>\n",
       "    .dataframe tbody tr th:only-of-type {\n",
       "        vertical-align: middle;\n",
       "    }\n",
       "\n",
       "    .dataframe tbody tr th {\n",
       "        vertical-align: top;\n",
       "    }\n",
       "\n",
       "    .dataframe thead th {\n",
       "        text-align: right;\n",
       "    }\n",
       "</style>\n",
       "<table border=\"1\" class=\"dataframe\">\n",
       "  <thead>\n",
       "    <tr style=\"text-align: right;\">\n",
       "      <th></th>\n",
       "      <th>author</th>\n",
       "      <th>created_utc</th>\n",
       "      <th>id</th>\n",
       "      <th>submission</th>\n",
       "      <th>subreddit</th>\n",
       "      <th>subreddit_id</th>\n",
       "      <th>sentence</th>\n",
       "      <th>label</th>\n",
       "    </tr>\n",
       "  </thead>\n",
       "  <tbody>\n",
       "    <tr>\n",
       "      <th>0</th>\n",
       "      <td>nodesign89</td>\n",
       "      <td>2024-09-08 18:09:29</td>\n",
       "      <td>lm5go3e</td>\n",
       "      <td>1fc2c3m</td>\n",
       "      <td>technology</td>\n",
       "      <td>t5_2qh16</td>\n",
       "      <td>So nothing new?</td>\n",
       "      <td>NEUTRAL</td>\n",
       "    </tr>\n",
       "    <tr>\n",
       "      <th>1</th>\n",
       "      <td>rangeo</td>\n",
       "      <td>2024-09-19 16:23:21</td>\n",
       "      <td>lnx1rfk</td>\n",
       "      <td>1fkg9y6</td>\n",
       "      <td>technology</td>\n",
       "      <td>t5_2qh16</td>\n",
       "      <td>Wayback I used to enjoy the random click to so...</td>\n",
       "      <td>POSITIVE</td>\n",
       "    </tr>\n",
       "    <tr>\n",
       "      <th>2</th>\n",
       "      <td>rangeo</td>\n",
       "      <td>2024-09-19 16:23:21</td>\n",
       "      <td>lnx1rfk</td>\n",
       "      <td>1fkg9y6</td>\n",
       "      <td>technology</td>\n",
       "      <td>t5_2qh16</td>\n",
       "      <td>I have about 4 specific channels ( Rick beato,...</td>\n",
       "      <td>NEUTRAL</td>\n",
       "    </tr>\n",
       "    <tr>\n",
       "      <th>3</th>\n",
       "      <td>rangeo</td>\n",
       "      <td>2024-09-19 16:23:21</td>\n",
       "      <td>lnx1rfk</td>\n",
       "      <td>1fkg9y6</td>\n",
       "      <td>technology</td>\n",
       "      <td>t5_2qh16</td>\n",
       "      <td>I look at and spend 0 time looking at or for n...</td>\n",
       "      <td>NEUTRAL</td>\n",
       "    </tr>\n",
       "    <tr>\n",
       "      <th>4</th>\n",
       "      <td>OMG__Ponies</td>\n",
       "      <td>2024-09-18 00:54:21</td>\n",
       "      <td>lnnw1fj</td>\n",
       "      <td>1fjc1an</td>\n",
       "      <td>technology</td>\n",
       "      <td>t5_2qh16</td>\n",
       "      <td>Has it?</td>\n",
       "      <td>NEUTRAL</td>\n",
       "    </tr>\n",
       "  </tbody>\n",
       "</table>\n",
       "</div>"
      ],
      "text/plain": [
       "        author          created_utc       id submission   subreddit  \\\n",
       "0   nodesign89  2024-09-08 18:09:29  lm5go3e    1fc2c3m  technology   \n",
       "1       rangeo  2024-09-19 16:23:21  lnx1rfk    1fkg9y6  technology   \n",
       "2       rangeo  2024-09-19 16:23:21  lnx1rfk    1fkg9y6  technology   \n",
       "3       rangeo  2024-09-19 16:23:21  lnx1rfk    1fkg9y6  technology   \n",
       "4  OMG__Ponies  2024-09-18 00:54:21  lnnw1fj    1fjc1an  technology   \n",
       "\n",
       "  subreddit_id                                           sentence     label  \n",
       "0     t5_2qh16                                    So nothing new?   NEUTRAL  \n",
       "1     t5_2qh16  Wayback I used to enjoy the random click to so...  POSITIVE  \n",
       "2     t5_2qh16  I have about 4 specific channels ( Rick beato,...   NEUTRAL  \n",
       "3     t5_2qh16  I look at and spend 0 time looking at or for n...   NEUTRAL  \n",
       "4     t5_2qh16                                            Has it?   NEUTRAL  "
      ]
     },
     "execution_count": 49,
     "metadata": {},
     "output_type": "execute_result"
    }
   ],
   "source": [
    "file_path = '/Users/suqiulin/Desktop/plp_practice_proj/sentiment_analysis_sw/labelled_dataset_sentence_level_clean.csv'\n",
    "df1=pd.read_csv(file_path)\n",
    "df1['sentence'] = df1['sentence'].fillna(\"\")  # Replace NaN with empty strings\n",
    "df1.head()"
   ]
  },
  {
   "cell_type": "code",
   "execution_count": 50,
   "metadata": {},
   "outputs": [
    {
     "data": {
      "text/plain": [
       "(8313, 8)"
      ]
     },
     "execution_count": 50,
     "metadata": {},
     "output_type": "execute_result"
    }
   ],
   "source": [
    "df1.shape"
   ]
  },
  {
   "cell_type": "code",
   "execution_count": 51,
   "metadata": {},
   "outputs": [
    {
     "data": {
      "text/html": [
       "<div>\n",
       "<style scoped>\n",
       "    .dataframe tbody tr th:only-of-type {\n",
       "        vertical-align: middle;\n",
       "    }\n",
       "\n",
       "    .dataframe tbody tr th {\n",
       "        vertical-align: top;\n",
       "    }\n",
       "\n",
       "    .dataframe thead th {\n",
       "        text-align: right;\n",
       "    }\n",
       "</style>\n",
       "<table border=\"1\" class=\"dataframe\">\n",
       "  <thead>\n",
       "    <tr style=\"text-align: right;\">\n",
       "      <th></th>\n",
       "      <th>author</th>\n",
       "      <th>created_utc</th>\n",
       "      <th>id</th>\n",
       "      <th>submission</th>\n",
       "      <th>subreddit</th>\n",
       "      <th>subreddit_id</th>\n",
       "      <th>sentence</th>\n",
       "      <th>label</th>\n",
       "      <th>score</th>\n",
       "      <th>predicted_polarity</th>\n",
       "    </tr>\n",
       "  </thead>\n",
       "  <tbody>\n",
       "    <tr>\n",
       "      <th>0</th>\n",
       "      <td>nodesign89</td>\n",
       "      <td>2024-09-08 18:09:29</td>\n",
       "      <td>lm5go3e</td>\n",
       "      <td>1fc2c3m</td>\n",
       "      <td>technology</td>\n",
       "      <td>t5_2qh16</td>\n",
       "      <td>So nothing new?</td>\n",
       "      <td>NEUTRAL</td>\n",
       "      <td>0.136364</td>\n",
       "      <td>POSITIVE</td>\n",
       "    </tr>\n",
       "    <tr>\n",
       "      <th>1</th>\n",
       "      <td>rangeo</td>\n",
       "      <td>2024-09-19 16:23:21</td>\n",
       "      <td>lnx1rfk</td>\n",
       "      <td>1fkg9y6</td>\n",
       "      <td>technology</td>\n",
       "      <td>t5_2qh16</td>\n",
       "      <td>Wayback I used to enjoy the random click to so...</td>\n",
       "      <td>POSITIVE</td>\n",
       "      <td>0.100000</td>\n",
       "      <td>POSITIVE</td>\n",
       "    </tr>\n",
       "    <tr>\n",
       "      <th>2</th>\n",
       "      <td>rangeo</td>\n",
       "      <td>2024-09-19 16:23:21</td>\n",
       "      <td>lnx1rfk</td>\n",
       "      <td>1fkg9y6</td>\n",
       "      <td>technology</td>\n",
       "      <td>t5_2qh16</td>\n",
       "      <td>I have about 4 specific channels ( Rick beato,...</td>\n",
       "      <td>NEUTRAL</td>\n",
       "      <td>0.000000</td>\n",
       "      <td>NEUTRAL</td>\n",
       "    </tr>\n",
       "    <tr>\n",
       "      <th>3</th>\n",
       "      <td>rangeo</td>\n",
       "      <td>2024-09-19 16:23:21</td>\n",
       "      <td>lnx1rfk</td>\n",
       "      <td>1fkg9y6</td>\n",
       "      <td>technology</td>\n",
       "      <td>t5_2qh16</td>\n",
       "      <td>I look at and spend 0 time looking at or for n...</td>\n",
       "      <td>NEUTRAL</td>\n",
       "      <td>0.136364</td>\n",
       "      <td>POSITIVE</td>\n",
       "    </tr>\n",
       "    <tr>\n",
       "      <th>4</th>\n",
       "      <td>OMG__Ponies</td>\n",
       "      <td>2024-09-18 00:54:21</td>\n",
       "      <td>lnnw1fj</td>\n",
       "      <td>1fjc1an</td>\n",
       "      <td>technology</td>\n",
       "      <td>t5_2qh16</td>\n",
       "      <td>Has it?</td>\n",
       "      <td>NEUTRAL</td>\n",
       "      <td>0.000000</td>\n",
       "      <td>NEUTRAL</td>\n",
       "    </tr>\n",
       "  </tbody>\n",
       "</table>\n",
       "</div>"
      ],
      "text/plain": [
       "        author          created_utc       id submission   subreddit  \\\n",
       "0   nodesign89  2024-09-08 18:09:29  lm5go3e    1fc2c3m  technology   \n",
       "1       rangeo  2024-09-19 16:23:21  lnx1rfk    1fkg9y6  technology   \n",
       "2       rangeo  2024-09-19 16:23:21  lnx1rfk    1fkg9y6  technology   \n",
       "3       rangeo  2024-09-19 16:23:21  lnx1rfk    1fkg9y6  technology   \n",
       "4  OMG__Ponies  2024-09-18 00:54:21  lnnw1fj    1fjc1an  technology   \n",
       "\n",
       "  subreddit_id                                           sentence     label  \\\n",
       "0     t5_2qh16                                    So nothing new?   NEUTRAL   \n",
       "1     t5_2qh16  Wayback I used to enjoy the random click to so...  POSITIVE   \n",
       "2     t5_2qh16  I have about 4 specific channels ( Rick beato,...   NEUTRAL   \n",
       "3     t5_2qh16  I look at and spend 0 time looking at or for n...   NEUTRAL   \n",
       "4     t5_2qh16                                            Has it?   NEUTRAL   \n",
       "\n",
       "      score predicted_polarity  \n",
       "0  0.136364           POSITIVE  \n",
       "1  0.100000           POSITIVE  \n",
       "2  0.000000            NEUTRAL  \n",
       "3  0.136364           POSITIVE  \n",
       "4  0.000000            NEUTRAL  "
      ]
     },
     "execution_count": 51,
     "metadata": {},
     "output_type": "execute_result"
    }
   ],
   "source": [
    "df1[['score']] = df1['sentence'].apply(get_sentiment).apply(pd.Series)\n",
    "df1['predicted_polarity'] = df1['score'].apply(get_sentiment_label).apply(pd.Series)\n",
    "df1.head()\n"
   ]
  },
  {
   "cell_type": "code",
   "execution_count": 52,
   "metadata": {},
   "outputs": [
    {
     "data": {
      "text/plain": [
       "predicted_polarity\n",
       "NEUTRAL     3593\n",
       "POSITIVE    3132\n",
       "NEGATIVE    1588\n",
       "Name: count, dtype: int64"
      ]
     },
     "execution_count": 52,
     "metadata": {},
     "output_type": "execute_result"
    }
   ],
   "source": [
    "df1['predicted_polarity'].value_counts()"
   ]
  },
  {
   "cell_type": "code",
   "execution_count": 53,
   "metadata": {},
   "outputs": [
    {
     "data": {
      "text/plain": [
       "label\n",
       "NEUTRAL     4372\n",
       "NEGATIVE    2604\n",
       "POSITIVE    1337\n",
       "Name: count, dtype: int64"
      ]
     },
     "execution_count": 53,
     "metadata": {},
     "output_type": "execute_result"
    }
   ],
   "source": [
    "df1['label'].value_counts()"
   ]
  },
  {
   "cell_type": "code",
   "execution_count": 54,
   "metadata": {},
   "outputs": [
    {
     "name": "stdout",
     "output_type": "stream",
     "text": [
      "Requirement already satisfied: seaborn in /opt/anaconda3/envs/intellifill/lib/python3.12/site-packages (0.13.2)\n",
      "Requirement already satisfied: numpy!=1.24.0,>=1.20 in /opt/anaconda3/envs/intellifill/lib/python3.12/site-packages (from seaborn) (1.26.4)\n",
      "Requirement already satisfied: pandas>=1.2 in /opt/anaconda3/envs/intellifill/lib/python3.12/site-packages (from seaborn) (2.2.2)\n",
      "Requirement already satisfied: matplotlib!=3.6.1,>=3.4 in /opt/anaconda3/envs/intellifill/lib/python3.12/site-packages (from seaborn) (3.9.2)\n",
      "Requirement already satisfied: contourpy>=1.0.1 in /opt/anaconda3/envs/intellifill/lib/python3.12/site-packages (from matplotlib!=3.6.1,>=3.4->seaborn) (1.3.0)\n",
      "Requirement already satisfied: cycler>=0.10 in /opt/anaconda3/envs/intellifill/lib/python3.12/site-packages (from matplotlib!=3.6.1,>=3.4->seaborn) (0.12.1)\n",
      "Requirement already satisfied: fonttools>=4.22.0 in /opt/anaconda3/envs/intellifill/lib/python3.12/site-packages (from matplotlib!=3.6.1,>=3.4->seaborn) (4.53.1)\n",
      "Requirement already satisfied: kiwisolver>=1.3.1 in /opt/anaconda3/envs/intellifill/lib/python3.12/site-packages (from matplotlib!=3.6.1,>=3.4->seaborn) (1.4.7)\n",
      "Requirement already satisfied: packaging>=20.0 in /opt/anaconda3/envs/intellifill/lib/python3.12/site-packages (from matplotlib!=3.6.1,>=3.4->seaborn) (24.1)\n",
      "Requirement already satisfied: pillow>=8 in /opt/anaconda3/envs/intellifill/lib/python3.12/site-packages (from matplotlib!=3.6.1,>=3.4->seaborn) (10.3.0)\n",
      "Requirement already satisfied: pyparsing>=2.3.1 in /opt/anaconda3/envs/intellifill/lib/python3.12/site-packages (from matplotlib!=3.6.1,>=3.4->seaborn) (3.1.4)\n",
      "Requirement already satisfied: python-dateutil>=2.7 in /opt/anaconda3/envs/intellifill/lib/python3.12/site-packages (from matplotlib!=3.6.1,>=3.4->seaborn) (2.9.0)\n",
      "Requirement already satisfied: pytz>=2020.1 in /opt/anaconda3/envs/intellifill/lib/python3.12/site-packages (from pandas>=1.2->seaborn) (2024.1)\n",
      "Requirement already satisfied: tzdata>=2022.7 in /opt/anaconda3/envs/intellifill/lib/python3.12/site-packages (from pandas>=1.2->seaborn) (2024.1)\n",
      "Requirement already satisfied: six>=1.5 in /opt/anaconda3/envs/intellifill/lib/python3.12/site-packages (from python-dateutil>=2.7->matplotlib!=3.6.1,>=3.4->seaborn) (1.16.0)\n",
      "\n",
      "\u001b[1m[\u001b[0m\u001b[34;49mnotice\u001b[0m\u001b[1;39;49m]\u001b[0m\u001b[39;49m A new release of pip is available: \u001b[0m\u001b[31;49m24.1.1\u001b[0m\u001b[39;49m -> \u001b[0m\u001b[32;49m24.2\u001b[0m\n",
      "\u001b[1m[\u001b[0m\u001b[34;49mnotice\u001b[0m\u001b[1;39;49m]\u001b[0m\u001b[39;49m To update, run: \u001b[0m\u001b[32;49mpip install --upgrade pip\u001b[0m\n"
     ]
    }
   ],
   "source": [
    "!pip install seaborn\n",
    "from sklearn.metrics import confusion_matrix, accuracy_score, recall_score, f1_score\n",
    "import seaborn as sns\n",
    "import matplotlib.pyplot as plt"
   ]
  },
  {
   "cell_type": "code",
   "execution_count": 59,
   "metadata": {},
   "outputs": [
    {
     "name": "stdout",
     "output_type": "stream",
     "text": [
      "Confusion Matrix:\n",
      "[[ 801  115  421]\n",
      " [ 893  851  860]\n",
      " [1438  622 2312]]\n",
      "Recall (per class): [0.59910247 0.32680492 0.52881976]\n",
      "Type 1 Error (per class): [0.40089753 0.67319508 0.47118024]\n",
      "Type 2 Error (per class): [0.40089753 0.67319508 0.47118024]\n",
      "Accuracy for 'POSITIVE': 0.5991024682124159\n",
      "Accuracy for 'NEGATIVE': 0.32680491551459295\n",
      "Accuracy for 'NEUTRAL': 0.5288197621225984\n",
      "F1 Score for 'POSITIVE': 0.3584694562541956\n",
      "F1 Score for 'NEGATIVE': 0.4060114503816794\n",
      "F1 Score for 'NEUTRAL': 0.5805398618957941\n"
     ]
    }
   ],
   "source": [
    "y_true = df1['label']\n",
    "y_pred = df1['predicted_polarity']\n",
    "cm = confusion_matrix(y_true, y_pred, labels=['POSITIVE', 'NEGATIVE', 'NEUTRAL'])\n",
    "\n",
    "# Compute accuracy\n",
    "true_positives = cm.diagonal()\n",
    "total_actual = cm.sum(axis=1)\n",
    "\n",
    "# Calculate per-class accuracy\n",
    "accuracy_per_class = true_positives / total_actual\n",
    "accuracy_pos, accuracy_neg, accuracy_neu = accuracy_per_class\n",
    "\n",
    "\n",
    "# Compute recall (per class average)\n",
    "recall = recall_score(y_true, y_pred, average=None, labels=['POSITIVE', 'NEGATIVE', 'NEUTRAL'])\n",
    "\n",
    "# Compute F1 Score\n",
    "f1_scores = f1_score(y_true, y_pred, labels=['POSITIVE', 'NEGATIVE', 'NEUTRAL'], average=None)\n",
    "f1_pos, f1_neg, f1_neu = f1_scores\n",
    "\n",
    "# Type 1 Error (False Positive Rate) - per class\n",
    "type_1_error = 1 - recall  # Since FPR = 1 - recall (when averaged across classes)\n",
    "\n",
    "# Compute Type 2 Error (False Negative Rate)\n",
    "# Type 2 error (FNR) is simply: 1 - recall per class\n",
    "type_2_error = 1 - recall\n",
    "\n",
    "# Output the results\n",
    "print(f\"Confusion Matrix:\\n{cm}\")\n",
    "print(f\"Recall (per class): {recall}\")\n",
    "print(f\"Type 1 Error (per class): {type_1_error}\")\n",
    "print(f\"Type 2 Error (per class): {type_2_error}\")\n",
    "\n",
    "# Print accuracy for each class\n",
    "print(f\"Accuracy for 'POSITIVE': {accuracy_pos}\")\n",
    "print(f\"Accuracy for 'NEGATIVE': {accuracy_neg}\")\n",
    "print(f\"Accuracy for 'NEUTRAL': {accuracy_neu}\")\n",
    "\n",
    "# Print F1 scores for each class\n",
    "print(f\"F1 Score for 'POSITIVE': {f1_pos}\")\n",
    "print(f\"F1 Score for 'NEGATIVE': {f1_neg}\")\n",
    "print(f\"F1 Score for 'NEUTRAL': {f1_neu}\")\n"
   ]
  },
  {
   "cell_type": "code",
   "execution_count": 57,
   "metadata": {},
   "outputs": [
    {
     "data": {
      "image/png": "[encoded data removed]",
      "text/plain": [
       "<Figure size 640x480 with 2 Axes>"
      ]
     },
     "metadata": {},
     "output_type": "display_data"
    }
   ],
   "source": [
    "sns.heatmap(cm, annot=True, fmt=\"d\", cmap=\"Blues\", xticklabels=['POSITIVE', 'NEGATIVE', 'NEUTRAL'], yticklabels=['POSITIVE', 'NEGATIVE', 'NEUTRAL'])\n",
    "plt.ylabel('True label')\n",
    "plt.xlabel('Predicted label')\n",
    "plt.title('Confusion Matrix')\n",
    "plt.show()"
   ]
  }
 ],
 "metadata": {
  "kernelspec": {
   "display_name": "intellifill",
   "language": "python",
   "name": "python3"
  },
  "language_info": {
   "codemirror_mode": {
    "name": "ipython",
    "version": 3
   },
   "file_extension": ".py",
   "mimetype": "text/x-python",
   "name": "python",
   "nbconvert_exporter": "python",
   "pygments_lexer": "ipython3",
   "version": "3.12.4"
  }
 },
 "nbformat": 4,
 "nbformat_minor": 2
}
